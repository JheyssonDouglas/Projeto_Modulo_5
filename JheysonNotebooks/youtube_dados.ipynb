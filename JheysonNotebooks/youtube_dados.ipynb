{
  "nbformat": 4,
  "nbformat_minor": 5,
  "metadata": {
    "interpreter": {
      "hash": "cf3f271fe67d784bbf85f4ffd9a2a655e5d080e1c1fc4d081ba9aa5ddf323350"
    },
    "kernelspec": {
      "display_name": ".venv",
      "language": "python",
      "name": ".venv"
    },
    "language_info": {
      "codemirror_mode": {
        "name": "ipython",
        "version": 3
      },
      "file_extension": ".py",
      "mimetype": "text/x-python",
      "name": "python",
      "nbconvert_exporter": "python",
      "pygments_lexer": "ipython3",
      "version": "3.8.10"
    },
    "colab": {
      "name": "youtube_dados.ipynb",
      "provenance": [],
      "include_colab_link": true
    }
  },
  "cells": [
    {
      "cell_type": "markdown",
      "metadata": {
        "id": "view-in-github",
        "colab_type": "text"
      },
      "source": [
        "<a href=\"https://colab.research.google.com/github/JheyssonDouglas/Projeto_Modulo_5/blob/main/youtube_dados.ipynb\" target=\"_parent\"><img src=\"https://colab.research.google.com/assets/colab-badge.svg\" alt=\"Open In Colab\"/></a>"
      ]
    },
    {
      "cell_type": "markdown",
      "metadata": {
        "id": "a5e2e01f"
      },
      "source": [
        "### Extração de dados youtube- visualizacão de videos"
      ],
      "id": "a5e2e01f"
    },
    {
      "cell_type": "code",
      "metadata": {
        "colab": {
          "base_uri": "https://localhost:8080/"
        },
        "id": "m9x4czZ95Vxf",
        "outputId": "a4aa6a2c-c249-4024-cf29-f784491772bf"
      },
      "source": [
        "from google.colab import drive\n",
        "drive.mount('/content/drive')"
      ],
      "id": "m9x4czZ95Vxf",
      "execution_count": 1,
      "outputs": [
        {
          "output_type": "stream",
          "text": [
            "Mounted at /content/drive\n"
          ],
          "name": "stdout"
        }
      ]
    },
    {
      "cell_type": "markdown",
      "metadata": {
        "id": "9acb24c3"
      },
      "source": [
        "**Bibliotecas:**"
      ],
      "id": "9acb24c3"
    },
    {
      "cell_type": "markdown",
      "metadata": {
        "id": "9d5db62d"
      },
      "source": [
        "* pandas\n",
        "* numpy\n",
        "* BeautifulSoup\n",
        "* matplotlib\n",
        "* stylecloud"
      ],
      "id": "9d5db62d"
    },
    {
      "cell_type": "markdown",
      "metadata": {
        "id": "d847227b"
      },
      "source": [
        "> Requer instalação da  **beautifulsoup4** para ler e extrair dados html, **tags**."
      ],
      "id": "d847227b"
    },
    {
      "cell_type": "code",
      "metadata": {
        "id": "63e6f103",
        "colab": {
          "base_uri": "https://localhost:8080/"
        },
        "outputId": "ef491e14-edda-4d09-ab56-a19e913dc651"
      },
      "source": [
        " pip install beautifulsoup4"
      ],
      "id": "63e6f103",
      "execution_count": 2,
      "outputs": [
        {
          "output_type": "stream",
          "text": [
            "Requirement already satisfied: beautifulsoup4 in /usr/local/lib/python3.7/dist-packages (4.6.3)\n"
          ],
          "name": "stdout"
        }
      ]
    },
    {
      "cell_type": "markdown",
      "metadata": {
        "id": "430364c5"
      },
      "source": [
        "> Para gerar nuvem de palavras vou utilizar a biblioteca **stylecloud** para isso"
      ],
      "id": "430364c5"
    },
    {
      "cell_type": "code",
      "metadata": {
        "id": "78d9a9d9",
        "colab": {
          "base_uri": "https://localhost:8080/"
        },
        "outputId": "84b9578b-c056-45f5-a491-66d019039e8f"
      },
      "source": [
        "pip install stylecloud"
      ],
      "id": "78d9a9d9",
      "execution_count": 3,
      "outputs": [
        {
          "output_type": "stream",
          "text": [
            "Collecting stylecloud\n",
            "  Downloading stylecloud-0.5.2.tar.gz (262 kB)\n",
            "\u001b[K     |████████████████████████████████| 262 kB 12.1 MB/s \n",
            "\u001b[?25hRequirement already satisfied: wordcloud in /usr/local/lib/python3.7/dist-packages (from stylecloud) (1.5.0)\n",
            "Collecting icon-font-to-png\n",
            "  Downloading icon_font_to_png-0.4.1-py2.py3-none-any.whl (161 kB)\n",
            "\u001b[K     |████████████████████████████████| 161 kB 19.6 MB/s \n",
            "\u001b[?25hRequirement already satisfied: palettable in /usr/local/lib/python3.7/dist-packages (from stylecloud) (3.3.0)\n",
            "Collecting fire\n",
            "  Downloading fire-0.4.0.tar.gz (87 kB)\n",
            "\u001b[K     |████████████████████████████████| 87 kB 5.3 MB/s \n",
            "\u001b[?25hRequirement already satisfied: matplotlib in /usr/local/lib/python3.7/dist-packages (from stylecloud) (3.2.2)\n",
            "Requirement already satisfied: six in /usr/local/lib/python3.7/dist-packages (from fire->stylecloud) (1.15.0)\n",
            "Requirement already satisfied: termcolor in /usr/local/lib/python3.7/dist-packages (from fire->stylecloud) (1.1.0)\n",
            "Requirement already satisfied: Pillow>=4.0.0 in /usr/local/lib/python3.7/dist-packages (from icon-font-to-png->stylecloud) (7.1.2)\n",
            "Requirement already satisfied: requests>=2.12.5 in /usr/local/lib/python3.7/dist-packages (from icon-font-to-png->stylecloud) (2.23.0)\n",
            "Collecting tinycss>=0.4\n",
            "  Downloading tinycss-0.4.tar.gz (87 kB)\n",
            "\u001b[K     |████████████████████████████████| 87 kB 4.9 MB/s \n",
            "\u001b[?25hRequirement already satisfied: urllib3!=1.25.0,!=1.25.1,<1.26,>=1.21.1 in /usr/local/lib/python3.7/dist-packages (from requests>=2.12.5->icon-font-to-png->stylecloud) (1.24.3)\n",
            "Requirement already satisfied: idna<3,>=2.5 in /usr/local/lib/python3.7/dist-packages (from requests>=2.12.5->icon-font-to-png->stylecloud) (2.10)\n",
            "Requirement already satisfied: chardet<4,>=3.0.2 in /usr/local/lib/python3.7/dist-packages (from requests>=2.12.5->icon-font-to-png->stylecloud) (3.0.4)\n",
            "Requirement already satisfied: certifi>=2017.4.17 in /usr/local/lib/python3.7/dist-packages (from requests>=2.12.5->icon-font-to-png->stylecloud) (2021.5.30)\n",
            "Requirement already satisfied: numpy>=1.11 in /usr/local/lib/python3.7/dist-packages (from matplotlib->stylecloud) (1.19.5)\n",
            "Requirement already satisfied: python-dateutil>=2.1 in /usr/local/lib/python3.7/dist-packages (from matplotlib->stylecloud) (2.8.1)\n",
            "Requirement already satisfied: kiwisolver>=1.0.1 in /usr/local/lib/python3.7/dist-packages (from matplotlib->stylecloud) (1.3.1)\n",
            "Requirement already satisfied: cycler>=0.10 in /usr/local/lib/python3.7/dist-packages (from matplotlib->stylecloud) (0.10.0)\n",
            "Requirement already satisfied: pyparsing!=2.0.4,!=2.1.2,!=2.1.6,>=2.0.1 in /usr/local/lib/python3.7/dist-packages (from matplotlib->stylecloud) (2.4.7)\n",
            "Building wheels for collected packages: stylecloud, fire, tinycss\n",
            "  Building wheel for stylecloud (setup.py) ... \u001b[?25l\u001b[?25hdone\n",
            "  Created wheel for stylecloud: filename=stylecloud-0.5.2-py3-none-any.whl size=259508 sha256=085f7e548b20e49b3f9f0ec0e5e8c69a3f3b042c99fb1d3e609a2e66830339b6\n",
            "  Stored in directory: /root/.cache/pip/wheels/77/42/7a/f52b5f84c04196fd4c2a3dceeb1bbeaee1c93a4fe271b5eb41\n",
            "  Building wheel for fire (setup.py) ... \u001b[?25l\u001b[?25hdone\n",
            "  Created wheel for fire: filename=fire-0.4.0-py2.py3-none-any.whl size=115943 sha256=0aadbbf06ed0acf7998c8b7c6806bd26dcf9df5f12e9ddb0010a53e0b10c8ca9\n",
            "  Stored in directory: /root/.cache/pip/wheels/8a/67/fb/2e8a12fa16661b9d5af1f654bd199366799740a85c64981226\n",
            "  Building wheel for tinycss (setup.py) ... \u001b[?25l\u001b[?25hdone\n",
            "  Created wheel for tinycss: filename=tinycss-0.4-py3-none-any.whl size=43955 sha256=8b4a8667250b4800517c8d5300541b3fc0afde7f8c28c4201afa5a932d38812b\n",
            "  Stored in directory: /root/.cache/pip/wheels/6c/66/e8/e53d7a476011891fa51a5ee83a2d1852b19b258f975055429b\n",
            "Successfully built stylecloud fire tinycss\n",
            "Installing collected packages: tinycss, icon-font-to-png, fire, stylecloud\n",
            "Successfully installed fire-0.4.0 icon-font-to-png-0.4.1 stylecloud-0.5.2 tinycss-0.4\n"
          ],
          "name": "stdout"
        }
      ]
    },
    {
      "cell_type": "markdown",
      "metadata": {
        "id": "e39ed6f7"
      },
      "source": [
        "**Imports de bliotecas para utilização:**"
      ],
      "id": "e39ed6f7"
    },
    {
      "cell_type": "code",
      "metadata": {
        "id": "d7b3e7f4"
      },
      "source": [
        "from bs4 import BeautifulSoup\n",
        "import pandas as pd\n",
        "import numpy as np\n",
        "import codecs\n",
        "from datetime import datetime\n",
        "import stylecloud\n",
        "from wordcloud import WordCloud, ImageColorGenerator \n",
        "from PIL import Image\n",
        "import matplotlib.pyplot as plt\n"
      ],
      "id": "d7b3e7f4",
      "execution_count": 4,
      "outputs": []
    },
    {
      "cell_type": "markdown",
      "metadata": {
        "id": "384deb37"
      },
      "source": [
        "***Local do arquivo html***"
      ],
      "id": "384deb37"
    },
    {
      "cell_type": "code",
      "metadata": {
        "id": "be03048b"
      },
      "source": [
        "local_html = '/content/drive/MyDrive/Projeto Final/Youtube/histórico-de-visualização.html'"
      ],
      "id": "be03048b",
      "execution_count": 5,
      "outputs": []
    },
    {
      "cell_type": "markdown",
      "metadata": {
        "id": "18e86a8f"
      },
      "source": [
        "**Instância de objeto da biblioteca BeautifulSoup**"
      ],
      "id": "18e86a8f"
    },
    {
      "cell_type": "code",
      "metadata": {
        "id": "e62c2807"
      },
      "source": [
        "def cria_objeto_soup(html_doc):\n",
        "    fp = codecs.open(html_doc, 'r') \n",
        "    sp = BeautifulSoup(fp)\n",
        "    return sp"
      ],
      "id": "e62c2807",
      "execution_count": 6,
      "outputs": []
    },
    {
      "cell_type": "code",
      "metadata": {
        "id": "aa6b1f71"
      },
      "source": [
        "def coleta_divs(nome_div,obj):\n",
        "    mydivs = obj.findAll(\"div\", {\"class\": nome_div})\n",
        "    return  mydivs"
      ],
      "id": "aa6b1f71",
      "execution_count": 7,
      "outputs": []
    },
    {
      "cell_type": "code",
      "metadata": {
        "id": "085aaea9"
      },
      "source": [
        "def cria_dicionario():\n",
        "    informacoe_visualizacao = {\n",
        "                                        'canal':[],\n",
        "                                        'url_canal':[],\n",
        "                                        'nome_video':[],\n",
        "                                        'url_video':[],\n",
        "                                        'data_visualizacao':[]\n",
        "    }\n",
        "    return informacoe_visualizacao"
      ],
      "id": "085aaea9",
      "execution_count": 8,
      "outputs": []
    },
    {
      "cell_type": "code",
      "metadata": {
        "id": "760e3976"
      },
      "source": [
        "nome_divs = 'content-cell mdl-cell mdl-cell--6-col mdl-typography--body-1'\n",
        "soup = cria_objeto_soup(local_html)\n",
        "divs = coleta_divs(nome_divs,soup)\n"
      ],
      "id": "760e3976",
      "execution_count": 9,
      "outputs": []
    },
    {
      "cell_type": "code",
      "metadata": {
        "id": "6695b942"
      },
      "source": [
        "dados = cria_dicionario()\n",
        "for dado in divs:\n",
        "    href_video = dado.a\n",
        "\n",
        "    dados_novo_tag_a = dado.find_all('a')  \n",
        "    date = str(dado).split('<br/>')\n",
        "    tm_date = len(date)\n",
        "    date = date[tm_date-1].split('</div>')\n",
        "    txt = dado.text\n",
        "    tm = len('Watched\\xa0')\n",
        "    txt = txt[tm:]\n",
        "    \n",
        "    \n",
        "    try: \n",
        "       dados['canal'].append(dados_novo_tag_a[1].text)\n",
        "    except:\n",
        "       dados['canal'].append(np.NaN)\n",
        "    \n",
        "    try: \n",
        "       dados['url_canal'].append(dados_novo_tag_a[1]['href'])\n",
        "    except:\n",
        "       dados['url_canal'].append(np.NaN) \n",
        "    \n",
        "    try:\n",
        "       dados['nome_video'].append(txt) \n",
        "    except:\n",
        "       dados['nome_video'].append(np.NaN)\n",
        "    \n",
        "    try:\n",
        "       dados['url_video'].append(href_video['href'])\n",
        "    except:\n",
        "       dados['url_video'].append(np.NaN)\n",
        "    \n",
        "    try:  \n",
        "       dados['data_visualizacao'].append(str(date[0]))\n",
        "    except:\n",
        "       dados['data_visualizacao'].append(np.NaN)\n",
        "  "
      ],
      "id": "6695b942",
      "execution_count": 10,
      "outputs": []
    },
    {
      "cell_type": "code",
      "metadata": {
        "id": "c14e7dbb"
      },
      "source": [
        "visualizao_youtube = pd.DataFrame(dados)"
      ],
      "id": "c14e7dbb",
      "execution_count": 11,
      "outputs": []
    },
    {
      "cell_type": "code",
      "metadata": {
        "id": "71b9caa3",
        "colab": {
          "base_uri": "https://localhost:8080/",
          "height": 529
        },
        "outputId": "3807b91f-e359-495b-dd6d-156e050f0aaa"
      },
      "source": [
        "visualizao_youtube.head(10)"
      ],
      "id": "71b9caa3",
      "execution_count": 12,
      "outputs": [
        {
          "output_type": "execute_result",
          "data": {
            "text/html": [
              "<div>\n",
              "<style scoped>\n",
              "    .dataframe tbody tr th:only-of-type {\n",
              "        vertical-align: middle;\n",
              "    }\n",
              "\n",
              "    .dataframe tbody tr th {\n",
              "        vertical-align: top;\n",
              "    }\n",
              "\n",
              "    .dataframe thead th {\n",
              "        text-align: right;\n",
              "    }\n",
              "</style>\n",
              "<table border=\"1\" class=\"dataframe\">\n",
              "  <thead>\n",
              "    <tr style=\"text-align: right;\">\n",
              "      <th></th>\n",
              "      <th>canal</th>\n",
              "      <th>url_canal</th>\n",
              "      <th>nome_video</th>\n",
              "      <th>url_video</th>\n",
              "      <th>data_visualizacao</th>\n",
              "    </tr>\n",
              "  </thead>\n",
              "  <tbody>\n",
              "    <tr>\n",
              "      <th>0</th>\n",
              "      <td>ge</td>\n",
              "      <td>https://www.youtube.com/channel/UCgCKagVhzGnZc...</td>\n",
              "      <td>CHAPECOENSE 2 X 3 CUIABÁ | MELHORES MOMENTOS |...</td>\n",
              "      <td>https://www.youtube.com/watch?v=1QGYM5n6M6o</td>\n",
              "      <td>18 de jul. de 2021 15:29:30 BRT</td>\n",
              "    </tr>\n",
              "    <tr>\n",
              "      <th>1</th>\n",
              "      <td>ESPN Brasil</td>\n",
              "      <td>https://www.youtube.com/channel/UCw5-xj3AKqEiz...</td>\n",
              "      <td>MICHAEL FAZ GOLAÇO, DIEGO ALVES BRILHA, E FLAM...</td>\n",
              "      <td>https://www.youtube.com/watch?v=6uojvTvjhpI</td>\n",
              "      <td>18 de jul. de 2021 13:59:52 BRT</td>\n",
              "    </tr>\n",
              "    <tr>\n",
              "      <th>2</th>\n",
              "      <td>Flow Podcast</td>\n",
              "      <td>https://www.youtube.com/channel/UC4ncvgh5hFr5O...</td>\n",
              "      <td>KID BENGALA [+ EMME WHITE] - Flow Fodcast #413...</td>\n",
              "      <td>https://www.youtube.com/watch?v=OkFRJBA0iNo</td>\n",
              "      <td>18 de jul. de 2021 11:34:32 BRT</td>\n",
              "    </tr>\n",
              "    <tr>\n",
              "      <th>3</th>\n",
              "      <td>Nem, Amigos Podcast</td>\n",
              "      <td>https://www.youtube.com/channel/UCzSYennmIHNpi...</td>\n",
              "      <td>#06 -  REENCONTRO IGÃO E CARTOLOUCO (PODPAH) -...</td>\n",
              "      <td>https://www.youtube.com/watch?v=wsvuMNJA32k</td>\n",
              "      <td>18 de jul. de 2021 11:31:00 BRT</td>\n",
              "    </tr>\n",
              "    <tr>\n",
              "      <th>4</th>\n",
              "      <td>Cartoloucos</td>\n",
              "      <td>https://www.youtube.com/channel/UCfBw30ryGwSC-...</td>\n",
              "      <td>COCIELO: “YOUTUBER É TUDO INVEJOSO” - 100 PERG...</td>\n",
              "      <td>https://www.youtube.com/watch?v=u_WPKk-rPZ0</td>\n",
              "      <td>18 de jul. de 2021 11:30:55 BRT</td>\n",
              "    </tr>\n",
              "    <tr>\n",
              "      <th>5</th>\n",
              "      <td>NaN</td>\n",
              "      <td>NaN</td>\n",
              "      <td>Wiley’s Podcast: This Study Shows18 de jul. de...</td>\n",
              "      <td>https://www.youtube.com/watch?v=rHtaUcUzOHg</td>\n",
              "      <td>18 de jul. de 2021 11:30:21 BRT</td>\n",
              "    </tr>\n",
              "    <tr>\n",
              "      <th>6</th>\n",
              "      <td>Cortes Nem, Amigos! [OFICIAL]</td>\n",
              "      <td>https://www.youtube.com/channel/UCmqQ-fIk0Mock...</td>\n",
              "      <td>O DESIMPEDIDOS ACABOU? - CORTES DO NEM AMIGOS ...</td>\n",
              "      <td>https://www.youtube.com/watch?v=gP5nBIxot6g</td>\n",
              "      <td>18 de jul. de 2021 11:27:19 BRT</td>\n",
              "    </tr>\n",
              "    <tr>\n",
              "      <th>7</th>\n",
              "      <td>Os Amiguinhos</td>\n",
              "      <td>https://www.youtube.com/channel/UCXyGbNdywPKSJ...</td>\n",
              "      <td>O Sapo Não Lava o Pé  + 1 Hora de musica infan...</td>\n",
              "      <td>https://www.youtube.com/watch?v=2Vf4VhAGhlY</td>\n",
              "      <td>18 de jul. de 2021 11:26:24 BRT</td>\n",
              "    </tr>\n",
              "    <tr>\n",
              "      <th>8</th>\n",
              "      <td>TAG</td>\n",
              "      <td>https://www.youtube.com/channel/UC7uH27Tc-JsGZ...</td>\n",
              "      <td>CONTROLE DO PS4 COM SURPRESA DENTRO 😅TAG18 de ...</td>\n",
              "      <td>https://www.youtube.com/watch?v=Mnyo8lGaXxg</td>\n",
              "      <td>18 de jul. de 2021 11:26:01 BRT</td>\n",
              "    </tr>\n",
              "    <tr>\n",
              "      <th>9</th>\n",
              "      <td>Venus Podcast</td>\n",
              "      <td>https://www.youtube.com/channel/UCTBhsXf_XRxk8...</td>\n",
              "      <td>ZOE MARTINEZ - Venus Podcast #94Venus Podcast1...</td>\n",
              "      <td>https://www.youtube.com/watch?v=mjj2zKnjCIc</td>\n",
              "      <td>18 de jul. de 2021 11:00:10 BRT</td>\n",
              "    </tr>\n",
              "  </tbody>\n",
              "</table>\n",
              "</div>"
            ],
            "text/plain": [
              "                           canal  ...                data_visualizacao\n",
              "0                             ge  ...  18 de jul. de 2021 15:29:30 BRT\n",
              "1                    ESPN Brasil  ...  18 de jul. de 2021 13:59:52 BRT\n",
              "2                   Flow Podcast  ...  18 de jul. de 2021 11:34:32 BRT\n",
              "3            Nem, Amigos Podcast  ...  18 de jul. de 2021 11:31:00 BRT\n",
              "4                    Cartoloucos  ...  18 de jul. de 2021 11:30:55 BRT\n",
              "5                            NaN  ...  18 de jul. de 2021 11:30:21 BRT\n",
              "6  Cortes Nem, Amigos! [OFICIAL]  ...  18 de jul. de 2021 11:27:19 BRT\n",
              "7                  Os Amiguinhos  ...  18 de jul. de 2021 11:26:24 BRT\n",
              "8                            TAG  ...  18 de jul. de 2021 11:26:01 BRT\n",
              "9                  Venus Podcast  ...  18 de jul. de 2021 11:00:10 BRT\n",
              "\n",
              "[10 rows x 5 columns]"
            ]
          },
          "metadata": {
            "tags": []
          },
          "execution_count": 12
        }
      ]
    },
    {
      "cell_type": "code",
      "metadata": {
        "colab": {
          "base_uri": "https://localhost:8080/",
          "height": 589
        },
        "id": "u3GSin6TDln9",
        "outputId": "af8b2fd2-8455-4346-c8fc-862d12c4c115"
      },
      "source": [
        "visualizao_youtube"
      ],
      "id": "u3GSin6TDln9",
      "execution_count": 50,
      "outputs": [
        {
          "output_type": "execute_result",
          "data": {
            "text/html": [
              "<div>\n",
              "<style scoped>\n",
              "    .dataframe tbody tr th:only-of-type {\n",
              "        vertical-align: middle;\n",
              "    }\n",
              "\n",
              "    .dataframe tbody tr th {\n",
              "        vertical-align: top;\n",
              "    }\n",
              "\n",
              "    .dataframe thead th {\n",
              "        text-align: right;\n",
              "    }\n",
              "</style>\n",
              "<table border=\"1\" class=\"dataframe\">\n",
              "  <thead>\n",
              "    <tr style=\"text-align: right;\">\n",
              "      <th></th>\n",
              "      <th>canal</th>\n",
              "      <th>url_canal</th>\n",
              "      <th>nome_video</th>\n",
              "      <th>url_video</th>\n",
              "      <th>data_visualizacao</th>\n",
              "    </tr>\n",
              "  </thead>\n",
              "  <tbody>\n",
              "    <tr>\n",
              "      <th>0</th>\n",
              "      <td>ge</td>\n",
              "      <td>https://www.youtube.com/channel/UCgCKagVhzGnZc...</td>\n",
              "      <td>CHAPECOENSE 2 X 3 CUIABÁ | MELHORES MOMENTOS |...</td>\n",
              "      <td>https://www.youtube.com/watch?v=1QGYM5n6M6o</td>\n",
              "      <td>2021-07-18 15:29:30</td>\n",
              "    </tr>\n",
              "    <tr>\n",
              "      <th>1</th>\n",
              "      <td>ESPN Brasil</td>\n",
              "      <td>https://www.youtube.com/channel/UCw5-xj3AKqEiz...</td>\n",
              "      <td>MICHAEL FAZ GOLAÇO, DIEGO ALVES BRILHA, E FLAM...</td>\n",
              "      <td>https://www.youtube.com/watch?v=6uojvTvjhpI</td>\n",
              "      <td>2021-07-18 13:59:52</td>\n",
              "    </tr>\n",
              "    <tr>\n",
              "      <th>2</th>\n",
              "      <td>Flow Podcast</td>\n",
              "      <td>https://www.youtube.com/channel/UC4ncvgh5hFr5O...</td>\n",
              "      <td>KID BENGALA [+ EMME WHITE] - Flow Fodcast #413...</td>\n",
              "      <td>https://www.youtube.com/watch?v=OkFRJBA0iNo</td>\n",
              "      <td>2021-07-18 11:34:32</td>\n",
              "    </tr>\n",
              "    <tr>\n",
              "      <th>3</th>\n",
              "      <td>Nem, Amigos Podcast</td>\n",
              "      <td>https://www.youtube.com/channel/UCzSYennmIHNpi...</td>\n",
              "      <td>#06 -  REENCONTRO IGÃO E CARTOLOUCO (PODPAH) -...</td>\n",
              "      <td>https://www.youtube.com/watch?v=wsvuMNJA32k</td>\n",
              "      <td>2021-07-18 11:31:00</td>\n",
              "    </tr>\n",
              "    <tr>\n",
              "      <th>4</th>\n",
              "      <td>Cartoloucos</td>\n",
              "      <td>https://www.youtube.com/channel/UCfBw30ryGwSC-...</td>\n",
              "      <td>COCIELO: “YOUTUBER É TUDO INVEJOSO” - 100 PERG...</td>\n",
              "      <td>https://www.youtube.com/watch?v=u_WPKk-rPZ0</td>\n",
              "      <td>2021-07-18 11:30:55</td>\n",
              "    </tr>\n",
              "    <tr>\n",
              "      <th>...</th>\n",
              "      <td>...</td>\n",
              "      <td>...</td>\n",
              "      <td>...</td>\n",
              "      <td>...</td>\n",
              "      <td>...</td>\n",
              "    </tr>\n",
              "    <tr>\n",
              "      <th>5224</th>\n",
              "      <td>NaN</td>\n",
              "      <td>NaN</td>\n",
              "      <td>https://www.youtube.com/watch?v=4w4aeM7kRk04 d...</td>\n",
              "      <td>https://www.youtube.com/watch?v=4w4aeM7kRk0</td>\n",
              "      <td>2020-02-04 12:34:39</td>\n",
              "    </tr>\n",
              "    <tr>\n",
              "      <th>5225</th>\n",
              "      <td>TheKrautIsAblaut</td>\n",
              "      <td>https://www.youtube.com/channel/UCEZzoRkodg5yT...</td>\n",
              "      <td>Hockey Fan Suggests a Player Sucks DickTheKrau...</td>\n",
              "      <td>https://www.youtube.com/watch?v=Azp0kCeK2co</td>\n",
              "      <td>2020-02-04 12:34:00</td>\n",
              "    </tr>\n",
              "    <tr>\n",
              "      <th>5226</th>\n",
              "      <td>TNT Sports Brasil</td>\n",
              "      <td>https://www.youtube.com/channel/UCs-6sCz2LJm1P...</td>\n",
              "      <td>FLAMENGO 3 X 1 RESENDE - MELHORES MOMENTOS - C...</td>\n",
              "      <td>https://www.youtube.com/watch?v=n2t46j8G5G4</td>\n",
              "      <td>2020-02-04 00:18:27</td>\n",
              "    </tr>\n",
              "    <tr>\n",
              "      <th>5227</th>\n",
              "      <td>Genial Investimentos</td>\n",
              "      <td>https://www.youtube.com/channel/UCYSOMA4Yx1CJv...</td>\n",
              "      <td>Como comprar ações na Bolsa de Valores? #Genia...</td>\n",
              "      <td>https://www.youtube.com/watch?v=UM9BCNpdDSA</td>\n",
              "      <td>2020-02-03 11:08:04</td>\n",
              "    </tr>\n",
              "    <tr>\n",
              "      <th>5228</th>\n",
              "      <td>Genial Investimentos</td>\n",
              "      <td>https://www.youtube.com/channel/UCYSOMA4Yx1CJv...</td>\n",
              "      <td>ALAVANQUE SEUS INVESTIMENTOS E NÃO PERCA NENHU...</td>\n",
              "      <td>https://www.youtube.com/watch?v=tEU3wcSN3tQ</td>\n",
              "      <td>2020-02-03 11:04:56</td>\n",
              "    </tr>\n",
              "  </tbody>\n",
              "</table>\n",
              "<p>5229 rows × 5 columns</p>\n",
              "</div>"
            ],
            "text/plain": [
              "                     canal  ...   data_visualizacao\n",
              "0                       ge  ... 2021-07-18 15:29:30\n",
              "1              ESPN Brasil  ... 2021-07-18 13:59:52\n",
              "2             Flow Podcast  ... 2021-07-18 11:34:32\n",
              "3      Nem, Amigos Podcast  ... 2021-07-18 11:31:00\n",
              "4              Cartoloucos  ... 2021-07-18 11:30:55\n",
              "...                    ...  ...                 ...\n",
              "5224                   NaN  ... 2020-02-04 12:34:39\n",
              "5225      TheKrautIsAblaut  ... 2020-02-04 12:34:00\n",
              "5226     TNT Sports Brasil  ... 2020-02-04 00:18:27\n",
              "5227  Genial Investimentos  ... 2020-02-03 11:08:04\n",
              "5228  Genial Investimentos  ... 2020-02-03 11:04:56\n",
              "\n",
              "[5229 rows x 5 columns]"
            ]
          },
          "metadata": {
            "tags": []
          },
          "execution_count": 50
        }
      ]
    },
    {
      "cell_type": "code",
      "metadata": {
        "id": "dbf41bfb",
        "colab": {
          "base_uri": "https://localhost:8080/"
        },
        "outputId": "3f2015a8-f358-4d21-97d0-235637f60738"
      },
      "source": [
        "visualizao_youtube.info()\n"
      ],
      "id": "dbf41bfb",
      "execution_count": 13,
      "outputs": [
        {
          "output_type": "stream",
          "text": [
            "<class 'pandas.core.frame.DataFrame'>\n",
            "RangeIndex: 5229 entries, 0 to 5228\n",
            "Data columns (total 5 columns):\n",
            " #   Column             Non-Null Count  Dtype \n",
            "---  ------             --------------  ----- \n",
            " 0   canal              4735 non-null   object\n",
            " 1   url_canal          4735 non-null   object\n",
            " 2   nome_video         5229 non-null   object\n",
            " 3   url_video          5139 non-null   object\n",
            " 4   data_visualizacao  5229 non-null   object\n",
            "dtypes: object(5)\n",
            "memory usage: 204.4+ KB\n"
          ],
          "name": "stdout"
        }
      ]
    },
    {
      "cell_type": "code",
      "metadata": {
        "id": "cb83dfa3",
        "colab": {
          "base_uri": "https://localhost:8080/",
          "height": 289
        },
        "outputId": "555a2f0b-68fb-4f90-f39c-750ce8c90edb"
      },
      "source": [
        "visualizao_youtube.head()\n"
      ],
      "id": "cb83dfa3",
      "execution_count": 14,
      "outputs": [
        {
          "output_type": "execute_result",
          "data": {
            "text/html": [
              "<div>\n",
              "<style scoped>\n",
              "    .dataframe tbody tr th:only-of-type {\n",
              "        vertical-align: middle;\n",
              "    }\n",
              "\n",
              "    .dataframe tbody tr th {\n",
              "        vertical-align: top;\n",
              "    }\n",
              "\n",
              "    .dataframe thead th {\n",
              "        text-align: right;\n",
              "    }\n",
              "</style>\n",
              "<table border=\"1\" class=\"dataframe\">\n",
              "  <thead>\n",
              "    <tr style=\"text-align: right;\">\n",
              "      <th></th>\n",
              "      <th>canal</th>\n",
              "      <th>url_canal</th>\n",
              "      <th>nome_video</th>\n",
              "      <th>url_video</th>\n",
              "      <th>data_visualizacao</th>\n",
              "    </tr>\n",
              "  </thead>\n",
              "  <tbody>\n",
              "    <tr>\n",
              "      <th>0</th>\n",
              "      <td>ge</td>\n",
              "      <td>https://www.youtube.com/channel/UCgCKagVhzGnZc...</td>\n",
              "      <td>CHAPECOENSE 2 X 3 CUIABÁ | MELHORES MOMENTOS |...</td>\n",
              "      <td>https://www.youtube.com/watch?v=1QGYM5n6M6o</td>\n",
              "      <td>18 de jul. de 2021 15:29:30 BRT</td>\n",
              "    </tr>\n",
              "    <tr>\n",
              "      <th>1</th>\n",
              "      <td>ESPN Brasil</td>\n",
              "      <td>https://www.youtube.com/channel/UCw5-xj3AKqEiz...</td>\n",
              "      <td>MICHAEL FAZ GOLAÇO, DIEGO ALVES BRILHA, E FLAM...</td>\n",
              "      <td>https://www.youtube.com/watch?v=6uojvTvjhpI</td>\n",
              "      <td>18 de jul. de 2021 13:59:52 BRT</td>\n",
              "    </tr>\n",
              "    <tr>\n",
              "      <th>2</th>\n",
              "      <td>Flow Podcast</td>\n",
              "      <td>https://www.youtube.com/channel/UC4ncvgh5hFr5O...</td>\n",
              "      <td>KID BENGALA [+ EMME WHITE] - Flow Fodcast #413...</td>\n",
              "      <td>https://www.youtube.com/watch?v=OkFRJBA0iNo</td>\n",
              "      <td>18 de jul. de 2021 11:34:32 BRT</td>\n",
              "    </tr>\n",
              "    <tr>\n",
              "      <th>3</th>\n",
              "      <td>Nem, Amigos Podcast</td>\n",
              "      <td>https://www.youtube.com/channel/UCzSYennmIHNpi...</td>\n",
              "      <td>#06 -  REENCONTRO IGÃO E CARTOLOUCO (PODPAH) -...</td>\n",
              "      <td>https://www.youtube.com/watch?v=wsvuMNJA32k</td>\n",
              "      <td>18 de jul. de 2021 11:31:00 BRT</td>\n",
              "    </tr>\n",
              "    <tr>\n",
              "      <th>4</th>\n",
              "      <td>Cartoloucos</td>\n",
              "      <td>https://www.youtube.com/channel/UCfBw30ryGwSC-...</td>\n",
              "      <td>COCIELO: “YOUTUBER É TUDO INVEJOSO” - 100 PERG...</td>\n",
              "      <td>https://www.youtube.com/watch?v=u_WPKk-rPZ0</td>\n",
              "      <td>18 de jul. de 2021 11:30:55 BRT</td>\n",
              "    </tr>\n",
              "  </tbody>\n",
              "</table>\n",
              "</div>"
            ],
            "text/plain": [
              "                 canal  ...                data_visualizacao\n",
              "0                   ge  ...  18 de jul. de 2021 15:29:30 BRT\n",
              "1          ESPN Brasil  ...  18 de jul. de 2021 13:59:52 BRT\n",
              "2         Flow Podcast  ...  18 de jul. de 2021 11:34:32 BRT\n",
              "3  Nem, Amigos Podcast  ...  18 de jul. de 2021 11:31:00 BRT\n",
              "4          Cartoloucos  ...  18 de jul. de 2021 11:30:55 BRT\n",
              "\n",
              "[5 rows x 5 columns]"
            ]
          },
          "metadata": {
            "tags": []
          },
          "execution_count": 14
        }
      ]
    },
    {
      "cell_type": "code",
      "metadata": {
        "id": "88553ecc"
      },
      "source": [
        "meses = {\n",
        "        '01':'jan.',\n",
        "        '02':'fev.',\n",
        "        '03':'mar.',\n",
        "        '04':'abr.',\n",
        "        '05':'mai.',\n",
        "        '06':'jun.',\n",
        "        '07':'jul.',\n",
        "        '08':'ago.',\n",
        "        '09':'set.',\n",
        "        '10':'out.',\n",
        "        '11':'nov.',\n",
        "        '12':'dez.',\n",
        "}\n"
      ],
      "id": "88553ecc",
      "execution_count": 15,
      "outputs": []
    },
    {
      "cell_type": "code",
      "metadata": {
        "id": "e7629f88"
      },
      "source": [
        "  def limpa_date(string):\n",
        "    \n",
        "    string = list(string)\n",
        "    \n",
        "    string =  ''.join(string).strip()\n",
        "    string = string.split(' ')\n",
        "   \n",
        "    for i,valor in enumerate(string):\n",
        "        if valor =='de' or valor == 'BRT':\n",
        "            string.pop(i)     \n",
        "        if i == 2:\n",
        "            \n",
        "            for chave in meses.keys():\n",
        "                if meses[chave] == string[1].lower():\n",
        "                    string[1] = chave\n",
        "    string.insert(1,'/')\n",
        "    string.insert(3,'/')\n",
        "    string = ' '.join(str(v) for v in string) \n",
        "    return string\n",
        "\n"
      ],
      "id": "e7629f88",
      "execution_count": 16,
      "outputs": []
    },
    {
      "cell_type": "code",
      "metadata": {
        "id": "7bc276db"
      },
      "source": [
        ""
      ],
      "id": "7bc276db",
      "execution_count": 16,
      "outputs": []
    },
    {
      "cell_type": "code",
      "metadata": {
        "id": "96db3825"
      },
      "source": [
        ""
      ],
      "id": "96db3825",
      "execution_count": 16,
      "outputs": []
    },
    {
      "cell_type": "code",
      "metadata": {
        "id": "ce1960c8"
      },
      "source": [
        "#Aplica funcao para aumentar letra do mes\n",
        "visualizao_youtube['data_visualizacao'] = visualizao_youtube['data_visualizacao'].apply(limpa_date)"
      ],
      "id": "ce1960c8",
      "execution_count": 17,
      "outputs": []
    },
    {
      "cell_type": "code",
      "metadata": {
        "id": "da54141b",
        "colab": {
          "base_uri": "https://localhost:8080/",
          "height": 289
        },
        "outputId": "b6f390e4-e6b0-4a84-b3e6-a19116495d79"
      },
      "source": [
        "visualizao_youtube.head()"
      ],
      "id": "da54141b",
      "execution_count": 18,
      "outputs": [
        {
          "output_type": "execute_result",
          "data": {
            "text/html": [
              "<div>\n",
              "<style scoped>\n",
              "    .dataframe tbody tr th:only-of-type {\n",
              "        vertical-align: middle;\n",
              "    }\n",
              "\n",
              "    .dataframe tbody tr th {\n",
              "        vertical-align: top;\n",
              "    }\n",
              "\n",
              "    .dataframe thead th {\n",
              "        text-align: right;\n",
              "    }\n",
              "</style>\n",
              "<table border=\"1\" class=\"dataframe\">\n",
              "  <thead>\n",
              "    <tr style=\"text-align: right;\">\n",
              "      <th></th>\n",
              "      <th>canal</th>\n",
              "      <th>url_canal</th>\n",
              "      <th>nome_video</th>\n",
              "      <th>url_video</th>\n",
              "      <th>data_visualizacao</th>\n",
              "    </tr>\n",
              "  </thead>\n",
              "  <tbody>\n",
              "    <tr>\n",
              "      <th>0</th>\n",
              "      <td>ge</td>\n",
              "      <td>https://www.youtube.com/channel/UCgCKagVhzGnZc...</td>\n",
              "      <td>CHAPECOENSE 2 X 3 CUIABÁ | MELHORES MOMENTOS |...</td>\n",
              "      <td>https://www.youtube.com/watch?v=1QGYM5n6M6o</td>\n",
              "      <td>18 / 07 / 2021 15:29:30</td>\n",
              "    </tr>\n",
              "    <tr>\n",
              "      <th>1</th>\n",
              "      <td>ESPN Brasil</td>\n",
              "      <td>https://www.youtube.com/channel/UCw5-xj3AKqEiz...</td>\n",
              "      <td>MICHAEL FAZ GOLAÇO, DIEGO ALVES BRILHA, E FLAM...</td>\n",
              "      <td>https://www.youtube.com/watch?v=6uojvTvjhpI</td>\n",
              "      <td>18 / 07 / 2021 13:59:52</td>\n",
              "    </tr>\n",
              "    <tr>\n",
              "      <th>2</th>\n",
              "      <td>Flow Podcast</td>\n",
              "      <td>https://www.youtube.com/channel/UC4ncvgh5hFr5O...</td>\n",
              "      <td>KID BENGALA [+ EMME WHITE] - Flow Fodcast #413...</td>\n",
              "      <td>https://www.youtube.com/watch?v=OkFRJBA0iNo</td>\n",
              "      <td>18 / 07 / 2021 11:34:32</td>\n",
              "    </tr>\n",
              "    <tr>\n",
              "      <th>3</th>\n",
              "      <td>Nem, Amigos Podcast</td>\n",
              "      <td>https://www.youtube.com/channel/UCzSYennmIHNpi...</td>\n",
              "      <td>#06 -  REENCONTRO IGÃO E CARTOLOUCO (PODPAH) -...</td>\n",
              "      <td>https://www.youtube.com/watch?v=wsvuMNJA32k</td>\n",
              "      <td>18 / 07 / 2021 11:31:00</td>\n",
              "    </tr>\n",
              "    <tr>\n",
              "      <th>4</th>\n",
              "      <td>Cartoloucos</td>\n",
              "      <td>https://www.youtube.com/channel/UCfBw30ryGwSC-...</td>\n",
              "      <td>COCIELO: “YOUTUBER É TUDO INVEJOSO” - 100 PERG...</td>\n",
              "      <td>https://www.youtube.com/watch?v=u_WPKk-rPZ0</td>\n",
              "      <td>18 / 07 / 2021 11:30:55</td>\n",
              "    </tr>\n",
              "  </tbody>\n",
              "</table>\n",
              "</div>"
            ],
            "text/plain": [
              "                 canal  ...        data_visualizacao\n",
              "0                   ge  ...  18 / 07 / 2021 15:29:30\n",
              "1          ESPN Brasil  ...  18 / 07 / 2021 13:59:52\n",
              "2         Flow Podcast  ...  18 / 07 / 2021 11:34:32\n",
              "3  Nem, Amigos Podcast  ...  18 / 07 / 2021 11:31:00\n",
              "4          Cartoloucos  ...  18 / 07 / 2021 11:30:55\n",
              "\n",
              "[5 rows x 5 columns]"
            ]
          },
          "metadata": {
            "tags": []
          },
          "execution_count": 18
        }
      ]
    },
    {
      "cell_type": "code",
      "metadata": {
        "id": "2d5c64db",
        "colab": {
          "base_uri": "https://localhost:8080/",
          "height": 589
        },
        "outputId": "0508cb71-0b36-4c49-dde6-9664c6e4f6f5"
      },
      "source": [
        "visualizao_youtube"
      ],
      "id": "2d5c64db",
      "execution_count": 53,
      "outputs": [
        {
          "output_type": "execute_result",
          "data": {
            "text/html": [
              "<div>\n",
              "<style scoped>\n",
              "    .dataframe tbody tr th:only-of-type {\n",
              "        vertical-align: middle;\n",
              "    }\n",
              "\n",
              "    .dataframe tbody tr th {\n",
              "        vertical-align: top;\n",
              "    }\n",
              "\n",
              "    .dataframe thead th {\n",
              "        text-align: right;\n",
              "    }\n",
              "</style>\n",
              "<table border=\"1\" class=\"dataframe\">\n",
              "  <thead>\n",
              "    <tr style=\"text-align: right;\">\n",
              "      <th></th>\n",
              "      <th>canal</th>\n",
              "      <th>url_canal</th>\n",
              "      <th>nome_video</th>\n",
              "      <th>url_video</th>\n",
              "      <th>data_visualizacao</th>\n",
              "    </tr>\n",
              "  </thead>\n",
              "  <tbody>\n",
              "    <tr>\n",
              "      <th>0</th>\n",
              "      <td>ge</td>\n",
              "      <td>https://www.youtube.com/channel/UCgCKagVhzGnZc...</td>\n",
              "      <td>CHAPECOENSE 2 X 3 CUIABÁ | MELHORES MOMENTOS |...</td>\n",
              "      <td>https://www.youtube.com/watch?v=1QGYM5n6M6o</td>\n",
              "      <td>2021-07-18 15:29:30</td>\n",
              "    </tr>\n",
              "    <tr>\n",
              "      <th>1</th>\n",
              "      <td>ESPN Brasil</td>\n",
              "      <td>https://www.youtube.com/channel/UCw5-xj3AKqEiz...</td>\n",
              "      <td>MICHAEL FAZ GOLAÇO, DIEGO ALVES BRILHA, E FLAM...</td>\n",
              "      <td>https://www.youtube.com/watch?v=6uojvTvjhpI</td>\n",
              "      <td>2021-07-18 13:59:52</td>\n",
              "    </tr>\n",
              "    <tr>\n",
              "      <th>2</th>\n",
              "      <td>Flow Podcast</td>\n",
              "      <td>https://www.youtube.com/channel/UC4ncvgh5hFr5O...</td>\n",
              "      <td>KID BENGALA [+ EMME WHITE] - Flow Fodcast #413...</td>\n",
              "      <td>https://www.youtube.com/watch?v=OkFRJBA0iNo</td>\n",
              "      <td>2021-07-18 11:34:32</td>\n",
              "    </tr>\n",
              "    <tr>\n",
              "      <th>3</th>\n",
              "      <td>Nem, Amigos Podcast</td>\n",
              "      <td>https://www.youtube.com/channel/UCzSYennmIHNpi...</td>\n",
              "      <td>#06 -  REENCONTRO IGÃO E CARTOLOUCO (PODPAH) -...</td>\n",
              "      <td>https://www.youtube.com/watch?v=wsvuMNJA32k</td>\n",
              "      <td>2021-07-18 11:31:00</td>\n",
              "    </tr>\n",
              "    <tr>\n",
              "      <th>4</th>\n",
              "      <td>Cartoloucos</td>\n",
              "      <td>https://www.youtube.com/channel/UCfBw30ryGwSC-...</td>\n",
              "      <td>COCIELO: “YOUTUBER É TUDO INVEJOSO” - 100 PERG...</td>\n",
              "      <td>https://www.youtube.com/watch?v=u_WPKk-rPZ0</td>\n",
              "      <td>2021-07-18 11:30:55</td>\n",
              "    </tr>\n",
              "    <tr>\n",
              "      <th>...</th>\n",
              "      <td>...</td>\n",
              "      <td>...</td>\n",
              "      <td>...</td>\n",
              "      <td>...</td>\n",
              "      <td>...</td>\n",
              "    </tr>\n",
              "    <tr>\n",
              "      <th>5224</th>\n",
              "      <td>NaN</td>\n",
              "      <td>NaN</td>\n",
              "      <td>https://www.youtube.com/watch?v=4w4aeM7kRk04 d...</td>\n",
              "      <td>https://www.youtube.com/watch?v=4w4aeM7kRk0</td>\n",
              "      <td>2020-02-04 12:34:39</td>\n",
              "    </tr>\n",
              "    <tr>\n",
              "      <th>5225</th>\n",
              "      <td>TheKrautIsAblaut</td>\n",
              "      <td>https://www.youtube.com/channel/UCEZzoRkodg5yT...</td>\n",
              "      <td>Hockey Fan Suggests a Player Sucks DickTheKrau...</td>\n",
              "      <td>https://www.youtube.com/watch?v=Azp0kCeK2co</td>\n",
              "      <td>2020-02-04 12:34:00</td>\n",
              "    </tr>\n",
              "    <tr>\n",
              "      <th>5226</th>\n",
              "      <td>TNT Sports Brasil</td>\n",
              "      <td>https://www.youtube.com/channel/UCs-6sCz2LJm1P...</td>\n",
              "      <td>FLAMENGO 3 X 1 RESENDE - MELHORES MOMENTOS - C...</td>\n",
              "      <td>https://www.youtube.com/watch?v=n2t46j8G5G4</td>\n",
              "      <td>2020-02-04 00:18:27</td>\n",
              "    </tr>\n",
              "    <tr>\n",
              "      <th>5227</th>\n",
              "      <td>Genial Investimentos</td>\n",
              "      <td>https://www.youtube.com/channel/UCYSOMA4Yx1CJv...</td>\n",
              "      <td>Como comprar ações na Bolsa de Valores? #Genia...</td>\n",
              "      <td>https://www.youtube.com/watch?v=UM9BCNpdDSA</td>\n",
              "      <td>2020-02-03 11:08:04</td>\n",
              "    </tr>\n",
              "    <tr>\n",
              "      <th>5228</th>\n",
              "      <td>Genial Investimentos</td>\n",
              "      <td>https://www.youtube.com/channel/UCYSOMA4Yx1CJv...</td>\n",
              "      <td>ALAVANQUE SEUS INVESTIMENTOS E NÃO PERCA NENHU...</td>\n",
              "      <td>https://www.youtube.com/watch?v=tEU3wcSN3tQ</td>\n",
              "      <td>2020-02-03 11:04:56</td>\n",
              "    </tr>\n",
              "  </tbody>\n",
              "</table>\n",
              "<p>5229 rows × 5 columns</p>\n",
              "</div>"
            ],
            "text/plain": [
              "                     canal  ...   data_visualizacao\n",
              "0                       ge  ... 2021-07-18 15:29:30\n",
              "1              ESPN Brasil  ... 2021-07-18 13:59:52\n",
              "2             Flow Podcast  ... 2021-07-18 11:34:32\n",
              "3      Nem, Amigos Podcast  ... 2021-07-18 11:31:00\n",
              "4              Cartoloucos  ... 2021-07-18 11:30:55\n",
              "...                    ...  ...                 ...\n",
              "5224                   NaN  ... 2020-02-04 12:34:39\n",
              "5225      TheKrautIsAblaut  ... 2020-02-04 12:34:00\n",
              "5226     TNT Sports Brasil  ... 2020-02-04 00:18:27\n",
              "5227  Genial Investimentos  ... 2020-02-03 11:08:04\n",
              "5228  Genial Investimentos  ... 2020-02-03 11:04:56\n",
              "\n",
              "[5229 rows x 5 columns]"
            ]
          },
          "metadata": {
            "tags": []
          },
          "execution_count": 53
        }
      ]
    },
    {
      "cell_type": "code",
      "metadata": {
        "id": "46709048"
      },
      "source": [
        "visualizao_youtube['data_visualizacao'] = pd.to_datetime(visualizao_youtube['data_visualizacao'],format  = '%d / %m / %Y %H:%M:%S')"
      ],
      "id": "46709048",
      "execution_count": 19,
      "outputs": []
    },
    {
      "cell_type": "code",
      "metadata": {
        "id": "36a00733",
        "colab": {
          "base_uri": "https://localhost:8080/",
          "height": 289
        },
        "outputId": "6dbe29d2-df76-40b3-e4d5-180eef6a6bea"
      },
      "source": [
        "visualizao_youtube.head()"
      ],
      "id": "36a00733",
      "execution_count": 20,
      "outputs": [
        {
          "output_type": "execute_result",
          "data": {
            "text/html": [
              "<div>\n",
              "<style scoped>\n",
              "    .dataframe tbody tr th:only-of-type {\n",
              "        vertical-align: middle;\n",
              "    }\n",
              "\n",
              "    .dataframe tbody tr th {\n",
              "        vertical-align: top;\n",
              "    }\n",
              "\n",
              "    .dataframe thead th {\n",
              "        text-align: right;\n",
              "    }\n",
              "</style>\n",
              "<table border=\"1\" class=\"dataframe\">\n",
              "  <thead>\n",
              "    <tr style=\"text-align: right;\">\n",
              "      <th></th>\n",
              "      <th>canal</th>\n",
              "      <th>url_canal</th>\n",
              "      <th>nome_video</th>\n",
              "      <th>url_video</th>\n",
              "      <th>data_visualizacao</th>\n",
              "    </tr>\n",
              "  </thead>\n",
              "  <tbody>\n",
              "    <tr>\n",
              "      <th>0</th>\n",
              "      <td>ge</td>\n",
              "      <td>https://www.youtube.com/channel/UCgCKagVhzGnZc...</td>\n",
              "      <td>CHAPECOENSE 2 X 3 CUIABÁ | MELHORES MOMENTOS |...</td>\n",
              "      <td>https://www.youtube.com/watch?v=1QGYM5n6M6o</td>\n",
              "      <td>2021-07-18 15:29:30</td>\n",
              "    </tr>\n",
              "    <tr>\n",
              "      <th>1</th>\n",
              "      <td>ESPN Brasil</td>\n",
              "      <td>https://www.youtube.com/channel/UCw5-xj3AKqEiz...</td>\n",
              "      <td>MICHAEL FAZ GOLAÇO, DIEGO ALVES BRILHA, E FLAM...</td>\n",
              "      <td>https://www.youtube.com/watch?v=6uojvTvjhpI</td>\n",
              "      <td>2021-07-18 13:59:52</td>\n",
              "    </tr>\n",
              "    <tr>\n",
              "      <th>2</th>\n",
              "      <td>Flow Podcast</td>\n",
              "      <td>https://www.youtube.com/channel/UC4ncvgh5hFr5O...</td>\n",
              "      <td>KID BENGALA [+ EMME WHITE] - Flow Fodcast #413...</td>\n",
              "      <td>https://www.youtube.com/watch?v=OkFRJBA0iNo</td>\n",
              "      <td>2021-07-18 11:34:32</td>\n",
              "    </tr>\n",
              "    <tr>\n",
              "      <th>3</th>\n",
              "      <td>Nem, Amigos Podcast</td>\n",
              "      <td>https://www.youtube.com/channel/UCzSYennmIHNpi...</td>\n",
              "      <td>#06 -  REENCONTRO IGÃO E CARTOLOUCO (PODPAH) -...</td>\n",
              "      <td>https://www.youtube.com/watch?v=wsvuMNJA32k</td>\n",
              "      <td>2021-07-18 11:31:00</td>\n",
              "    </tr>\n",
              "    <tr>\n",
              "      <th>4</th>\n",
              "      <td>Cartoloucos</td>\n",
              "      <td>https://www.youtube.com/channel/UCfBw30ryGwSC-...</td>\n",
              "      <td>COCIELO: “YOUTUBER É TUDO INVEJOSO” - 100 PERG...</td>\n",
              "      <td>https://www.youtube.com/watch?v=u_WPKk-rPZ0</td>\n",
              "      <td>2021-07-18 11:30:55</td>\n",
              "    </tr>\n",
              "  </tbody>\n",
              "</table>\n",
              "</div>"
            ],
            "text/plain": [
              "                 canal  ...   data_visualizacao\n",
              "0                   ge  ... 2021-07-18 15:29:30\n",
              "1          ESPN Brasil  ... 2021-07-18 13:59:52\n",
              "2         Flow Podcast  ... 2021-07-18 11:34:32\n",
              "3  Nem, Amigos Podcast  ... 2021-07-18 11:31:00\n",
              "4          Cartoloucos  ... 2021-07-18 11:30:55\n",
              "\n",
              "[5 rows x 5 columns]"
            ]
          },
          "metadata": {
            "tags": []
          },
          "execution_count": 20
        }
      ]
    },
    {
      "cell_type": "code",
      "metadata": {
        "id": "2d184372"
      },
      "source": [
        ""
      ],
      "id": "2d184372",
      "execution_count": 20,
      "outputs": []
    },
    {
      "cell_type": "code",
      "metadata": {
        "id": "0ff95230"
      },
      "source": [
        "#Excluir valores nulos de registro\n",
        "#de visualização, pois eles são na maioria videos ou \n",
        "#canais que foi removido ou é privado,não conta para mim, pois não mostra nome video e nome do canal.\n",
        "youtube_dado_limpo = visualizao_youtube.dropna()"
      ],
      "id": "0ff95230",
      "execution_count": 21,
      "outputs": []
    },
    {
      "cell_type": "code",
      "metadata": {
        "id": "9a7eca18"
      },
      "source": [
        "\n"
      ],
      "id": "9a7eca18",
      "execution_count": 21,
      "outputs": []
    },
    {
      "cell_type": "code",
      "metadata": {
        "id": "adc21183",
        "colab": {
          "base_uri": "https://localhost:8080/",
          "height": 289
        },
        "outputId": "613dffe4-cc33-4d7a-ae91-7aae0fc3fac5"
      },
      "source": [
        "youtube_dado_limpo.head()"
      ],
      "id": "adc21183",
      "execution_count": 22,
      "outputs": [
        {
          "output_type": "execute_result",
          "data": {
            "text/html": [
              "<div>\n",
              "<style scoped>\n",
              "    .dataframe tbody tr th:only-of-type {\n",
              "        vertical-align: middle;\n",
              "    }\n",
              "\n",
              "    .dataframe tbody tr th {\n",
              "        vertical-align: top;\n",
              "    }\n",
              "\n",
              "    .dataframe thead th {\n",
              "        text-align: right;\n",
              "    }\n",
              "</style>\n",
              "<table border=\"1\" class=\"dataframe\">\n",
              "  <thead>\n",
              "    <tr style=\"text-align: right;\">\n",
              "      <th></th>\n",
              "      <th>canal</th>\n",
              "      <th>url_canal</th>\n",
              "      <th>nome_video</th>\n",
              "      <th>url_video</th>\n",
              "      <th>data_visualizacao</th>\n",
              "    </tr>\n",
              "  </thead>\n",
              "  <tbody>\n",
              "    <tr>\n",
              "      <th>0</th>\n",
              "      <td>ge</td>\n",
              "      <td>https://www.youtube.com/channel/UCgCKagVhzGnZc...</td>\n",
              "      <td>CHAPECOENSE 2 X 3 CUIABÁ | MELHORES MOMENTOS |...</td>\n",
              "      <td>https://www.youtube.com/watch?v=1QGYM5n6M6o</td>\n",
              "      <td>2021-07-18 15:29:30</td>\n",
              "    </tr>\n",
              "    <tr>\n",
              "      <th>1</th>\n",
              "      <td>ESPN Brasil</td>\n",
              "      <td>https://www.youtube.com/channel/UCw5-xj3AKqEiz...</td>\n",
              "      <td>MICHAEL FAZ GOLAÇO, DIEGO ALVES BRILHA, E FLAM...</td>\n",
              "      <td>https://www.youtube.com/watch?v=6uojvTvjhpI</td>\n",
              "      <td>2021-07-18 13:59:52</td>\n",
              "    </tr>\n",
              "    <tr>\n",
              "      <th>2</th>\n",
              "      <td>Flow Podcast</td>\n",
              "      <td>https://www.youtube.com/channel/UC4ncvgh5hFr5O...</td>\n",
              "      <td>KID BENGALA [+ EMME WHITE] - Flow Fodcast #413...</td>\n",
              "      <td>https://www.youtube.com/watch?v=OkFRJBA0iNo</td>\n",
              "      <td>2021-07-18 11:34:32</td>\n",
              "    </tr>\n",
              "    <tr>\n",
              "      <th>3</th>\n",
              "      <td>Nem, Amigos Podcast</td>\n",
              "      <td>https://www.youtube.com/channel/UCzSYennmIHNpi...</td>\n",
              "      <td>#06 -  REENCONTRO IGÃO E CARTOLOUCO (PODPAH) -...</td>\n",
              "      <td>https://www.youtube.com/watch?v=wsvuMNJA32k</td>\n",
              "      <td>2021-07-18 11:31:00</td>\n",
              "    </tr>\n",
              "    <tr>\n",
              "      <th>4</th>\n",
              "      <td>Cartoloucos</td>\n",
              "      <td>https://www.youtube.com/channel/UCfBw30ryGwSC-...</td>\n",
              "      <td>COCIELO: “YOUTUBER É TUDO INVEJOSO” - 100 PERG...</td>\n",
              "      <td>https://www.youtube.com/watch?v=u_WPKk-rPZ0</td>\n",
              "      <td>2021-07-18 11:30:55</td>\n",
              "    </tr>\n",
              "  </tbody>\n",
              "</table>\n",
              "</div>"
            ],
            "text/plain": [
              "                 canal  ...   data_visualizacao\n",
              "0                   ge  ... 2021-07-18 15:29:30\n",
              "1          ESPN Brasil  ... 2021-07-18 13:59:52\n",
              "2         Flow Podcast  ... 2021-07-18 11:34:32\n",
              "3  Nem, Amigos Podcast  ... 2021-07-18 11:31:00\n",
              "4          Cartoloucos  ... 2021-07-18 11:30:55\n",
              "\n",
              "[5 rows x 5 columns]"
            ]
          },
          "metadata": {
            "tags": []
          },
          "execution_count": 22
        }
      ]
    },
    {
      "cell_type": "code",
      "metadata": {
        "colab": {
          "base_uri": "https://localhost:8080/",
          "height": 938
        },
        "id": "0iV2wTgQJhjY",
        "outputId": "83492a98-f754-449d-aaa7-714519e7b2f3"
      },
      "source": [
        "# extraido ano, mes, dia e nome do dia a partir do timestamp\n",
        "youtube_dado_limpo['year'] = pd.DatetimeIndex(youtube_dado_limpo['data_visualizacao']).year\n",
        "youtube_dado_limpo['month'] = pd.DatetimeIndex(youtube_dado_limpo['data_visualizacao']).month\n",
        "youtube_dado_limpo['day'] = pd.DatetimeIndex(youtube_dado_limpo['data_visualizacao']).day\n",
        "youtube_dado_limpo['day_name'] = youtube_dado_limpo['data_visualizacao'].dt.day_name()\n",
        "youtube_dado_limpo.head()"
      ],
      "id": "0iV2wTgQJhjY",
      "execution_count": 69,
      "outputs": [
        {
          "output_type": "stream",
          "text": [
            "/usr/local/lib/python3.7/dist-packages/ipykernel_launcher.py:2: SettingWithCopyWarning: \n",
            "A value is trying to be set on a copy of a slice from a DataFrame.\n",
            "Try using .loc[row_indexer,col_indexer] = value instead\n",
            "\n",
            "See the caveats in the documentation: https://pandas.pydata.org/pandas-docs/stable/user_guide/indexing.html#returning-a-view-versus-a-copy\n",
            "  \n",
            "/usr/local/lib/python3.7/dist-packages/ipykernel_launcher.py:3: SettingWithCopyWarning: \n",
            "A value is trying to be set on a copy of a slice from a DataFrame.\n",
            "Try using .loc[row_indexer,col_indexer] = value instead\n",
            "\n",
            "See the caveats in the documentation: https://pandas.pydata.org/pandas-docs/stable/user_guide/indexing.html#returning-a-view-versus-a-copy\n",
            "  This is separate from the ipykernel package so we can avoid doing imports until\n",
            "/usr/local/lib/python3.7/dist-packages/ipykernel_launcher.py:4: SettingWithCopyWarning: \n",
            "A value is trying to be set on a copy of a slice from a DataFrame.\n",
            "Try using .loc[row_indexer,col_indexer] = value instead\n",
            "\n",
            "See the caveats in the documentation: https://pandas.pydata.org/pandas-docs/stable/user_guide/indexing.html#returning-a-view-versus-a-copy\n",
            "  after removing the cwd from sys.path.\n",
            "/usr/local/lib/python3.7/dist-packages/ipykernel_launcher.py:5: SettingWithCopyWarning: \n",
            "A value is trying to be set on a copy of a slice from a DataFrame.\n",
            "Try using .loc[row_indexer,col_indexer] = value instead\n",
            "\n",
            "See the caveats in the documentation: https://pandas.pydata.org/pandas-docs/stable/user_guide/indexing.html#returning-a-view-versus-a-copy\n",
            "  \"\"\"\n"
          ],
          "name": "stderr"
        },
        {
          "output_type": "execute_result",
          "data": {
            "text/html": [
              "<div>\n",
              "<style scoped>\n",
              "    .dataframe tbody tr th:only-of-type {\n",
              "        vertical-align: middle;\n",
              "    }\n",
              "\n",
              "    .dataframe tbody tr th {\n",
              "        vertical-align: top;\n",
              "    }\n",
              "\n",
              "    .dataframe thead th {\n",
              "        text-align: right;\n",
              "    }\n",
              "</style>\n",
              "<table border=\"1\" class=\"dataframe\">\n",
              "  <thead>\n",
              "    <tr style=\"text-align: right;\">\n",
              "      <th></th>\n",
              "      <th>canal</th>\n",
              "      <th>url_canal</th>\n",
              "      <th>nome_video</th>\n",
              "      <th>url_video</th>\n",
              "      <th>data_visualizacao</th>\n",
              "      <th>part_of_day</th>\n",
              "      <th>year</th>\n",
              "      <th>month</th>\n",
              "      <th>day</th>\n",
              "      <th>day_name</th>\n",
              "    </tr>\n",
              "  </thead>\n",
              "  <tbody>\n",
              "    <tr>\n",
              "      <th>0</th>\n",
              "      <td>ge</td>\n",
              "      <td>https://www.youtube.com/channel/UCgCKagVhzGnZc...</td>\n",
              "      <td>CHAPECOENSE 2 X 3 CUIABÁ | MELHORES MOMENTOS |...</td>\n",
              "      <td>https://www.youtube.com/watch?v=1QGYM5n6M6o</td>\n",
              "      <td>2021-07-18 15:29:30</td>\n",
              "      <td>Noon</td>\n",
              "      <td>2021</td>\n",
              "      <td>7</td>\n",
              "      <td>18</td>\n",
              "      <td>Sunday</td>\n",
              "    </tr>\n",
              "    <tr>\n",
              "      <th>1</th>\n",
              "      <td>ESPN Brasil</td>\n",
              "      <td>https://www.youtube.com/channel/UCw5-xj3AKqEiz...</td>\n",
              "      <td>MICHAEL FAZ GOLAÇO, DIEGO ALVES BRILHA, E FLAM...</td>\n",
              "      <td>https://www.youtube.com/watch?v=6uojvTvjhpI</td>\n",
              "      <td>2021-07-18 13:59:52</td>\n",
              "      <td>Noon</td>\n",
              "      <td>2021</td>\n",
              "      <td>7</td>\n",
              "      <td>18</td>\n",
              "      <td>Sunday</td>\n",
              "    </tr>\n",
              "    <tr>\n",
              "      <th>2</th>\n",
              "      <td>Flow Podcast</td>\n",
              "      <td>https://www.youtube.com/channel/UC4ncvgh5hFr5O...</td>\n",
              "      <td>KID BENGALA [+ EMME WHITE] - Flow Fodcast #413...</td>\n",
              "      <td>https://www.youtube.com/watch?v=OkFRJBA0iNo</td>\n",
              "      <td>2021-07-18 11:34:32</td>\n",
              "      <td>Morning</td>\n",
              "      <td>2021</td>\n",
              "      <td>7</td>\n",
              "      <td>18</td>\n",
              "      <td>Sunday</td>\n",
              "    </tr>\n",
              "    <tr>\n",
              "      <th>3</th>\n",
              "      <td>Nem, Amigos Podcast</td>\n",
              "      <td>https://www.youtube.com/channel/UCzSYennmIHNpi...</td>\n",
              "      <td>#06 -  REENCONTRO IGÃO E CARTOLOUCO (PODPAH) -...</td>\n",
              "      <td>https://www.youtube.com/watch?v=wsvuMNJA32k</td>\n",
              "      <td>2021-07-18 11:31:00</td>\n",
              "      <td>Morning</td>\n",
              "      <td>2021</td>\n",
              "      <td>7</td>\n",
              "      <td>18</td>\n",
              "      <td>Sunday</td>\n",
              "    </tr>\n",
              "    <tr>\n",
              "      <th>4</th>\n",
              "      <td>Cartoloucos</td>\n",
              "      <td>https://www.youtube.com/channel/UCfBw30ryGwSC-...</td>\n",
              "      <td>COCIELO: “YOUTUBER É TUDO INVEJOSO” - 100 PERG...</td>\n",
              "      <td>https://www.youtube.com/watch?v=u_WPKk-rPZ0</td>\n",
              "      <td>2021-07-18 11:30:55</td>\n",
              "      <td>Morning</td>\n",
              "      <td>2021</td>\n",
              "      <td>7</td>\n",
              "      <td>18</td>\n",
              "      <td>Sunday</td>\n",
              "    </tr>\n",
              "  </tbody>\n",
              "</table>\n",
              "</div>"
            ],
            "text/plain": [
              "                 canal  ... day_name\n",
              "0                   ge  ...   Sunday\n",
              "1          ESPN Brasil  ...   Sunday\n",
              "2         Flow Podcast  ...   Sunday\n",
              "3  Nem, Amigos Podcast  ...   Sunday\n",
              "4          Cartoloucos  ...   Sunday\n",
              "\n",
              "[5 rows x 10 columns]"
            ]
          },
          "metadata": {
            "tags": []
          },
          "execution_count": 69
        }
      ]
    },
    {
      "cell_type": "code",
      "metadata": {
        "colab": {
          "base_uri": "https://localhost:8080/"
        },
        "id": "50oEoo6LIliy",
        "outputId": "5062947e-4845-45c4-a3d5-45f3c4a56280"
      },
      "source": [
        "youtube_dado_limpo['data_visualizacao'].dt.hour"
      ],
      "id": "50oEoo6LIliy",
      "execution_count": 70,
      "outputs": [
        {
          "output_type": "execute_result",
          "data": {
            "text/plain": [
              "0       15\n",
              "1       13\n",
              "2       11\n",
              "3       11\n",
              "4       11\n",
              "        ..\n",
              "5223    12\n",
              "5225    12\n",
              "5226     0\n",
              "5227    11\n",
              "5228    11\n",
              "Name: data_visualizacao, Length: 4735, dtype: int64"
            ]
          },
          "metadata": {
            "tags": []
          },
          "execution_count": 70
        }
      ]
    },
    {
      "cell_type": "code",
      "metadata": {
        "colab": {
          "base_uri": "https://localhost:8080/"
        },
        "id": "QCAgcF-uI9xp",
        "outputId": "732c1550-9067-48f5-c94f-fc444390f31a"
      },
      "source": [
        "def get_part_of_day(x):\n",
        "    if (x > 4) and (x <= 8):\n",
        "        return 'Early Morning'\n",
        "    elif (x > 8) and (x <= 12 ):\n",
        "        return 'Morning'\n",
        "    elif (x > 12) and (x <= 16):\n",
        "        return'Noon'\n",
        "    elif (x > 16) and (x <= 20) :\n",
        "        return 'Evening'\n",
        "    elif (x > 20) and (x <= 24):\n",
        "        return'Night'\n",
        "    elif (x <= 4):\n",
        "        return'Late Night'\n",
        "\n",
        "youtube_dado_limpo['part_of_day'] = youtube_dado_limpo['data_visualizacao'].dt.hour.apply(get_part_of_day)"
      ],
      "id": "QCAgcF-uI9xp",
      "execution_count": 71,
      "outputs": [
        {
          "output_type": "stream",
          "text": [
            "/usr/local/lib/python3.7/dist-packages/ipykernel_launcher.py:15: SettingWithCopyWarning: \n",
            "A value is trying to be set on a copy of a slice from a DataFrame.\n",
            "Try using .loc[row_indexer,col_indexer] = value instead\n",
            "\n",
            "See the caveats in the documentation: https://pandas.pydata.org/pandas-docs/stable/user_guide/indexing.html#returning-a-view-versus-a-copy\n",
            "  from ipykernel import kernelapp as app\n"
          ],
          "name": "stderr"
        }
      ]
    },
    {
      "cell_type": "code",
      "metadata": {
        "colab": {
          "base_uri": "https://localhost:8080/",
          "height": 615
        },
        "id": "tLuGF7DGJLHA",
        "outputId": "aff4c681-5135-4018-8790-0a48bb510fc5"
      },
      "source": [
        "month = {\t\n",
        "    1:'January',\n",
        "\t\t2:'February',\n",
        "\t\t3:'March',\n",
        "\t\t4:'April',\n",
        "\t\t5:'May',\n",
        "\t\t6:'June',\n",
        "\t\t7:'July',\n",
        "\t\t8:'August',\n",
        "\t\t9:'September',\n",
        "\t\t10:'October',\n",
        "\t\t11:'November',\n",
        "\t\t12:'December'\t\t\n",
        "}\n",
        "\n",
        "youtube_dado_limpo[\"month\"].replace(month, inplace=True)\n",
        "youtube_dado_limpo.head()"
      ],
      "id": "tLuGF7DGJLHA",
      "execution_count": 72,
      "outputs": [
        {
          "output_type": "stream",
          "text": [
            "/usr/local/lib/python3.7/dist-packages/pandas/core/series.py:4582: SettingWithCopyWarning: \n",
            "A value is trying to be set on a copy of a slice from a DataFrame\n",
            "\n",
            "See the caveats in the documentation: https://pandas.pydata.org/pandas-docs/stable/user_guide/indexing.html#returning-a-view-versus-a-copy\n",
            "  method=method,\n"
          ],
          "name": "stderr"
        },
        {
          "output_type": "execute_result",
          "data": {
            "text/html": [
              "<div>\n",
              "<style scoped>\n",
              "    .dataframe tbody tr th:only-of-type {\n",
              "        vertical-align: middle;\n",
              "    }\n",
              "\n",
              "    .dataframe tbody tr th {\n",
              "        vertical-align: top;\n",
              "    }\n",
              "\n",
              "    .dataframe thead th {\n",
              "        text-align: right;\n",
              "    }\n",
              "</style>\n",
              "<table border=\"1\" class=\"dataframe\">\n",
              "  <thead>\n",
              "    <tr style=\"text-align: right;\">\n",
              "      <th></th>\n",
              "      <th>canal</th>\n",
              "      <th>url_canal</th>\n",
              "      <th>nome_video</th>\n",
              "      <th>url_video</th>\n",
              "      <th>data_visualizacao</th>\n",
              "      <th>part_of_day</th>\n",
              "      <th>year</th>\n",
              "      <th>month</th>\n",
              "      <th>day</th>\n",
              "      <th>day_name</th>\n",
              "    </tr>\n",
              "  </thead>\n",
              "  <tbody>\n",
              "    <tr>\n",
              "      <th>0</th>\n",
              "      <td>ge</td>\n",
              "      <td>https://www.youtube.com/channel/UCgCKagVhzGnZc...</td>\n",
              "      <td>CHAPECOENSE 2 X 3 CUIABÁ | MELHORES MOMENTOS |...</td>\n",
              "      <td>https://www.youtube.com/watch?v=1QGYM5n6M6o</td>\n",
              "      <td>2021-07-18 15:29:30</td>\n",
              "      <td>Noon</td>\n",
              "      <td>2021</td>\n",
              "      <td>July</td>\n",
              "      <td>18</td>\n",
              "      <td>Sunday</td>\n",
              "    </tr>\n",
              "    <tr>\n",
              "      <th>1</th>\n",
              "      <td>ESPN Brasil</td>\n",
              "      <td>https://www.youtube.com/channel/UCw5-xj3AKqEiz...</td>\n",
              "      <td>MICHAEL FAZ GOLAÇO, DIEGO ALVES BRILHA, E FLAM...</td>\n",
              "      <td>https://www.youtube.com/watch?v=6uojvTvjhpI</td>\n",
              "      <td>2021-07-18 13:59:52</td>\n",
              "      <td>Noon</td>\n",
              "      <td>2021</td>\n",
              "      <td>July</td>\n",
              "      <td>18</td>\n",
              "      <td>Sunday</td>\n",
              "    </tr>\n",
              "    <tr>\n",
              "      <th>2</th>\n",
              "      <td>Flow Podcast</td>\n",
              "      <td>https://www.youtube.com/channel/UC4ncvgh5hFr5O...</td>\n",
              "      <td>KID BENGALA [+ EMME WHITE] - Flow Fodcast #413...</td>\n",
              "      <td>https://www.youtube.com/watch?v=OkFRJBA0iNo</td>\n",
              "      <td>2021-07-18 11:34:32</td>\n",
              "      <td>Morning</td>\n",
              "      <td>2021</td>\n",
              "      <td>July</td>\n",
              "      <td>18</td>\n",
              "      <td>Sunday</td>\n",
              "    </tr>\n",
              "    <tr>\n",
              "      <th>3</th>\n",
              "      <td>Nem, Amigos Podcast</td>\n",
              "      <td>https://www.youtube.com/channel/UCzSYennmIHNpi...</td>\n",
              "      <td>#06 -  REENCONTRO IGÃO E CARTOLOUCO (PODPAH) -...</td>\n",
              "      <td>https://www.youtube.com/watch?v=wsvuMNJA32k</td>\n",
              "      <td>2021-07-18 11:31:00</td>\n",
              "      <td>Morning</td>\n",
              "      <td>2021</td>\n",
              "      <td>July</td>\n",
              "      <td>18</td>\n",
              "      <td>Sunday</td>\n",
              "    </tr>\n",
              "    <tr>\n",
              "      <th>4</th>\n",
              "      <td>Cartoloucos</td>\n",
              "      <td>https://www.youtube.com/channel/UCfBw30ryGwSC-...</td>\n",
              "      <td>COCIELO: “YOUTUBER É TUDO INVEJOSO” - 100 PERG...</td>\n",
              "      <td>https://www.youtube.com/watch?v=u_WPKk-rPZ0</td>\n",
              "      <td>2021-07-18 11:30:55</td>\n",
              "      <td>Morning</td>\n",
              "      <td>2021</td>\n",
              "      <td>July</td>\n",
              "      <td>18</td>\n",
              "      <td>Sunday</td>\n",
              "    </tr>\n",
              "  </tbody>\n",
              "</table>\n",
              "</div>"
            ],
            "text/plain": [
              "                 canal  ... day_name\n",
              "0                   ge  ...   Sunday\n",
              "1          ESPN Brasil  ...   Sunday\n",
              "2         Flow Podcast  ...   Sunday\n",
              "3  Nem, Amigos Podcast  ...   Sunday\n",
              "4          Cartoloucos  ...   Sunday\n",
              "\n",
              "[5 rows x 10 columns]"
            ]
          },
          "metadata": {
            "tags": []
          },
          "execution_count": 72
        }
      ]
    },
    {
      "cell_type": "code",
      "metadata": {
        "id": "d2563116"
      },
      "source": [
        "#salavando dados como csv para usar no tableau\n",
        "youtube_dado_limpo.to_csv('/content/drive/MyDrive/Projeto Final/Arquivos CSV/VisualizacaoYT.csv',index = False)\n"
      ],
      "id": "d2563116",
      "execution_count": 73,
      "outputs": []
    }
  ]
}