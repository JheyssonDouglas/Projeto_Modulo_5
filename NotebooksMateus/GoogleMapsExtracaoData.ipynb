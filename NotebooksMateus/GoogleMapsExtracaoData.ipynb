{
 "cells": [
  {
   "cell_type": "markdown",
   "metadata": {
    "id": "rChFoVZ_A6P5"
   },
   "source": [
    "## Coleta e Análise Exploratória  dos dados do google maps.\n",
    " * Perfil **Mateus**\n",
    "\n",
    "\n",
    "\n"
   ]
  },
  {
   "cell_type": "markdown",
   "metadata": {
    "id": "rjI9J3F0DG0X"
   },
   "source": [
    "### Bibliotecas utilizadas:\n",
    "  * Pandas\n",
    "  * Matplotlib\n",
    "  * Seaborn\n",
    "  * Json : leitura arquivo com extensão __.JSON__\n",
    "  * Numpy\n",
    "> ___Bibliotecas:___"
   ]
  },
  {
   "cell_type": "code",
   "execution_count": 37,
   "metadata": {
    "executionInfo": {
     "elapsed": 216,
     "status": "ok",
     "timestamp": 1627142519272,
     "user": {
      "displayName": "Mateus Varelo",
      "photoUrl": "https://lh3.googleusercontent.com/a-/AOh14Gg73LYxIEbDHChnMebSrZ-v0SG3yQkkQ5nkmXD3x6k=s64",
      "userId": "15384696535292950454"
     },
     "user_tz": 180
    },
    "id": "8kzAQKofCunZ"
   },
   "outputs": [],
   "source": [
    "import pandas as pd\n",
    "import seaborn as sns\n",
    "import matplotlib.pyplot as plt\n",
    "import json\n",
    "import numpy as np\n",
    "from datetime import datetime"
   ]
  },
  {
   "cell_type": "markdown",
   "metadata": {
    "id": "rtV1lfDDCAlJ"
   },
   "source": [
    "### Local padrão de dados do meu drive."
   ]
  },
  {
   "cell_type": "code",
   "execution_count": 38,
   "metadata": {
    "executionInfo": {
     "elapsed": 400,
     "status": "ok",
     "timestamp": 1627142519903,
     "user": {
      "displayName": "Mateus Varelo",
      "photoUrl": "https://lh3.googleusercontent.com/a-/AOh14Gg73LYxIEbDHChnMebSrZ-v0SG3yQkkQ5nkmXD3x6k=s64",
      "userId": "15384696535292950454"
     },
     "user_tz": 180
    },
    "id": "T7F0RlVwryxN"
   },
   "outputs": [],
   "source": [
    "file_path = '/content/drive/MyDrive/Projeto-Final/Data_Mateus/google_maps/location_stories'"
   ]
  },
  {
   "cell_type": "markdown",
   "metadata": {
    "id": "8bZG6UBzC9o7"
   },
   "source": [
    "Lista de nomes de arquivos no meu drive com dados de localização."
   ]
  },
  {
   "cell_type": "code",
   "execution_count": 39,
   "metadata": {
    "executionInfo": {
     "elapsed": 22,
     "status": "ok",
     "timestamp": 1627142519904,
     "user": {
      "displayName": "Mateus Varelo",
      "photoUrl": "https://lh3.googleusercontent.com/a-/AOh14Gg73LYxIEbDHChnMebSrZ-v0SG3yQkkQ5nkmXD3x6k=s64",
      "userId": "15384696535292950454"
     },
     "user_tz": 180
    },
    "id": "4aA9Tmjcq3mE"
   },
   "outputs": [],
   "source": [
    "lista_names_files = [ \n",
    "                      '2017_APRIL.json', \n",
    "                      '2017_AUGUST.json', \n",
    "                      '2017_DECEMBER.json', \n",
    "                      '2017_FEBRUARY.json', \n",
    "                      '2017_JANUARY.json', \n",
    "                      '2017_JULY.json', \n",
    "                      '2017_JUNE.json', \n",
    "                      '2017_MARCH.json', \n",
    "                      '2017_MAY.json', \n",
    "                      '2017_NOVEMBER.json', \n",
    "                      '2017_OCTOBER.json', \n",
    "                      '2017_SEPTEMBER.json', \n",
    "                      '2018_DECEMBER.json', \n",
    "                      '2018_FEBRUARY.json', \n",
    "                      '2018_JANUARY.json', \n",
    "                      '2018_JUNE.json', \n",
    "                      '2018_MARCH.json',\n",
    "                      '2019_APRIL.json',\n",
    "                      '2019_AUGUST.json',\n",
    "                      '2019_DECEMBER.json',\n",
    "                      '2019_FEBRUARY.json',\n",
    "                      '2019_JANUARY.json', \n",
    "                      '2019_JULY.json', \n",
    "                      '2019_JUNE.json', \n",
    "                      '2019_MARCH.json',\n",
    "                      '2019_MAY.json',\n",
    "                      '2019_NOVEMBER.json', \n",
    "                      '2019_OCTOBER.json', \n",
    "                      '2019_SEPTEMBER.json',\n",
    "                      '2020_APRIL.json',\n",
    "                      '2020_AUGUST.json',\n",
    "                      '2020_DECEMBER.json', \n",
    "                      '2020_JULY.json', \n",
    "                      '2020_JUNE.json',\n",
    "                      '2020_MARCH.json', \n",
    "                      '2020_MAY.json', \n",
    "                      '2020_NOVEMBER.json',\n",
    "                      '2020_OCTOBER.json',\n",
    "                      '2020_SEPTEMBER.json',\n",
    "                      '2021_APRIL.json', \n",
    "                      '2021_FEBRUARY.json',\n",
    "                      '2021_JANUARY.json', \n",
    "                      '2021_JULY.json', \n",
    "                      '2021_JUNE.json', \n",
    "                      '2021_MARCH.json',\n",
    "                      '2021_MAY.json'\n",
    "]\n",
    "file_size = len(lista_names_files)"
   ]
  },
  {
   "cell_type": "code",
   "execution_count": 40,
   "metadata": {
    "executionInfo": {
     "elapsed": 23,
     "status": "ok",
     "timestamp": 1627142519906,
     "user": {
      "displayName": "Mateus Varelo",
      "photoUrl": "https://lh3.googleusercontent.com/a-/AOh14Gg73LYxIEbDHChnMebSrZ-v0SG3yQkkQ5nkmXD3x6k=s64",
      "userId": "15384696535292950454"
     },
     "user_tz": 180
    },
    "id": "kYc3mrnxdJpC"
   },
   "outputs": [],
   "source": [
    "#Criação de uma dicionario para guardar valores de cada registro presente no arquivo json.\n",
    "def cria_dicionario_mapeado():\n",
    "      data_mapeado = {\n",
    "                      'Tipo_Deslocamento':[],\n",
    "                      'Distancia': [],\n",
    "                      'Hora_Fim_Rota': [],\n",
    "                      'Latitude_Fim': [],\n",
    "                      'Longitude_Fim': [],\n",
    "                      'Hora_Inicio': [],\n",
    "                      'Latitude_Inicio': [],\n",
    "                      'Longitude_Inicio': []\n",
    "    } \n",
    "      return data_mapeado"
   ]
  },
  {
   "cell_type": "code",
   "execution_count": 41,
   "metadata": {
    "executionInfo": {
     "elapsed": 23,
     "status": "ok",
     "timestamp": 1627142519908,
     "user": {
      "displayName": "Mateus Varelo",
      "photoUrl": "https://lh3.googleusercontent.com/a-/AOh14Gg73LYxIEbDHChnMebSrZ-v0SG3yQkkQ5nkmXD3x6k=s64",
      "userId": "15384696535292950454"
     },
     "user_tz": 180
    },
    "id": "xpDKezn1SY_D"
   },
   "outputs": [],
   "source": [
    "def open_arquivo_json(json_file):\n",
    "     with open(json_file) as file:  \n",
    "        data_story_location = json.load(file)\n",
    "     file.close()\n",
    "     return data_story_location"
   ]
  },
  {
   "cell_type": "code",
   "execution_count": null,
   "metadata": {},
   "outputs": [],
   "source": [
    "def add_ponto_na_latitude_longitude(x):\n",
    "  try:\n",
    "      x = list(str(x))\n",
    "      x.insert(3,'.')\n",
    "      return ''.join(x)\n",
    "  except:\n",
    "      return x  "
   ]
  },
  {
   "cell_type": "markdown",
   "metadata": {
    "id": "esPYJOE11xOj"
   },
   "source": []
  },
  {
   "cell_type": "code",
   "execution_count": 42,
   "metadata": {
    "executionInfo": {
     "elapsed": 24,
     "status": "ok",
     "timestamp": 1627142519910,
     "user": {
      "displayName": "Mateus Varelo",
      "photoUrl": "https://lh3.googleusercontent.com/a-/AOh14Gg73LYxIEbDHChnMebSrZ-v0SG3yQkkQ5nkmXD3x6k=s64",
      "userId": "15384696535292950454"
     },
     "user_tz": 180
    },
    "id": "p4jatjh7cBVK"
   },
   "outputs": [],
   "source": [
    "def clear_data(location_json,data_deslocamento):\n",
    "   for i,regi in enumerate(location_json['timelineObjects']):\n",
    "   \n",
    "     if 'activitySegment' in location_json['timelineObjects'][i].keys():\n",
    "        if ('activityType' in  location_json['timelineObjects'][i]['activitySegment'].keys()):\n",
    "            data_deslocamento['Tipo_Deslocamento'].append(location_json['timelineObjects'][i]['activitySegment']['activityType'])\n",
    "        else:\n",
    "            data_deslocamento['Tipo_Deslocamento'].append(np.NaN)\n",
    "\n",
    "        if ('distance' in location_json['timelineObjects'][i]['activitySegment'].keys()):\n",
    "            data_deslocamento['Distancia'].append(location_json['timelineObjects'][i]['activitySegment']['distance'])\n",
    "        else:\n",
    "            data_deslocamento['Distancia'].append(0)\n",
    "        \n",
    "        if ('duration' in location_json['timelineObjects'][i]['activitySegment'].keys()):\n",
    "            data_deslocamento['Hora_Fim_Rota'].append(location_json['timelineObjects'][i]['activitySegment']['duration']['endTimestampMs'])\n",
    "        else:\n",
    "            data_deslocamento['Hora_Fim_Rota'].append(np.NaN)\n",
    "        \n",
    "        if ('endLocation' in location_json['timelineObjects'][i]['activitySegment'].keys()):\n",
    "            data_deslocamento['Latitude_Fim'].append(location_json['timelineObjects'][i]['activitySegment']['endLocation']['latitudeE7'])\n",
    "            data_deslocamento['Longitude_Fim'].append(location_json['timelineObjects'][i]['activitySegment']['endLocation']['longitudeE7'])\n",
    "        else:\n",
    "            data_deslocamento['Latitude_Fim'].append(np.NaN)\n",
    "            data_deslocamento['Longitude_Fim'].append(np.NaN)\n",
    "        \n",
    "        if ('startTimestampMs' in location_json['timelineObjects'][i]['activitySegment']['duration'].keys()): \n",
    "            data_deslocamento['Hora_Inicio'].append(location_json['timelineObjects'][i]['activitySegment']['duration']['startTimestampMs'])\n",
    "        else:\n",
    "            data_deslocamento['Hora_Inicio'].append(np.NaN)\n",
    "       \n",
    "        if ('startLocation' in location_json['timelineObjects'][i]['activitySegment'].keys()):\n",
    "            data_deslocamento['Latitude_Inicio'].append(location_json['timelineObjects'][i]['activitySegment'][ 'startLocation']['latitudeE7'])\n",
    "            data_deslocamento['Longitude_Inicio'].append(location_json['timelineObjects'][i]['activitySegment'][ 'startLocation']['longitudeE7'])\n",
    "        else:\n",
    "            data_deslocamento['Latitude_Inicio'].append(np.NaN)\n",
    "            data_deslocamento['Longitude_Inicio'].append(np.NaN)\n",
    "   return data_deslocamento         \n"
   ]
  },
  {
   "cell_type": "markdown",
   "metadata": {
    "id": "pKBzYDRoCaHG"
   },
   "source": []
  },
  {
   "cell_type": "code",
   "execution_count": 43,
   "metadata": {
    "colab": {
     "base_uri": "https://localhost:8080/"
    },
    "executionInfo": {
     "elapsed": 1139,
     "status": "ok",
     "timestamp": 1627142521027,
     "user": {
      "displayName": "Mateus Varelo",
      "photoUrl": "https://lh3.googleusercontent.com/a-/AOh14Gg73LYxIEbDHChnMebSrZ-v0SG3yQkkQ5nkmXD3x6k=s64",
      "userId": "15384696535292950454"
     },
     "user_tz": 180
    },
    "id": "M5t5958ZxqQZ",
    "outputId": "9b3fa270-c291-4a58-ab6f-174f90647bb9"
   },
   "outputs": [
    {
     "name": "stdout",
     "output_type": "stream",
     "text": [
      "CPU times: user 934 ms, sys: 53 ms, total: 987 ms\n",
      "Wall time: 1.1 s\n"
     ]
    }
   ],
   "source": [
    "#leitura um a um dos arquivos\n",
    "\n",
    "cont = 0\n",
    "nome_ar = ''\n",
    "lista_dataframe = []\n",
    "while cont < file_size:\n",
    "   dicionario = cria_dicionario_mapeado()\n",
    "   nome_ar =f'{file_path}/{lista_names_files[cont]}'\n",
    "   data_story_location = open_arquivo_json(nome_ar)\n",
    "\n",
    "   lista_dataframe.append(pd.DataFrame(clear_data(data_story_location,dicionario)))\n",
    "   \n",
    "   cont+=1\n",
    "   "
   ]
  },
  {
   "cell_type": "code",
   "execution_count": 44,
   "metadata": {
    "executionInfo": {
     "elapsed": 30,
     "status": "ok",
     "timestamp": 1627142521035,
     "user": {
      "displayName": "Mateus Varelo",
      "photoUrl": "https://lh3.googleusercontent.com/a-/AOh14Gg73LYxIEbDHChnMebSrZ-v0SG3yQkkQ5nkmXD3x6k=s64",
      "userId": "15384696535292950454"
     },
     "user_tz": 180
    },
    "id": "hmrQdfg6T55o"
   },
   "outputs": [],
   "source": [
    "stories_location = pd.concat(lista_dataframe,ignore_index=True)"
   ]
  },
  {
   "cell_type": "code",
   "execution_count": 45,
   "metadata": {
    "colab": {
     "base_uri": "https://localhost:8080/"
    },
    "executionInfo": {
     "elapsed": 27,
     "status": "ok",
     "timestamp": 1627142521037,
     "user": {
      "displayName": "Mateus Varelo",
      "photoUrl": "https://lh3.googleusercontent.com/a-/AOh14Gg73LYxIEbDHChnMebSrZ-v0SG3yQkkQ5nkmXD3x6k=s64",
      "userId": "15384696535292950454"
     },
     "user_tz": 180
    },
    "id": "nJs0nmSgbI0D",
    "outputId": "b4f1de8b-885a-4a43-fe81-4fbe4659aa35"
   },
   "outputs": [
    {
     "name": "stdout",
     "output_type": "stream",
     "text": [
      "<class 'pandas.core.frame.DataFrame'>\n",
      "RangeIndex: 8839 entries, 0 to 8838\n",
      "Data columns (total 8 columns):\n",
      " #   Column             Non-Null Count  Dtype  \n",
      "---  ------             --------------  -----  \n",
      " 0   Tipo_Deslocamento  8839 non-null   object \n",
      " 1   Distancia_km/h     8839 non-null   float64\n",
      " 2   Hora_Fim_Rota      8839 non-null   object \n",
      " 3   Latitude_Fim       8839 non-null   float64\n",
      " 4   Longitude_Fim      8839 non-null   float64\n",
      " 5   Hora_Inicio        8839 non-null   object \n",
      " 6   Latitude_Inicio    8839 non-null   float64\n",
      " 7   Longitude_Inicio   8839 non-null   float64\n",
      "dtypes: float64(5), object(3)\n",
      "memory usage: 552.6+ KB\n"
     ]
    }
   ],
   "source": [
    "stories_location.info()"
   ]
  },
  {
   "cell_type": "code",
   "execution_count": 46,
   "metadata": {
    "colab": {
     "base_uri": "https://localhost:8080/",
     "height": 359
    },
    "executionInfo": {
     "elapsed": 624,
     "status": "ok",
     "timestamp": 1627142521640,
     "user": {
      "displayName": "Mateus Varelo",
      "photoUrl": "https://lh3.googleusercontent.com/a-/AOh14Gg73LYxIEbDHChnMebSrZ-v0SG3yQkkQ5nkmXD3x6k=s64",
      "userId": "15384696535292950454"
     },
     "user_tz": 180
    },
    "id": "PmF-NbaqcdMs",
    "outputId": "5554780b-ffff-46e2-edfe-6b5fe59a0b14"
   },
   "outputs": [
    {
     "data": {
      "text/html": [
       "<div>\n",
       "<style scoped>\n",
       "    .dataframe tbody tr th:only-of-type {\n",
       "        vertical-align: middle;\n",
       "    }\n",
       "\n",
       "    .dataframe tbody tr th {\n",
       "        vertical-align: top;\n",
       "    }\n",
       "\n",
       "    .dataframe thead th {\n",
       "        text-align: right;\n",
       "    }\n",
       "</style>\n",
       "<table border=\"1\" class=\"dataframe\">\n",
       "  <thead>\n",
       "    <tr style=\"text-align: right;\">\n",
       "      <th></th>\n",
       "      <th>Tipo_Deslocamento</th>\n",
       "      <th>Distancia_km/h</th>\n",
       "      <th>Hora_Fim_Rota</th>\n",
       "      <th>Latitude_Fim</th>\n",
       "      <th>Longitude_Fim</th>\n",
       "      <th>Hora_Inicio</th>\n",
       "      <th>Latitude_Inicio</th>\n",
       "      <th>Longitude_Inicio</th>\n",
       "    </tr>\n",
       "  </thead>\n",
       "  <tbody>\n",
       "    <tr>\n",
       "      <th>8829</th>\n",
       "      <td>MOTORCYCLING</td>\n",
       "      <td>1414.0</td>\n",
       "      <td>1622491450977</td>\n",
       "      <td>-229114532.0</td>\n",
       "      <td>-431868426.0</td>\n",
       "      <td>1622491217000</td>\n",
       "      <td>-229152718.0</td>\n",
       "      <td>-431996598.0</td>\n",
       "    </tr>\n",
       "    <tr>\n",
       "      <th>8830</th>\n",
       "      <td>MOTORCYCLING</td>\n",
       "      <td>5206.0</td>\n",
       "      <td>1622495720226</td>\n",
       "      <td>-229396055.0</td>\n",
       "      <td>-431768497.0</td>\n",
       "      <td>1622494864000</td>\n",
       "      <td>-229123814.0</td>\n",
       "      <td>-431863739.0</td>\n",
       "    </tr>\n",
       "    <tr>\n",
       "      <th>8831</th>\n",
       "      <td>MOTORCYCLING</td>\n",
       "      <td>690.0</td>\n",
       "      <td>1622496202000</td>\n",
       "      <td>-229387673.0</td>\n",
       "      <td>-431779626.0</td>\n",
       "      <td>1622496095616</td>\n",
       "      <td>-229388805.0</td>\n",
       "      <td>-431765226.0</td>\n",
       "    </tr>\n",
       "    <tr>\n",
       "      <th>8832</th>\n",
       "      <td>MOTORCYCLING</td>\n",
       "      <td>1033.0</td>\n",
       "      <td>1622496677292</td>\n",
       "      <td>-229389456.0</td>\n",
       "      <td>-431752516.0</td>\n",
       "      <td>1622496541000</td>\n",
       "      <td>-229394946.0</td>\n",
       "      <td>-431783498.0</td>\n",
       "    </tr>\n",
       "    <tr>\n",
       "      <th>8833</th>\n",
       "      <td>MOTORCYCLING</td>\n",
       "      <td>6072.0</td>\n",
       "      <td>1622499039190</td>\n",
       "      <td>-229773564.0</td>\n",
       "      <td>-431969544.0</td>\n",
       "      <td>1622498279011</td>\n",
       "      <td>-229403920.0</td>\n",
       "      <td>-431762019.0</td>\n",
       "    </tr>\n",
       "    <tr>\n",
       "      <th>8834</th>\n",
       "      <td>MOTORCYCLING</td>\n",
       "      <td>1770.0</td>\n",
       "      <td>1622501040000</td>\n",
       "      <td>-229689262.0</td>\n",
       "      <td>-431845638.0</td>\n",
       "      <td>1622500616000</td>\n",
       "      <td>-229767067.0</td>\n",
       "      <td>-431959240.0</td>\n",
       "    </tr>\n",
       "    <tr>\n",
       "      <th>8835</th>\n",
       "      <td>MOTORCYCLING</td>\n",
       "      <td>531.0</td>\n",
       "      <td>1622501573093</td>\n",
       "      <td>-229717182.0</td>\n",
       "      <td>-431896827.0</td>\n",
       "      <td>1622501439000</td>\n",
       "      <td>-229705690.0</td>\n",
       "      <td>-431846406.0</td>\n",
       "    </tr>\n",
       "    <tr>\n",
       "      <th>8836</th>\n",
       "      <td>MOTORCYCLING</td>\n",
       "      <td>896.0</td>\n",
       "      <td>1622502082259</td>\n",
       "      <td>-229683630.0</td>\n",
       "      <td>-431834343.0</td>\n",
       "      <td>1622501872000</td>\n",
       "      <td>-229706642.0</td>\n",
       "      <td>-431899794.0</td>\n",
       "    </tr>\n",
       "    <tr>\n",
       "      <th>8837</th>\n",
       "      <td>MOTORCYCLING</td>\n",
       "      <td>1952.0</td>\n",
       "      <td>1622502725000</td>\n",
       "      <td>-229566615.0</td>\n",
       "      <td>-431763196.0</td>\n",
       "      <td>1622502440329</td>\n",
       "      <td>-229683351.0</td>\n",
       "      <td>-431834198.0</td>\n",
       "    </tr>\n",
       "    <tr>\n",
       "      <th>8838</th>\n",
       "      <td>MOTORCYCLING</td>\n",
       "      <td>5080.0</td>\n",
       "      <td>1622506233229</td>\n",
       "      <td>-229197993.0</td>\n",
       "      <td>-431796475.0</td>\n",
       "      <td>1622505567000</td>\n",
       "      <td>-229567105.0</td>\n",
       "      <td>-431761540.0</td>\n",
       "    </tr>\n",
       "  </tbody>\n",
       "</table>\n",
       "</div>"
      ],
      "text/plain": [
       "     Tipo_Deslocamento  Distancia_km/h  ... Latitude_Inicio  Longitude_Inicio\n",
       "8829      MOTORCYCLING          1414.0  ...    -229152718.0      -431996598.0\n",
       "8830      MOTORCYCLING          5206.0  ...    -229123814.0      -431863739.0\n",
       "8831      MOTORCYCLING           690.0  ...    -229388805.0      -431765226.0\n",
       "8832      MOTORCYCLING          1033.0  ...    -229394946.0      -431783498.0\n",
       "8833      MOTORCYCLING          6072.0  ...    -229403920.0      -431762019.0\n",
       "8834      MOTORCYCLING          1770.0  ...    -229767067.0      -431959240.0\n",
       "8835      MOTORCYCLING           531.0  ...    -229705690.0      -431846406.0\n",
       "8836      MOTORCYCLING           896.0  ...    -229706642.0      -431899794.0\n",
       "8837      MOTORCYCLING          1952.0  ...    -229683351.0      -431834198.0\n",
       "8838      MOTORCYCLING          5080.0  ...    -229567105.0      -431761540.0\n",
       "\n",
       "[10 rows x 8 columns]"
      ]
     },
     "execution_count": 46,
     "metadata": {
      "tags": []
     },
     "output_type": "execute_result"
    }
   ],
   "source": [
    "stories_location.tail(10)"
   ]
  },
  {
   "cell_type": "code",
   "execution_count": 47,
   "metadata": {
    "colab": {
     "base_uri": "https://localhost:8080/"
    },
    "executionInfo": {
     "elapsed": 96,
     "status": "ok",
     "timestamp": 1627142521642,
     "user": {
      "displayName": "Mateus Varelo",
      "photoUrl": "https://lh3.googleusercontent.com/a-/AOh14Gg73LYxIEbDHChnMebSrZ-v0SG3yQkkQ5nkmXD3x6k=s64",
      "userId": "15384696535292950454"
     },
     "user_tz": 180
    },
    "id": "x3hvEhkzc2w_",
    "outputId": "ec5068cf-e571-44be-a6c7-78e01a3f3f3a"
   },
   "outputs": [
    {
     "data": {
      "text/plain": [
       "False"
      ]
     },
     "execution_count": 47,
     "metadata": {
      "tags": []
     },
     "output_type": "execute_result"
    }
   ],
   "source": [
    "#vericando se á dado duplicado\n",
    "any(stories_location.duplicated())\n",
    "  "
   ]
  },
  {
   "cell_type": "code",
   "execution_count": 48,
   "metadata": {
    "colab": {
     "base_uri": "https://localhost:8080/"
    },
    "executionInfo": {
     "elapsed": 85,
     "status": "ok",
     "timestamp": 1627142521643,
     "user": {
      "displayName": "Mateus Varelo",
      "photoUrl": "https://lh3.googleusercontent.com/a-/AOh14Gg73LYxIEbDHChnMebSrZ-v0SG3yQkkQ5nkmXD3x6k=s64",
      "userId": "15384696535292950454"
     },
     "user_tz": 180
    },
    "id": "_NuMU8SgkNZ4",
    "outputId": "d683f233-793a-4e4d-d5c3-0eaf2cf304c8"
   },
   "outputs": [
    {
     "name": "stdout",
     "output_type": "stream",
     "text": [
      "<class 'pandas.core.frame.DataFrame'>\n",
      "RangeIndex: 8839 entries, 0 to 8838\n",
      "Data columns (total 8 columns):\n",
      " #   Column             Non-Null Count  Dtype  \n",
      "---  ------             --------------  -----  \n",
      " 0   Tipo_Deslocamento  8839 non-null   object \n",
      " 1   Distancia_km/h     8839 non-null   float64\n",
      " 2   Hora_Fim_Rota      8839 non-null   object \n",
      " 3   Latitude_Fim       8839 non-null   float64\n",
      " 4   Longitude_Fim      8839 non-null   float64\n",
      " 5   Hora_Inicio        8839 non-null   object \n",
      " 6   Latitude_Inicio    8839 non-null   float64\n",
      " 7   Longitude_Inicio   8839 non-null   float64\n",
      "dtypes: float64(5), object(3)\n",
      "memory usage: 552.6+ KB\n"
     ]
    }
   ],
   "source": [
    "stories_location.info()"
   ]
  },
  {
   "cell_type": "code",
   "execution_count": 49,
   "metadata": {
    "executionInfo": {
     "elapsed": 81,
     "status": "ok",
     "timestamp": 1627142521645,
     "user": {
      "displayName": "Mateus Varelo",
      "photoUrl": "https://lh3.googleusercontent.com/a-/AOh14Gg73LYxIEbDHChnMebSrZ-v0SG3yQkkQ5nkmXD3x6k=s64",
      "userId": "15384696535292950454"
     },
     "user_tz": 180
    },
    "id": "zCnlCHOopeEW"
   },
   "outputs": [],
   "source": [
    "#Convertendo timestamp para tipo inteiro\n",
    "stories_location['Hora_Fim_Rota'] = stories_location['Hora_Fim_Rota'].astype('int64')"
   ]
  },
  {
   "cell_type": "code",
   "execution_count": 50,
   "metadata": {
    "executionInfo": {
     "elapsed": 82,
     "status": "ok",
     "timestamp": 1627142521647,
     "user": {
      "displayName": "Mateus Varelo",
      "photoUrl": "https://lh3.googleusercontent.com/a-/AOh14Gg73LYxIEbDHChnMebSrZ-v0SG3yQkkQ5nkmXD3x6k=s64",
      "userId": "15384696535292950454"
     },
     "user_tz": 180
    },
    "id": "cAkwyx51puV3"
   },
   "outputs": [],
   "source": [
    "#Convertendo timestamp para tipo inteiro\n",
    "stories_location['Hora_Inicio'] = stories_location['Hora_Inicio'].astype('int64')"
   ]
  },
  {
   "cell_type": "code",
   "execution_count": 51,
   "metadata": {
    "executionInfo": {
     "elapsed": 81,
     "status": "ok",
     "timestamp": 1627142521648,
     "user": {
      "displayName": "Mateus Varelo",
      "photoUrl": "https://lh3.googleusercontent.com/a-/AOh14Gg73LYxIEbDHChnMebSrZ-v0SG3yQkkQ5nkmXD3x6k=s64",
      "userId": "15384696535292950454"
     },
     "user_tz": 180
    },
    "id": "FtmK7fXLhKjh"
   },
   "outputs": [],
   "source": [
    "#Convertendo para datatime\n",
    "stories_location['Hora_Fim_Rota'] = pd.to_datetime(stories_location['Hora_Fim_Rota'],unit = 'ms')\n",
    "stories_location['Hora_Inicio'] = pd.to_datetime(stories_location['Hora_Inicio'],unit = 'ms')"
   ]
  },
  {
   "cell_type": "code",
   "execution_count": 52,
   "metadata": {
    "executionInfo": {
     "elapsed": 82,
     "status": "ok",
     "timestamp": 1627142521650,
     "user": {
      "displayName": "Mateus Varelo",
      "photoUrl": "https://lh3.googleusercontent.com/a-/AOh14Gg73LYxIEbDHChnMebSrZ-v0SG3yQkkQ5nkmXD3x6k=s64",
      "userId": "15384696535292950454"
     },
     "user_tz": 180
    },
    "id": "b0T8FCLu50R1"
   },
   "outputs": [],
   "source": [
    "#convertendo coluna latitude e longitude de inicios para inteiro\n",
    "stories_location['Latitude_Inicio'] = stories_location['Latitude_Inicio'].astype('int64')\n",
    "stories_location['Longitude_Inicio'] = stories_location['Longitude_Inicio'].astype('int64')"
   ]
  },
  {
   "cell_type": "code",
   "execution_count": 53,
   "metadata": {
    "executionInfo": {
     "elapsed": 82,
     "status": "ok",
     "timestamp": 1627142521651,
     "user": {
      "displayName": "Mateus Varelo",
      "photoUrl": "https://lh3.googleusercontent.com/a-/AOh14Gg73LYxIEbDHChnMebSrZ-v0SG3yQkkQ5nkmXD3x6k=s64",
      "userId": "15384696535292950454"
     },
     "user_tz": 180
    },
    "id": "TAdg-2oBWH8a"
   },
   "outputs": [],
   "source": [
    "#convertendo coluna latitude e longitude de fim para inteiro\n",
    "stories_location['Latitude_Fim'] = stories_location['Latitude_Fim'].astype('int64')\n",
    "stories_location['Longitude_Fim'] = stories_location['Longitude_Fim'].astype('int64')"
   ]
  },
  {
   "cell_type": "code",
   "execution_count": 54,
   "metadata": {
    "executionInfo": {
     "elapsed": 82,
     "status": "ok",
     "timestamp": 1627142521653,
     "user": {
      "displayName": "Mateus Varelo",
      "photoUrl": "https://lh3.googleusercontent.com/a-/AOh14Gg73LYxIEbDHChnMebSrZ-v0SG3yQkkQ5nkmXD3x6k=s64",
      "userId": "15384696535292950454"
     },
     "user_tz": 180
    },
    "id": "NoHc0waq8VeM"
   },
   "outputs": [],
   "source": [
    "#convertendo distancia para int\n",
    "stories_location['Distancia'] = stories_location['Distancia'].astype('int64')  "
   ]
  },
  {
   "cell_type": "code",
   "execution_count": 55,
   "metadata": {
    "colab": {
     "base_uri": "https://localhost:8080/"
    },
    "executionInfo": {
     "elapsed": 81,
     "status": "ok",
     "timestamp": 1627142521654,
     "user": {
      "displayName": "Mateus Varelo",
      "photoUrl": "https://lh3.googleusercontent.com/a-/AOh14Gg73LYxIEbDHChnMebSrZ-v0SG3yQkkQ5nkmXD3x6k=s64",
      "userId": "15384696535292950454"
     },
     "user_tz": 180
    },
    "id": "iTrO9RVsAxcq",
    "outputId": "9f1fbdbe-42b5-4b15-d5b3-210f60deeb9c"
   },
   "outputs": [
    {
     "name": "stdout",
     "output_type": "stream",
     "text": [
      "<class 'pandas.core.frame.DataFrame'>\n",
      "RangeIndex: 8839 entries, 0 to 8838\n",
      "Data columns (total 8 columns):\n",
      " #   Column             Non-Null Count  Dtype         \n",
      "---  ------             --------------  -----         \n",
      " 0   Tipo_Deslocamento  8839 non-null   object        \n",
      " 1   Distancia_km/h     8839 non-null   int64         \n",
      " 2   Hora_Fim_Rota      8839 non-null   datetime64[ns]\n",
      " 3   Latitude_Fim       8839 non-null   int64         \n",
      " 4   Longitude_Fim      8839 non-null   int64         \n",
      " 5   Hora_Inicio        8839 non-null   datetime64[ns]\n",
      " 6   Latitude_Inicio    8839 non-null   int64         \n",
      " 7   Longitude_Inicio   8839 non-null   int64         \n",
      "dtypes: datetime64[ns](2), int64(5), object(1)\n",
      "memory usage: 552.6+ KB\n"
     ]
    }
   ],
   "source": [
    "stories_location.info()"
   ]
  },
  {
   "cell_type": "code",
   "execution_count": 56,
   "metadata": {
    "colab": {
     "base_uri": "https://localhost:8080/",
     "height": 359
    },
    "executionInfo": {
     "elapsed": 77,
     "status": "ok",
     "timestamp": 1627142521656,
     "user": {
      "displayName": "Mateus Varelo",
      "photoUrl": "https://lh3.googleusercontent.com/a-/AOh14Gg73LYxIEbDHChnMebSrZ-v0SG3yQkkQ5nkmXD3x6k=s64",
      "userId": "15384696535292950454"
     },
     "user_tz": 180
    },
    "id": "rXCQMhi2C0zt",
    "outputId": "01fe0f40-8017-4b50-fe3b-cd741bf5c853"
   },
   "outputs": [
    {
     "data": {
      "text/html": [
       "<div>\n",
       "<style scoped>\n",
       "    .dataframe tbody tr th:only-of-type {\n",
       "        vertical-align: middle;\n",
       "    }\n",
       "\n",
       "    .dataframe tbody tr th {\n",
       "        vertical-align: top;\n",
       "    }\n",
       "\n",
       "    .dataframe thead th {\n",
       "        text-align: right;\n",
       "    }\n",
       "</style>\n",
       "<table border=\"1\" class=\"dataframe\">\n",
       "  <thead>\n",
       "    <tr style=\"text-align: right;\">\n",
       "      <th></th>\n",
       "      <th>Tipo_Deslocamento</th>\n",
       "      <th>Distancia_km/h</th>\n",
       "      <th>Hora_Fim_Rota</th>\n",
       "      <th>Latitude_Fim</th>\n",
       "      <th>Longitude_Fim</th>\n",
       "      <th>Hora_Inicio</th>\n",
       "      <th>Latitude_Inicio</th>\n",
       "      <th>Longitude_Inicio</th>\n",
       "    </tr>\n",
       "  </thead>\n",
       "  <tbody>\n",
       "    <tr>\n",
       "      <th>8829</th>\n",
       "      <td>MOTORCYCLING</td>\n",
       "      <td>1414</td>\n",
       "      <td>2021-05-31 20:04:10.977</td>\n",
       "      <td>-229114532</td>\n",
       "      <td>-431868426</td>\n",
       "      <td>2021-05-31 20:00:17.000</td>\n",
       "      <td>-229152718</td>\n",
       "      <td>-431996598</td>\n",
       "    </tr>\n",
       "    <tr>\n",
       "      <th>8830</th>\n",
       "      <td>MOTORCYCLING</td>\n",
       "      <td>5206</td>\n",
       "      <td>2021-05-31 21:15:20.226</td>\n",
       "      <td>-229396055</td>\n",
       "      <td>-431768497</td>\n",
       "      <td>2021-05-31 21:01:04.000</td>\n",
       "      <td>-229123814</td>\n",
       "      <td>-431863739</td>\n",
       "    </tr>\n",
       "    <tr>\n",
       "      <th>8831</th>\n",
       "      <td>MOTORCYCLING</td>\n",
       "      <td>690</td>\n",
       "      <td>2021-05-31 21:23:22.000</td>\n",
       "      <td>-229387673</td>\n",
       "      <td>-431779626</td>\n",
       "      <td>2021-05-31 21:21:35.616</td>\n",
       "      <td>-229388805</td>\n",
       "      <td>-431765226</td>\n",
       "    </tr>\n",
       "    <tr>\n",
       "      <th>8832</th>\n",
       "      <td>MOTORCYCLING</td>\n",
       "      <td>1033</td>\n",
       "      <td>2021-05-31 21:31:17.292</td>\n",
       "      <td>-229389456</td>\n",
       "      <td>-431752516</td>\n",
       "      <td>2021-05-31 21:29:01.000</td>\n",
       "      <td>-229394946</td>\n",
       "      <td>-431783498</td>\n",
       "    </tr>\n",
       "    <tr>\n",
       "      <th>8833</th>\n",
       "      <td>MOTORCYCLING</td>\n",
       "      <td>6072</td>\n",
       "      <td>2021-05-31 22:10:39.190</td>\n",
       "      <td>-229773564</td>\n",
       "      <td>-431969544</td>\n",
       "      <td>2021-05-31 21:57:59.011</td>\n",
       "      <td>-229403920</td>\n",
       "      <td>-431762019</td>\n",
       "    </tr>\n",
       "    <tr>\n",
       "      <th>8834</th>\n",
       "      <td>MOTORCYCLING</td>\n",
       "      <td>1770</td>\n",
       "      <td>2021-05-31 22:44:00.000</td>\n",
       "      <td>-229689262</td>\n",
       "      <td>-431845638</td>\n",
       "      <td>2021-05-31 22:36:56.000</td>\n",
       "      <td>-229767067</td>\n",
       "      <td>-431959240</td>\n",
       "    </tr>\n",
       "    <tr>\n",
       "      <th>8835</th>\n",
       "      <td>MOTORCYCLING</td>\n",
       "      <td>531</td>\n",
       "      <td>2021-05-31 22:52:53.093</td>\n",
       "      <td>-229717182</td>\n",
       "      <td>-431896827</td>\n",
       "      <td>2021-05-31 22:50:39.000</td>\n",
       "      <td>-229705690</td>\n",
       "      <td>-431846406</td>\n",
       "    </tr>\n",
       "    <tr>\n",
       "      <th>8836</th>\n",
       "      <td>MOTORCYCLING</td>\n",
       "      <td>896</td>\n",
       "      <td>2021-05-31 23:01:22.259</td>\n",
       "      <td>-229683630</td>\n",
       "      <td>-431834343</td>\n",
       "      <td>2021-05-31 22:57:52.000</td>\n",
       "      <td>-229706642</td>\n",
       "      <td>-431899794</td>\n",
       "    </tr>\n",
       "    <tr>\n",
       "      <th>8837</th>\n",
       "      <td>MOTORCYCLING</td>\n",
       "      <td>1952</td>\n",
       "      <td>2021-05-31 23:12:05.000</td>\n",
       "      <td>-229566615</td>\n",
       "      <td>-431763196</td>\n",
       "      <td>2021-05-31 23:07:20.329</td>\n",
       "      <td>-229683351</td>\n",
       "      <td>-431834198</td>\n",
       "    </tr>\n",
       "    <tr>\n",
       "      <th>8838</th>\n",
       "      <td>MOTORCYCLING</td>\n",
       "      <td>5080</td>\n",
       "      <td>2021-06-01 00:10:33.229</td>\n",
       "      <td>-229197993</td>\n",
       "      <td>-431796475</td>\n",
       "      <td>2021-05-31 23:59:27.000</td>\n",
       "      <td>-229567105</td>\n",
       "      <td>-431761540</td>\n",
       "    </tr>\n",
       "  </tbody>\n",
       "</table>\n",
       "</div>"
      ],
      "text/plain": [
       "     Tipo_Deslocamento  Distancia_km/h  ... Latitude_Inicio  Longitude_Inicio\n",
       "8829      MOTORCYCLING            1414  ...      -229152718        -431996598\n",
       "8830      MOTORCYCLING            5206  ...      -229123814        -431863739\n",
       "8831      MOTORCYCLING             690  ...      -229388805        -431765226\n",
       "8832      MOTORCYCLING            1033  ...      -229394946        -431783498\n",
       "8833      MOTORCYCLING            6072  ...      -229403920        -431762019\n",
       "8834      MOTORCYCLING            1770  ...      -229767067        -431959240\n",
       "8835      MOTORCYCLING             531  ...      -229705690        -431846406\n",
       "8836      MOTORCYCLING             896  ...      -229706642        -431899794\n",
       "8837      MOTORCYCLING            1952  ...      -229683351        -431834198\n",
       "8838      MOTORCYCLING            5080  ...      -229567105        -431761540\n",
       "\n",
       "[10 rows x 8 columns]"
      ]
     },
     "execution_count": 56,
     "metadata": {
      "tags": []
     },
     "output_type": "execute_result"
    }
   ],
   "source": [
    "stories_location.tail(10)"
   ]
  },
  {
   "cell_type": "code",
   "execution_count": 57,
   "metadata": {
    "executionInfo": {
     "elapsed": 75,
     "status": "ok",
     "timestamp": 1627142521658,
     "user": {
      "displayName": "Mateus Varelo",
      "photoUrl": "https://lh3.googleusercontent.com/a-/AOh14Gg73LYxIEbDHChnMebSrZ-v0SG3yQkkQ5nkmXD3x6k=s64",
      "userId": "15384696535292950454"
     },
     "user_tz": 180
    },
    "id": "SzVL36_tEPXi"
   },
   "outputs": [],
   "source": [
    "#Separando hora da coluna data completa  de inicio do trajeto\n",
    "stories_location['Hora_Chegada'] = stories_location['Hora_Fim_Rota'].dt.time\n"
   ]
  },
  {
   "cell_type": "code",
   "execution_count": 58,
   "metadata": {
    "executionInfo": {
     "elapsed": 76,
     "status": "ok",
     "timestamp": 1627142521660,
     "user": {
      "displayName": "Mateus Varelo",
      "photoUrl": "https://lh3.googleusercontent.com/a-/AOh14Gg73LYxIEbDHChnMebSrZ-v0SG3yQkkQ5nkmXD3x6k=s64",
      "userId": "15384696535292950454"
     },
     "user_tz": 180
    },
    "id": "ob3EElF6KxfW"
   },
   "outputs": [],
   "source": [
    "#Separando data da coluna data completa de fim de trajeto\n",
    "stories_location['Data_Chegada'] = stories_location['Hora_Fim_Rota'].dt.date"
   ]
  },
  {
   "cell_type": "code",
   "execution_count": 59,
   "metadata": {
    "executionInfo": {
     "elapsed": 75,
     "status": "ok",
     "timestamp": 1627142521661,
     "user": {
      "displayName": "Mateus Varelo",
      "photoUrl": "https://lh3.googleusercontent.com/a-/AOh14Gg73LYxIEbDHChnMebSrZ-v0SG3yQkkQ5nkmXD3x6k=s64",
      "userId": "15384696535292950454"
     },
     "user_tz": 180
    },
    "id": "9klbN_W3KVxR"
   },
   "outputs": [],
   "source": [
    "#Separando data da coluna data completa de inicio de trajeto\n",
    "stories_location['Data_Inicio'] = stories_location['Hora_Inicio'].dt.date"
   ]
  },
  {
   "cell_type": "code",
   "execution_count": 60,
   "metadata": {
    "executionInfo": {
     "elapsed": 75,
     "status": "ok",
     "timestamp": 1627142521663,
     "user": {
      "displayName": "Mateus Varelo",
      "photoUrl": "https://lh3.googleusercontent.com/a-/AOh14Gg73LYxIEbDHChnMebSrZ-v0SG3yQkkQ5nkmXD3x6k=s64",
      "userId": "15384696535292950454"
     },
     "user_tz": 180
    },
    "id": "62F6RYGzLYOv"
   },
   "outputs": [],
   "source": [
    "#Separando ano  da coluna data completa de inicio de trajeto\n",
    "stories_location['Ano'] = stories_location['Hora_Inicio'].dt.year"
   ]
  },
  {
   "cell_type": "code",
   "execution_count": 61,
   "metadata": {
    "executionInfo": {
     "elapsed": 76,
     "status": "ok",
     "timestamp": 1627142521665,
     "user": {
      "displayName": "Mateus Varelo",
      "photoUrl": "https://lh3.googleusercontent.com/a-/AOh14Gg73LYxIEbDHChnMebSrZ-v0SG3yQkkQ5nkmXD3x6k=s64",
      "userId": "15384696535292950454"
     },
     "user_tz": 180
    },
    "id": "6rNCBJxGoXVy"
   },
   "outputs": [],
   "source": [
    "#Separando hora da coluna data completa  de inicio do trajeto\n",
    "stories_location['Hora_Inicio'] = stories_location['Hora_Inicio'].dt.time"
   ]
  },
  {
   "cell_type": "code",
   "execution_count": 62,
   "metadata": {
    "executionInfo": {
     "elapsed": 75,
     "status": "ok",
     "timestamp": 1627142521667,
     "user": {
      "displayName": "Mateus Varelo",
      "photoUrl": "https://lh3.googleusercontent.com/a-/AOh14Gg73LYxIEbDHChnMebSrZ-v0SG3yQkkQ5nkmXD3x6k=s64",
      "userId": "15384696535292950454"
     },
     "user_tz": 180
    },
    "id": "GevVBng6Ljli"
   },
   "outputs": [],
   "source": [
    "#Separando ano  da coluna data completa de fim de trajeto\n",
    "stories_location['Ano'] = stories_location['Hora_Fim_Rota'].dt.year"
   ]
  },
  {
   "cell_type": "code",
   "execution_count": 63,
   "metadata": {
    "colab": {
     "base_uri": "https://localhost:8080/",
     "height": 309
    },
    "executionInfo": {
     "elapsed": 76,
     "status": "ok",
     "timestamp": 1627142521669,
     "user": {
      "displayName": "Mateus Varelo",
      "photoUrl": "https://lh3.googleusercontent.com/a-/AOh14Gg73LYxIEbDHChnMebSrZ-v0SG3yQkkQ5nkmXD3x6k=s64",
      "userId": "15384696535292950454"
     },
     "user_tz": 180
    },
    "id": "oJMVFQm6C2ob",
    "outputId": "13787c8f-a3cf-4db9-ba29-cbe76b4171b8"
   },
   "outputs": [
    {
     "data": {
      "text/html": [
       "<div>\n",
       "<style scoped>\n",
       "    .dataframe tbody tr th:only-of-type {\n",
       "        vertical-align: middle;\n",
       "    }\n",
       "\n",
       "    .dataframe tbody tr th {\n",
       "        vertical-align: top;\n",
       "    }\n",
       "\n",
       "    .dataframe thead th {\n",
       "        text-align: right;\n",
       "    }\n",
       "</style>\n",
       "<table border=\"1\" class=\"dataframe\">\n",
       "  <thead>\n",
       "    <tr style=\"text-align: right;\">\n",
       "      <th></th>\n",
       "      <th>Tipo_Deslocamento</th>\n",
       "      <th>Distancia_km/h</th>\n",
       "      <th>Hora_Fim_Rota</th>\n",
       "      <th>Latitude_Fim</th>\n",
       "      <th>Longitude_Fim</th>\n",
       "      <th>Hora_Inicio</th>\n",
       "      <th>Latitude_Inicio</th>\n",
       "      <th>Longitude_Inicio</th>\n",
       "      <th>Hora_Chegada</th>\n",
       "      <th>Data_Chegada</th>\n",
       "      <th>Data_Inicio</th>\n",
       "      <th>Ano</th>\n",
       "    </tr>\n",
       "  </thead>\n",
       "  <tbody>\n",
       "    <tr>\n",
       "      <th>0</th>\n",
       "      <td>IN_PASSENGER_VEHICLE</td>\n",
       "      <td>975</td>\n",
       "      <td>2017-04-24 20:16:12.120</td>\n",
       "      <td>-44073170</td>\n",
       "      <td>-404388925</td>\n",
       "      <td>17:25:10.431000</td>\n",
       "      <td>-44064533</td>\n",
       "      <td>-404476511</td>\n",
       "      <td>20:16:12.120000</td>\n",
       "      <td>2017-04-24</td>\n",
       "      <td>2017-04-24</td>\n",
       "      <td>2017</td>\n",
       "    </tr>\n",
       "    <tr>\n",
       "      <th>1</th>\n",
       "      <td>IN_PASSENGER_VEHICLE</td>\n",
       "      <td>165</td>\n",
       "      <td>2017-04-24 21:59:12.142</td>\n",
       "      <td>-44076017</td>\n",
       "      <td>-404360057</td>\n",
       "      <td>21:52:30.996000</td>\n",
       "      <td>-44074551</td>\n",
       "      <td>-404374922</td>\n",
       "      <td>21:59:12.142000</td>\n",
       "      <td>2017-04-24</td>\n",
       "      <td>2017-04-24</td>\n",
       "      <td>2017</td>\n",
       "    </tr>\n",
       "    <tr>\n",
       "      <th>2</th>\n",
       "      <td>WALKING</td>\n",
       "      <td>509</td>\n",
       "      <td>2017-04-25 13:05:22.329</td>\n",
       "      <td>-44108538</td>\n",
       "      <td>-404030149</td>\n",
       "      <td>12:49:10.084000</td>\n",
       "      <td>-44113046</td>\n",
       "      <td>-403984400</td>\n",
       "      <td>13:05:22.329000</td>\n",
       "      <td>2017-04-25</td>\n",
       "      <td>2017-04-25</td>\n",
       "      <td>2017</td>\n",
       "    </tr>\n",
       "    <tr>\n",
       "      <th>3</th>\n",
       "      <td>IN_PASSENGER_VEHICLE</td>\n",
       "      <td>1953</td>\n",
       "      <td>2017-04-25 14:13:28.795</td>\n",
       "      <td>-44091107</td>\n",
       "      <td>-404206991</td>\n",
       "      <td>13:15:29.277000</td>\n",
       "      <td>-44108387</td>\n",
       "      <td>-404031681</td>\n",
       "      <td>14:13:28.795000</td>\n",
       "      <td>2017-04-25</td>\n",
       "      <td>2017-04-25</td>\n",
       "      <td>2017</td>\n",
       "    </tr>\n",
       "    <tr>\n",
       "      <th>4</th>\n",
       "      <td>IN_PASSENGER_VEHICLE</td>\n",
       "      <td>4611</td>\n",
       "      <td>2017-04-25 15:09:44.276</td>\n",
       "      <td>-44049753</td>\n",
       "      <td>-404626377</td>\n",
       "      <td>14:22:24.720000</td>\n",
       "      <td>-44090569</td>\n",
       "      <td>-404212454</td>\n",
       "      <td>15:09:44.276000</td>\n",
       "      <td>2017-04-25</td>\n",
       "      <td>2017-04-25</td>\n",
       "      <td>2017</td>\n",
       "    </tr>\n",
       "  </tbody>\n",
       "</table>\n",
       "</div>"
      ],
      "text/plain": [
       "      Tipo_Deslocamento  Distancia_km/h  ... Data_Inicio   Ano\n",
       "0  IN_PASSENGER_VEHICLE             975  ...  2017-04-24  2017\n",
       "1  IN_PASSENGER_VEHICLE             165  ...  2017-04-24  2017\n",
       "2               WALKING             509  ...  2017-04-25  2017\n",
       "3  IN_PASSENGER_VEHICLE            1953  ...  2017-04-25  2017\n",
       "4  IN_PASSENGER_VEHICLE            4611  ...  2017-04-25  2017\n",
       "\n",
       "[5 rows x 12 columns]"
      ]
     },
     "execution_count": 63,
     "metadata": {
      "tags": []
     },
     "output_type": "execute_result"
    }
   ],
   "source": [
    "stories_location.head()"
   ]
  },
  {
   "cell_type": "code",
   "execution_count": 64,
   "metadata": {
    "executionInfo": {
     "elapsed": 73,
     "status": "ok",
     "timestamp": 1627142521671,
     "user": {
      "displayName": "Mateus Varelo",
      "photoUrl": "https://lh3.googleusercontent.com/a-/AOh14Gg73LYxIEbDHChnMebSrZ-v0SG3yQkkQ5nkmXD3x6k=s64",
      "userId": "15384696535292950454"
     },
     "user_tz": 180
    },
    "id": "_qEpmySgL3JO"
   },
   "outputs": [],
   "source": [
    " #Apaganda a coluna que tinha data completa, pois separei em colunas data e horas, e até mesmo o ano.\n",
    " stories_location.drop(['Hora_Fim_Rota'],axis = 1,inplace=True)"
   ]
  },
  {
   "cell_type": "code",
   "execution_count": 65,
   "metadata": {
    "colab": {
     "base_uri": "https://localhost:8080/"
    },
    "executionInfo": {
     "elapsed": 712,
     "status": "ok",
     "timestamp": 1627142522311,
     "user": {
      "displayName": "Mateus Varelo",
      "photoUrl": "https://lh3.googleusercontent.com/a-/AOh14Gg73LYxIEbDHChnMebSrZ-v0SG3yQkkQ5nkmXD3x6k=s64",
      "userId": "15384696535292950454"
     },
     "user_tz": 180
    },
    "id": "iRRBFCHBMjIy",
    "outputId": "08f84f51-ead8-416c-b095-4e26daa48f17"
   },
   "outputs": [
    {
     "data": {
      "text/plain": [
       "Timedelta('0 days 00:03:20')"
      ]
     },
     "execution_count": 65,
     "metadata": {
      "tags": []
     },
     "output_type": "execute_result"
    }
   ],
   "source": [
    "#stories_location['Tempo_Duração/min'] =  \n",
    "pd.Timedelta(200000000000) "
   ]
  },
  {
   "cell_type": "code",
   "execution_count": 66,
   "metadata": {
    "colab": {
     "base_uri": "https://localhost:8080/",
     "height": 224
    },
    "executionInfo": {
     "elapsed": 57,
     "status": "ok",
     "timestamp": 1627142522313,
     "user": {
      "displayName": "Mateus Varelo",
      "photoUrl": "https://lh3.googleusercontent.com/a-/AOh14Gg73LYxIEbDHChnMebSrZ-v0SG3yQkkQ5nkmXD3x6k=s64",
      "userId": "15384696535292950454"
     },
     "user_tz": 180
    },
    "id": "r6dqFX4IMgzG",
    "outputId": "1e7d73e4-e43d-483f-b496-a6d8617eafb0"
   },
   "outputs": [
    {
     "data": {
      "text/html": [
       "<div>\n",
       "<style scoped>\n",
       "    .dataframe tbody tr th:only-of-type {\n",
       "        vertical-align: middle;\n",
       "    }\n",
       "\n",
       "    .dataframe tbody tr th {\n",
       "        vertical-align: top;\n",
       "    }\n",
       "\n",
       "    .dataframe thead th {\n",
       "        text-align: right;\n",
       "    }\n",
       "</style>\n",
       "<table border=\"1\" class=\"dataframe\">\n",
       "  <thead>\n",
       "    <tr style=\"text-align: right;\">\n",
       "      <th></th>\n",
       "      <th>Tipo_Deslocamento</th>\n",
       "      <th>Distancia_km/h</th>\n",
       "      <th>Latitude_Fim</th>\n",
       "      <th>Longitude_Fim</th>\n",
       "      <th>Hora_Inicio</th>\n",
       "      <th>Latitude_Inicio</th>\n",
       "      <th>Longitude_Inicio</th>\n",
       "      <th>Hora_Chegada</th>\n",
       "      <th>Data_Chegada</th>\n",
       "      <th>Data_Inicio</th>\n",
       "      <th>Ano</th>\n",
       "    </tr>\n",
       "  </thead>\n",
       "  <tbody>\n",
       "    <tr>\n",
       "      <th>8834</th>\n",
       "      <td>MOTORCYCLING</td>\n",
       "      <td>1770</td>\n",
       "      <td>-229689262</td>\n",
       "      <td>-431845638</td>\n",
       "      <td>22:36:56</td>\n",
       "      <td>-229767067</td>\n",
       "      <td>-431959240</td>\n",
       "      <td>22:44:00</td>\n",
       "      <td>2021-05-31</td>\n",
       "      <td>2021-05-31</td>\n",
       "      <td>2021</td>\n",
       "    </tr>\n",
       "    <tr>\n",
       "      <th>8835</th>\n",
       "      <td>MOTORCYCLING</td>\n",
       "      <td>531</td>\n",
       "      <td>-229717182</td>\n",
       "      <td>-431896827</td>\n",
       "      <td>22:50:39</td>\n",
       "      <td>-229705690</td>\n",
       "      <td>-431846406</td>\n",
       "      <td>22:52:53.093000</td>\n",
       "      <td>2021-05-31</td>\n",
       "      <td>2021-05-31</td>\n",
       "      <td>2021</td>\n",
       "    </tr>\n",
       "    <tr>\n",
       "      <th>8836</th>\n",
       "      <td>MOTORCYCLING</td>\n",
       "      <td>896</td>\n",
       "      <td>-229683630</td>\n",
       "      <td>-431834343</td>\n",
       "      <td>22:57:52</td>\n",
       "      <td>-229706642</td>\n",
       "      <td>-431899794</td>\n",
       "      <td>23:01:22.259000</td>\n",
       "      <td>2021-05-31</td>\n",
       "      <td>2021-05-31</td>\n",
       "      <td>2021</td>\n",
       "    </tr>\n",
       "    <tr>\n",
       "      <th>8837</th>\n",
       "      <td>MOTORCYCLING</td>\n",
       "      <td>1952</td>\n",
       "      <td>-229566615</td>\n",
       "      <td>-431763196</td>\n",
       "      <td>23:07:20.329000</td>\n",
       "      <td>-229683351</td>\n",
       "      <td>-431834198</td>\n",
       "      <td>23:12:05</td>\n",
       "      <td>2021-05-31</td>\n",
       "      <td>2021-05-31</td>\n",
       "      <td>2021</td>\n",
       "    </tr>\n",
       "    <tr>\n",
       "      <th>8838</th>\n",
       "      <td>MOTORCYCLING</td>\n",
       "      <td>5080</td>\n",
       "      <td>-229197993</td>\n",
       "      <td>-431796475</td>\n",
       "      <td>23:59:27</td>\n",
       "      <td>-229567105</td>\n",
       "      <td>-431761540</td>\n",
       "      <td>00:10:33.229000</td>\n",
       "      <td>2021-06-01</td>\n",
       "      <td>2021-05-31</td>\n",
       "      <td>2021</td>\n",
       "    </tr>\n",
       "  </tbody>\n",
       "</table>\n",
       "</div>"
      ],
      "text/plain": [
       "     Tipo_Deslocamento  Distancia_km/h  ...  Data_Inicio   Ano\n",
       "8834      MOTORCYCLING            1770  ...   2021-05-31  2021\n",
       "8835      MOTORCYCLING             531  ...   2021-05-31  2021\n",
       "8836      MOTORCYCLING             896  ...   2021-05-31  2021\n",
       "8837      MOTORCYCLING            1952  ...   2021-05-31  2021\n",
       "8838      MOTORCYCLING            5080  ...   2021-05-31  2021\n",
       "\n",
       "[5 rows x 11 columns]"
      ]
     },
     "execution_count": 66,
     "metadata": {
      "tags": []
     },
     "output_type": "execute_result"
    }
   ],
   "source": [
    "stories_location.tail()"
   ]
  },
  {
   "cell_type": "code",
   "execution_count": 67,
   "metadata": {
    "executionInfo": {
     "elapsed": 57,
     "status": "ok",
     "timestamp": 1627142522318,
     "user": {
      "displayName": "Mateus Varelo",
      "photoUrl": "https://lh3.googleusercontent.com/a-/AOh14Gg73LYxIEbDHChnMebSrZ-v0SG3yQkkQ5nkmXD3x6k=s64",
      "userId": "15384696535292950454"
     },
     "user_tz": 180
    },
    "id": "DeuGJtpcX64G"
   },
   "outputs": [],
   "source": [
    "def transforma_em_minutos(x):\n",
    " \n",
    "   try:\n",
    "      time_ = datetime.strptime(str(x),'%H:%M:%S.%f').time() \n",
    "   except:\n",
    "      time_ = datetime.strptime(str(x),'%H:%M:%S').time()  \n",
    "   total_minutos  = abs(time_.hour * 60 + time_.minute + time_.second/60)\n",
    "                                                                                    \n",
    "   return  total_minutos\n",
    "\n",
    "\n"
   ]
  },
  {
   "cell_type": "code",
   "execution_count": 68,
   "metadata": {
    "executionInfo": {
     "elapsed": 59,
     "status": "ok",
     "timestamp": 1627142522323,
     "user": {
      "displayName": "Mateus Varelo",
      "photoUrl": "https://lh3.googleusercontent.com/a-/AOh14Gg73LYxIEbDHChnMebSrZ-v0SG3yQkkQ5nkmXD3x6k=s64",
      "userId": "15384696535292950454"
     },
     "user_tz": 180
    },
    "id": "nRvJWzX4XYwB"
   },
   "outputs": [],
   "source": [
    "#Aplicando uma nova coluna com dados de duração entre inicio do trajeto e o fim.\n",
    "stories_location['Duracao_Trajeto_Em_Minutos']  = ( round(abs(stories_location['Hora_Inicio']\n",
    "                                                .apply(transforma_em_minutos) \n",
    "                                            -  stories_location['Hora_Chegada']\n",
    "                                                .apply(transforma_em_minutos)),2)                                                                                        \n",
    "                                                                   \n",
    ")"
   ]
  },
  {
   "cell_type": "code",
   "execution_count": 69,
   "metadata": {
    "colab": {
     "base_uri": "https://localhost:8080/",
     "height": 379
    },
    "executionInfo": {
     "elapsed": 59,
     "status": "ok",
     "timestamp": 1627142522325,
     "user": {
      "displayName": "Mateus Varelo",
      "photoUrl": "https://lh3.googleusercontent.com/a-/AOh14Gg73LYxIEbDHChnMebSrZ-v0SG3yQkkQ5nkmXD3x6k=s64",
      "userId": "15384696535292950454"
     },
     "user_tz": 180
    },
    "id": "gbedxcPix0av",
    "outputId": "9563b7da-7c03-4c4d-838c-0db7880d9910"
   },
   "outputs": [
    {
     "data": {
      "text/html": [
       "<div>\n",
       "<style scoped>\n",
       "    .dataframe tbody tr th:only-of-type {\n",
       "        vertical-align: middle;\n",
       "    }\n",
       "\n",
       "    .dataframe tbody tr th {\n",
       "        vertical-align: top;\n",
       "    }\n",
       "\n",
       "    .dataframe thead th {\n",
       "        text-align: right;\n",
       "    }\n",
       "</style>\n",
       "<table border=\"1\" class=\"dataframe\">\n",
       "  <thead>\n",
       "    <tr style=\"text-align: right;\">\n",
       "      <th></th>\n",
       "      <th>Tipo_Deslocamento</th>\n",
       "      <th>Distancia_km/h</th>\n",
       "      <th>Latitude_Fim</th>\n",
       "      <th>Longitude_Fim</th>\n",
       "      <th>Hora_Inicio</th>\n",
       "      <th>Latitude_Inicio</th>\n",
       "      <th>Longitude_Inicio</th>\n",
       "      <th>Hora_Chegada</th>\n",
       "      <th>Data_Chegada</th>\n",
       "      <th>Data_Inicio</th>\n",
       "      <th>Ano</th>\n",
       "      <th>Duracao_Trajeto_Em_Minutos</th>\n",
       "    </tr>\n",
       "  </thead>\n",
       "  <tbody>\n",
       "    <tr>\n",
       "      <th>0</th>\n",
       "      <td>IN_PASSENGER_VEHICLE</td>\n",
       "      <td>975</td>\n",
       "      <td>-44073170</td>\n",
       "      <td>-404388925</td>\n",
       "      <td>17:25:10.431000</td>\n",
       "      <td>-44064533</td>\n",
       "      <td>-404476511</td>\n",
       "      <td>20:16:12.120000</td>\n",
       "      <td>2017-04-24</td>\n",
       "      <td>2017-04-24</td>\n",
       "      <td>2017</td>\n",
       "      <td>171.03</td>\n",
       "    </tr>\n",
       "    <tr>\n",
       "      <th>1</th>\n",
       "      <td>IN_PASSENGER_VEHICLE</td>\n",
       "      <td>165</td>\n",
       "      <td>-44076017</td>\n",
       "      <td>-404360057</td>\n",
       "      <td>21:52:30.996000</td>\n",
       "      <td>-44074551</td>\n",
       "      <td>-404374922</td>\n",
       "      <td>21:59:12.142000</td>\n",
       "      <td>2017-04-24</td>\n",
       "      <td>2017-04-24</td>\n",
       "      <td>2017</td>\n",
       "      <td>6.70</td>\n",
       "    </tr>\n",
       "    <tr>\n",
       "      <th>2</th>\n",
       "      <td>WALKING</td>\n",
       "      <td>509</td>\n",
       "      <td>-44108538</td>\n",
       "      <td>-404030149</td>\n",
       "      <td>12:49:10.084000</td>\n",
       "      <td>-44113046</td>\n",
       "      <td>-403984400</td>\n",
       "      <td>13:05:22.329000</td>\n",
       "      <td>2017-04-25</td>\n",
       "      <td>2017-04-25</td>\n",
       "      <td>2017</td>\n",
       "      <td>16.20</td>\n",
       "    </tr>\n",
       "    <tr>\n",
       "      <th>3</th>\n",
       "      <td>IN_PASSENGER_VEHICLE</td>\n",
       "      <td>1953</td>\n",
       "      <td>-44091107</td>\n",
       "      <td>-404206991</td>\n",
       "      <td>13:15:29.277000</td>\n",
       "      <td>-44108387</td>\n",
       "      <td>-404031681</td>\n",
       "      <td>14:13:28.795000</td>\n",
       "      <td>2017-04-25</td>\n",
       "      <td>2017-04-25</td>\n",
       "      <td>2017</td>\n",
       "      <td>57.98</td>\n",
       "    </tr>\n",
       "    <tr>\n",
       "      <th>4</th>\n",
       "      <td>IN_PASSENGER_VEHICLE</td>\n",
       "      <td>4611</td>\n",
       "      <td>-44049753</td>\n",
       "      <td>-404626377</td>\n",
       "      <td>14:22:24.720000</td>\n",
       "      <td>-44090569</td>\n",
       "      <td>-404212454</td>\n",
       "      <td>15:09:44.276000</td>\n",
       "      <td>2017-04-25</td>\n",
       "      <td>2017-04-25</td>\n",
       "      <td>2017</td>\n",
       "      <td>47.33</td>\n",
       "    </tr>\n",
       "    <tr>\n",
       "      <th>5</th>\n",
       "      <td>IN_PASSENGER_VEHICLE</td>\n",
       "      <td>212</td>\n",
       "      <td>-44047823</td>\n",
       "      <td>-404645942</td>\n",
       "      <td>15:15:43.820000</td>\n",
       "      <td>-44049709</td>\n",
       "      <td>-404626824</td>\n",
       "      <td>15:24:39.295000</td>\n",
       "      <td>2017-04-25</td>\n",
       "      <td>2017-04-25</td>\n",
       "      <td>2017</td>\n",
       "      <td>8.93</td>\n",
       "    </tr>\n",
       "    <tr>\n",
       "      <th>6</th>\n",
       "      <td>IN_PASSENGER_VEHICLE</td>\n",
       "      <td>349</td>\n",
       "      <td>-44044129</td>\n",
       "      <td>-404683394</td>\n",
       "      <td>15:45:54.327000</td>\n",
       "      <td>-44047223</td>\n",
       "      <td>-404652023</td>\n",
       "      <td>15:54:30.738000</td>\n",
       "      <td>2017-04-25</td>\n",
       "      <td>2017-04-25</td>\n",
       "      <td>2017</td>\n",
       "      <td>8.60</td>\n",
       "    </tr>\n",
       "    <tr>\n",
       "      <th>7</th>\n",
       "      <td>IN_PASSENGER_VEHICLE</td>\n",
       "      <td>183</td>\n",
       "      <td>-44041228</td>\n",
       "      <td>-404712802</td>\n",
       "      <td>16:40:48.021000</td>\n",
       "      <td>-44042854</td>\n",
       "      <td>-404696315</td>\n",
       "      <td>16:49:17.982000</td>\n",
       "      <td>2017-04-25</td>\n",
       "      <td>2017-04-25</td>\n",
       "      <td>2017</td>\n",
       "      <td>8.48</td>\n",
       "    </tr>\n",
       "    <tr>\n",
       "      <th>8</th>\n",
       "      <td>IN_PASSENGER_VEHICLE</td>\n",
       "      <td>1830</td>\n",
       "      <td>-44024109</td>\n",
       "      <td>-404886319</td>\n",
       "      <td>19:48:16.702000</td>\n",
       "      <td>-44040322</td>\n",
       "      <td>-404721980</td>\n",
       "      <td>20:51:19.412000</td>\n",
       "      <td>2017-04-25</td>\n",
       "      <td>2017-04-25</td>\n",
       "      <td>2017</td>\n",
       "      <td>63.05</td>\n",
       "    </tr>\n",
       "    <tr>\n",
       "      <th>9</th>\n",
       "      <td>IN_PASSENGER_VEHICLE</td>\n",
       "      <td>1300</td>\n",
       "      <td>-44010972</td>\n",
       "      <td>-405019445</td>\n",
       "      <td>21:05:25.020000</td>\n",
       "      <td>-44022494</td>\n",
       "      <td>-404902684</td>\n",
       "      <td>21:32:13.994000</td>\n",
       "      <td>2017-04-25</td>\n",
       "      <td>2017-04-25</td>\n",
       "      <td>2017</td>\n",
       "      <td>26.80</td>\n",
       "    </tr>\n",
       "  </tbody>\n",
       "</table>\n",
       "</div>"
      ],
      "text/plain": [
       "      Tipo_Deslocamento  Distancia_km/h  ...   Ano  Duracao_Trajeto_Em_Minutos\n",
       "0  IN_PASSENGER_VEHICLE             975  ...  2017                      171.03\n",
       "1  IN_PASSENGER_VEHICLE             165  ...  2017                        6.70\n",
       "2               WALKING             509  ...  2017                       16.20\n",
       "3  IN_PASSENGER_VEHICLE            1953  ...  2017                       57.98\n",
       "4  IN_PASSENGER_VEHICLE            4611  ...  2017                       47.33\n",
       "5  IN_PASSENGER_VEHICLE             212  ...  2017                        8.93\n",
       "6  IN_PASSENGER_VEHICLE             349  ...  2017                        8.60\n",
       "7  IN_PASSENGER_VEHICLE             183  ...  2017                        8.48\n",
       "8  IN_PASSENGER_VEHICLE            1830  ...  2017                       63.05\n",
       "9  IN_PASSENGER_VEHICLE            1300  ...  2017                       26.80\n",
       "\n",
       "[10 rows x 12 columns]"
      ]
     },
     "execution_count": 69,
     "metadata": {
      "tags": []
     },
     "output_type": "execute_result"
    }
   ],
   "source": [
    "stories_location.head(10)"
   ]
  },
  {
   "cell_type": "code",
   "execution_count": 74,
   "metadata": {
    "executionInfo": {
     "elapsed": 199,
     "status": "ok",
     "timestamp": 1627142789457,
     "user": {
      "displayName": "Mateus Varelo",
      "photoUrl": "https://lh3.googleusercontent.com/a-/AOh14Gg73LYxIEbDHChnMebSrZ-v0SG3yQkkQ5nkmXD3x6k=s64",
      "userId": "15384696535292950454"
     },
     "user_tz": 180
    },
    "id": "Q2Ad5azT0RIu"
   },
   "outputs": [],
   "source": [
    "quantidade_km_por_tipo_deslocamento = stories_location.groupby(['Tipo_Deslocamento','Ano'],as_index=False)['Distancia'].median()"
   ]
  },
  {
   "cell_type": "code",
   "execution_count": 75,
   "metadata": {
    "colab": {
     "base_uri": "https://localhost:8080/",
     "height": 204
    },
    "executionInfo": {
     "elapsed": 26,
     "status": "ok",
     "timestamp": 1627142791445,
     "user": {
      "displayName": "Mateus Varelo",
      "photoUrl": "https://lh3.googleusercontent.com/a-/AOh14Gg73LYxIEbDHChnMebSrZ-v0SG3yQkkQ5nkmXD3x6k=s64",
      "userId": "15384696535292950454"
     },
     "user_tz": 180
    },
    "id": "dUI8Yv_XRDKz",
    "outputId": "d822b54c-70d1-4632-d53c-aeea08cabca5"
   },
   "outputs": [
    {
     "data": {
      "text/html": [
       "<div>\n",
       "<style scoped>\n",
       "    .dataframe tbody tr th:only-of-type {\n",
       "        vertical-align: middle;\n",
       "    }\n",
       "\n",
       "    .dataframe tbody tr th {\n",
       "        vertical-align: top;\n",
       "    }\n",
       "\n",
       "    .dataframe thead th {\n",
       "        text-align: right;\n",
       "    }\n",
       "</style>\n",
       "<table border=\"1\" class=\"dataframe\">\n",
       "  <thead>\n",
       "    <tr style=\"text-align: right;\">\n",
       "      <th></th>\n",
       "      <th>Tipo_Deslocamento</th>\n",
       "      <th>Ano</th>\n",
       "      <th>Distancia_km/h</th>\n",
       "    </tr>\n",
       "  </thead>\n",
       "  <tbody>\n",
       "    <tr>\n",
       "      <th>0</th>\n",
       "      <td>CYCLING</td>\n",
       "      <td>2017</td>\n",
       "      <td>1543.0</td>\n",
       "    </tr>\n",
       "    <tr>\n",
       "      <th>1</th>\n",
       "      <td>CYCLING</td>\n",
       "      <td>2018</td>\n",
       "      <td>1865.0</td>\n",
       "    </tr>\n",
       "    <tr>\n",
       "      <th>2</th>\n",
       "      <td>CYCLING</td>\n",
       "      <td>2019</td>\n",
       "      <td>2238.0</td>\n",
       "    </tr>\n",
       "    <tr>\n",
       "      <th>3</th>\n",
       "      <td>CYCLING</td>\n",
       "      <td>2020</td>\n",
       "      <td>1112.0</td>\n",
       "    </tr>\n",
       "    <tr>\n",
       "      <th>4</th>\n",
       "      <td>CYCLING</td>\n",
       "      <td>2021</td>\n",
       "      <td>888.0</td>\n",
       "    </tr>\n",
       "  </tbody>\n",
       "</table>\n",
       "</div>"
      ],
      "text/plain": [
       "  Tipo_Deslocamento   Ano  Distancia_km/h\n",
       "0           CYCLING  2017          1543.0\n",
       "1           CYCLING  2018          1865.0\n",
       "2           CYCLING  2019          2238.0\n",
       "3           CYCLING  2020          1112.0\n",
       "4           CYCLING  2021           888.0"
      ]
     },
     "execution_count": 75,
     "metadata": {
      "tags": []
     },
     "output_type": "execute_result"
    }
   ],
   "source": [
    "stories_location.to_csv('/content/drive/MyDrive/Projeto-Final/Data_Mateus/historico_maps.csv',index  = False)\n"
   ]
  }
 ],
 "metadata": {
  "colab": {
   "authorship_tag": "ABX9TyOYnOo4aSesiNK4WnM+xvqz",
   "mount_file_id": "1oYnmkKTLZvjy7FxAIb3OkzdsD8Kly_j5",
   "name": "google_maps_historico.ipynb",
   "provenance": []
  },
  "kernelspec": {
   "display_name": "Python 3",
   "language": "python",
   "name": "python3"
  },
  "language_info": {
   "codemirror_mode": {
    "name": "ipython",
    "version": 3
   },
   "file_extension": ".py",
   "mimetype": "text/x-python",
   "name": "python",
   "nbconvert_exporter": "python",
   "pygments_lexer": "ipython3",
   "version": "3.8.10"
  }
 },
 "nbformat": 4,
 "nbformat_minor": 1
}
