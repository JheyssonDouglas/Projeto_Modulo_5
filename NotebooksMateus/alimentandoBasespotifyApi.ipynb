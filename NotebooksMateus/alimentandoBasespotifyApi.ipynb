{
 "cells": [
  {
   "cell_type": "markdown",
   "source": [
    "### Consumindo api spotify\n",
    "* Isntalando api spotify"
   ],
   "metadata": {
    "id": "xm3m_zMJ2tnB"
   }
  },
  {
   "cell_type": "markdown",
   "source": [
    "**Extraindo base de dados para analise exploratoria** \n",
    "  * Spotify"
   ],
   "metadata": {
    "id": "Xz_-CAjy1g04"
   }
  },
  {
   "cell_type": "code",
   "execution_count": 1,
   "source": [
    "pip install spotipy"
   ],
   "outputs": [
    {
     "output_type": "stream",
     "name": "stdout",
     "text": [
      "Requirement already satisfied: spotipy in /home/mateus/Repositorios/Projeto_Modulo_5/.venv/lib/python3.8/site-packages (2.18.0)\n",
      "Requirement already satisfied: urllib3>=1.26.0 in /home/mateus/Repositorios/Projeto_Modulo_5/.venv/lib/python3.8/site-packages (from spotipy) (1.26.6)\n",
      "Requirement already satisfied: six>=1.15.0 in /home/mateus/Repositorios/Projeto_Modulo_5/.venv/lib/python3.8/site-packages (from spotipy) (1.16.0)\n",
      "Requirement already satisfied: requests>=2.25.0 in /home/mateus/Repositorios/Projeto_Modulo_5/.venv/lib/python3.8/site-packages (from spotipy) (2.26.0)\n",
      "Requirement already satisfied: charset-normalizer~=2.0.0; python_version >= \"3\" in /home/mateus/Repositorios/Projeto_Modulo_5/.venv/lib/python3.8/site-packages (from requests>=2.25.0->spotipy) (2.0.3)\n",
      "Requirement already satisfied: certifi>=2017.4.17 in /home/mateus/Repositorios/Projeto_Modulo_5/.venv/lib/python3.8/site-packages (from requests>=2.25.0->spotipy) (2021.5.30)\n",
      "Requirement already satisfied: idna<4,>=2.5; python_version >= \"3\" in /home/mateus/Repositorios/Projeto_Modulo_5/.venv/lib/python3.8/site-packages (from requests>=2.25.0->spotipy) (3.2)\n",
      "Note: you may need to restart the kernel to use updated packages.\n"
     ]
    }
   ],
   "metadata": {
    "colab": {
     "base_uri": "https://localhost:8080/"
    },
    "executionInfo": {
     "elapsed": 3297,
     "status": "ok",
     "timestamp": 1627230409776,
     "user": {
      "displayName": "Mateus Varelo",
      "photoUrl": "https://lh3.googleusercontent.com/a-/AOh14Gg73LYxIEbDHChnMebSrZ-v0SG3yQkkQ5nkmXD3x6k=s64",
      "userId": "15384696535292950454"
     },
     "user_tz": 180
    },
    "id": "vVbOX3kG1van",
    "outputId": "df0785e7-83f5-4ac6-86a0-e24fac1f1c8c"
   }
  },
  {
   "cell_type": "markdown",
   "source": [
    "### Espaço para importações de bibliotecas utilizadas"
   ],
   "metadata": {
    "id": "3ajcPolFtjTB"
   }
  },
  {
   "cell_type": "code",
   "execution_count": 2,
   "source": [
    "pip install matplotlib"
   ],
   "outputs": [
    {
     "output_type": "stream",
     "name": "stdout",
     "text": [
      "Requirement already satisfied: matplotlib in /home/mateus/Repositorios/Projeto_Modulo_5/.venv/lib/python3.8/site-packages (3.4.2)\n",
      "Requirement already satisfied: python-dateutil>=2.7 in /home/mateus/Repositorios/Projeto_Modulo_5/.venv/lib/python3.8/site-packages (from matplotlib) (2.8.2)\n",
      "Requirement already satisfied: pyparsing>=2.2.1 in /home/mateus/Repositorios/Projeto_Modulo_5/.venv/lib/python3.8/site-packages (from matplotlib) (2.4.7)\n",
      "Requirement already satisfied: cycler>=0.10 in /home/mateus/Repositorios/Projeto_Modulo_5/.venv/lib/python3.8/site-packages (from matplotlib) (0.10.0)\n",
      "Requirement already satisfied: numpy>=1.16 in /home/mateus/Repositorios/Projeto_Modulo_5/.venv/lib/python3.8/site-packages (from matplotlib) (1.21.1)\n",
      "Requirement already satisfied: pillow>=6.2.0 in /home/mateus/Repositorios/Projeto_Modulo_5/.venv/lib/python3.8/site-packages (from matplotlib) (8.3.1)\n",
      "Requirement already satisfied: kiwisolver>=1.0.1 in /home/mateus/Repositorios/Projeto_Modulo_5/.venv/lib/python3.8/site-packages (from matplotlib) (1.3.1)\n",
      "Requirement already satisfied: six>=1.5 in /home/mateus/Repositorios/Projeto_Modulo_5/.venv/lib/python3.8/site-packages (from python-dateutil>=2.7->matplotlib) (1.16.0)\n",
      "Note: you may need to restart the kernel to use updated packages.\n"
     ]
    }
   ],
   "metadata": {}
  },
  {
   "cell_type": "code",
   "execution_count": 3,
   "source": [
    "import pandas as pd\n",
    "import matplotlib.pyplot as plt\n",
    "import json\n",
    "import numpy as np\n",
    "import spotipy\n",
    "from spotipy.oauth2 import SpotifyClientCredentials\n",
    "import sys\n",
    "import time"
   ],
   "outputs": [],
   "metadata": {
    "id": "JCFVIbIcfpJc"
   }
  },
  {
   "cell_type": "markdown",
   "source": [
    "### Espaço para autenticação de usuário para acesso a API **spotify**"
   ],
   "metadata": {
    "id": "TDuOXU98tQwa"
   }
  },
  {
   "cell_type": "code",
   "execution_count": 4,
   "source": [
    "#Autenticação api\n",
    "cid =\"75b0d6f3334a4b689620eda9f917844a\" \n",
    "secret = \"ca50b30849d24b5d88508296ee9e6d98\" \n",
    "client_credentials_manager = SpotifyClientCredentials(client_id=cid, \n",
    "client_secret=secret) \n",
    "\n",
    "sp = spotipy.Spotify(client_credentials_manager=client_credentials_manager) \n",
    "sp.trace=False"
   ],
   "outputs": [],
   "metadata": {
    "id": "whq5br2r3Z1u"
   }
  },
  {
   "cell_type": "code",
   "execution_count": 5,
   "source": [
    "#### **Funções usadas nesse notebook**"
   ],
   "outputs": [],
   "metadata": {
    "id": "PWFob5Y5qDua"
   }
  },
  {
   "cell_type": "code",
   "execution_count": 6,
   "source": [
    "def get_album_data(album_id):\n",
    "    time.sleep(gera_um_numero_segundos())\n",
    "    try: \n",
    "\n",
    "       data = sp.album(album_id)\n",
    "       return data\n",
    "    except:\n",
    "       return None  "
   ],
   "outputs": [],
   "metadata": {
    "id": "jVoBC3binQCK"
   }
  },
  {
   "cell_type": "code",
   "execution_count": 7,
   "source": [
    "def get_album_data_artista(album_id):\n",
    "    try:\n",
    "      data = sp.album(album_id)\n",
    "      return data['artists']\n",
    "    except:\n",
    "      return None    "
   ],
   "outputs": [],
   "metadata": {
    "id": "i4Lk41ZOvyTy"
   }
  },
  {
   "cell_type": "code",
   "execution_count": 8,
   "source": [
    "def  get_uri(artista_data):\n",
    "    time.sleep(gera_um_numero_segundos())\n",
    "    try:\n",
    "       return artista_data[0]['uri']\n",
    "    except:\n",
    "       return None  "
   ],
   "outputs": [],
   "metadata": {
    "id": "lOUviw-0q4DW"
   }
  },
  {
   "cell_type": "code",
   "execution_count": 9,
   "source": [
    "def get_artist(artista_id):\n",
    "  time.sleep(gera_um_numero_segundos())\n",
    "  try:\n",
    "    resultado = sp.artist(artista_id)\n",
    "    return resultado\n",
    "  except:\n",
    "    return None  "
   ],
   "outputs": [],
   "metadata": {
    "id": "OUF5ZSCipQsp"
   }
  },
  {
   "cell_type": "code",
   "execution_count": 10,
   "source": [
    "def get_album_imagem(album_dados):\n",
    "   time.sleep(gera_um_numero_segundos())\n",
    "   try:\n",
    "       img = album_dados['images'][1]['url']\n",
    "       return img\n",
    "   except:\n",
    "       return None   "
   ],
   "outputs": [],
   "metadata": {
    "id": "ZaumqGj9q2oA"
   }
  },
  {
   "cell_type": "code",
   "execution_count": 11,
   "source": [
    "def get_url_img(artista_data):\n",
    "    time.sleep(gera_um_numero_segundos())\n",
    "    try:\n",
    "      url = artista_data['images'][1]['url']\n",
    "      return url\n",
    "    except:\n",
    "      return None  "
   ],
   "outputs": [],
   "metadata": {
    "id": "8YjPKW21EHEc"
   }
  },
  {
   "cell_type": "code",
   "execution_count": 12,
   "source": [
    "def get_artist_genres(artista_data):\n",
    "    time.sleep(gera_um_numero_segundos())\n",
    "    try:\n",
    "      genre = artista_data['genres'] \n",
    "      return genre[0]\n",
    "    except:\n",
    "      return None    "
   ],
   "outputs": [],
   "metadata": {
    "id": "mbzJQH0hNGwo"
   }
  },
  {
   "cell_type": "code",
   "execution_count": 13,
   "source": [
    "def aplica_genero_album(x):\n",
    "  \n",
    "  try:\n",
    "      dados_album = get_album_data(x)\n",
    "      time.sleep(gera_um_numero_segundos())\n",
    "      dados_artista_album = get_album_data_artista(x)\n",
    "      uri_artista = get_uri(dados_artista_album)\n",
    "      time.sleep(gera_um_numero_segundos())\n",
    "      dado_artista = get_artist(uri_artista)\n",
    "      time.sleep(gera_um_numero_segundos())\n",
    "      genero_artista = get_artist_genres(dado_artista)\n",
    "      return genero_artista \n",
    "  except:\n",
    "      return None   "
   ],
   "outputs": [],
   "metadata": {
    "id": "T0BLLpcRaHEf"
   }
  },
  {
   "cell_type": "code",
   "execution_count": 33,
   "source": [
    "def get_id_artista(nome):\n",
    "  time.sleep(gera_um_numero_segundos())\n",
    "  resul = sp.search(q=nome,type = 'artist')\n",
    "  try:\n",
    "      items = resul['artists']['items']\n",
    "      nome_busca = items[0]['name']\n",
    "      if len(items) > 0:\n",
    "        if nome == nome_busca:\n",
    "          return items[0]['id']\n",
    "      else:\n",
    "        return None \n",
    "  except:\n",
    "      return None  "
   ],
   "outputs": [],
   "metadata": {
    "id": "7M8qI-v6gXtF"
   }
  },
  {
   "cell_type": "code",
   "execution_count": 15,
   "source": [
    "def aplica_img_album(x):\n",
    "  try:\n",
    "      dados_album = get_album_data(x)\n",
    "      time.sleep(gera_um_numero_segundos())\n",
    "      url_img = get_album_imagem(dados_album)\n",
    "      return url_img\n",
    "  except:\n",
    "      return None    "
   ],
   "outputs": [],
   "metadata": {
    "id": "Rnf2L24qqlJn"
   }
  },
  {
   "cell_type": "code",
   "execution_count": 16,
   "source": [
    "def aplica_genero_artist(nome):\n",
    "    \n",
    "    time.sleep(gera_um_numero_segundos())\n",
    "    nome = nome.strip()\n",
    "    id_artista = get_id_artista(nome)\n",
    "    artita = get_artist(id_artista)\n",
    "    time.sleep(gera_um_numero_segundos())\n",
    "    genero = get_artist_genres(artita)\n",
    "    return genero\n",
    "\n",
    "   \n",
    "    \n",
    "        \n"
   ],
   "outputs": [],
   "metadata": {
    "id": "rGxjGi8ifEh6"
   }
  },
  {
   "cell_type": "code",
   "execution_count": 32,
   "source": [
    "def gera_um_numero_segundos():\n",
    "     return np.random.randint(1,3)\n",
    "   "
   ],
   "outputs": [],
   "metadata": {
    "id": "9GgnG4B_tjRr"
   }
  },
  {
   "cell_type": "markdown",
   "source": [
    "### Lendo arquivo csv streaming spotify"
   ],
   "metadata": {
    "id": "gz93npnCw9L5"
   }
  },
  {
   "cell_type": "code",
   "execution_count": 18,
   "source": [
    "path_file_csv = '/home/mateus/Área de Trabalho//Projeto-Final/Data_Mateus/spotify/in_csv/streamingspotify.csv'"
   ],
   "outputs": [],
   "metadata": {
    "id": "n5aV_7JqqvS-"
   }
  },
  {
   "cell_type": "code",
   "execution_count": 19,
   "source": [
    "#Leitura csv para dataframe\n",
    "dfStreaming = pd.read_csv(path_file_csv)"
   ],
   "outputs": [],
   "metadata": {
    "id": "4si7IVnJxQwC"
   }
  },
  {
   "cell_type": "code",
   "execution_count": 20,
   "source": [
    "dfStreaming.head()"
   ],
   "outputs": [
    {
     "output_type": "execute_result",
     "data": {
      "text/plain": [
       "    endTime           artistName                              trackName  \\\n",
       "0  04:57:00  Padre Fábio De Melo                            Não Desisto   \n",
       "1  05:01:00  Padre Fábio De Melo                               Proteção   \n",
       "2  05:06:00  Padre Fábio De Melo                               Iluminar   \n",
       "3  05:12:00         Guilherme Sá  Oração de São Francisco - Bonus Track   \n",
       "4  05:15:00  Padre Fábio De Melo                              Trem-Bala   \n",
       "\n",
       "   msPlayed     endDate endMonth    genres  \n",
       "0  3.945083  2020-07-24      jul  adoracao  \n",
       "1  4.012883  2020-07-24      jul  adoracao  \n",
       "2  4.876983  2020-07-24      jul  adoracao  \n",
       "3  5.559333  2020-07-24      jul       NaN  \n",
       "4  3.405333  2020-07-24      jul  adoracao  "
      ],
      "text/html": [
       "<div>\n",
       "<style scoped>\n",
       "    .dataframe tbody tr th:only-of-type {\n",
       "        vertical-align: middle;\n",
       "    }\n",
       "\n",
       "    .dataframe tbody tr th {\n",
       "        vertical-align: top;\n",
       "    }\n",
       "\n",
       "    .dataframe thead th {\n",
       "        text-align: right;\n",
       "    }\n",
       "</style>\n",
       "<table border=\"1\" class=\"dataframe\">\n",
       "  <thead>\n",
       "    <tr style=\"text-align: right;\">\n",
       "      <th></th>\n",
       "      <th>endTime</th>\n",
       "      <th>artistName</th>\n",
       "      <th>trackName</th>\n",
       "      <th>msPlayed</th>\n",
       "      <th>endDate</th>\n",
       "      <th>endMonth</th>\n",
       "      <th>genres</th>\n",
       "    </tr>\n",
       "  </thead>\n",
       "  <tbody>\n",
       "    <tr>\n",
       "      <th>0</th>\n",
       "      <td>04:57:00</td>\n",
       "      <td>Padre Fábio De Melo</td>\n",
       "      <td>Não Desisto</td>\n",
       "      <td>3.945083</td>\n",
       "      <td>2020-07-24</td>\n",
       "      <td>jul</td>\n",
       "      <td>adoracao</td>\n",
       "    </tr>\n",
       "    <tr>\n",
       "      <th>1</th>\n",
       "      <td>05:01:00</td>\n",
       "      <td>Padre Fábio De Melo</td>\n",
       "      <td>Proteção</td>\n",
       "      <td>4.012883</td>\n",
       "      <td>2020-07-24</td>\n",
       "      <td>jul</td>\n",
       "      <td>adoracao</td>\n",
       "    </tr>\n",
       "    <tr>\n",
       "      <th>2</th>\n",
       "      <td>05:06:00</td>\n",
       "      <td>Padre Fábio De Melo</td>\n",
       "      <td>Iluminar</td>\n",
       "      <td>4.876983</td>\n",
       "      <td>2020-07-24</td>\n",
       "      <td>jul</td>\n",
       "      <td>adoracao</td>\n",
       "    </tr>\n",
       "    <tr>\n",
       "      <th>3</th>\n",
       "      <td>05:12:00</td>\n",
       "      <td>Guilherme Sá</td>\n",
       "      <td>Oração de São Francisco - Bonus Track</td>\n",
       "      <td>5.559333</td>\n",
       "      <td>2020-07-24</td>\n",
       "      <td>jul</td>\n",
       "      <td>NaN</td>\n",
       "    </tr>\n",
       "    <tr>\n",
       "      <th>4</th>\n",
       "      <td>05:15:00</td>\n",
       "      <td>Padre Fábio De Melo</td>\n",
       "      <td>Trem-Bala</td>\n",
       "      <td>3.405333</td>\n",
       "      <td>2020-07-24</td>\n",
       "      <td>jul</td>\n",
       "      <td>adoracao</td>\n",
       "    </tr>\n",
       "  </tbody>\n",
       "</table>\n",
       "</div>"
      ]
     },
     "metadata": {},
     "execution_count": 20
    }
   ],
   "metadata": {
    "colab": {
     "base_uri": "https://localhost:8080/",
     "height": 289
    },
    "executionInfo": {
     "elapsed": 31,
     "status": "ok",
     "timestamp": 1627230410765,
     "user": {
      "displayName": "Mateus Varelo",
      "photoUrl": "https://lh3.googleusercontent.com/a-/AOh14Gg73LYxIEbDHChnMebSrZ-v0SG3yQkkQ5nkmXD3x6k=s64",
      "userId": "15384696535292950454"
     },
     "user_tz": 180
    },
    "id": "diK1PpslxhPw",
    "outputId": "387f56c5-6004-49d0-ffe1-a41e579033a5"
   }
  },
  {
   "cell_type": "code",
   "execution_count": 36,
   "source": [
    "df_name_artista = pd.DataFrame(dfStreaming['artistName'].unique(),columns=['nome'])\n",
    "df_name_artista.head()"
   ],
   "outputs": [
    {
     "output_type": "execute_result",
     "data": {
      "text/plain": [
       "                  nome\n",
       "0  Padre Fábio De Melo\n",
       "1         Guilherme Sá\n",
       "2          Maria Clara\n",
       "3  Padre Marcelo Rossi\n",
       "4            MC Splash"
      ],
      "text/html": [
       "<div>\n",
       "<style scoped>\n",
       "    .dataframe tbody tr th:only-of-type {\n",
       "        vertical-align: middle;\n",
       "    }\n",
       "\n",
       "    .dataframe tbody tr th {\n",
       "        vertical-align: top;\n",
       "    }\n",
       "\n",
       "    .dataframe thead th {\n",
       "        text-align: right;\n",
       "    }\n",
       "</style>\n",
       "<table border=\"1\" class=\"dataframe\">\n",
       "  <thead>\n",
       "    <tr style=\"text-align: right;\">\n",
       "      <th></th>\n",
       "      <th>nome</th>\n",
       "    </tr>\n",
       "  </thead>\n",
       "  <tbody>\n",
       "    <tr>\n",
       "      <th>0</th>\n",
       "      <td>Padre Fábio De Melo</td>\n",
       "    </tr>\n",
       "    <tr>\n",
       "      <th>1</th>\n",
       "      <td>Guilherme Sá</td>\n",
       "    </tr>\n",
       "    <tr>\n",
       "      <th>2</th>\n",
       "      <td>Maria Clara</td>\n",
       "    </tr>\n",
       "    <tr>\n",
       "      <th>3</th>\n",
       "      <td>Padre Marcelo Rossi</td>\n",
       "    </tr>\n",
       "    <tr>\n",
       "      <th>4</th>\n",
       "      <td>MC Splash</td>\n",
       "    </tr>\n",
       "  </tbody>\n",
       "</table>\n",
       "</div>"
      ]
     },
     "metadata": {},
     "execution_count": 36
    }
   ],
   "metadata": {}
  },
  {
   "cell_type": "code",
   "execution_count": 34,
   "source": [
    "lista_id_artista = [ get_id_artista(nome) for nome in dfStreaming['artistName'].unique()[0:5]]"
   ],
   "outputs": [],
   "metadata": {}
  },
  {
   "cell_type": "code",
   "execution_count": 35,
   "source": [
    "lista_id_artista"
   ],
   "outputs": [
    {
     "output_type": "execute_result",
     "data": {
      "text/plain": [
       "['72G62rG7kmq4GFOzyjJV4q',\n",
       " None,\n",
       " '2f7WgZUIxWzg5KRU5y0fVc',\n",
       " '0BLa22ZCJcTxW78hoNlFA9',\n",
       " '0c0Nl7NXA0uen7PWAEUPII']"
      ]
     },
     "metadata": {},
     "execution_count": 35
    }
   ],
   "metadata": {}
  },
  {
   "cell_type": "code",
   "execution_count": 21,
   "source": [
    "dfStreaming.info()"
   ],
   "outputs": [
    {
     "output_type": "stream",
     "name": "stdout",
     "text": [
      "<class 'pandas.core.frame.DataFrame'>\n",
      "RangeIndex: 1678 entries, 0 to 1677\n",
      "Data columns (total 7 columns):\n",
      " #   Column      Non-Null Count  Dtype  \n",
      "---  ------      --------------  -----  \n",
      " 0   endTime     1678 non-null   object \n",
      " 1   artistName  1678 non-null   object \n",
      " 2   trackName   1678 non-null   object \n",
      " 3   msPlayed    1678 non-null   float64\n",
      " 4   endDate     1678 non-null   object \n",
      " 5   endMonth    1678 non-null   object \n",
      " 6   genres      9 non-null      object \n",
      "dtypes: float64(1), object(6)\n",
      "memory usage: 91.9+ KB\n"
     ]
    }
   ],
   "metadata": {
    "id": "1jpBZZKP9-p8"
   }
  },
  {
   "cell_type": "code",
   "execution_count": 37,
   "source": [
    "df_name_artista['id_artista'] = df_name_artista['nome'].apply(get_id_artista)\n"
   ],
   "outputs": [],
   "metadata": {
    "colab": {
     "base_uri": "https://localhost:8080/",
     "height": 340
    },
    "id": "I44Zdufoxq_y",
    "outputId": "32b35a6c-2956-4a09-a4c6-7b32582d0087"
   }
  },
  {
   "cell_type": "code",
   "execution_count": 38,
   "source": [
    "df_name_artista.head()"
   ],
   "outputs": [
    {
     "output_type": "execute_result",
     "data": {
      "text/plain": [
       "                  nome              id_artista\n",
       "0  Padre Fábio De Melo  72G62rG7kmq4GFOzyjJV4q\n",
       "1         Guilherme Sá                    None\n",
       "2          Maria Clara  2f7WgZUIxWzg5KRU5y0fVc\n",
       "3  Padre Marcelo Rossi  0BLa22ZCJcTxW78hoNlFA9\n",
       "4            MC Splash  0c0Nl7NXA0uen7PWAEUPII"
      ],
      "text/html": [
       "<div>\n",
       "<style scoped>\n",
       "    .dataframe tbody tr th:only-of-type {\n",
       "        vertical-align: middle;\n",
       "    }\n",
       "\n",
       "    .dataframe tbody tr th {\n",
       "        vertical-align: top;\n",
       "    }\n",
       "\n",
       "    .dataframe thead th {\n",
       "        text-align: right;\n",
       "    }\n",
       "</style>\n",
       "<table border=\"1\" class=\"dataframe\">\n",
       "  <thead>\n",
       "    <tr style=\"text-align: right;\">\n",
       "      <th></th>\n",
       "      <th>nome</th>\n",
       "      <th>id_artista</th>\n",
       "    </tr>\n",
       "  </thead>\n",
       "  <tbody>\n",
       "    <tr>\n",
       "      <th>0</th>\n",
       "      <td>Padre Fábio De Melo</td>\n",
       "      <td>72G62rG7kmq4GFOzyjJV4q</td>\n",
       "    </tr>\n",
       "    <tr>\n",
       "      <th>1</th>\n",
       "      <td>Guilherme Sá</td>\n",
       "      <td>None</td>\n",
       "    </tr>\n",
       "    <tr>\n",
       "      <th>2</th>\n",
       "      <td>Maria Clara</td>\n",
       "      <td>2f7WgZUIxWzg5KRU5y0fVc</td>\n",
       "    </tr>\n",
       "    <tr>\n",
       "      <th>3</th>\n",
       "      <td>Padre Marcelo Rossi</td>\n",
       "      <td>0BLa22ZCJcTxW78hoNlFA9</td>\n",
       "    </tr>\n",
       "    <tr>\n",
       "      <th>4</th>\n",
       "      <td>MC Splash</td>\n",
       "      <td>0c0Nl7NXA0uen7PWAEUPII</td>\n",
       "    </tr>\n",
       "  </tbody>\n",
       "</table>\n",
       "</div>"
      ]
     },
     "metadata": {},
     "execution_count": 38
    }
   ],
   "metadata": {}
  },
  {
   "cell_type": "code",
   "execution_count": 48,
   "source": [
    "dfStreaming.head()"
   ],
   "outputs": [
    {
     "output_type": "execute_result",
     "data": {
      "text/plain": [
       "    endTime           artistName          trackName  msPlayed     endDate  \\\n",
       "0  04:57:00  Padre Fábio De Melo        Não Desisto  3.945083  2020-07-24   \n",
       "1  05:01:00  Padre Fábio De Melo           Proteção  4.012883  2020-07-24   \n",
       "2  05:06:00  Padre Fábio De Melo           Iluminar  4.876983  2020-07-24   \n",
       "3  05:15:00  Padre Fábio De Melo          Trem-Bala  3.405333  2020-07-24   \n",
       "4  05:20:00  Padre Fábio De Melo  Como É Bom Sentir  4.525583  2020-07-24   \n",
       "\n",
       "  endMonth              id_artista  \n",
       "0      jul  72G62rG7kmq4GFOzyjJV4q  \n",
       "1      jul  72G62rG7kmq4GFOzyjJV4q  \n",
       "2      jul  72G62rG7kmq4GFOzyjJV4q  \n",
       "3      jul  72G62rG7kmq4GFOzyjJV4q  \n",
       "4      jul  72G62rG7kmq4GFOzyjJV4q  "
      ],
      "text/html": [
       "<div>\n",
       "<style scoped>\n",
       "    .dataframe tbody tr th:only-of-type {\n",
       "        vertical-align: middle;\n",
       "    }\n",
       "\n",
       "    .dataframe tbody tr th {\n",
       "        vertical-align: top;\n",
       "    }\n",
       "\n",
       "    .dataframe thead th {\n",
       "        text-align: right;\n",
       "    }\n",
       "</style>\n",
       "<table border=\"1\" class=\"dataframe\">\n",
       "  <thead>\n",
       "    <tr style=\"text-align: right;\">\n",
       "      <th></th>\n",
       "      <th>endTime</th>\n",
       "      <th>artistName</th>\n",
       "      <th>trackName</th>\n",
       "      <th>msPlayed</th>\n",
       "      <th>endDate</th>\n",
       "      <th>endMonth</th>\n",
       "      <th>id_artista</th>\n",
       "    </tr>\n",
       "  </thead>\n",
       "  <tbody>\n",
       "    <tr>\n",
       "      <th>0</th>\n",
       "      <td>04:57:00</td>\n",
       "      <td>Padre Fábio De Melo</td>\n",
       "      <td>Não Desisto</td>\n",
       "      <td>3.945083</td>\n",
       "      <td>2020-07-24</td>\n",
       "      <td>jul</td>\n",
       "      <td>72G62rG7kmq4GFOzyjJV4q</td>\n",
       "    </tr>\n",
       "    <tr>\n",
       "      <th>1</th>\n",
       "      <td>05:01:00</td>\n",
       "      <td>Padre Fábio De Melo</td>\n",
       "      <td>Proteção</td>\n",
       "      <td>4.012883</td>\n",
       "      <td>2020-07-24</td>\n",
       "      <td>jul</td>\n",
       "      <td>72G62rG7kmq4GFOzyjJV4q</td>\n",
       "    </tr>\n",
       "    <tr>\n",
       "      <th>2</th>\n",
       "      <td>05:06:00</td>\n",
       "      <td>Padre Fábio De Melo</td>\n",
       "      <td>Iluminar</td>\n",
       "      <td>4.876983</td>\n",
       "      <td>2020-07-24</td>\n",
       "      <td>jul</td>\n",
       "      <td>72G62rG7kmq4GFOzyjJV4q</td>\n",
       "    </tr>\n",
       "    <tr>\n",
       "      <th>3</th>\n",
       "      <td>05:15:00</td>\n",
       "      <td>Padre Fábio De Melo</td>\n",
       "      <td>Trem-Bala</td>\n",
       "      <td>3.405333</td>\n",
       "      <td>2020-07-24</td>\n",
       "      <td>jul</td>\n",
       "      <td>72G62rG7kmq4GFOzyjJV4q</td>\n",
       "    </tr>\n",
       "    <tr>\n",
       "      <th>4</th>\n",
       "      <td>05:20:00</td>\n",
       "      <td>Padre Fábio De Melo</td>\n",
       "      <td>Como É Bom Sentir</td>\n",
       "      <td>4.525583</td>\n",
       "      <td>2020-07-24</td>\n",
       "      <td>jul</td>\n",
       "      <td>72G62rG7kmq4GFOzyjJV4q</td>\n",
       "    </tr>\n",
       "  </tbody>\n",
       "</table>\n",
       "</div>"
      ]
     },
     "metadata": {},
     "execution_count": 48
    }
   ],
   "metadata": {}
  },
  {
   "cell_type": "code",
   "execution_count": 49,
   "source": [
    "dfStreaming.rename({'id_artista':'artistId'},inplace= True)"
   ],
   "outputs": [],
   "metadata": {}
  },
  {
   "cell_type": "code",
   "execution_count": 46,
   "source": [
    "dfStreaming.drop('genres',axis = 1,inplace = True)"
   ],
   "outputs": [],
   "metadata": {}
  },
  {
   "cell_type": "code",
   "execution_count": 47,
   "source": [
    "dfStreaming.to_csv('/home/mateus/Área de Trabalho//Projeto-Final/Data_Mateus/spotify/in_csv/streamingspotify.csv',index = False)"
   ],
   "outputs": [],
   "metadata": {
    "id": "wFNZorHg4myP"
   }
  },
  {
   "cell_type": "markdown",
   "source": [
    "**Lendo CSV para df dos albums MateusSpotify**"
   ],
   "metadata": {
    "id": "Gts08-rWSv2T"
   }
  },
  {
   "cell_type": "code",
   "execution_count": null,
   "source": [
    "path_file_csv = '/home/mateus/Área de Trabalho/Projeto-Final/Data_Mateus/spotify/in_csv/albumsSpotifyMateus.csv'"
   ],
   "outputs": [],
   "metadata": {
    "id": "cYi7wrLSSrVw"
   }
  },
  {
   "cell_type": "code",
   "execution_count": null,
   "source": [
    "dfAlbumsSpotify = pd.read_csv(path_file_csv)"
   ],
   "outputs": [],
   "metadata": {
    "id": "mgVExgPPTHNu"
   }
  },
  {
   "cell_type": "code",
   "execution_count": null,
   "source": [
    "dfAlbumsSpotify.head(30)"
   ],
   "outputs": [
    {
     "output_type": "execute_result",
     "data": {
      "text/plain": [
       "    Unnamed: 0                        artist  \\\n",
       "0            0                      Ferrugem   \n",
       "1            1  MC Loma e As Gêmeas Lacração   \n",
       "2            2  MC Loma e As Gêmeas Lacração   \n",
       "3            3               Various Artists   \n",
       "4            4               Various Artists   \n",
       "5            5              Marília Mendonça   \n",
       "6            6              Marília Mendonça   \n",
       "7            7       César Menotti & Fabiano   \n",
       "8            8       César Menotti & Fabiano   \n",
       "9            9       César Menotti & Fabiano   \n",
       "10          10       César Menotti & Fabiano   \n",
       "11          11       César Menotti & Fabiano   \n",
       "12          12                      MC Denny   \n",
       "13          13                      DJ Edgar   \n",
       "14          14           Zé Neto & Cristiano   \n",
       "15          15           Zé Neto & Cristiano   \n",
       "16          16           Zé Neto & Cristiano   \n",
       "\n",
       "                                    album  \\\n",
       "0                 Prazer, eu sou Ferrugem   \n",
       "1                            Envolvimento   \n",
       "2                            Envolvimento   \n",
       "3                       O Melhor do Forró   \n",
       "4             Funk Digital Brasil, Vol. 1   \n",
       "5                          A Culpa É Dele   \n",
       "6                          A Culpa É Dele   \n",
       "7                     Não Importa o Lugar   \n",
       "8                     Não Importa o Lugar   \n",
       "9                     Não Importa o Lugar   \n",
       "10                    Não Importa o Lugar   \n",
       "11                    Não Importa o Lugar   \n",
       "12                           Pára de K.Ô.   \n",
       "13           Baile Funk With High Quality   \n",
       "14  Zé Neto & Cristiano - Acústico, Pt. 3   \n",
       "15  Zé Neto & Cristiano - Acústico, Pt. 3   \n",
       "16  Zé Neto & Cristiano - Acústico, Pt. 3   \n",
       "\n",
       "                                     uri                    genre  \\\n",
       "0   spotify:album:3SkOXrdSri5EIpDpUvfdm3                   pagode   \n",
       "1   spotify:album:3GnrnufuuDBC8Kf6D5CyIi               brega funk   \n",
       "2   spotify:album:3GnrnufuuDBC8Kf6D5CyIi             funk carioca   \n",
       "3   spotify:album:7z8pp6TJ8GdlVdqlWUSJAf                    forró   \n",
       "4   spotify:album:1z4o1D7IFYEBWG6oaHjpeW                     funk   \n",
       "5   spotify:album:4tmae6KLsIiuA3VpH2abUj                sertanejo   \n",
       "6   spotify:album:4tmae6KLsIiuA3VpH2abUj            sertanejo pop   \n",
       "7   spotify:album:1Nt4LmMgyiCck3q9koNmgg                      axe   \n",
       "8   spotify:album:1Nt4LmMgyiCck3q9koNmgg                   pagode   \n",
       "9   spotify:album:1Nt4LmMgyiCck3q9koNmgg                sertanejo   \n",
       "10  spotify:album:1Nt4LmMgyiCck3q9koNmgg            sertanejo pop   \n",
       "11  spotify:album:1Nt4LmMgyiCck3q9koNmgg  sertanejo universitario   \n",
       "12  spotify:album:3tf8UzjMdAQQId4WWJPOQz                      NaN   \n",
       "13  spotify:album:6PNoazZXtvWKHCfeA8p3it                      NaN   \n",
       "14  spotify:album:6ONBBEUsiQikekyqrIOOdM                sertanejo   \n",
       "15  spotify:album:6ONBBEUsiQikekyqrIOOdM            sertanejo pop   \n",
       "16  spotify:album:6ONBBEUsiQikekyqrIOOdM  sertanejo universitario   \n",
       "\n",
       "                                           imageAlbum  \n",
       "0   https://i.scdn.co/image/ab67616d00001e02dd8f10...  \n",
       "1   https://i.scdn.co/image/ab67616d00001e0204b4ef...  \n",
       "2   https://i.scdn.co/image/ab67616d00001e0204b4ef...  \n",
       "3                                                 NaN  \n",
       "4                                                 NaN  \n",
       "5   https://i.scdn.co/image/ab67616d00001e0279f3c0...  \n",
       "6   https://i.scdn.co/image/ab67616d00001e0279f3c0...  \n",
       "7   https://i.scdn.co/image/ab67616d00001e029a4f44...  \n",
       "8   https://i.scdn.co/image/ab67616d00001e029a4f44...  \n",
       "9   https://i.scdn.co/image/ab67616d00001e029a4f44...  \n",
       "10  https://i.scdn.co/image/ab67616d00001e029a4f44...  \n",
       "11  https://i.scdn.co/image/ab67616d00001e029a4f44...  \n",
       "12  https://i.scdn.co/image/ab67616d00001e02f8a0c7...  \n",
       "13  https://i.scdn.co/image/ab67616d00001e020d0050...  \n",
       "14  https://i.scdn.co/image/ab67616d00001e02eb4ae1...  \n",
       "15  https://i.scdn.co/image/ab67616d00001e02eb4ae1...  \n",
       "16  https://i.scdn.co/image/ab67616d00001e02eb4ae1...  "
      ],
      "text/html": [
       "<div>\n",
       "<style scoped>\n",
       "    .dataframe tbody tr th:only-of-type {\n",
       "        vertical-align: middle;\n",
       "    }\n",
       "\n",
       "    .dataframe tbody tr th {\n",
       "        vertical-align: top;\n",
       "    }\n",
       "\n",
       "    .dataframe thead th {\n",
       "        text-align: right;\n",
       "    }\n",
       "</style>\n",
       "<table border=\"1\" class=\"dataframe\">\n",
       "  <thead>\n",
       "    <tr style=\"text-align: right;\">\n",
       "      <th></th>\n",
       "      <th>Unnamed: 0</th>\n",
       "      <th>artist</th>\n",
       "      <th>album</th>\n",
       "      <th>uri</th>\n",
       "      <th>genre</th>\n",
       "      <th>imageAlbum</th>\n",
       "    </tr>\n",
       "  </thead>\n",
       "  <tbody>\n",
       "    <tr>\n",
       "      <th>0</th>\n",
       "      <td>0</td>\n",
       "      <td>Ferrugem</td>\n",
       "      <td>Prazer, eu sou Ferrugem</td>\n",
       "      <td>spotify:album:3SkOXrdSri5EIpDpUvfdm3</td>\n",
       "      <td>pagode</td>\n",
       "      <td>https://i.scdn.co/image/ab67616d00001e02dd8f10...</td>\n",
       "    </tr>\n",
       "    <tr>\n",
       "      <th>1</th>\n",
       "      <td>1</td>\n",
       "      <td>MC Loma e As Gêmeas Lacração</td>\n",
       "      <td>Envolvimento</td>\n",
       "      <td>spotify:album:3GnrnufuuDBC8Kf6D5CyIi</td>\n",
       "      <td>brega funk</td>\n",
       "      <td>https://i.scdn.co/image/ab67616d00001e0204b4ef...</td>\n",
       "    </tr>\n",
       "    <tr>\n",
       "      <th>2</th>\n",
       "      <td>2</td>\n",
       "      <td>MC Loma e As Gêmeas Lacração</td>\n",
       "      <td>Envolvimento</td>\n",
       "      <td>spotify:album:3GnrnufuuDBC8Kf6D5CyIi</td>\n",
       "      <td>funk carioca</td>\n",
       "      <td>https://i.scdn.co/image/ab67616d00001e0204b4ef...</td>\n",
       "    </tr>\n",
       "    <tr>\n",
       "      <th>3</th>\n",
       "      <td>3</td>\n",
       "      <td>Various Artists</td>\n",
       "      <td>O Melhor do Forró</td>\n",
       "      <td>spotify:album:7z8pp6TJ8GdlVdqlWUSJAf</td>\n",
       "      <td>forró</td>\n",
       "      <td>NaN</td>\n",
       "    </tr>\n",
       "    <tr>\n",
       "      <th>4</th>\n",
       "      <td>4</td>\n",
       "      <td>Various Artists</td>\n",
       "      <td>Funk Digital Brasil, Vol. 1</td>\n",
       "      <td>spotify:album:1z4o1D7IFYEBWG6oaHjpeW</td>\n",
       "      <td>funk</td>\n",
       "      <td>NaN</td>\n",
       "    </tr>\n",
       "    <tr>\n",
       "      <th>5</th>\n",
       "      <td>5</td>\n",
       "      <td>Marília Mendonça</td>\n",
       "      <td>A Culpa É Dele</td>\n",
       "      <td>spotify:album:4tmae6KLsIiuA3VpH2abUj</td>\n",
       "      <td>sertanejo</td>\n",
       "      <td>https://i.scdn.co/image/ab67616d00001e0279f3c0...</td>\n",
       "    </tr>\n",
       "    <tr>\n",
       "      <th>6</th>\n",
       "      <td>6</td>\n",
       "      <td>Marília Mendonça</td>\n",
       "      <td>A Culpa É Dele</td>\n",
       "      <td>spotify:album:4tmae6KLsIiuA3VpH2abUj</td>\n",
       "      <td>sertanejo pop</td>\n",
       "      <td>https://i.scdn.co/image/ab67616d00001e0279f3c0...</td>\n",
       "    </tr>\n",
       "    <tr>\n",
       "      <th>7</th>\n",
       "      <td>7</td>\n",
       "      <td>César Menotti &amp; Fabiano</td>\n",
       "      <td>Não Importa o Lugar</td>\n",
       "      <td>spotify:album:1Nt4LmMgyiCck3q9koNmgg</td>\n",
       "      <td>axe</td>\n",
       "      <td>https://i.scdn.co/image/ab67616d00001e029a4f44...</td>\n",
       "    </tr>\n",
       "    <tr>\n",
       "      <th>8</th>\n",
       "      <td>8</td>\n",
       "      <td>César Menotti &amp; Fabiano</td>\n",
       "      <td>Não Importa o Lugar</td>\n",
       "      <td>spotify:album:1Nt4LmMgyiCck3q9koNmgg</td>\n",
       "      <td>pagode</td>\n",
       "      <td>https://i.scdn.co/image/ab67616d00001e029a4f44...</td>\n",
       "    </tr>\n",
       "    <tr>\n",
       "      <th>9</th>\n",
       "      <td>9</td>\n",
       "      <td>César Menotti &amp; Fabiano</td>\n",
       "      <td>Não Importa o Lugar</td>\n",
       "      <td>spotify:album:1Nt4LmMgyiCck3q9koNmgg</td>\n",
       "      <td>sertanejo</td>\n",
       "      <td>https://i.scdn.co/image/ab67616d00001e029a4f44...</td>\n",
       "    </tr>\n",
       "    <tr>\n",
       "      <th>10</th>\n",
       "      <td>10</td>\n",
       "      <td>César Menotti &amp; Fabiano</td>\n",
       "      <td>Não Importa o Lugar</td>\n",
       "      <td>spotify:album:1Nt4LmMgyiCck3q9koNmgg</td>\n",
       "      <td>sertanejo pop</td>\n",
       "      <td>https://i.scdn.co/image/ab67616d00001e029a4f44...</td>\n",
       "    </tr>\n",
       "    <tr>\n",
       "      <th>11</th>\n",
       "      <td>11</td>\n",
       "      <td>César Menotti &amp; Fabiano</td>\n",
       "      <td>Não Importa o Lugar</td>\n",
       "      <td>spotify:album:1Nt4LmMgyiCck3q9koNmgg</td>\n",
       "      <td>sertanejo universitario</td>\n",
       "      <td>https://i.scdn.co/image/ab67616d00001e029a4f44...</td>\n",
       "    </tr>\n",
       "    <tr>\n",
       "      <th>12</th>\n",
       "      <td>12</td>\n",
       "      <td>MC Denny</td>\n",
       "      <td>Pára de K.Ô.</td>\n",
       "      <td>spotify:album:3tf8UzjMdAQQId4WWJPOQz</td>\n",
       "      <td>NaN</td>\n",
       "      <td>https://i.scdn.co/image/ab67616d00001e02f8a0c7...</td>\n",
       "    </tr>\n",
       "    <tr>\n",
       "      <th>13</th>\n",
       "      <td>13</td>\n",
       "      <td>DJ Edgar</td>\n",
       "      <td>Baile Funk With High Quality</td>\n",
       "      <td>spotify:album:6PNoazZXtvWKHCfeA8p3it</td>\n",
       "      <td>NaN</td>\n",
       "      <td>https://i.scdn.co/image/ab67616d00001e020d0050...</td>\n",
       "    </tr>\n",
       "    <tr>\n",
       "      <th>14</th>\n",
       "      <td>14</td>\n",
       "      <td>Zé Neto &amp; Cristiano</td>\n",
       "      <td>Zé Neto &amp; Cristiano - Acústico, Pt. 3</td>\n",
       "      <td>spotify:album:6ONBBEUsiQikekyqrIOOdM</td>\n",
       "      <td>sertanejo</td>\n",
       "      <td>https://i.scdn.co/image/ab67616d00001e02eb4ae1...</td>\n",
       "    </tr>\n",
       "    <tr>\n",
       "      <th>15</th>\n",
       "      <td>15</td>\n",
       "      <td>Zé Neto &amp; Cristiano</td>\n",
       "      <td>Zé Neto &amp; Cristiano - Acústico, Pt. 3</td>\n",
       "      <td>spotify:album:6ONBBEUsiQikekyqrIOOdM</td>\n",
       "      <td>sertanejo pop</td>\n",
       "      <td>https://i.scdn.co/image/ab67616d00001e02eb4ae1...</td>\n",
       "    </tr>\n",
       "    <tr>\n",
       "      <th>16</th>\n",
       "      <td>16</td>\n",
       "      <td>Zé Neto &amp; Cristiano</td>\n",
       "      <td>Zé Neto &amp; Cristiano - Acústico, Pt. 3</td>\n",
       "      <td>spotify:album:6ONBBEUsiQikekyqrIOOdM</td>\n",
       "      <td>sertanejo universitario</td>\n",
       "      <td>https://i.scdn.co/image/ab67616d00001e02eb4ae1...</td>\n",
       "    </tr>\n",
       "  </tbody>\n",
       "</table>\n",
       "</div>"
      ]
     },
     "metadata": {},
     "execution_count": 113
    }
   ],
   "metadata": {
    "id": "cbTIYyRwTQAn"
   }
  },
  {
   "cell_type": "code",
   "execution_count": null,
   "source": [
    "dfAlbumsSpotify.info()"
   ],
   "outputs": [
    {
     "output_type": "stream",
     "name": "stdout",
     "text": [
      "<class 'pandas.core.frame.DataFrame'>\n",
      "RangeIndex: 17 entries, 0 to 16\n",
      "Data columns (total 6 columns):\n",
      " #   Column      Non-Null Count  Dtype \n",
      "---  ------      --------------  ----- \n",
      " 0   Unnamed: 0  17 non-null     int64 \n",
      " 1   artist      17 non-null     object\n",
      " 2   album       17 non-null     object\n",
      " 3   uri         17 non-null     object\n",
      " 4   genre       15 non-null     object\n",
      " 5   imageAlbum  15 non-null     object\n",
      "dtypes: int64(1), object(5)\n",
      "memory usage: 944.0+ bytes\n"
     ]
    }
   ],
   "metadata": {
    "id": "6PprRC1WUYrd"
   }
  },
  {
   "cell_type": "code",
   "execution_count": null,
   "source": [
    "#Aplicando genero a alguns albums pelo artista \n",
    "dfAlbumsSpotify['genre'] = dfAlbumsSpotify['uri'].apply(aplica_genero_album)"
   ],
   "outputs": [],
   "metadata": {
    "id": "IfeoAV6tTTRd"
   }
  },
  {
   "cell_type": "code",
   "execution_count": null,
   "source": [
    "dfAlbumsSpotify.head()"
   ],
   "outputs": [
    {
     "output_type": "execute_result",
     "data": {
      "text/plain": [
       "   Unnamed: 0                        artist                        album  \\\n",
       "0           0                      Ferrugem      Prazer, eu sou Ferrugem   \n",
       "1           1  MC Loma e As Gêmeas Lacração                 Envolvimento   \n",
       "2           2  MC Loma e As Gêmeas Lacração                 Envolvimento   \n",
       "3           3               Various Artists            O Melhor do Forró   \n",
       "4           4               Various Artists  Funk Digital Brasil, Vol. 1   \n",
       "\n",
       "                                    uri       genre  \\\n",
       "0  spotify:album:3SkOXrdSri5EIpDpUvfdm3      pagode   \n",
       "1  spotify:album:3GnrnufuuDBC8Kf6D5CyIi  brega funk   \n",
       "2  spotify:album:3GnrnufuuDBC8Kf6D5CyIi  brega funk   \n",
       "3  spotify:album:7z8pp6TJ8GdlVdqlWUSJAf        None   \n",
       "4  spotify:album:1z4o1D7IFYEBWG6oaHjpeW        None   \n",
       "\n",
       "                                          imageAlbum  \n",
       "0  https://i.scdn.co/image/ab67616d00001e02dd8f10...  \n",
       "1  https://i.scdn.co/image/ab67616d00001e0204b4ef...  \n",
       "2  https://i.scdn.co/image/ab67616d00001e0204b4ef...  \n",
       "3                                                NaN  \n",
       "4                                                NaN  "
      ],
      "text/html": [
       "<div>\n",
       "<style scoped>\n",
       "    .dataframe tbody tr th:only-of-type {\n",
       "        vertical-align: middle;\n",
       "    }\n",
       "\n",
       "    .dataframe tbody tr th {\n",
       "        vertical-align: top;\n",
       "    }\n",
       "\n",
       "    .dataframe thead th {\n",
       "        text-align: right;\n",
       "    }\n",
       "</style>\n",
       "<table border=\"1\" class=\"dataframe\">\n",
       "  <thead>\n",
       "    <tr style=\"text-align: right;\">\n",
       "      <th></th>\n",
       "      <th>Unnamed: 0</th>\n",
       "      <th>artist</th>\n",
       "      <th>album</th>\n",
       "      <th>uri</th>\n",
       "      <th>genre</th>\n",
       "      <th>imageAlbum</th>\n",
       "    </tr>\n",
       "  </thead>\n",
       "  <tbody>\n",
       "    <tr>\n",
       "      <th>0</th>\n",
       "      <td>0</td>\n",
       "      <td>Ferrugem</td>\n",
       "      <td>Prazer, eu sou Ferrugem</td>\n",
       "      <td>spotify:album:3SkOXrdSri5EIpDpUvfdm3</td>\n",
       "      <td>pagode</td>\n",
       "      <td>https://i.scdn.co/image/ab67616d00001e02dd8f10...</td>\n",
       "    </tr>\n",
       "    <tr>\n",
       "      <th>1</th>\n",
       "      <td>1</td>\n",
       "      <td>MC Loma e As Gêmeas Lacração</td>\n",
       "      <td>Envolvimento</td>\n",
       "      <td>spotify:album:3GnrnufuuDBC8Kf6D5CyIi</td>\n",
       "      <td>brega funk</td>\n",
       "      <td>https://i.scdn.co/image/ab67616d00001e0204b4ef...</td>\n",
       "    </tr>\n",
       "    <tr>\n",
       "      <th>2</th>\n",
       "      <td>2</td>\n",
       "      <td>MC Loma e As Gêmeas Lacração</td>\n",
       "      <td>Envolvimento</td>\n",
       "      <td>spotify:album:3GnrnufuuDBC8Kf6D5CyIi</td>\n",
       "      <td>brega funk</td>\n",
       "      <td>https://i.scdn.co/image/ab67616d00001e0204b4ef...</td>\n",
       "    </tr>\n",
       "    <tr>\n",
       "      <th>3</th>\n",
       "      <td>3</td>\n",
       "      <td>Various Artists</td>\n",
       "      <td>O Melhor do Forró</td>\n",
       "      <td>spotify:album:7z8pp6TJ8GdlVdqlWUSJAf</td>\n",
       "      <td>None</td>\n",
       "      <td>NaN</td>\n",
       "    </tr>\n",
       "    <tr>\n",
       "      <th>4</th>\n",
       "      <td>4</td>\n",
       "      <td>Various Artists</td>\n",
       "      <td>Funk Digital Brasil, Vol. 1</td>\n",
       "      <td>spotify:album:1z4o1D7IFYEBWG6oaHjpeW</td>\n",
       "      <td>None</td>\n",
       "      <td>NaN</td>\n",
       "    </tr>\n",
       "  </tbody>\n",
       "</table>\n",
       "</div>"
      ]
     },
     "metadata": {},
     "execution_count": 116
    }
   ],
   "metadata": {
    "id": "Nmh5j-9qi6I-"
   }
  },
  {
   "cell_type": "code",
   "execution_count": null,
   "source": [
    "#Aplicando ao artista que estão com nome varios artista o genero pela sua descrição.\n",
    "dfAlbumsSpotify.loc[2]['genre'] = 'forró'\n",
    "dfAlbumsSpotify.loc[3]['genre'] = 'funk'"
   ],
   "outputs": [
    {
     "output_type": "stream",
     "name": "stderr",
     "text": [
      "/home/mateus/Repositorios/Projeto_Modulo_5/.venv/lib/python3.8/site-packages/pandas/core/series.py:1056: SettingWithCopyWarning: \n",
      "A value is trying to be set on a copy of a slice from a DataFrame\n",
      "\n",
      "See the caveats in the documentation: https://pandas.pydata.org/pandas-docs/stable/user_guide/indexing.html#returning-a-view-versus-a-copy\n",
      "  cacher_needs_updating = self._check_is_chained_assignment_possible()\n"
     ]
    }
   ],
   "metadata": {
    "id": "lIKeVtWKjxC2"
   }
  },
  {
   "cell_type": "code",
   "execution_count": null,
   "source": [
    "    #Dividindo  a coluna genero, ja que é uma lista de genero.\n",
    "dfAlbumsSpotify = dfAlbumsSpotify.explode('genre',ignore_index= True)\n",
    "dfAlbumsSpotify.head(10)"
   ],
   "outputs": [
    {
     "output_type": "execute_result",
     "data": {
      "text/plain": [
       "   Unnamed: 0                        artist                        album  \\\n",
       "0           0                      Ferrugem      Prazer, eu sou Ferrugem   \n",
       "1           1  MC Loma e As Gêmeas Lacração                 Envolvimento   \n",
       "2           2  MC Loma e As Gêmeas Lacração                 Envolvimento   \n",
       "3           3               Various Artists            O Melhor do Forró   \n",
       "4           4               Various Artists  Funk Digital Brasil, Vol. 1   \n",
       "5           5              Marília Mendonça               A Culpa É Dele   \n",
       "6           6              Marília Mendonça               A Culpa É Dele   \n",
       "7           7       César Menotti & Fabiano          Não Importa o Lugar   \n",
       "8           8       César Menotti & Fabiano          Não Importa o Lugar   \n",
       "9           9       César Menotti & Fabiano          Não Importa o Lugar   \n",
       "\n",
       "                                    uri       genre  \\\n",
       "0  spotify:album:3SkOXrdSri5EIpDpUvfdm3      pagode   \n",
       "1  spotify:album:3GnrnufuuDBC8Kf6D5CyIi  brega funk   \n",
       "2  spotify:album:3GnrnufuuDBC8Kf6D5CyIi  brega funk   \n",
       "3  spotify:album:7z8pp6TJ8GdlVdqlWUSJAf        None   \n",
       "4  spotify:album:1z4o1D7IFYEBWG6oaHjpeW        None   \n",
       "5  spotify:album:4tmae6KLsIiuA3VpH2abUj   sertanejo   \n",
       "6  spotify:album:4tmae6KLsIiuA3VpH2abUj   sertanejo   \n",
       "7  spotify:album:1Nt4LmMgyiCck3q9koNmgg         axe   \n",
       "8  spotify:album:1Nt4LmMgyiCck3q9koNmgg         axe   \n",
       "9  spotify:album:1Nt4LmMgyiCck3q9koNmgg         axe   \n",
       "\n",
       "                                          imageAlbum  \n",
       "0  https://i.scdn.co/image/ab67616d00001e02dd8f10...  \n",
       "1  https://i.scdn.co/image/ab67616d00001e0204b4ef...  \n",
       "2  https://i.scdn.co/image/ab67616d00001e0204b4ef...  \n",
       "3                                                NaN  \n",
       "4                                                NaN  \n",
       "5  https://i.scdn.co/image/ab67616d00001e0279f3c0...  \n",
       "6  https://i.scdn.co/image/ab67616d00001e0279f3c0...  \n",
       "7  https://i.scdn.co/image/ab67616d00001e029a4f44...  \n",
       "8  https://i.scdn.co/image/ab67616d00001e029a4f44...  \n",
       "9  https://i.scdn.co/image/ab67616d00001e029a4f44...  "
      ],
      "text/html": [
       "<div>\n",
       "<style scoped>\n",
       "    .dataframe tbody tr th:only-of-type {\n",
       "        vertical-align: middle;\n",
       "    }\n",
       "\n",
       "    .dataframe tbody tr th {\n",
       "        vertical-align: top;\n",
       "    }\n",
       "\n",
       "    .dataframe thead th {\n",
       "        text-align: right;\n",
       "    }\n",
       "</style>\n",
       "<table border=\"1\" class=\"dataframe\">\n",
       "  <thead>\n",
       "    <tr style=\"text-align: right;\">\n",
       "      <th></th>\n",
       "      <th>Unnamed: 0</th>\n",
       "      <th>artist</th>\n",
       "      <th>album</th>\n",
       "      <th>uri</th>\n",
       "      <th>genre</th>\n",
       "      <th>imageAlbum</th>\n",
       "    </tr>\n",
       "  </thead>\n",
       "  <tbody>\n",
       "    <tr>\n",
       "      <th>0</th>\n",
       "      <td>0</td>\n",
       "      <td>Ferrugem</td>\n",
       "      <td>Prazer, eu sou Ferrugem</td>\n",
       "      <td>spotify:album:3SkOXrdSri5EIpDpUvfdm3</td>\n",
       "      <td>pagode</td>\n",
       "      <td>https://i.scdn.co/image/ab67616d00001e02dd8f10...</td>\n",
       "    </tr>\n",
       "    <tr>\n",
       "      <th>1</th>\n",
       "      <td>1</td>\n",
       "      <td>MC Loma e As Gêmeas Lacração</td>\n",
       "      <td>Envolvimento</td>\n",
       "      <td>spotify:album:3GnrnufuuDBC8Kf6D5CyIi</td>\n",
       "      <td>brega funk</td>\n",
       "      <td>https://i.scdn.co/image/ab67616d00001e0204b4ef...</td>\n",
       "    </tr>\n",
       "    <tr>\n",
       "      <th>2</th>\n",
       "      <td>2</td>\n",
       "      <td>MC Loma e As Gêmeas Lacração</td>\n",
       "      <td>Envolvimento</td>\n",
       "      <td>spotify:album:3GnrnufuuDBC8Kf6D5CyIi</td>\n",
       "      <td>brega funk</td>\n",
       "      <td>https://i.scdn.co/image/ab67616d00001e0204b4ef...</td>\n",
       "    </tr>\n",
       "    <tr>\n",
       "      <th>3</th>\n",
       "      <td>3</td>\n",
       "      <td>Various Artists</td>\n",
       "      <td>O Melhor do Forró</td>\n",
       "      <td>spotify:album:7z8pp6TJ8GdlVdqlWUSJAf</td>\n",
       "      <td>None</td>\n",
       "      <td>NaN</td>\n",
       "    </tr>\n",
       "    <tr>\n",
       "      <th>4</th>\n",
       "      <td>4</td>\n",
       "      <td>Various Artists</td>\n",
       "      <td>Funk Digital Brasil, Vol. 1</td>\n",
       "      <td>spotify:album:1z4o1D7IFYEBWG6oaHjpeW</td>\n",
       "      <td>None</td>\n",
       "      <td>NaN</td>\n",
       "    </tr>\n",
       "    <tr>\n",
       "      <th>5</th>\n",
       "      <td>5</td>\n",
       "      <td>Marília Mendonça</td>\n",
       "      <td>A Culpa É Dele</td>\n",
       "      <td>spotify:album:4tmae6KLsIiuA3VpH2abUj</td>\n",
       "      <td>sertanejo</td>\n",
       "      <td>https://i.scdn.co/image/ab67616d00001e0279f3c0...</td>\n",
       "    </tr>\n",
       "    <tr>\n",
       "      <th>6</th>\n",
       "      <td>6</td>\n",
       "      <td>Marília Mendonça</td>\n",
       "      <td>A Culpa É Dele</td>\n",
       "      <td>spotify:album:4tmae6KLsIiuA3VpH2abUj</td>\n",
       "      <td>sertanejo</td>\n",
       "      <td>https://i.scdn.co/image/ab67616d00001e0279f3c0...</td>\n",
       "    </tr>\n",
       "    <tr>\n",
       "      <th>7</th>\n",
       "      <td>7</td>\n",
       "      <td>César Menotti &amp; Fabiano</td>\n",
       "      <td>Não Importa o Lugar</td>\n",
       "      <td>spotify:album:1Nt4LmMgyiCck3q9koNmgg</td>\n",
       "      <td>axe</td>\n",
       "      <td>https://i.scdn.co/image/ab67616d00001e029a4f44...</td>\n",
       "    </tr>\n",
       "    <tr>\n",
       "      <th>8</th>\n",
       "      <td>8</td>\n",
       "      <td>César Menotti &amp; Fabiano</td>\n",
       "      <td>Não Importa o Lugar</td>\n",
       "      <td>spotify:album:1Nt4LmMgyiCck3q9koNmgg</td>\n",
       "      <td>axe</td>\n",
       "      <td>https://i.scdn.co/image/ab67616d00001e029a4f44...</td>\n",
       "    </tr>\n",
       "    <tr>\n",
       "      <th>9</th>\n",
       "      <td>9</td>\n",
       "      <td>César Menotti &amp; Fabiano</td>\n",
       "      <td>Não Importa o Lugar</td>\n",
       "      <td>spotify:album:1Nt4LmMgyiCck3q9koNmgg</td>\n",
       "      <td>axe</td>\n",
       "      <td>https://i.scdn.co/image/ab67616d00001e029a4f44...</td>\n",
       "    </tr>\n",
       "  </tbody>\n",
       "</table>\n",
       "</div>"
      ]
     },
     "metadata": {},
     "execution_count": 118
    }
   ],
   "metadata": {
    "id": "7REe3kzlo84Y"
   }
  },
  {
   "cell_type": "code",
   "execution_count": null,
   "source": [
    "#Aplicando uma nova coluna ao df com a informação de link da imagem do album\n",
    "dfAlbumsSpotify['imageAlbum'] = dfAlbumsSpotify.query('artist != \"Various Artists\"')['uri'].apply(aplica_img_album)"
   ],
   "outputs": [],
   "metadata": {
    "id": "XeZX6iEOsxut"
   }
  },
  {
   "cell_type": "code",
   "execution_count": null,
   "source": [
    "dfAlbumsSpotify.to_csv(path_file_csv,index = True)"
   ],
   "outputs": [],
   "metadata": {
    "id": "EULhvtXs_Dpn"
   }
  },
  {
   "cell_type": "markdown",
   "source": [],
   "metadata": {
    "id": "21rR48Mj_a0a"
   }
  }
 ],
 "metadata": {
  "colab": {
   "authorship_tag": "ABX9TyOKd1Xc9Tus3wFFCFMYnVi3",
   "collapsed_sections": [],
   "mount_file_id": "1mnfyOsoFzakoQiqBq7LlUq0wO8j0j4IL",
   "name": "alimentandoBasespotifyApi.ipynb",
   "provenance": []
  },
  "kernelspec": {
   "name": "python3",
   "display_name": "Python 3.8.10 64-bit ('.venv': venv)"
  },
  "language_info": {
   "codemirror_mode": {
    "name": "ipython",
    "version": 3
   },
   "file_extension": ".py",
   "mimetype": "text/x-python",
   "name": "python",
   "nbconvert_exporter": "python",
   "pygments_lexer": "ipython3",
   "version": "3.8.10"
  },
  "interpreter": {
   "hash": "cf3f271fe67d784bbf85f4ffd9a2a655e5d080e1c1fc4d081ba9aa5ddf323350"
  }
 },
 "nbformat": 4,
 "nbformat_minor": 1
}