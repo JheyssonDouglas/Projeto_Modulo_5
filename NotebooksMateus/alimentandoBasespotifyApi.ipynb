{
 "cells": [
  {
   "cell_type": "markdown",
   "metadata": {
    "id": "xm3m_zMJ2tnB"
   },
   "source": [
    "### Consumindo api spotify\n",
    "* Isntalando api spotify"
   ]
  },
  {
   "cell_type": "markdown",
   "metadata": {
    "id": "Xz_-CAjy1g04"
   },
   "source": [
    "**Extraindo base de dados para analise exploratoria** \n",
    "  * Spotify"
   ]
  },
  {
   "cell_type": "code",
   "execution_count": 28,
   "metadata": {
    "colab": {
     "base_uri": "https://localhost:8080/"
    },
    "executionInfo": {
     "elapsed": 3297,
     "status": "ok",
     "timestamp": 1627230409776,
     "user": {
      "displayName": "Mateus Varelo",
      "photoUrl": "https://lh3.googleusercontent.com/a-/AOh14Gg73LYxIEbDHChnMebSrZ-v0SG3yQkkQ5nkmXD3x6k=s64",
      "userId": "15384696535292950454"
     },
     "user_tz": 180
    },
    "id": "vVbOX3kG1van",
    "outputId": "df0785e7-83f5-4ac6-86a0-e24fac1f1c8c"
   },
   "outputs": [
    {
     "name": "stdout",
     "output_type": "stream",
     "text": [
      "Requirement already satisfied: spotipy in /home/mateus/.local/lib/python3.8/site-packages (2.18.0)\n",
      "Requirement already satisfied: six>=1.15.0 in /home/mateus/.local/lib/python3.8/site-packages (from spotipy) (1.16.0)\n",
      "Requirement already satisfied: urllib3>=1.26.0 in /home/mateus/.local/lib/python3.8/site-packages (from spotipy) (1.26.6)\n",
      "Requirement already satisfied: requests>=2.25.0 in /home/mateus/.local/lib/python3.8/site-packages (from spotipy) (2.26.0)\n",
      "Requirement already satisfied: charset-normalizer~=2.0.0; python_version >= \"3\" in /home/mateus/.local/lib/python3.8/site-packages (from requests>=2.25.0->spotipy) (2.0.3)\n",
      "Requirement already satisfied: idna<4,>=2.5; python_version >= \"3\" in /usr/lib/python3/dist-packages (from requests>=2.25.0->spotipy) (2.8)\n",
      "Requirement already satisfied: certifi>=2017.4.17 in /usr/lib/python3/dist-packages (from requests>=2.25.0->spotipy) (2019.11.28)\n",
      "Note: you may need to restart the kernel to use updated packages.\n"
     ]
    }
   ],
   "source": [
    "pip install spotipy"
   ]
  },
  {
   "cell_type": "markdown",
   "metadata": {
    "id": "3ajcPolFtjTB"
   },
   "source": [
    "### Espaço para importações de bibliotecas utilizadas"
   ]
  },
  {
   "cell_type": "code",
   "execution_count": 29,
   "metadata": {},
   "outputs": [
    {
     "name": "stdout",
     "output_type": "stream",
     "text": [
      "Requirement already satisfied: matplotlib in /home/mateus/.local/lib/python3.8/site-packages (3.4.2)\n",
      "Requirement already satisfied: pillow>=6.2.0 in /usr/lib/python3/dist-packages (from matplotlib) (7.0.0)\n",
      "Requirement already satisfied: numpy>=1.16 in /home/mateus/.local/lib/python3.8/site-packages (from matplotlib) (1.21.1)\n",
      "Requirement already satisfied: python-dateutil>=2.7 in /home/mateus/.local/lib/python3.8/site-packages (from matplotlib) (2.8.1)\n",
      "Requirement already satisfied: cycler>=0.10 in /home/mateus/.local/lib/python3.8/site-packages (from matplotlib) (0.10.0)\n",
      "Requirement already satisfied: kiwisolver>=1.0.1 in /home/mateus/.local/lib/python3.8/site-packages (from matplotlib) (1.3.1)\n",
      "Requirement already satisfied: pyparsing>=2.2.1 in /usr/lib/python3/dist-packages (from matplotlib) (2.4.6)\n",
      "Requirement already satisfied: six>=1.5 in /home/mateus/.local/lib/python3.8/site-packages (from python-dateutil>=2.7->matplotlib) (1.16.0)\n",
      "Note: you may need to restart the kernel to use updated packages.\n"
     ]
    }
   ],
   "source": [
    "pip install matplotlib"
   ]
  },
  {
   "cell_type": "code",
   "execution_count": 30,
   "metadata": {
    "id": "JCFVIbIcfpJc"
   },
   "outputs": [],
   "source": [
    "import pandas as pd\n",
    "import matplotlib.pyplot as plt\n",
    "import json\n",
    "import numpy as np\n",
    "import spotipy\n",
    "from spotipy.oauth2 import SpotifyClientCredentials\n",
    "import sys\n",
    "import time"
   ]
  },
  {
   "cell_type": "markdown",
   "metadata": {
    "id": "TDuOXU98tQwa"
   },
   "source": [
    "### Espaço para autenticação de usuário para acesso a API **spotify**"
   ]
  },
  {
   "cell_type": "code",
   "execution_count": 31,
   "metadata": {
    "id": "whq5br2r3Z1u"
   },
   "outputs": [],
   "source": [
    "#Autenticação api\n",
    "cid =\"75b0d6f3334a4b689620eda9f917844a\" \n",
    "secret = \"ca50b30849d24b5d88508296ee9e6d98\" \n",
    "client_credentials_manager = SpotifyClientCredentials(client_id=cid, \n",
    "client_secret=secret) \n",
    "\n",
    "sp = spotipy.Spotify(client_credentials_manager=client_credentials_manager) \n",
    "sp.trace=False"
   ]
  },
  {
   "cell_type": "code",
   "execution_count": 32,
   "metadata": {
    "id": "PWFob5Y5qDua"
   },
   "outputs": [],
   "source": [
    "#### **Funções usadas nesse notebook**"
   ]
  },
  {
   "cell_type": "code",
   "execution_count": 33,
   "metadata": {
    "id": "jVoBC3binQCK"
   },
   "outputs": [],
   "source": [
    "def get_album_data(album_id):\n",
    "    time.sleep(gera_um_numero_segundos())\n",
    "    try: \n",
    "\n",
    "       data = sp.album(album_id)\n",
    "       return data\n",
    "    except:\n",
    "       return None  "
   ]
  },
  {
   "cell_type": "code",
   "execution_count": 34,
   "metadata": {
    "id": "i4Lk41ZOvyTy"
   },
   "outputs": [],
   "source": [
    "def get_album_data_artista(album_id):\n",
    "    try:\n",
    "      data = sp.album(album_id)\n",
    "      return data['artists']\n",
    "    except:\n",
    "      return None    "
   ]
  },
  {
   "cell_type": "code",
   "execution_count": 35,
   "metadata": {
    "id": "lOUviw-0q4DW"
   },
   "outputs": [],
   "source": [
    "def  get_uri(artista_data):\n",
    "    time.sleep(gera_um_numero_segundos())\n",
    "    try:\n",
    "       return artista_data[0]['uri']\n",
    "    except:\n",
    "       return None  "
   ]
  },
  {
   "cell_type": "code",
   "execution_count": 36,
   "metadata": {
    "id": "OUF5ZSCipQsp"
   },
   "outputs": [],
   "source": [
    "def get_artist(artista_id):\n",
    "  time.sleep(gera_um_numero_segundos())\n",
    "  try:\n",
    "    resultado = sp.artist(artista_id)\n",
    "    return resultado\n",
    "  except:\n",
    "    return None  "
   ]
  },
  {
   "cell_type": "code",
   "execution_count": 37,
   "metadata": {
    "id": "ZaumqGj9q2oA"
   },
   "outputs": [],
   "source": [
    "def get_album_imagem(album_dados):\n",
    "   time.sleep(gera_um_numero_segundos())\n",
    "   try:\n",
    "       img = album_dados['images'][1]['url']\n",
    "       return img\n",
    "   except:\n",
    "       return None   "
   ]
  },
  {
   "cell_type": "code",
   "execution_count": 38,
   "metadata": {
    "id": "8YjPKW21EHEc"
   },
   "outputs": [],
   "source": [
    "def get_url_img(artista_data):\n",
    "    time.sleep(gera_um_numero_segundos())\n",
    "    try:\n",
    "      url = artista_data['images'][1]['url']\n",
    "      return url\n",
    "    except:\n",
    "      return None  "
   ]
  },
  {
   "cell_type": "code",
   "execution_count": 39,
   "metadata": {
    "id": "mbzJQH0hNGwo"
   },
   "outputs": [],
   "source": [
    "def get_artist_genres(artista_data):\n",
    "    time.sleep(gera_um_numero_segundos())\n",
    "    try:\n",
    "      genre = artista_data['genres'] \n",
    "      return genre\n",
    "    except:\n",
    "      return None    "
   ]
  },
  {
   "cell_type": "code",
   "execution_count": 40,
   "metadata": {
    "id": "T0BLLpcRaHEf"
   },
   "outputs": [],
   "source": [
    "def aplica_genero_album(x):\n",
    "  \n",
    "  try:\n",
    "      dados_album = get_album_data(x)\n",
    "      time.sleep(gera_um_numero_segundos())\n",
    "      dados_artista_album = get_album_data_artista(x)\n",
    "      uri_artista = get_uri(dados_artista_album)\n",
    "      time.sleep(gera_um_numero_segundos())\n",
    "      dado_artista = get_artist(uri_artista)\n",
    "      time.sleep(gera_um_numero_segundos())\n",
    "      genero_artista = get_artist_genres(dado_artista)\n",
    "      return genero_artista \n",
    "  except:\n",
    "      return None   "
   ]
  },
  {
   "cell_type": "code",
   "execution_count": 41,
   "metadata": {
    "id": "7M8qI-v6gXtF"
   },
   "outputs": [],
   "source": [
    "def get_id_artista(nome):\n",
    "  time.sleep(gera_um_numero_segundos())\n",
    "  resul = sp.search(q=nome,type = 'artist')\n",
    "  try:\n",
    "      items = resul['artists']['items']\n",
    "      nome_busca = items[0]['name']\n",
    "      if len(items) > 0:\n",
    "        if nome == nome_busca:\n",
    "          return items[0]['id']\n",
    "      else:\n",
    "        return None \n",
    "  except:\n",
    "      return None  "
   ]
  },
  {
   "cell_type": "code",
   "execution_count": 42,
   "metadata": {
    "id": "Rnf2L24qqlJn"
   },
   "outputs": [],
   "source": [
    "def aplica_img_album(x):\n",
    "  try:\n",
    "      dados_album = get_album_data(x)\n",
    "      time.sleep(gera_um_numero_segundos())\n",
    "      url_img = get_album_imagem(dados_album)\n",
    "      return url_img\n",
    "  except:\n",
    "      return None    "
   ]
  },
  {
   "cell_type": "code",
   "execution_count": 43,
   "metadata": {
    "id": "rGxjGi8ifEh6"
   },
   "outputs": [],
   "source": [
    "def aplica_genero_artist(nome):\n",
    "    \n",
    "    time.sleep(gera_um_numero_segundos())\n",
    "\n",
    "    try:\n",
    "        nome = nome.strip()\n",
    "        id_artista = get_id_artista(nome.strip())\n",
    "        time.sleep(gera_um_numero_segundos())\n",
    "        artita = get_artist(id_artista)\n",
    "        time.sleep(gera_um_numero_segundos())\n",
    "        genero = get_artist_genres(artita)\n",
    "        return genero\n",
    "    except:\n",
    "        return None   \n"
   ]
  },
  {
   "cell_type": "code",
   "execution_count": 44,
   "metadata": {
    "id": "9GgnG4B_tjRr"
   },
   "outputs": [],
   "source": [
    "def gera_um_numero_segundos():\n",
    "     return np.random.randint(4,8)\n",
    "   "
   ]
  },
  {
   "cell_type": "markdown",
   "metadata": {
    "id": "gz93npnCw9L5"
   },
   "source": [
    "### Lendo arquivo csv streaming spotify"
   ]
  },
  {
   "cell_type": "code",
   "execution_count": 45,
   "metadata": {
    "id": "n5aV_7JqqvS-"
   },
   "outputs": [],
   "source": [
    "path_file_csv = '/home/mateus/Área de Trabalho//Projeto-Final/Data_Mateus/spotify/in_csv/streamingspotify.csv'"
   ]
  },
  {
   "cell_type": "code",
   "execution_count": 46,
   "metadata": {
    "id": "4si7IVnJxQwC"
   },
   "outputs": [],
   "source": [
    "#Leitura csv para dataframe\n",
    "dfStreaming = pd.read_csv(path_file_csv)"
   ]
  },
  {
   "cell_type": "code",
   "execution_count": 47,
   "metadata": {
    "colab": {
     "base_uri": "https://localhost:8080/",
     "height": 289
    },
    "executionInfo": {
     "elapsed": 31,
     "status": "ok",
     "timestamp": 1627230410765,
     "user": {
      "displayName": "Mateus Varelo",
      "photoUrl": "https://lh3.googleusercontent.com/a-/AOh14Gg73LYxIEbDHChnMebSrZ-v0SG3yQkkQ5nkmXD3x6k=s64",
      "userId": "15384696535292950454"
     },
     "user_tz": 180
    },
    "id": "diK1PpslxhPw",
    "outputId": "387f56c5-6004-49d0-ffe1-a41e579033a5"
   },
   "outputs": [
    {
     "data": {
      "text/html": [
       "<div>\n",
       "<style scoped>\n",
       "    .dataframe tbody tr th:only-of-type {\n",
       "        vertical-align: middle;\n",
       "    }\n",
       "\n",
       "    .dataframe tbody tr th {\n",
       "        vertical-align: top;\n",
       "    }\n",
       "\n",
       "    .dataframe thead th {\n",
       "        text-align: right;\n",
       "    }\n",
       "</style>\n",
       "<table border=\"1\" class=\"dataframe\">\n",
       "  <thead>\n",
       "    <tr style=\"text-align: right;\">\n",
       "      <th></th>\n",
       "      <th>endTime</th>\n",
       "      <th>artistName</th>\n",
       "      <th>trackName</th>\n",
       "      <th>msPlayed</th>\n",
       "      <th>endDate</th>\n",
       "      <th>endMonth</th>\n",
       "    </tr>\n",
       "  </thead>\n",
       "  <tbody>\n",
       "    <tr>\n",
       "      <th>0</th>\n",
       "      <td>04:57:00</td>\n",
       "      <td>Padre Fábio De Melo</td>\n",
       "      <td>Não Desisto</td>\n",
       "      <td>3.945083</td>\n",
       "      <td>2020-07-24</td>\n",
       "      <td>jul</td>\n",
       "    </tr>\n",
       "    <tr>\n",
       "      <th>1</th>\n",
       "      <td>05:01:00</td>\n",
       "      <td>Padre Fábio De Melo</td>\n",
       "      <td>Proteção</td>\n",
       "      <td>4.012883</td>\n",
       "      <td>2020-07-24</td>\n",
       "      <td>jul</td>\n",
       "    </tr>\n",
       "    <tr>\n",
       "      <th>2</th>\n",
       "      <td>05:06:00</td>\n",
       "      <td>Padre Fábio De Melo</td>\n",
       "      <td>Iluminar</td>\n",
       "      <td>4.876983</td>\n",
       "      <td>2020-07-24</td>\n",
       "      <td>jul</td>\n",
       "    </tr>\n",
       "    <tr>\n",
       "      <th>3</th>\n",
       "      <td>05:12:00</td>\n",
       "      <td>Guilherme Sá</td>\n",
       "      <td>Oração de São Francisco - Bonus Track</td>\n",
       "      <td>5.559333</td>\n",
       "      <td>2020-07-24</td>\n",
       "      <td>jul</td>\n",
       "    </tr>\n",
       "    <tr>\n",
       "      <th>4</th>\n",
       "      <td>05:15:00</td>\n",
       "      <td>Padre Fábio De Melo</td>\n",
       "      <td>Trem-Bala</td>\n",
       "      <td>3.405333</td>\n",
       "      <td>2020-07-24</td>\n",
       "      <td>jul</td>\n",
       "    </tr>\n",
       "  </tbody>\n",
       "</table>\n",
       "</div>"
      ],
      "text/plain": [
       "    endTime           artistName                              trackName  \\\n",
       "0  04:57:00  Padre Fábio De Melo                            Não Desisto   \n",
       "1  05:01:00  Padre Fábio De Melo                               Proteção   \n",
       "2  05:06:00  Padre Fábio De Melo                               Iluminar   \n",
       "3  05:12:00         Guilherme Sá  Oração de São Francisco - Bonus Track   \n",
       "4  05:15:00  Padre Fábio De Melo                              Trem-Bala   \n",
       "\n",
       "   msPlayed     endDate endMonth  \n",
       "0  3.945083  2020-07-24      jul  \n",
       "1  4.012883  2020-07-24      jul  \n",
       "2  4.876983  2020-07-24      jul  \n",
       "3  5.559333  2020-07-24      jul  \n",
       "4  3.405333  2020-07-24      jul  "
      ]
     },
     "execution_count": 47,
     "metadata": {},
     "output_type": "execute_result"
    }
   ],
   "source": [
    "dfStreaming.head()"
   ]
  },
  {
   "cell_type": "code",
   "execution_count": 48,
   "metadata": {
    "id": "1jpBZZKP9-p8"
   },
   "outputs": [
    {
     "name": "stdout",
     "output_type": "stream",
     "text": [
      "<class 'pandas.core.frame.DataFrame'>\n",
      "RangeIndex: 1678 entries, 0 to 1677\n",
      "Data columns (total 6 columns):\n",
      " #   Column      Non-Null Count  Dtype  \n",
      "---  ------      --------------  -----  \n",
      " 0   endTime     1678 non-null   object \n",
      " 1   artistName  1678 non-null   object \n",
      " 2   trackName   1678 non-null   object \n",
      " 3   msPlayed    1678 non-null   float64\n",
      " 4   endDate     1678 non-null   object \n",
      " 5   endMonth    1678 non-null   object \n",
      "dtypes: float64(1), object(5)\n",
      "memory usage: 78.8+ KB\n"
     ]
    }
   ],
   "source": [
    "dfStreaming.info()"
   ]
  },
  {
   "cell_type": "code",
   "execution_count": null,
   "metadata": {
    "id": "lgy5HIMKApTv"
   },
   "outputs": [],
   "source": []
  },
  {
   "cell_type": "code",
   "execution_count": null,
   "metadata": {
    "colab": {
     "base_uri": "https://localhost:8080/",
     "height": 340
    },
    "id": "I44Zdufoxq_y",
    "outputId": "32b35a6c-2956-4a09-a4c6-7b32582d0087"
   },
   "outputs": [],
   "source": [
    "dfStreaming['genres'] = dfStreaming['artistName'].apply(aplica_genero_artist)\n"
   ]
  },
  {
   "cell_type": "code",
   "execution_count": null,
   "metadata": {},
   "outputs": [],
   "source": [
    "dfStreaming.head()"
   ]
  },
  {
   "cell_type": "code",
   "execution_count": null,
   "metadata": {
    "id": "wFNZorHg4myP"
   },
   "outputs": [],
   "source": [
    "dfStreaming.to_csv('/home/mateus/Área de Trabalho//Projeto-Final/Data_Mateus/spotify/in_csv/streamingspotify.csv',index = False)"
   ]
  },
  {
   "cell_type": "markdown",
   "metadata": {
    "id": "Gts08-rWSv2T"
   },
   "source": [
    "**Lendo CSV para df dos albums MateusSpotify**"
   ]
  },
  {
   "cell_type": "code",
   "execution_count": null,
   "metadata": {
    "id": "cYi7wrLSSrVw"
   },
   "outputs": [],
   "source": [
    "path_file_csv = '/home/mateus/Área de Trabalho/Projeto-Final/Data_Mateus/spotify/in_csv/albumsSpotifyMateus.csv'"
   ]
  },
  {
   "cell_type": "code",
   "execution_count": null,
   "metadata": {
    "id": "mgVExgPPTHNu"
   },
   "outputs": [],
   "source": [
    "dfAlbumsSpotify = pd.read_csv(path_file_csv)"
   ]
  },
  {
   "cell_type": "code",
   "execution_count": null,
   "metadata": {
    "id": "cbTIYyRwTQAn"
   },
   "outputs": [],
   "source": [
    "dfAlbumsSpotify.head(30)"
   ]
  },
  {
   "cell_type": "code",
   "execution_count": null,
   "metadata": {
    "id": "6PprRC1WUYrd"
   },
   "outputs": [],
   "source": [
    "dfAlbumsSpotify.info()"
   ]
  },
  {
   "cell_type": "code",
   "execution_count": null,
   "metadata": {
    "id": "IfeoAV6tTTRd"
   },
   "outputs": [],
   "source": [
    "#Aplicando genero a alguns albums pelo artista \n",
    "dfAlbumsSpotify['genre'] = dfAlbumsSpotify['uri'].apply(aplica_genero_album)"
   ]
  },
  {
   "cell_type": "code",
   "execution_count": null,
   "metadata": {
    "id": "Nmh5j-9qi6I-"
   },
   "outputs": [],
   "source": [
    "dfAlbumsSpotify.head()"
   ]
  },
  {
   "cell_type": "code",
   "execution_count": null,
   "metadata": {
    "id": "lIKeVtWKjxC2"
   },
   "outputs": [],
   "source": [
    "#Aplicando ao artista que estão com nome varios artista o genero pela sua descrição.\n",
    "dfAlbumsSpotify.loc[2]['genre'] = 'forró'\n",
    "dfAlbumsSpotify.loc[3]['genre'] = 'funk'"
   ]
  },
  {
   "cell_type": "code",
   "execution_count": null,
   "metadata": {
    "id": "7REe3kzlo84Y"
   },
   "outputs": [],
   "source": [
    "#Dividindo  a coluna genero, ja que é uma lista de genero.\n",
    "dfAlbumsSpotify = dfAlbumsSpotify.explode('genre',ignore_index= True)\n",
    "dfAlbumsSpotify.head(10)"
   ]
  },
  {
   "cell_type": "code",
   "execution_count": null,
   "metadata": {
    "id": "XeZX6iEOsxut"
   },
   "outputs": [],
   "source": [
    "#Aplicando uma nova coluna ao df com a informação de link da imagem do album\n",
    "dfAlbumsSpotify['imageAlbum'] = dfAlbumsSpotify.query('artist != \"Various Artists\"')['uri'].apply(aplica_img_album)"
   ]
  },
  {
   "cell_type": "code",
   "execution_count": null,
   "metadata": {
    "id": "EULhvtXs_Dpn"
   },
   "outputs": [],
   "source": [
    "dfAlbumsSpotify.to_csv(path_file_csv,index = True)"
   ]
  },
  {
   "cell_type": "markdown",
   "metadata": {
    "id": "21rR48Mj_a0a"
   },
   "source": []
  }
 ],
 "metadata": {
  "colab": {
   "authorship_tag": "ABX9TyOKd1Xc9Tus3wFFCFMYnVi3",
   "collapsed_sections": [],
   "mount_file_id": "1mnfyOsoFzakoQiqBq7LlUq0wO8j0j4IL",
   "name": "alimentandoBasespotifyApi.ipynb",
   "provenance": []
  },
  "kernelspec": {
   "display_name": ".venv",
   "language": "python",
   "name": ".venv"
  },
  "language_info": {
   "codemirror_mode": {
    "name": "ipython",
    "version": 3
   },
   "file_extension": ".py",
   "mimetype": "text/x-python",
   "name": "python",
   "nbconvert_exporter": "python",
   "pygments_lexer": "ipython3",
   "version": "3.8.10"
  }
 },
 "nbformat": 4,
 "nbformat_minor": 1
}
