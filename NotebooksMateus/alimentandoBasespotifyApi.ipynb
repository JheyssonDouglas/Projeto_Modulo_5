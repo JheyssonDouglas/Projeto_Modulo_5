{
 "cells": [
  {
   "cell_type": "markdown",
   "metadata": {
    "id": "xm3m_zMJ2tnB"
   },
   "source": [
    "### Consumindo api spotify\n",
    "* Isntalando api spotify"
   ]
  },
  {
   "cell_type": "markdown",
   "metadata": {
    "id": "Xz_-CAjy1g04"
   },
   "source": [
    "**Extraindo base de dados para analise exploratoria** \n",
    "  * Spotify"
   ]
  },
  {
   "cell_type": "code",
   "execution_count": 1,
   "metadata": {
    "colab": {
     "base_uri": "https://localhost:8080/"
    },
    "executionInfo": {
     "elapsed": 3297,
     "status": "ok",
     "timestamp": 1627230409776,
     "user": {
      "displayName": "Mateus Varelo",
      "photoUrl": "https://lh3.googleusercontent.com/a-/AOh14Gg73LYxIEbDHChnMebSrZ-v0SG3yQkkQ5nkmXD3x6k=s64",
      "userId": "15384696535292950454"
     },
     "user_tz": 180
    },
    "id": "vVbOX3kG1van",
    "outputId": "df0785e7-83f5-4ac6-86a0-e24fac1f1c8c"
   },
   "outputs": [
    {
     "name": "stdout",
     "output_type": "stream",
     "text": [
      "Requirement already satisfied: spotipy in /home/mateus/.local/lib/python3.8/site-packages (2.18.0)\n",
      "Requirement already satisfied: urllib3>=1.26.0 in /home/mateus/.local/lib/python3.8/site-packages (from spotipy) (1.26.6)\n",
      "Requirement already satisfied: requests>=2.25.0 in /home/mateus/.local/lib/python3.8/site-packages (from spotipy) (2.26.0)\n",
      "Requirement already satisfied: six>=1.15.0 in /home/mateus/.local/lib/python3.8/site-packages (from spotipy) (1.16.0)\n",
      "Requirement already satisfied: certifi>=2017.4.17 in /usr/lib/python3/dist-packages (from requests>=2.25.0->spotipy) (2019.11.28)\n",
      "Requirement already satisfied: charset-normalizer~=2.0.0; python_version >= \"3\" in /home/mateus/.local/lib/python3.8/site-packages (from requests>=2.25.0->spotipy) (2.0.3)\n",
      "Requirement already satisfied: idna<4,>=2.5; python_version >= \"3\" in /usr/lib/python3/dist-packages (from requests>=2.25.0->spotipy) (2.8)\n",
      "Note: you may need to restart the kernel to use updated packages.\n"
     ]
    }
   ],
   "source": [
    "pip install spotipy"
   ]
  },
  {
   "cell_type": "markdown",
   "metadata": {
    "id": "3ajcPolFtjTB"
   },
   "source": [
    "### Espaço para importações de bibliotecas utilizadas"
   ]
  },
  {
   "cell_type": "code",
   "execution_count": 2,
   "metadata": {},
   "outputs": [
    {
     "name": "stdout",
     "output_type": "stream",
     "text": [
      "Requirement already satisfied: matplotlib in /home/mateus/.local/lib/python3.8/site-packages (3.4.2)\n",
      "Requirement already satisfied: pillow>=6.2.0 in /usr/lib/python3/dist-packages (from matplotlib) (7.0.0)\n",
      "Requirement already satisfied: numpy>=1.16 in /home/mateus/.local/lib/python3.8/site-packages (from matplotlib) (1.21.1)\n",
      "Requirement already satisfied: python-dateutil>=2.7 in /home/mateus/.local/lib/python3.8/site-packages (from matplotlib) (2.8.1)\n",
      "Requirement already satisfied: cycler>=0.10 in /home/mateus/.local/lib/python3.8/site-packages (from matplotlib) (0.10.0)\n",
      "Requirement already satisfied: pyparsing>=2.2.1 in /usr/lib/python3/dist-packages (from matplotlib) (2.4.6)\n",
      "Requirement already satisfied: kiwisolver>=1.0.1 in /home/mateus/.local/lib/python3.8/site-packages (from matplotlib) (1.3.1)\n",
      "Requirement already satisfied: six>=1.5 in /home/mateus/.local/lib/python3.8/site-packages (from python-dateutil>=2.7->matplotlib) (1.16.0)\n",
      "Note: you may need to restart the kernel to use updated packages.\n"
     ]
    }
   ],
   "source": [
    "pip install matplotlib"
   ]
  },
  {
   "cell_type": "code",
   "execution_count": 3,
   "metadata": {
    "id": "JCFVIbIcfpJc"
   },
   "outputs": [],
   "source": [
    "import pandas as pd\n",
    "import matplotlib.pyplot as plt\n",
    "import json\n",
    "import numpy as np\n",
    "import spotipy\n",
    "from spotipy.oauth2 import SpotifyClientCredentials\n",
    "import sys\n",
    "import time\n",
    "import datetime\n",
    "import copy\n",
    "from math import ceil"
   ]
  },
  {
   "cell_type": "markdown",
   "metadata": {
    "id": "TDuOXU98tQwa"
   },
   "source": [
    "### Espaço para autenticação de usuário para acesso a API **spotify**"
   ]
  },
  {
   "cell_type": "code",
   "execution_count": 4,
   "metadata": {
    "id": "whq5br2r3Z1u"
   },
   "outputs": [],
   "source": [
    "#Autenticação api, forneça seus dados\n",
    "cid =\"75b0d6f3334a4b689620eda9f917844a\" \n",
    "secret = \"ca50b30849d24b5d88508296ee9e6d98\" \n",
    "client_credentials_manager = SpotifyClientCredentials(client_id=cid, \n",
    "client_secret=secret) \n",
    "\n",
    "sp = spotipy.Spotify(client_credentials_manager=client_credentials_manager) \n",
    "sp.trace=False"
   ]
  },
  {
   "cell_type": "code",
   "execution_count": 5,
   "metadata": {
    "id": "PWFob5Y5qDua"
   },
   "outputs": [],
   "source": [
    "#### **Funções usadas nesse notebook**"
   ]
  },
  {
   "cell_type": "code",
   "execution_count": 6,
   "metadata": {
    "id": "jVoBC3binQCK"
   },
   "outputs": [],
   "source": [
    "def get_album_data(album_id):#Busca dados do album com base no id do album\n",
    "    time.sleep(gera_um_numero_segundos())\n",
    "    try: \n",
    "       data = sp.album(album_id)\n",
    "       return data\n",
    "    except:\n",
    "       return np.NaN  "
   ]
  },
  {
   "cell_type": "code",
   "execution_count": 7,
   "metadata": {
    "id": "i4Lk41ZOvyTy"
   },
   "outputs": [],
   "source": [
    "def get_album_data_artista(album_data):#Busca dado do artista do album \n",
    "    try:\n",
    "          return album_data['artists'][0]\n",
    "    except:\n",
    "          return np.NaN    "
   ]
  },
  {
   "cell_type": "code",
   "execution_count": null,
   "metadata": {
    "id": "lOUviw-0q4DW"
   },
   "outputs": [],
   "source": [
    " "
   ]
  },
  {
   "cell_type": "code",
   "execution_count": 8,
   "metadata": {
    "id": "OUF5ZSCipQsp"
   },
   "outputs": [],
   "source": [
    "def get_artists(lista_id_artista): #busca todos os artista com a lista de id\n",
    "  time.sleep(gera_um_numero_segundos())\n",
    "  try:\n",
    "    resultado = sp.artists(lista_id_artista)\n",
    "    return resultado\n",
    "  except:\n",
    "    return np.NaN  "
   ]
  },
  {
   "cell_type": "code",
   "execution_count": 9,
   "metadata": {
    "id": "ZaumqGj9q2oA"
   },
   "outputs": [],
   "source": [
    "def get_album_imagem(album_dados):#busca a imagem  do album\n",
    "   time.sleep(gera_um_numero_segundos())\n",
    "   try:\n",
    "       img = album_dados['images'][1]['url']\n",
    "       return img\n",
    "   except:\n",
    "       return None   "
   ]
  },
  {
   "cell_type": "code",
   "execution_count": 10,
   "metadata": {
    "id": "8YjPKW21EHEc"
   },
   "outputs": [],
   "source": [
    "def get_artist_id(artista_data):#Busca o id do artista\n",
    "     id_artist = artista_data[0]['id']\n",
    "     return id_artist\n"
   ]
  },
  {
   "cell_type": "code",
   "execution_count": 11,
   "metadata": {},
   "outputs": [],
   "source": [
    "def get_one_artist(id_artist):#Busca um artista com base em seu id\n",
    "     artist = sp.artist(id_artist)\n",
    "     return artist   \n"
   ]
  },
  {
   "cell_type": "code",
   "execution_count": null,
   "metadata": {},
   "outputs": [],
   "source": []
  },
  {
   "cell_type": "code",
   "execution_count": null,
   "metadata": {
    "id": "mbzJQH0hNGwo"
   },
   "outputs": [],
   "source": []
  },
  {
   "cell_type": "code",
   "execution_count": 12,
   "metadata": {
    "id": "T0BLLpcRaHEf",
    "scrolled": true
   },
   "outputs": [],
   "source": [
    "def aplica_genero_album(id_album):\n",
    "  \n",
    "  try:\n",
    "      dados_album = get_album_data(id_album)\n",
    "   \n",
    "      time.sleep(gera_um_numero_segundos())\n",
    "        \n",
    "      dados_artista_album = get_album_data_artista(dados_album)\n",
    "   \n",
    "      id_artista =  get_artist_id(dados_artista_album)\n",
    "  \n",
    "      \n",
    "      time.sleep(gera_um_numero_segundos())\n",
    "    \n",
    "      dado_artista = get_one_artist(id_artista)\n",
    "    \n",
    "      time.sleep(gera_um_numero_segundos())\n",
    "    \n",
    "      genero_artista = get_artist_genre(dado_artista)\n",
    "      return genero_artista \n",
    "  except:\n",
    "      return np.nan   \n"
   ]
  },
  {
   "cell_type": "code",
   "execution_count": 13,
   "metadata": {},
   "outputs": [],
   "source": [
    "#def apply_genres(id_artista):\n",
    "                "
   ]
  },
  {
   "cell_type": "code",
   "execution_count": 14,
   "metadata": {},
   "outputs": [],
   "source": [
    "# def get_artist_data(id_artista,data):\n",
    "#     for "
   ]
  },
  {
   "cell_type": "code",
   "execution_count": 15,
   "metadata": {
    "id": "7M8qI-v6gXtF"
   },
   "outputs": [],
   "source": [
    "def get_retorno_id(nome):\n",
    "  nome = nome.strip()\n",
    "  try:\n",
    "      artista_data =  get_seacher_artist(nome)\n",
    "      id_artist = get_artist_id(artista_data)\n",
    "      return id_artist \n",
    "  except:\n",
    "      return np.nan  "
   ]
  },
  {
   "cell_type": "code",
   "execution_count": 16,
   "metadata": {},
   "outputs": [],
   "source": [
    "def get_seacher_artist(nome):\n",
    "    result = sp.search(q=nome,type = 'artist')\n",
    "    items = result['artists']['items']\n",
    "    if len(items)> 0:\n",
    "        return items\n",
    "    else:\n",
    "        return np.nan\n"
   ]
  },
  {
   "cell_type": "code",
   "execution_count": 17,
   "metadata": {
    "id": "Rnf2L24qqlJn"
   },
   "outputs": [],
   "source": [
    "def aplica_img_album(x):\n",
    "  try:\n",
    "      dados_album = get_album_data(x)\n",
    "      time.sleep(gera_um_numero_segundos())\n",
    "      url_img = get_album_imagem(dados_album)\n",
    "      return url_img\n",
    "  except:\n",
    "      return np.nan    "
   ]
  },
  {
   "cell_type": "code",
   "execution_count": 18,
   "metadata": {
    "id": "rGxjGi8ifEh6"
   },
   "outputs": [],
   "source": [
    "def get_artist_genre(artist_data):\n",
    "    \n",
    "    time.sleep(gera_um_numero_segundos())\n",
    "    try:\n",
    "      genre = artist_data['genres']\n",
    "      return genre[0]\n",
    "    except:\n",
    "      return np.NaN    \n",
    "    \n",
    "        \n"
   ]
  },
  {
   "cell_type": "code",
   "execution_count": 19,
   "metadata": {
    "id": "9GgnG4B_tjRr"
   },
   "outputs": [],
   "source": [
    "def gera_um_numero_segundos():\n",
    "     return np.random.randint(1,3)\n",
    "   "
   ]
  },
  {
   "cell_type": "markdown",
   "metadata": {
    "id": "gz93npnCw9L5"
   },
   "source": [
    "### Lendo arquivo csv streaming spotify"
   ]
  },
  {
   "cell_type": "code",
   "execution_count": 20,
   "metadata": {
    "id": "n5aV_7JqqvS-"
   },
   "outputs": [],
   "source": [
    "path_file_csv = '/home/mateus/Área de Trabalho//Projeto-Final/Data_Mateus/spotify/in_csv/streamingspotify.csv'"
   ]
  },
  {
   "cell_type": "code",
   "execution_count": 21,
   "metadata": {
    "id": "4si7IVnJxQwC"
   },
   "outputs": [],
   "source": [
    "#Leitura csv para dataframe\n",
    "dfStreaming = pd.read_csv(path_file_csv)"
   ]
  },
  {
   "cell_type": "code",
   "execution_count": 28,
   "metadata": {
    "colab": {
     "base_uri": "https://localhost:8080/",
     "height": 289
    },
    "executionInfo": {
     "elapsed": 31,
     "status": "ok",
     "timestamp": 1627230410765,
     "user": {
      "displayName": "Mateus Varelo",
      "photoUrl": "https://lh3.googleusercontent.com/a-/AOh14Gg73LYxIEbDHChnMebSrZ-v0SG3yQkkQ5nkmXD3x6k=s64",
      "userId": "15384696535292950454"
     },
     "user_tz": 180
    },
    "id": "diK1PpslxhPw",
    "outputId": "387f56c5-6004-49d0-ffe1-a41e579033a5"
   },
   "outputs": [
    {
     "data": {
      "text/html": [
       "<div>\n",
       "<style scoped>\n",
       "    .dataframe tbody tr th:only-of-type {\n",
       "        vertical-align: middle;\n",
       "    }\n",
       "\n",
       "    .dataframe tbody tr th {\n",
       "        vertical-align: top;\n",
       "    }\n",
       "\n",
       "    .dataframe thead th {\n",
       "        text-align: right;\n",
       "    }\n",
       "</style>\n",
       "<table border=\"1\" class=\"dataframe\">\n",
       "  <thead>\n",
       "    <tr style=\"text-align: right;\">\n",
       "      <th></th>\n",
       "      <th>endTime</th>\n",
       "      <th>artistName_x</th>\n",
       "      <th>trackName</th>\n",
       "      <th>msPlayed</th>\n",
       "      <th>endDate</th>\n",
       "      <th>endMonth</th>\n",
       "      <th>id_artista</th>\n",
       "      <th>url_imagem</th>\n",
       "      <th>genero</th>\n",
       "      <th>popularidade</th>\n",
       "    </tr>\n",
       "  </thead>\n",
       "  <tbody>\n",
       "    <tr>\n",
       "      <th>12</th>\n",
       "      <td>18:54:00</td>\n",
       "      <td>Padre Fábio De Melo</td>\n",
       "      <td>Realidades Essenciais e Acidentais (Ao Vivo)</td>\n",
       "      <td>52.041350</td>\n",
       "      <td>2020-08-09</td>\n",
       "      <td>ago</td>\n",
       "      <td>72G62rG7kmq4GFOzyjJV4q</td>\n",
       "      <td>https://i.scdn.co/image/ab676161000051749e4714...</td>\n",
       "      <td>adoracao</td>\n",
       "      <td>61</td>\n",
       "    </tr>\n",
       "    <tr>\n",
       "      <th>929</th>\n",
       "      <td>15:35:00</td>\n",
       "      <td>MC Kevin o Chris</td>\n",
       "      <td>Céu Azul - Poesia Acústica 7 - Ao Vivo</td>\n",
       "      <td>9.128167</td>\n",
       "      <td>2020-08-12</td>\n",
       "      <td>ago</td>\n",
       "      <td>2UMj7NCbuqy1yUZmiSYGjJ</td>\n",
       "      <td>https://i.scdn.co/image/ab6761610000517495c520...</td>\n",
       "      <td>funk 150 bpm</td>\n",
       "      <td>76</td>\n",
       "    </tr>\n",
       "    <tr>\n",
       "      <th>1643</th>\n",
       "      <td>03:30:00</td>\n",
       "      <td>Casa Worship</td>\n",
       "      <td>A Casa É Sua</td>\n",
       "      <td>9.372367</td>\n",
       "      <td>2021-01-27</td>\n",
       "      <td>jan</td>\n",
       "      <td>4bqKmu3kRUl6X7pTl1CuVs</td>\n",
       "      <td>https://i.scdn.co/image/ab676161000051746f5e49...</td>\n",
       "      <td>adoracao</td>\n",
       "      <td>67</td>\n",
       "    </tr>\n",
       "  </tbody>\n",
       "</table>\n",
       "</div>"
      ],
      "text/plain": [
       "       endTime         artistName_x  \\\n",
       "12    18:54:00  Padre Fábio De Melo   \n",
       "929   15:35:00     MC Kevin o Chris   \n",
       "1643  03:30:00         Casa Worship   \n",
       "\n",
       "                                         trackName   msPlayed     endDate  \\\n",
       "12    Realidades Essenciais e Acidentais (Ao Vivo)  52.041350  2020-08-09   \n",
       "929         Céu Azul - Poesia Acústica 7 - Ao Vivo   9.128167  2020-08-12   \n",
       "1643                                  A Casa É Sua   9.372367  2021-01-27   \n",
       "\n",
       "     endMonth              id_artista  \\\n",
       "12        ago  72G62rG7kmq4GFOzyjJV4q   \n",
       "929       ago  2UMj7NCbuqy1yUZmiSYGjJ   \n",
       "1643      jan  4bqKmu3kRUl6X7pTl1CuVs   \n",
       "\n",
       "                                             url_imagem        genero  \\\n",
       "12    https://i.scdn.co/image/ab676161000051749e4714...      adoracao   \n",
       "929   https://i.scdn.co/image/ab6761610000517495c520...  funk 150 bpm   \n",
       "1643  https://i.scdn.co/image/ab676161000051746f5e49...      adoracao   \n",
       "\n",
       "      popularidade  \n",
       "12              61  \n",
       "929             76  \n",
       "1643            67  "
      ]
     },
     "execution_count": 28,
     "metadata": {},
     "output_type": "execute_result"
    }
   ],
   "source": [
    "dfStreaming.tail(30)\n",
    "dfStreaming.query('msPlayed\t > 7')"
   ]
  },
  {
   "cell_type": "code",
   "execution_count": 23,
   "metadata": {},
   "outputs": [
    {
     "name": "stdout",
     "output_type": "stream",
     "text": [
      "<class 'pandas.core.frame.DataFrame'>\n",
      "RangeIndex: 1793 entries, 0 to 1792\n",
      "Data columns (total 10 columns):\n",
      " #   Column        Non-Null Count  Dtype  \n",
      "---  ------        --------------  -----  \n",
      " 0   endTime       1793 non-null   object \n",
      " 1   artistName_x  1793 non-null   object \n",
      " 2   trackName     1793 non-null   object \n",
      " 3   msPlayed      1793 non-null   float64\n",
      " 4   endDate       1793 non-null   object \n",
      " 5   endMonth      1793 non-null   object \n",
      " 6   id_artista    1793 non-null   object \n",
      " 7   url_imagem    1793 non-null   object \n",
      " 8   genero        1731 non-null   object \n",
      " 9   popularidade  1793 non-null   int64  \n",
      "dtypes: float64(1), int64(1), object(8)\n",
      "memory usage: 140.2+ KB\n"
     ]
    }
   ],
   "source": [
    "dfStreaming.info()"
   ]
  },
  {
   "cell_type": "code",
   "execution_count": null,
   "metadata": {},
   "outputs": [],
   "source": [
    "\n"
   ]
  },
  {
   "cell_type": "code",
   "execution_count": 24,
   "metadata": {},
   "outputs": [
    {
     "ename": "KeyError",
     "evalue": "'artistName'",
     "output_type": "error",
     "traceback": [
      "\u001b[0;31m---------------------------------------------------------------------------\u001b[0m",
      "\u001b[0;31mKeyError\u001b[0m                                  Traceback (most recent call last)",
      "\u001b[0;32m~/.local/lib/python3.8/site-packages/pandas/core/indexes/base.py\u001b[0m in \u001b[0;36mget_loc\u001b[0;34m(self, key, method, tolerance)\u001b[0m\n\u001b[1;32m   3360\u001b[0m             \u001b[0;32mtry\u001b[0m\u001b[0;34m:\u001b[0m\u001b[0;34m\u001b[0m\u001b[0;34m\u001b[0m\u001b[0m\n\u001b[0;32m-> 3361\u001b[0;31m                 \u001b[0;32mreturn\u001b[0m \u001b[0mself\u001b[0m\u001b[0;34m.\u001b[0m\u001b[0m_engine\u001b[0m\u001b[0;34m.\u001b[0m\u001b[0mget_loc\u001b[0m\u001b[0;34m(\u001b[0m\u001b[0mcasted_key\u001b[0m\u001b[0;34m)\u001b[0m\u001b[0;34m\u001b[0m\u001b[0;34m\u001b[0m\u001b[0m\n\u001b[0m\u001b[1;32m   3362\u001b[0m             \u001b[0;32mexcept\u001b[0m \u001b[0mKeyError\u001b[0m \u001b[0;32mas\u001b[0m \u001b[0merr\u001b[0m\u001b[0;34m:\u001b[0m\u001b[0;34m\u001b[0m\u001b[0;34m\u001b[0m\u001b[0m\n",
      "\u001b[0;32m~/.local/lib/python3.8/site-packages/pandas/_libs/index.pyx\u001b[0m in \u001b[0;36mpandas._libs.index.IndexEngine.get_loc\u001b[0;34m()\u001b[0m\n",
      "\u001b[0;32m~/.local/lib/python3.8/site-packages/pandas/_libs/index.pyx\u001b[0m in \u001b[0;36mpandas._libs.index.IndexEngine.get_loc\u001b[0;34m()\u001b[0m\n",
      "\u001b[0;32mpandas/_libs/hashtable_class_helper.pxi\u001b[0m in \u001b[0;36mpandas._libs.hashtable.PyObjectHashTable.get_item\u001b[0;34m()\u001b[0m\n",
      "\u001b[0;32mpandas/_libs/hashtable_class_helper.pxi\u001b[0m in \u001b[0;36mpandas._libs.hashtable.PyObjectHashTable.get_item\u001b[0;34m()\u001b[0m\n",
      "\u001b[0;31mKeyError\u001b[0m: 'artistName'",
      "\nThe above exception was the direct cause of the following exception:\n",
      "\u001b[0;31mKeyError\u001b[0m                                  Traceback (most recent call last)",
      "\u001b[0;32m<ipython-input-24-772ed8b6ecb5>\u001b[0m in \u001b[0;36m<module>\u001b[0;34m\u001b[0m\n\u001b[1;32m      1\u001b[0m \u001b[0;31m#Criei dataframe com todos os artista unicos do dataframe streaming com comando unique para reduzir requesição na api\u001b[0m\u001b[0;34m\u001b[0m\u001b[0;34m\u001b[0m\u001b[0;34m\u001b[0m\u001b[0m\n\u001b[0;32m----> 2\u001b[0;31m \u001b[0mdf_name_artista\u001b[0m \u001b[0;34m=\u001b[0m \u001b[0mpd\u001b[0m\u001b[0;34m.\u001b[0m\u001b[0mDataFrame\u001b[0m\u001b[0;34m(\u001b[0m\u001b[0mdfStreaming\u001b[0m\u001b[0;34m[\u001b[0m\u001b[0;34m'artistName'\u001b[0m\u001b[0;34m]\u001b[0m\u001b[0;34m.\u001b[0m\u001b[0munique\u001b[0m\u001b[0;34m(\u001b[0m\u001b[0;34m)\u001b[0m\u001b[0;34m,\u001b[0m\u001b[0mcolumns\u001b[0m\u001b[0;34m=\u001b[0m\u001b[0;34m[\u001b[0m\u001b[0;34m'nome'\u001b[0m\u001b[0;34m]\u001b[0m\u001b[0;34m)\u001b[0m\u001b[0;34m\u001b[0m\u001b[0;34m\u001b[0m\u001b[0m\n\u001b[0m",
      "\u001b[0;32m~/.local/lib/python3.8/site-packages/pandas/core/frame.py\u001b[0m in \u001b[0;36m__getitem__\u001b[0;34m(self, key)\u001b[0m\n\u001b[1;32m   3453\u001b[0m             \u001b[0;32mif\u001b[0m \u001b[0mself\u001b[0m\u001b[0;34m.\u001b[0m\u001b[0mcolumns\u001b[0m\u001b[0;34m.\u001b[0m\u001b[0mnlevels\u001b[0m \u001b[0;34m>\u001b[0m \u001b[0;36m1\u001b[0m\u001b[0;34m:\u001b[0m\u001b[0;34m\u001b[0m\u001b[0;34m\u001b[0m\u001b[0m\n\u001b[1;32m   3454\u001b[0m                 \u001b[0;32mreturn\u001b[0m \u001b[0mself\u001b[0m\u001b[0;34m.\u001b[0m\u001b[0m_getitem_multilevel\u001b[0m\u001b[0;34m(\u001b[0m\u001b[0mkey\u001b[0m\u001b[0;34m)\u001b[0m\u001b[0;34m\u001b[0m\u001b[0;34m\u001b[0m\u001b[0m\n\u001b[0;32m-> 3455\u001b[0;31m             \u001b[0mindexer\u001b[0m \u001b[0;34m=\u001b[0m \u001b[0mself\u001b[0m\u001b[0;34m.\u001b[0m\u001b[0mcolumns\u001b[0m\u001b[0;34m.\u001b[0m\u001b[0mget_loc\u001b[0m\u001b[0;34m(\u001b[0m\u001b[0mkey\u001b[0m\u001b[0;34m)\u001b[0m\u001b[0;34m\u001b[0m\u001b[0;34m\u001b[0m\u001b[0m\n\u001b[0m\u001b[1;32m   3456\u001b[0m             \u001b[0;32mif\u001b[0m \u001b[0mis_integer\u001b[0m\u001b[0;34m(\u001b[0m\u001b[0mindexer\u001b[0m\u001b[0;34m)\u001b[0m\u001b[0;34m:\u001b[0m\u001b[0;34m\u001b[0m\u001b[0;34m\u001b[0m\u001b[0m\n\u001b[1;32m   3457\u001b[0m                 \u001b[0mindexer\u001b[0m \u001b[0;34m=\u001b[0m \u001b[0;34m[\u001b[0m\u001b[0mindexer\u001b[0m\u001b[0;34m]\u001b[0m\u001b[0;34m\u001b[0m\u001b[0;34m\u001b[0m\u001b[0m\n",
      "\u001b[0;32m~/.local/lib/python3.8/site-packages/pandas/core/indexes/base.py\u001b[0m in \u001b[0;36mget_loc\u001b[0;34m(self, key, method, tolerance)\u001b[0m\n\u001b[1;32m   3361\u001b[0m                 \u001b[0;32mreturn\u001b[0m \u001b[0mself\u001b[0m\u001b[0;34m.\u001b[0m\u001b[0m_engine\u001b[0m\u001b[0;34m.\u001b[0m\u001b[0mget_loc\u001b[0m\u001b[0;34m(\u001b[0m\u001b[0mcasted_key\u001b[0m\u001b[0;34m)\u001b[0m\u001b[0;34m\u001b[0m\u001b[0;34m\u001b[0m\u001b[0m\n\u001b[1;32m   3362\u001b[0m             \u001b[0;32mexcept\u001b[0m \u001b[0mKeyError\u001b[0m \u001b[0;32mas\u001b[0m \u001b[0merr\u001b[0m\u001b[0;34m:\u001b[0m\u001b[0;34m\u001b[0m\u001b[0;34m\u001b[0m\u001b[0m\n\u001b[0;32m-> 3363\u001b[0;31m                 \u001b[0;32mraise\u001b[0m \u001b[0mKeyError\u001b[0m\u001b[0;34m(\u001b[0m\u001b[0mkey\u001b[0m\u001b[0;34m)\u001b[0m \u001b[0;32mfrom\u001b[0m \u001b[0merr\u001b[0m\u001b[0;34m\u001b[0m\u001b[0;34m\u001b[0m\u001b[0m\n\u001b[0m\u001b[1;32m   3364\u001b[0m \u001b[0;34m\u001b[0m\u001b[0m\n\u001b[1;32m   3365\u001b[0m         \u001b[0;32mif\u001b[0m \u001b[0mis_scalar\u001b[0m\u001b[0;34m(\u001b[0m\u001b[0mkey\u001b[0m\u001b[0;34m)\u001b[0m \u001b[0;32mand\u001b[0m \u001b[0misna\u001b[0m\u001b[0;34m(\u001b[0m\u001b[0mkey\u001b[0m\u001b[0;34m)\u001b[0m \u001b[0;32mand\u001b[0m \u001b[0;32mnot\u001b[0m \u001b[0mself\u001b[0m\u001b[0;34m.\u001b[0m\u001b[0mhasnans\u001b[0m\u001b[0;34m:\u001b[0m\u001b[0;34m\u001b[0m\u001b[0;34m\u001b[0m\u001b[0m\n",
      "\u001b[0;31mKeyError\u001b[0m: 'artistName'"
     ]
    }
   ],
   "source": [
    "#Criei dataframe com todos os artista unicos do dataframe streaming com comando unique para reduzir requesição na api\n",
    "df_name_artista = pd.DataFrame(dfStreaming['artistName'].unique(),columns=['nome'])\n"
   ]
  },
  {
   "cell_type": "code",
   "execution_count": null,
   "metadata": {},
   "outputs": [],
   "source": []
  },
  {
   "cell_type": "code",
   "execution_count": null,
   "metadata": {},
   "outputs": [],
   "source": [
    "df_name_artista.head()"
   ]
  },
  {
   "cell_type": "code",
   "execution_count": null,
   "metadata": {},
   "outputs": [],
   "source": []
  },
  {
   "cell_type": "code",
   "execution_count": null,
   "metadata": {
    "id": "1jpBZZKP9-p8"
   },
   "outputs": [],
   "source": []
  },
  {
   "cell_type": "code",
   "execution_count": null,
   "metadata": {
    "colab": {
     "base_uri": "https://localhost:8080/",
     "height": 340
    },
    "id": "I44Zdufoxq_y",
    "outputId": "32b35a6c-2956-4a09-a4c6-7b32582d0087"
   },
   "outputs": [],
   "source": [
    "\n"
   ]
  },
  {
   "cell_type": "code",
   "execution_count": null,
   "metadata": {},
   "outputs": [],
   "source": [
    "# Indo em busca do id de cada nome do artista do dataframe, aplicando uma nova coluna 'id_artista' com seu ids\n",
    "\n",
    "df_name_artista['id_artista'] = df_name_artista['nome'].apply(get_retorno_id)"
   ]
  },
  {
   "cell_type": "code",
   "execution_count": null,
   "metadata": {},
   "outputs": [],
   "source": [
    "df_name_artista.head()"
   ]
  },
  {
   "cell_type": "code",
   "execution_count": null,
   "metadata": {},
   "outputs": [],
   "source": [
    "#lista de id não vazios para inserir na busca por artista  da api\n",
    "lista_id_artista = list(dict(df_name_artista['id_artista'].dropna()).values())\n"
   ]
  },
  {
   "cell_type": "code",
   "execution_count": null,
   "metadata": {},
   "outputs": [],
   "source": [
    "#dicionario para guardar id repartido em 6 chaves e valores cotendo ids para enviar para api,\n",
    "#requesições acima de 50 não é suportada\n",
    " \n",
    "dict_id = {\n",
    "    1:lista_id_artista[0:49],\n",
    "    2:lista_id_artista[50:99],\n",
    "    3:lista_id_artista[100:149],\n",
    "    4:lista_id_artista[150:199],\n",
    "    5:lista_id_artista[200:249],\n",
    "    6:lista_id_artista[250:291]\n",
    "}\n"
   ]
  },
  {
   "cell_type": "code",
   "execution_count": null,
   "metadata": {},
   "outputs": [],
   "source": []
  },
  {
   "cell_type": "code",
   "execution_count": null,
   "metadata": {},
   "outputs": [],
   "source": [
    "#Guarda as informações dos artista\n",
    "dict_artista = {\n",
    "               'id_artista':[],\n",
    "               'url_imagem':[],\n",
    "               'genero':[],\n",
    "               'popularidade':[]\n",
    "}\n"
   ]
  },
  {
   "cell_type": "code",
   "execution_count": null,
   "metadata": {},
   "outputs": [],
   "source": [
    "for chave in dict_id.keys():\n",
    "        lista_id_artista = dict_id[chave]\n",
    "        data_artista = get_artists(lista_id_artista)\n",
    "        \n",
    "        for artist in data_artista['artists']:\n",
    "              \n",
    "             \n",
    "                dict_artista['id_artista'].append(artist['id'])\n",
    "                try:\n",
    "                    dict_artista['url_imagem'].append(artist['images'][1]['url'])   \n",
    "                except:\n",
    "                    dict_artista['url_imagem'].append(np.nan)\n",
    "                   \n",
    "                try:\n",
    "                    dict_artista['genero'].append(artist['genres'][0])\n",
    "                except:\n",
    "                    dict_artista['genero'].append(np.nan)\n",
    "                    \n",
    "                dict_artista['popularidade'].append(artist['popularity'])\n",
    "        time.sleep(3)        \n",
    "\n",
    "            \n",
    "            \n",
    "            \n",
    " "
   ]
  },
  {
   "cell_type": "code",
   "execution_count": null,
   "metadata": {},
   "outputs": [],
   "source": [
    "#Conferindo o porque do dados de genero e imagem vieram vazios \n",
    "artist = sp.search('Mc Toninho da ZL',type = 'artist')\n",
    "artist['artists']"
   ]
  },
  {
   "cell_type": "code",
   "execution_count": null,
   "metadata": {},
   "outputs": [],
   "source": [
    "#Devido ao tamnho do dicionario está com valores nulos o o pd. DATFRAMe não consegue ler, o que me leva a usar essa solução encontrada \n",
    "#no https://stackoverflow.com/questions/40442014/python-pandas-valueerror-arrays-must-be-all-same-length\n",
    "df_genero = pd.DataFrame.from_dict(dict_artista, orient='index')\n",
    "df_genero = df_genero.transpose()"
   ]
  },
  {
   "cell_type": "code",
   "execution_count": null,
   "metadata": {},
   "outputs": [],
   "source": [
    "df_genero.info()"
   ]
  },
  {
   "cell_type": "code",
   "execution_count": null,
   "metadata": {},
   "outputs": [],
   "source": [
    "#Juntando os dados categorizados por generos\n",
    "dado_categorizado = df_name_artista.merge(df_genero, how = 'inner', on = 'id_artista')\n"
   ]
  },
  {
   "cell_type": "code",
   "execution_count": null,
   "metadata": {},
   "outputs": [],
   "source": [
    "x = [30,32,47,49,78,80]#Vericando dados duplicados\n",
    "\n",
    "dado_categorizado.iloc[x]\n",
    "dado_categorizado.iloc[30]['url_imagem']\n"
   ]
  },
  {
   "cell_type": "code",
   "execution_count": null,
   "metadata": {},
   "outputs": [],
   "source": [
    "#Removendo ids duplicadas , e o seus dados do artista\n",
    "dado_categorizado.drop_duplicates(inplace = True,ignore_index = True)"
   ]
  },
  {
   "cell_type": "code",
   "execution_count": null,
   "metadata": {},
   "outputs": [],
   "source": [
    "dado_categorizado.info()"
   ]
  },
  {
   "cell_type": "code",
   "execution_count": null,
   "metadata": {},
   "outputs": [],
   "source": [
    "dado_categorizado.rename({'nome':'artistName'},axis=1,inplace = True)\n"
   ]
  },
  {
   "cell_type": "code",
   "execution_count": null,
   "metadata": {},
   "outputs": [],
   "source": []
  },
  {
   "cell_type": "code",
   "execution_count": null,
   "metadata": {},
   "outputs": [],
   "source": [
    "dfStreaming.info()"
   ]
  },
  {
   "cell_type": "code",
   "execution_count": null,
   "metadata": {},
   "outputs": [],
   "source": [
    "#Juntando dados categorizados com o df de inicio\n",
    "dado_genero_streaming = dfStreaming.merge(dado_categorizado ,how = 'inner', on = 'id_artista')"
   ]
  },
  {
   "cell_type": "code",
   "execution_count": null,
   "metadata": {},
   "outputs": [],
   "source": [
    "dado_genero_streaming.head(2)"
   ]
  },
  {
   "cell_type": "code",
   "execution_count": null,
   "metadata": {},
   "outputs": [],
   "source": [
    "#Removendo coluna repetida\n",
    "dado_genero_streaming.drop(['artistName_y'],axis = 1,inplace = True)"
   ]
  },
  {
   "cell_type": "code",
   "execution_count": null,
   "metadata": {},
   "outputs": [],
   "source": []
  },
  {
   "cell_type": "code",
   "execution_count": null,
   "metadata": {},
   "outputs": [],
   "source": [
    "\n"
   ]
  },
  {
   "cell_type": "code",
   "execution_count": null,
   "metadata": {},
   "outputs": [],
   "source": []
  },
  {
   "cell_type": "markdown",
   "metadata": {},
   "source": [
    "#### Informação apos aplicação do genero"
   ]
  },
  {
   "cell_type": "code",
   "execution_count": null,
   "metadata": {},
   "outputs": [],
   "source": []
  },
  {
   "cell_type": "code",
   "execution_count": null,
   "metadata": {},
   "outputs": [],
   "source": []
  },
  {
   "cell_type": "code",
   "execution_count": null,
   "metadata": {},
   "outputs": [],
   "source": []
  },
  {
   "cell_type": "code",
   "execution_count": null,
   "metadata": {},
   "outputs": [],
   "source": []
  },
  {
   "cell_type": "code",
   "execution_count": null,
   "metadata": {},
   "outputs": [],
   "source": [
    "#Renomeando coluna msPlayed\n",
    "dado_genero_streaming.rename({'msPlayed':'mPlayed'},inplace= True)"
   ]
  },
  {
   "cell_type": "code",
   "execution_count": null,
   "metadata": {},
   "outputs": [],
   "source": [
    "#Renomeando coluna\n",
    "dado_genero_streaming.rename({'id_artista':'artistId'},inplace= True)"
   ]
  },
  {
   "cell_type": "code",
   "execution_count": null,
   "metadata": {
    "scrolled": true
   },
   "outputs": [],
   "source": []
  },
  {
   "cell_type": "code",
   "execution_count": null,
   "metadata": {
    "id": "wFNZorHg4myP"
   },
   "outputs": [],
   "source": [
    "#Salvando meu dataframe para usar no tableau como csv \n",
    "dado_genero_streaming.to_csv('/home/mateus/Área de Trabalho//Projeto-Final/Data_Mateus/spotify/in_csv/streamingspotify.csv',index = False)"
   ]
  },
  {
   "cell_type": "markdown",
   "metadata": {
    "id": "Gts08-rWSv2T"
   },
   "source": [
    "**Lendo CSV para df dos albums MateusSpotify**"
   ]
  },
  {
   "cell_type": "code",
   "execution_count": null,
   "metadata": {
    "id": "cYi7wrLSSrVw"
   },
   "outputs": [],
   "source": [
    "path_file_csv = '/home/mateus/Área de Trabalho/Projeto-Final/Data_Mateus/spotify/in_csv/albumsSpotifyMateus.csv'"
   ]
  },
  {
   "cell_type": "code",
   "execution_count": null,
   "metadata": {
    "id": "mgVExgPPTHNu"
   },
   "outputs": [],
   "source": [
    "dfAlbumsSpotify = pd.read_csv(path_file_csv,index_col=False)\n",
    "dfAlbumsSpotify.drop('genre',axis = 1,inplace = True)"
   ]
  },
  {
   "cell_type": "code",
   "execution_count": null,
   "metadata": {
    "id": "cbTIYyRwTQAn"
   },
   "outputs": [],
   "source": [
    "dfAlbumsSpotify.head(30)"
   ]
  },
  {
   "cell_type": "code",
   "execution_count": null,
   "metadata": {
    "id": "6PprRC1WUYrd"
   },
   "outputs": [],
   "source": [
    "dfAlbumsSpotify.info()"
   ]
  },
  {
   "cell_type": "code",
   "execution_count": null,
   "metadata": {
    "id": "IfeoAV6tTTRd"
   },
   "outputs": [],
   "source": [
    "#Aplicando genero a alguns albums pelo artista \n",
    "dfAlbumsSpotify['genre'] = dfAlbumsSpotify['uri'].apply(aplica_genero_album)"
   ]
  },
  {
   "cell_type": "code",
   "execution_count": null,
   "metadata": {
    "id": "Nmh5j-9qi6I-"
   },
   "outputs": [],
   "source": [
    "dfAlbumsSpotify.head()"
   ]
  },
  {
   "cell_type": "code",
   "execution_count": null,
   "metadata": {
    "id": "lIKeVtWKjxC2"
   },
   "outputs": [],
   "source": [
    "#Aplicando ao artista que estão com nome varios artista o genero pela sua descrição.\n",
    "dfAlbumsSpotify.loc[2]['genre'] = 'forró'\n",
    "dfAlbumsSpotify.loc[3]['genre'] = 'funk'"
   ]
  },
  {
   "cell_type": "code",
   "execution_count": null,
   "metadata": {
    "id": "7REe3kzlo84Y"
   },
   "outputs": [],
   "source": [
    "    #Dividindo  a coluna genero, ja que é uma lista de genero.\n",
    "dfAlbumsSpotify = dfAlbumsSpotify.explode('genre',ignore_index= True)\n",
    "dfAlbumsSpotify.head(10)\n"
   ]
  },
  {
   "cell_type": "code",
   "execution_count": null,
   "metadata": {
    "id": "XeZX6iEOsxut"
   },
   "outputs": [],
   "source": [
    "#Aplicando uma nova coluna ao df com a informação de link da imagem do album\n",
    "dfAlbumsSpotify['imageAlbum'] = dfAlbumsSpotify.query('artist != \"Various Artists\"')['uri'].apply(aplica_img_album)"
   ]
  },
  {
   "cell_type": "code",
   "execution_count": null,
   "metadata": {
    "id": "EULhvtXs_Dpn"
   },
   "outputs": [],
   "source": [
    "dfAlbumsSpotify.to_csv(path_file_csv,index = False )"
   ]
  },
  {
   "cell_type": "markdown",
   "metadata": {
    "id": "21rR48Mj_a0a"
   },
   "source": []
  }
 ],
 "metadata": {
  "colab": {
   "authorship_tag": "ABX9TyOKd1Xc9Tus3wFFCFMYnVi3",
   "collapsed_sections": [],
   "mount_file_id": "1mnfyOsoFzakoQiqBq7LlUq0wO8j0j4IL",
   "name": "alimentandoBasespotifyApi.ipynb",
   "provenance": []
  },
  "interpreter": {
   "hash": "cf3f271fe67d784bbf85f4ffd9a2a655e5d080e1c1fc4d081ba9aa5ddf323350"
  },
  "kernelspec": {
   "display_name": "Python 3",
   "language": "python",
   "name": "python3"
  },
  "language_info": {
   "codemirror_mode": {
    "name": "ipython",
    "version": 3
   },
   "file_extension": ".py",
   "mimetype": "text/x-python",
   "name": "python",
   "nbconvert_exporter": "python",
   "pygments_lexer": "ipython3",
   "version": "3.8.10"
  }
 },
 "nbformat": 4,
 "nbformat_minor": 1
}
