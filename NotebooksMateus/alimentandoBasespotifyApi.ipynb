{
 "cells": [
  {
   "cell_type": "markdown",
   "metadata": {
    "id": "xm3m_zMJ2tnB"
   },
   "source": [
    "### Consumindo api spotify\n",
    "* Isntalando api spotify"
   ]
  },
  {
   "cell_type": "markdown",
   "metadata": {
    "id": "Xz_-CAjy1g04"
   },
   "source": [
    "**Extraindo base de dados para analise exploratoria** \n",
    "  * Spotify"
   ]
  },
  {
   "cell_type": "code",
   "execution_count": 95,
   "metadata": {
    "colab": {
     "base_uri": "https://localhost:8080/"
    },
    "executionInfo": {
     "elapsed": 3297,
     "status": "ok",
     "timestamp": 1627230409776,
     "user": {
      "displayName": "Mateus Varelo",
      "photoUrl": "https://lh3.googleusercontent.com/a-/AOh14Gg73LYxIEbDHChnMebSrZ-v0SG3yQkkQ5nkmXD3x6k=s64",
      "userId": "15384696535292950454"
     },
     "user_tz": 180
    },
    "id": "vVbOX3kG1van",
    "outputId": "df0785e7-83f5-4ac6-86a0-e24fac1f1c8c"
   },
   "outputs": [
    {
     "name": "stdout",
     "output_type": "stream",
     "text": [
      "Requirement already satisfied: spotipy in /home/mateus/.local/lib/python3.8/site-packages (2.18.0)\n",
      "Requirement already satisfied: urllib3>=1.26.0 in /home/mateus/.local/lib/python3.8/site-packages (from spotipy) (1.26.6)\n",
      "Requirement already satisfied: requests>=2.25.0 in /home/mateus/.local/lib/python3.8/site-packages (from spotipy) (2.26.0)\n",
      "Requirement already satisfied: six>=1.15.0 in /home/mateus/.local/lib/python3.8/site-packages (from spotipy) (1.16.0)\n",
      "Requirement already satisfied: charset-normalizer~=2.0.0; python_version >= \"3\" in /home/mateus/.local/lib/python3.8/site-packages (from requests>=2.25.0->spotipy) (2.0.3)\n",
      "Requirement already satisfied: certifi>=2017.4.17 in /usr/lib/python3/dist-packages (from requests>=2.25.0->spotipy) (2019.11.28)\n",
      "Requirement already satisfied: idna<4,>=2.5; python_version >= \"3\" in /usr/lib/python3/dist-packages (from requests>=2.25.0->spotipy) (2.8)\n",
      "Note: you may need to restart the kernel to use updated packages.\n"
     ]
    }
   ],
   "source": [
    "pip install spotipy"
   ]
  },
  {
   "cell_type": "markdown",
   "metadata": {
    "id": "3ajcPolFtjTB"
   },
   "source": [
    "### Espaço para importações de bibliotecas utilizadas"
   ]
  },
  {
   "cell_type": "code",
   "execution_count": 96,
   "metadata": {},
   "outputs": [
    {
     "name": "stdout",
     "output_type": "stream",
     "text": [
      "Requirement already satisfied: matplotlib in /home/mateus/.local/lib/python3.8/site-packages (3.4.2)\n",
      "Requirement already satisfied: pillow>=6.2.0 in /usr/lib/python3/dist-packages (from matplotlib) (7.0.0)\n",
      "Requirement already satisfied: python-dateutil>=2.7 in /home/mateus/.local/lib/python3.8/site-packages (from matplotlib) (2.8.1)\n",
      "Requirement already satisfied: cycler>=0.10 in /home/mateus/.local/lib/python3.8/site-packages (from matplotlib) (0.10.0)\n",
      "Requirement already satisfied: pyparsing>=2.2.1 in /usr/lib/python3/dist-packages (from matplotlib) (2.4.6)\n",
      "Requirement already satisfied: kiwisolver>=1.0.1 in /home/mateus/.local/lib/python3.8/site-packages (from matplotlib) (1.3.1)\n",
      "Requirement already satisfied: numpy>=1.16 in /home/mateus/.local/lib/python3.8/site-packages (from matplotlib) (1.21.1)\n",
      "Requirement already satisfied: six>=1.5 in /home/mateus/.local/lib/python3.8/site-packages (from python-dateutil>=2.7->matplotlib) (1.16.0)\n",
      "Note: you may need to restart the kernel to use updated packages.\n"
     ]
    }
   ],
   "source": [
    "pip install matplotlib"
   ]
  },
  {
   "cell_type": "code",
   "execution_count": 97,
   "metadata": {
    "id": "JCFVIbIcfpJc"
   },
   "outputs": [],
   "source": [
    "import pandas as pd\n",
    "import matplotlib.pyplot as plt\n",
    "import json\n",
    "import numpy as np\n",
    "import spotipy\n",
    "from spotipy.oauth2 import SpotifyClientCredentials\n",
    "import sys\n",
    "import time\n",
    "import datetime\n",
    "import copy\n",
    "from math import ceil"
   ]
  },
  {
   "cell_type": "markdown",
   "metadata": {
    "id": "TDuOXU98tQwa"
   },
   "source": [
    "### Espaço para autenticação de usuário para acesso a API **spotify**"
   ]
  },
  {
   "cell_type": "code",
   "execution_count": 98,
   "metadata": {
    "id": "whq5br2r3Z1u"
   },
   "outputs": [],
   "source": [
    "#Autenticação api, forneça seus dados\n",
    "cid =\"75b0d6f3334a4b689620eda9f917844a\" \n",
    "secret = \"ca50b30849d24b5d88508296ee9e6d98\" \n",
    "client_credentials_manager = SpotifyClientCredentials(client_id=cid, \n",
    "client_secret=secret) \n",
    "\n",
    "sp = spotipy.Spotify(client_credentials_manager=client_credentials_manager) \n",
    "sp.trace=False"
   ]
  },
  {
   "cell_type": "code",
   "execution_count": 99,
   "metadata": {
    "id": "PWFob5Y5qDua"
   },
   "outputs": [],
   "source": [
    "#### **Funções usadas nesse notebook**"
   ]
  },
  {
   "cell_type": "code",
   "execution_count": 100,
   "metadata": {
    "id": "jVoBC3binQCK"
   },
   "outputs": [],
   "source": [
    "def get_album_data(album_id):#Busca dados do album com base no id do album\n",
    "    time.sleep(gera_um_numero_segundos())\n",
    "    try: \n",
    "       data = sp.album(album_id)\n",
    "       return data\n",
    "    except:\n",
    "       return np.NaN  "
   ]
  },
  {
   "cell_type": "code",
   "execution_count": 101,
   "metadata": {
    "id": "i4Lk41ZOvyTy"
   },
   "outputs": [],
   "source": [
    "def get_album_data_artista(album_data):#Busca dado do artista do album \n",
    "    try:\n",
    "          return album_data['artists'][0]\n",
    "    except:\n",
    "          return np.NaN    "
   ]
  },
  {
   "cell_type": "code",
   "execution_count": null,
   "metadata": {
    "id": "lOUviw-0q4DW"
   },
   "outputs": [],
   "source": [
    " "
   ]
  },
  {
   "cell_type": "code",
   "execution_count": 102,
   "metadata": {
    "id": "OUF5ZSCipQsp"
   },
   "outputs": [],
   "source": [
    "def get_artists(lista_id_artista): #busca todos os artista com a lista de id\n",
    "  time.sleep(gera_um_numero_segundos())\n",
    "  try:\n",
    "    resultado = sp.artists(lista_id_artista)\n",
    "    return resultado\n",
    "  except:\n",
    "    return np.NaN  "
   ]
  },
  {
   "cell_type": "code",
   "execution_count": 103,
   "metadata": {
    "id": "ZaumqGj9q2oA"
   },
   "outputs": [],
   "source": [
    "def get_album_imagem(album_dados):#busca a imagem  do album\n",
    "   time.sleep(gera_um_numero_segundos())\n",
    "   try:\n",
    "       img = album_dados['images'][1]['url']\n",
    "       return img\n",
    "   except:\n",
    "       return None   "
   ]
  },
  {
   "cell_type": "code",
   "execution_count": 104,
   "metadata": {
    "id": "8YjPKW21EHEc"
   },
   "outputs": [],
   "source": [
    "def get_artist_id(artista_data):#Busca o id do artista\n",
    "     id_artist = artista_data[0]['id']\n",
    "     return id_artist\n"
   ]
  },
  {
   "cell_type": "code",
   "execution_count": 105,
   "metadata": {},
   "outputs": [],
   "source": [
    "def get_one_artist(id_artist):#Busca um artista com base em seu id\n",
    "     artist = sp.artist(id_artist)\n",
    "     return artist   \n"
   ]
  },
  {
   "cell_type": "code",
   "execution_count": null,
   "metadata": {},
   "outputs": [],
   "source": []
  },
  {
   "cell_type": "code",
   "execution_count": null,
   "metadata": {
    "id": "mbzJQH0hNGwo"
   },
   "outputs": [],
   "source": []
  },
  {
   "cell_type": "code",
   "execution_count": 106,
   "metadata": {
    "id": "T0BLLpcRaHEf",
    "scrolled": true
   },
   "outputs": [],
   "source": [
    "def aplica_genero_album(id_album):\n",
    "  \n",
    "  try:\n",
    "      dados_album = get_album_data(id_album)\n",
    "   \n",
    "      time.sleep(gera_um_numero_segundos())\n",
    "        \n",
    "      dados_artista_album = get_album_data_artista(dados_album)\n",
    "   \n",
    "      id_artista =  get_artist_id(dados_artista_album)\n",
    "  \n",
    "      \n",
    "      time.sleep(gera_um_numero_segundos())\n",
    "    \n",
    "      dado_artista = get_one_artist(id_artista)\n",
    "    \n",
    "      time.sleep(gera_um_numero_segundos())\n",
    "    \n",
    "      genero_artista = get_artist_genre(dado_artista)\n",
    "      return genero_artista \n",
    "  except:\n",
    "      return np.nan   \n"
   ]
  },
  {
   "cell_type": "code",
   "execution_count": 107,
   "metadata": {},
   "outputs": [],
   "source": [
    "#def apply_genres(id_artista):\n",
    "                "
   ]
  },
  {
   "cell_type": "code",
   "execution_count": 108,
   "metadata": {},
   "outputs": [],
   "source": [
    "# def get_artist_data(id_artista,data):\n",
    "#     for "
   ]
  },
  {
   "cell_type": "code",
   "execution_count": 109,
   "metadata": {
    "id": "7M8qI-v6gXtF"
   },
   "outputs": [],
   "source": [
    "def get_retorno_id(nome):\n",
    "  nome = nome.strip()\n",
    "  try:\n",
    "      artista_data =  get_seacher_artist(nome)\n",
    "      id_artist = get_artist_id(artista_data)\n",
    "      return id_artist \n",
    "  except:\n",
    "      return np.nan  "
   ]
  },
  {
   "cell_type": "code",
   "execution_count": 110,
   "metadata": {},
   "outputs": [],
   "source": [
    "def get_seacher_artist(nome):\n",
    "    result = sp.search(q=nome,type = 'artist')\n",
    "    items = result['artists']['items']\n",
    "    if len(items)> 0:\n",
    "        return items\n",
    "    else:\n",
    "        return np.nan\n"
   ]
  },
  {
   "cell_type": "code",
   "execution_count": 111,
   "metadata": {
    "id": "Rnf2L24qqlJn"
   },
   "outputs": [],
   "source": [
    "def aplica_img_album(x):\n",
    "  try:\n",
    "      dados_album = get_album_data(x)\n",
    "      time.sleep(gera_um_numero_segundos())\n",
    "      url_img = get_album_imagem(dados_album)\n",
    "      return url_img\n",
    "  except:\n",
    "      return np.nan    "
   ]
  },
  {
   "cell_type": "code",
   "execution_count": 112,
   "metadata": {
    "id": "rGxjGi8ifEh6"
   },
   "outputs": [],
   "source": [
    "def get_artist_genre(artist_data):\n",
    "    \n",
    "    time.sleep(gera_um_numero_segundos())\n",
    "    try:\n",
    "      genre = artist_data['genres']\n",
    "      return genre[0]\n",
    "    except:\n",
    "      return np.NaN    \n",
    "    \n",
    "        \n"
   ]
  },
  {
   "cell_type": "code",
   "execution_count": 113,
   "metadata": {
    "id": "9GgnG4B_tjRr"
   },
   "outputs": [],
   "source": [
    "def gera_um_numero_segundos():\n",
    "     return np.random.randint(1,3)\n",
    "   "
   ]
  },
  {
   "cell_type": "markdown",
   "metadata": {
    "id": "gz93npnCw9L5"
   },
   "source": [
    "### Lendo arquivo csv streaming spotify"
   ]
  },
  {
   "cell_type": "code",
   "execution_count": 114,
   "metadata": {
    "id": "n5aV_7JqqvS-"
   },
   "outputs": [],
   "source": [
    "path_file_csv = '/home/mateus/Área de Trabalho//Projeto-Final/Data_Mateus/spotify/in_csv/streamingspotify.csv'"
   ]
  },
  {
   "cell_type": "code",
   "execution_count": 115,
   "metadata": {
    "id": "4si7IVnJxQwC"
   },
   "outputs": [],
   "source": [
    "#Leitura csv para dataframe\n",
    "dfStreaming = pd.read_csv(path_file_csv)"
   ]
  },
  {
   "cell_type": "code",
   "execution_count": 116,
   "metadata": {
    "colab": {
     "base_uri": "https://localhost:8080/",
     "height": 289
    },
    "executionInfo": {
     "elapsed": 31,
     "status": "ok",
     "timestamp": 1627230410765,
     "user": {
      "displayName": "Mateus Varelo",
      "photoUrl": "https://lh3.googleusercontent.com/a-/AOh14Gg73LYxIEbDHChnMebSrZ-v0SG3yQkkQ5nkmXD3x6k=s64",
      "userId": "15384696535292950454"
     },
     "user_tz": 180
    },
    "id": "diK1PpslxhPw",
    "outputId": "387f56c5-6004-49d0-ffe1-a41e579033a5"
   },
   "outputs": [
    {
     "data": {
      "text/html": [
       "<div>\n",
       "<style scoped>\n",
       "    .dataframe tbody tr th:only-of-type {\n",
       "        vertical-align: middle;\n",
       "    }\n",
       "\n",
       "    .dataframe tbody tr th {\n",
       "        vertical-align: top;\n",
       "    }\n",
       "\n",
       "    .dataframe thead th {\n",
       "        text-align: right;\n",
       "    }\n",
       "</style>\n",
       "<table border=\"1\" class=\"dataframe\">\n",
       "  <thead>\n",
       "    <tr style=\"text-align: right;\">\n",
       "      <th></th>\n",
       "      <th>endTime</th>\n",
       "      <th>artistName</th>\n",
       "      <th>trackName</th>\n",
       "      <th>msPlayed</th>\n",
       "      <th>endDate</th>\n",
       "      <th>endMonth</th>\n",
       "      <th>id_artista</th>\n",
       "    </tr>\n",
       "  </thead>\n",
       "  <tbody>\n",
       "    <tr>\n",
       "      <th>0</th>\n",
       "      <td>04:57:00</td>\n",
       "      <td>Padre Fábio De Melo</td>\n",
       "      <td>Não Desisto</td>\n",
       "      <td>3.945083</td>\n",
       "      <td>2020-07-24</td>\n",
       "      <td>jul</td>\n",
       "      <td>72G62rG7kmq4GFOzyjJV4q</td>\n",
       "    </tr>\n",
       "    <tr>\n",
       "      <th>1</th>\n",
       "      <td>05:01:00</td>\n",
       "      <td>Padre Fábio De Melo</td>\n",
       "      <td>Proteção</td>\n",
       "      <td>4.012883</td>\n",
       "      <td>2020-07-24</td>\n",
       "      <td>jul</td>\n",
       "      <td>72G62rG7kmq4GFOzyjJV4q</td>\n",
       "    </tr>\n",
       "    <tr>\n",
       "      <th>2</th>\n",
       "      <td>05:06:00</td>\n",
       "      <td>Padre Fábio De Melo</td>\n",
       "      <td>Iluminar</td>\n",
       "      <td>4.876983</td>\n",
       "      <td>2020-07-24</td>\n",
       "      <td>jul</td>\n",
       "      <td>72G62rG7kmq4GFOzyjJV4q</td>\n",
       "    </tr>\n",
       "    <tr>\n",
       "      <th>3</th>\n",
       "      <td>05:15:00</td>\n",
       "      <td>Padre Fábio De Melo</td>\n",
       "      <td>Trem-Bala</td>\n",
       "      <td>3.405333</td>\n",
       "      <td>2020-07-24</td>\n",
       "      <td>jul</td>\n",
       "      <td>72G62rG7kmq4GFOzyjJV4q</td>\n",
       "    </tr>\n",
       "    <tr>\n",
       "      <th>4</th>\n",
       "      <td>05:20:00</td>\n",
       "      <td>Padre Fábio De Melo</td>\n",
       "      <td>Como É Bom Sentir</td>\n",
       "      <td>4.525583</td>\n",
       "      <td>2020-07-24</td>\n",
       "      <td>jul</td>\n",
       "      <td>72G62rG7kmq4GFOzyjJV4q</td>\n",
       "    </tr>\n",
       "  </tbody>\n",
       "</table>\n",
       "</div>"
      ],
      "text/plain": [
       "    endTime           artistName          trackName  msPlayed     endDate  \\\n",
       "0  04:57:00  Padre Fábio De Melo        Não Desisto  3.945083  2020-07-24   \n",
       "1  05:01:00  Padre Fábio De Melo           Proteção  4.012883  2020-07-24   \n",
       "2  05:06:00  Padre Fábio De Melo           Iluminar  4.876983  2020-07-24   \n",
       "3  05:15:00  Padre Fábio De Melo          Trem-Bala  3.405333  2020-07-24   \n",
       "4  05:20:00  Padre Fábio De Melo  Como É Bom Sentir  4.525583  2020-07-24   \n",
       "\n",
       "  endMonth              id_artista  \n",
       "0      jul  72G62rG7kmq4GFOzyjJV4q  \n",
       "1      jul  72G62rG7kmq4GFOzyjJV4q  \n",
       "2      jul  72G62rG7kmq4GFOzyjJV4q  \n",
       "3      jul  72G62rG7kmq4GFOzyjJV4q  \n",
       "4      jul  72G62rG7kmq4GFOzyjJV4q  "
      ]
     },
     "execution_count": 116,
     "metadata": {},
     "output_type": "execute_result"
    }
   ],
   "source": [
    "dfStreaming.head()\n"
   ]
  },
  {
   "cell_type": "code",
   "execution_count": 117,
   "metadata": {},
   "outputs": [
    {
     "name": "stdout",
     "output_type": "stream",
     "text": [
      "<class 'pandas.core.frame.DataFrame'>\n",
      "RangeIndex: 1678 entries, 0 to 1677\n",
      "Data columns (total 7 columns):\n",
      " #   Column      Non-Null Count  Dtype  \n",
      "---  ------      --------------  -----  \n",
      " 0   endTime     1678 non-null   object \n",
      " 1   artistName  1678 non-null   object \n",
      " 2   trackName   1678 non-null   object \n",
      " 3   msPlayed    1678 non-null   float64\n",
      " 4   endDate     1678 non-null   object \n",
      " 5   endMonth    1678 non-null   object \n",
      " 6   id_artista  1510 non-null   object \n",
      "dtypes: float64(1), object(6)\n",
      "memory usage: 91.9+ KB\n"
     ]
    }
   ],
   "source": [
    "dfStreaming.info()"
   ]
  },
  {
   "cell_type": "code",
   "execution_count": null,
   "metadata": {},
   "outputs": [],
   "source": [
    "\n"
   ]
  },
  {
   "cell_type": "code",
   "execution_count": 118,
   "metadata": {},
   "outputs": [],
   "source": [
    "#Criei dataframe com todos os artista unicos do dataframe streaming com comando unique para reduzir requesição na api\n",
    "df_name_artista = pd.DataFrame(dfStreaming['artistName'].unique(),columns=['nome'])\n"
   ]
  },
  {
   "cell_type": "code",
   "execution_count": null,
   "metadata": {},
   "outputs": [],
   "source": []
  },
  {
   "cell_type": "code",
   "execution_count": 119,
   "metadata": {},
   "outputs": [
    {
     "data": {
      "text/html": [
       "<div>\n",
       "<style scoped>\n",
       "    .dataframe tbody tr th:only-of-type {\n",
       "        vertical-align: middle;\n",
       "    }\n",
       "\n",
       "    .dataframe tbody tr th {\n",
       "        vertical-align: top;\n",
       "    }\n",
       "\n",
       "    .dataframe thead th {\n",
       "        text-align: right;\n",
       "    }\n",
       "</style>\n",
       "<table border=\"1\" class=\"dataframe\">\n",
       "  <thead>\n",
       "    <tr style=\"text-align: right;\">\n",
       "      <th></th>\n",
       "      <th>nome</th>\n",
       "    </tr>\n",
       "  </thead>\n",
       "  <tbody>\n",
       "    <tr>\n",
       "      <th>0</th>\n",
       "      <td>Padre Fábio De Melo</td>\n",
       "    </tr>\n",
       "    <tr>\n",
       "      <th>1</th>\n",
       "      <td>Guilherme Sá</td>\n",
       "    </tr>\n",
       "    <tr>\n",
       "      <th>2</th>\n",
       "      <td>Maria Clara</td>\n",
       "    </tr>\n",
       "    <tr>\n",
       "      <th>3</th>\n",
       "      <td>Padre Marcelo Rossi</td>\n",
       "    </tr>\n",
       "    <tr>\n",
       "      <th>4</th>\n",
       "      <td>MC Splash</td>\n",
       "    </tr>\n",
       "  </tbody>\n",
       "</table>\n",
       "</div>"
      ],
      "text/plain": [
       "                  nome\n",
       "0  Padre Fábio De Melo\n",
       "1         Guilherme Sá\n",
       "2          Maria Clara\n",
       "3  Padre Marcelo Rossi\n",
       "4            MC Splash"
      ]
     },
     "execution_count": 119,
     "metadata": {},
     "output_type": "execute_result"
    }
   ],
   "source": [
    "df_name_artista.head()"
   ]
  },
  {
   "cell_type": "code",
   "execution_count": null,
   "metadata": {},
   "outputs": [],
   "source": []
  },
  {
   "cell_type": "code",
   "execution_count": null,
   "metadata": {
    "id": "1jpBZZKP9-p8"
   },
   "outputs": [],
   "source": []
  },
  {
   "cell_type": "code",
   "execution_count": null,
   "metadata": {
    "colab": {
     "base_uri": "https://localhost:8080/",
     "height": 340
    },
    "id": "I44Zdufoxq_y",
    "outputId": "32b35a6c-2956-4a09-a4c6-7b32582d0087"
   },
   "outputs": [],
   "source": [
    "\n"
   ]
  },
  {
   "cell_type": "code",
   "execution_count": 120,
   "metadata": {},
   "outputs": [],
   "source": [
    "# Indo em busca do id de cada nome do artista do dataframe, aplicando uma nova coluna 'id_artista' com seu ids\n",
    "\n",
    "df_name_artista['id_artista'] = df_name_artista['nome'].apply(get_retorno_id)"
   ]
  },
  {
   "cell_type": "code",
   "execution_count": 121,
   "metadata": {},
   "outputs": [
    {
     "name": "stdout",
     "output_type": "stream",
     "text": [
      "<class 'pandas.core.frame.DataFrame'>\n",
      "RangeIndex: 301 entries, 0 to 300\n",
      "Data columns (total 2 columns):\n",
      " #   Column      Non-Null Count  Dtype \n",
      "---  ------      --------------  ----- \n",
      " 0   nome        301 non-null    object\n",
      " 1   id_artista  291 non-null    object\n",
      "dtypes: object(2)\n",
      "memory usage: 4.8+ KB\n"
     ]
    }
   ],
   "source": [
    "df_name_artista.info()"
   ]
  },
  {
   "cell_type": "code",
   "execution_count": 122,
   "metadata": {},
   "outputs": [],
   "source": [
    "#lista de id não vazios para inserir na busca por artista  da api\n",
    "lista_id_artista = list(dict(df_name_artista['id_artista'].dropna()).values())\n"
   ]
  },
  {
   "cell_type": "code",
   "execution_count": 123,
   "metadata": {},
   "outputs": [],
   "source": [
    "#dicionario para guardar id repartido em 6 chaves e valores cotendo ids para enviar para api,\n",
    "#requesições acima de 50 não é suportada\n",
    " \n",
    "dict_id = {\n",
    "    1:lista_id_artista[0:49],\n",
    "    2:lista_id_artista[50:99],\n",
    "    3:lista_id_artista[100:149],\n",
    "    4:lista_id_artista[150:199],\n",
    "    5:lista_id_artista[200:249],\n",
    "    6:lista_id_artista[250:291]\n",
    "}\n"
   ]
  },
  {
   "cell_type": "code",
   "execution_count": null,
   "metadata": {},
   "outputs": [],
   "source": []
  },
  {
   "cell_type": "code",
   "execution_count": 124,
   "metadata": {},
   "outputs": [],
   "source": [
    "#Guarda as informações dos artista\n",
    "dict_artista = {\n",
    "               'id_artista':[],\n",
    "               'url_imagem':[],\n",
    "               'genero':[],\n",
    "               'popularidade':[]\n",
    "}\n"
   ]
  },
  {
   "cell_type": "code",
   "execution_count": 125,
   "metadata": {},
   "outputs": [],
   "source": [
    "for chave in dict_id.keys():\n",
    "        lista_id_artista = dict_id[chave]\n",
    "        data_artista = get_artists(lista_id_artista)\n",
    "        \n",
    "        for artist in data_artista['artists']:\n",
    "              \n",
    "             \n",
    "                dict_artista['id_artista'].append(artist['id'])\n",
    "                try:\n",
    "                    dict_artista['url_imagem'].append(artist['images'][1]['url'])   \n",
    "                except:\n",
    "                    dict_artista['url_imagem'].append(np.nan)\n",
    "                   \n",
    "                try:\n",
    "                    dict_artista['genero'].append(artist['genres'][0])\n",
    "                except:\n",
    "                    dict_artista['genero'].append(np.nan)\n",
    "                    \n",
    "                dict_artista['popularidade'].append(artist['popularity'])\n",
    "        time.sleep(3)        \n",
    "\n",
    "            \n",
    "            \n",
    "            \n",
    " "
   ]
  },
  {
   "cell_type": "code",
   "execution_count": 126,
   "metadata": {},
   "outputs": [
    {
     "data": {
      "text/plain": [
       "{'href': 'https://api.spotify.com/v1/search?query=Mc+Toninho+da+ZL&type=artist&offset=0&limit=10',\n",
       " 'items': [{'external_urls': {'spotify': 'https://open.spotify.com/artist/6HpjyvqK6hONQKDumOWgm8'},\n",
       "   'followers': {'href': None, 'total': 0},\n",
       "   'genres': [],\n",
       "   'href': 'https://api.spotify.com/v1/artists/6HpjyvqK6hONQKDumOWgm8',\n",
       "   'id': '6HpjyvqK6hONQKDumOWgm8',\n",
       "   'images': [],\n",
       "   'name': 'Mc Toninho da ZL',\n",
       "   'popularity': 0,\n",
       "   'type': 'artist',\n",
       "   'uri': 'spotify:artist:6HpjyvqK6hONQKDumOWgm8'}],\n",
       " 'limit': 10,\n",
       " 'next': None,\n",
       " 'offset': 0,\n",
       " 'previous': None,\n",
       " 'total': 1}"
      ]
     },
     "execution_count": 126,
     "metadata": {},
     "output_type": "execute_result"
    }
   ],
   "source": [
    "#Conferindo o porque do dados de genero e imagem vieram vazios \n",
    "artist = sp.search('Mc Toninho da ZL',type = 'artist')\n",
    "artist['artists']"
   ]
  },
  {
   "cell_type": "code",
   "execution_count": 127,
   "metadata": {},
   "outputs": [],
   "source": [
    "#Devido ao tamnho do dicionario está com valores nulos o o pd. DATFRAMe não consegue ler, o que me leva a usar essa solução encontrada \n",
    "#no https://stackoverflow.com/questions/40442014/python-pandas-valueerror-arrays-must-be-all-same-length\n",
    "df_genero = pd.DataFrame.from_dict(dict_artista, orient='index')\n",
    "df_genero = df_genero.transpose()"
   ]
  },
  {
   "cell_type": "code",
   "execution_count": 128,
   "metadata": {},
   "outputs": [
    {
     "name": "stdout",
     "output_type": "stream",
     "text": [
      "<class 'pandas.core.frame.DataFrame'>\n",
      "RangeIndex: 286 entries, 0 to 285\n",
      "Data columns (total 4 columns):\n",
      " #   Column        Non-Null Count  Dtype \n",
      "---  ------        --------------  ----- \n",
      " 0   id_artista    286 non-null    object\n",
      " 1   url_imagem    284 non-null    object\n",
      " 2   genero        265 non-null    object\n",
      " 3   popularidade  286 non-null    object\n",
      "dtypes: object(4)\n",
      "memory usage: 9.1+ KB\n"
     ]
    }
   ],
   "source": [
    "df_genero.info()"
   ]
  },
  {
   "cell_type": "code",
   "execution_count": 129,
   "metadata": {},
   "outputs": [],
   "source": [
    "#Juntando os dados categorizados por generos\n",
    "#dado_categorizado = pd.merge(df_name_artista,df_genero, how = 'inner', on = 'id_artista')\n"
   ]
  },
  {
   "cell_type": "code",
   "execution_count": 130,
   "metadata": {},
   "outputs": [],
   "source": [
    "#dado_categorizado.rename({'nome':'artistName'},axis=1,inplace = True)\n"
   ]
  },
  {
   "cell_type": "code",
   "execution_count": 131,
   "metadata": {},
   "outputs": [
    {
     "name": "stdout",
     "output_type": "stream",
     "text": [
      "<class 'pandas.core.frame.DataFrame'>\n",
      "RangeIndex: 1678 entries, 0 to 1677\n",
      "Data columns (total 7 columns):\n",
      " #   Column      Non-Null Count  Dtype  \n",
      "---  ------      --------------  -----  \n",
      " 0   endTime     1678 non-null   object \n",
      " 1   artistName  1678 non-null   object \n",
      " 2   trackName   1678 non-null   object \n",
      " 3   msPlayed    1678 non-null   float64\n",
      " 4   endDate     1678 non-null   object \n",
      " 5   endMonth    1678 non-null   object \n",
      " 6   id_artista  1510 non-null   object \n",
      "dtypes: float64(1), object(6)\n",
      "memory usage: 91.9+ KB\n"
     ]
    }
   ],
   "source": [
    "dfStreaming.info()"
   ]
  },
  {
   "cell_type": "code",
   "execution_count": 132,
   "metadata": {},
   "outputs": [],
   "source": [
    "#pd.merge(dfStreaming,dado_categorizado ,how = 'left', on = 'artistName')"
   ]
  },
  {
   "cell_type": "code",
   "execution_count": 133,
   "metadata": {},
   "outputs": [
    {
     "data": {
      "text/html": [
       "<div>\n",
       "<style scoped>\n",
       "    .dataframe tbody tr th:only-of-type {\n",
       "        vertical-align: middle;\n",
       "    }\n",
       "\n",
       "    .dataframe tbody tr th {\n",
       "        vertical-align: top;\n",
       "    }\n",
       "\n",
       "    .dataframe thead th {\n",
       "        text-align: right;\n",
       "    }\n",
       "</style>\n",
       "<table border=\"1\" class=\"dataframe\">\n",
       "  <thead>\n",
       "    <tr style=\"text-align: right;\">\n",
       "      <th></th>\n",
       "      <th>artistName</th>\n",
       "      <th>id_artista</th>\n",
       "      <th>url_imagem</th>\n",
       "      <th>genero</th>\n",
       "      <th>popularidade</th>\n",
       "    </tr>\n",
       "  </thead>\n",
       "  <tbody>\n",
       "    <tr>\n",
       "      <th>0</th>\n",
       "      <td>Padre Fábio De Melo</td>\n",
       "      <td>72G62rG7kmq4GFOzyjJV4q</td>\n",
       "      <td>https://i.scdn.co/image/ab676161000051749e4714...</td>\n",
       "      <td>adoracao</td>\n",
       "      <td>61</td>\n",
       "    </tr>\n",
       "    <tr>\n",
       "      <th>1</th>\n",
       "      <td>Guilherme Sá</td>\n",
       "      <td>61rqgwKmF0QwycnC8O82rn</td>\n",
       "      <td>https://i.scdn.co/image/ab67616100005174d29399...</td>\n",
       "      <td>pagode</td>\n",
       "      <td>59</td>\n",
       "    </tr>\n",
       "    <tr>\n",
       "      <th>2</th>\n",
       "      <td>Maria Clara</td>\n",
       "      <td>2f7WgZUIxWzg5KRU5y0fVc</td>\n",
       "      <td>https://i.scdn.co/image/ab6761610000517494acd3...</td>\n",
       "      <td>forro</td>\n",
       "      <td>41</td>\n",
       "    </tr>\n",
       "    <tr>\n",
       "      <th>3</th>\n",
       "      <td>Padre Marcelo Rossi</td>\n",
       "      <td>0BLa22ZCJcTxW78hoNlFA9</td>\n",
       "      <td>https://i.scdn.co/image/ab6761610000517402dfc8...</td>\n",
       "      <td>brazilian ccm</td>\n",
       "      <td>64</td>\n",
       "    </tr>\n",
       "    <tr>\n",
       "      <th>4</th>\n",
       "      <td>MC Splash</td>\n",
       "      <td>0c0Nl7NXA0uen7PWAEUPII</td>\n",
       "      <td>https://i.scdn.co/image/ab67616100005174bd3ab2...</td>\n",
       "      <td>brega funk</td>\n",
       "      <td>32</td>\n",
       "    </tr>\n",
       "  </tbody>\n",
       "</table>\n",
       "</div>"
      ],
      "text/plain": [
       "            artistName              id_artista  \\\n",
       "0  Padre Fábio De Melo  72G62rG7kmq4GFOzyjJV4q   \n",
       "1         Guilherme Sá  61rqgwKmF0QwycnC8O82rn   \n",
       "2          Maria Clara  2f7WgZUIxWzg5KRU5y0fVc   \n",
       "3  Padre Marcelo Rossi  0BLa22ZCJcTxW78hoNlFA9   \n",
       "4            MC Splash  0c0Nl7NXA0uen7PWAEUPII   \n",
       "\n",
       "                                          url_imagem         genero  \\\n",
       "0  https://i.scdn.co/image/ab676161000051749e4714...       adoracao   \n",
       "1  https://i.scdn.co/image/ab67616100005174d29399...         pagode   \n",
       "2  https://i.scdn.co/image/ab6761610000517494acd3...          forro   \n",
       "3  https://i.scdn.co/image/ab6761610000517402dfc8...  brazilian ccm   \n",
       "4  https://i.scdn.co/image/ab67616100005174bd3ab2...     brega funk   \n",
       "\n",
       "  popularidade  \n",
       "0           61  \n",
       "1           59  \n",
       "2           41  \n",
       "3           64  \n",
       "4           32  "
      ]
     },
     "execution_count": 133,
     "metadata": {},
     "output_type": "execute_result"
    }
   ],
   "source": [
    "dado_categorizado.head()"
   ]
  },
  {
   "cell_type": "code",
   "execution_count": null,
   "metadata": {},
   "outputs": [],
   "source": []
  },
  {
   "cell_type": "code",
   "execution_count": null,
   "metadata": {},
   "outputs": [],
   "source": []
  },
  {
   "cell_type": "code",
   "execution_count": null,
   "metadata": {},
   "outputs": [],
   "source": []
  },
  {
   "cell_type": "code",
   "execution_count": null,
   "metadata": {},
   "outputs": [],
   "source": [
    "\n"
   ]
  },
  {
   "cell_type": "code",
   "execution_count": null,
   "metadata": {},
   "outputs": [],
   "source": []
  },
  {
   "cell_type": "code",
   "execution_count": null,
   "metadata": {},
   "outputs": [],
   "source": []
  },
  {
   "cell_type": "code",
   "execution_count": null,
   "metadata": {},
   "outputs": [],
   "source": []
  },
  {
   "cell_type": "code",
   "execution_count": null,
   "metadata": {},
   "outputs": [],
   "source": []
  },
  {
   "cell_type": "code",
   "execution_count": null,
   "metadata": {},
   "outputs": [],
   "source": []
  },
  {
   "cell_type": "markdown",
   "metadata": {},
   "source": [
    "#### Informação apos aplicação do genero"
   ]
  },
  {
   "cell_type": "code",
   "execution_count": null,
   "metadata": {},
   "outputs": [],
   "source": []
  },
  {
   "cell_type": "code",
   "execution_count": 134,
   "metadata": {},
   "outputs": [
    {
     "name": "stdout",
     "output_type": "stream",
     "text": [
      "<class 'pandas.core.frame.DataFrame'>\n",
      "RangeIndex: 301 entries, 0 to 300\n",
      "Data columns (total 2 columns):\n",
      " #   Column      Non-Null Count  Dtype \n",
      "---  ------      --------------  ----- \n",
      " 0   nome        301 non-null    object\n",
      " 1   id_artista  291 non-null    object\n",
      "dtypes: object(2)\n",
      "memory usage: 4.8+ KB\n"
     ]
    }
   ],
   "source": [
    "df_name_artista.info()"
   ]
  },
  {
   "cell_type": "code",
   "execution_count": null,
   "metadata": {},
   "outputs": [],
   "source": []
  },
  {
   "cell_type": "code",
   "execution_count": null,
   "metadata": {},
   "outputs": [],
   "source": []
  },
  {
   "cell_type": "code",
   "execution_count": 135,
   "metadata": {},
   "outputs": [],
   "source": [
    "#Renomeando coluna msPlayed\n",
    "dfStreaming.rename({'msPlayed':'mPlayed'},inplace= True)"
   ]
  },
  {
   "cell_type": "code",
   "execution_count": 136,
   "metadata": {},
   "outputs": [],
   "source": [
    "#Renomeando coluna\n",
    "dfStreaming.rename({'id_artista':'artistId'},inplace= True)"
   ]
  },
  {
   "cell_type": "code",
   "execution_count": null,
   "metadata": {
    "scrolled": true
   },
   "outputs": [],
   "source": []
  },
  {
   "cell_type": "code",
   "execution_count": 137,
   "metadata": {
    "id": "wFNZorHg4myP"
   },
   "outputs": [],
   "source": [
    "#Salvando meu dataframe para usar no tableau como csv \n",
    "dfStreaming.to_csv('/home/mateus/Área de Trabalho//Projeto-Final/Data_Mateus/spotify/in_csv/streamingspotify.csv',index = False)"
   ]
  },
  {
   "cell_type": "markdown",
   "metadata": {
    "id": "Gts08-rWSv2T"
   },
   "source": [
    "**Lendo CSV para df dos albums MateusSpotify**"
   ]
  },
  {
   "cell_type": "code",
   "execution_count": 138,
   "metadata": {
    "id": "cYi7wrLSSrVw"
   },
   "outputs": [],
   "source": [
    "path_file_csv = '/home/mateus/Área de Trabalho/Projeto-Final/Data_Mateus/spotify/in_csv/albumsSpotifyMateus.csv'"
   ]
  },
  {
   "cell_type": "code",
   "execution_count": 139,
   "metadata": {
    "id": "mgVExgPPTHNu"
   },
   "outputs": [],
   "source": [
    "dfAlbumsSpotify = pd.read_csv(path_file_csv,index_col=False)\n",
    "dfAlbumsSpotify.drop('genre',axis = 1,inplace = True)"
   ]
  },
  {
   "cell_type": "code",
   "execution_count": 140,
   "metadata": {
    "id": "cbTIYyRwTQAn"
   },
   "outputs": [
    {
     "data": {
      "text/html": [
       "<div>\n",
       "<style scoped>\n",
       "    .dataframe tbody tr th:only-of-type {\n",
       "        vertical-align: middle;\n",
       "    }\n",
       "\n",
       "    .dataframe tbody tr th {\n",
       "        vertical-align: top;\n",
       "    }\n",
       "\n",
       "    .dataframe thead th {\n",
       "        text-align: right;\n",
       "    }\n",
       "</style>\n",
       "<table border=\"1\" class=\"dataframe\">\n",
       "  <thead>\n",
       "    <tr style=\"text-align: right;\">\n",
       "      <th></th>\n",
       "      <th>artist</th>\n",
       "      <th>album</th>\n",
       "      <th>uri</th>\n",
       "      <th>imageAlbum</th>\n",
       "    </tr>\n",
       "  </thead>\n",
       "  <tbody>\n",
       "    <tr>\n",
       "      <th>0</th>\n",
       "      <td>Ferrugem</td>\n",
       "      <td>Prazer, eu sou Ferrugem</td>\n",
       "      <td>spotify:album:3SkOXrdSri5EIpDpUvfdm3</td>\n",
       "      <td>https://i.scdn.co/image/ab67616d00001e02dd8f10...</td>\n",
       "    </tr>\n",
       "    <tr>\n",
       "      <th>1</th>\n",
       "      <td>MC Loma e As Gêmeas Lacração</td>\n",
       "      <td>Envolvimento</td>\n",
       "      <td>spotify:album:3GnrnufuuDBC8Kf6D5CyIi</td>\n",
       "      <td>https://i.scdn.co/image/ab67616d00001e0204b4ef...</td>\n",
       "    </tr>\n",
       "    <tr>\n",
       "      <th>2</th>\n",
       "      <td>MC Loma e As Gêmeas Lacração</td>\n",
       "      <td>Envolvimento</td>\n",
       "      <td>spotify:album:3GnrnufuuDBC8Kf6D5CyIi</td>\n",
       "      <td>https://i.scdn.co/image/ab67616d00001e0204b4ef...</td>\n",
       "    </tr>\n",
       "    <tr>\n",
       "      <th>3</th>\n",
       "      <td>Various Artists</td>\n",
       "      <td>O Melhor do Forró</td>\n",
       "      <td>spotify:album:7z8pp6TJ8GdlVdqlWUSJAf</td>\n",
       "      <td>NaN</td>\n",
       "    </tr>\n",
       "    <tr>\n",
       "      <th>4</th>\n",
       "      <td>Various Artists</td>\n",
       "      <td>Funk Digital Brasil, Vol. 1</td>\n",
       "      <td>spotify:album:1z4o1D7IFYEBWG6oaHjpeW</td>\n",
       "      <td>NaN</td>\n",
       "    </tr>\n",
       "    <tr>\n",
       "      <th>5</th>\n",
       "      <td>Marília Mendonça</td>\n",
       "      <td>A Culpa É Dele</td>\n",
       "      <td>spotify:album:4tmae6KLsIiuA3VpH2abUj</td>\n",
       "      <td>https://i.scdn.co/image/ab67616d00001e0279f3c0...</td>\n",
       "    </tr>\n",
       "    <tr>\n",
       "      <th>6</th>\n",
       "      <td>Marília Mendonça</td>\n",
       "      <td>A Culpa É Dele</td>\n",
       "      <td>spotify:album:4tmae6KLsIiuA3VpH2abUj</td>\n",
       "      <td>https://i.scdn.co/image/ab67616d00001e0279f3c0...</td>\n",
       "    </tr>\n",
       "    <tr>\n",
       "      <th>7</th>\n",
       "      <td>César Menotti &amp; Fabiano</td>\n",
       "      <td>Não Importa o Lugar</td>\n",
       "      <td>spotify:album:1Nt4LmMgyiCck3q9koNmgg</td>\n",
       "      <td>https://i.scdn.co/image/ab67616d00001e029a4f44...</td>\n",
       "    </tr>\n",
       "    <tr>\n",
       "      <th>8</th>\n",
       "      <td>César Menotti &amp; Fabiano</td>\n",
       "      <td>Não Importa o Lugar</td>\n",
       "      <td>spotify:album:1Nt4LmMgyiCck3q9koNmgg</td>\n",
       "      <td>https://i.scdn.co/image/ab67616d00001e029a4f44...</td>\n",
       "    </tr>\n",
       "    <tr>\n",
       "      <th>9</th>\n",
       "      <td>César Menotti &amp; Fabiano</td>\n",
       "      <td>Não Importa o Lugar</td>\n",
       "      <td>spotify:album:1Nt4LmMgyiCck3q9koNmgg</td>\n",
       "      <td>https://i.scdn.co/image/ab67616d00001e029a4f44...</td>\n",
       "    </tr>\n",
       "    <tr>\n",
       "      <th>10</th>\n",
       "      <td>César Menotti &amp; Fabiano</td>\n",
       "      <td>Não Importa o Lugar</td>\n",
       "      <td>spotify:album:1Nt4LmMgyiCck3q9koNmgg</td>\n",
       "      <td>https://i.scdn.co/image/ab67616d00001e029a4f44...</td>\n",
       "    </tr>\n",
       "    <tr>\n",
       "      <th>11</th>\n",
       "      <td>César Menotti &amp; Fabiano</td>\n",
       "      <td>Não Importa o Lugar</td>\n",
       "      <td>spotify:album:1Nt4LmMgyiCck3q9koNmgg</td>\n",
       "      <td>https://i.scdn.co/image/ab67616d00001e029a4f44...</td>\n",
       "    </tr>\n",
       "    <tr>\n",
       "      <th>12</th>\n",
       "      <td>MC Denny</td>\n",
       "      <td>Pára de K.Ô.</td>\n",
       "      <td>spotify:album:3tf8UzjMdAQQId4WWJPOQz</td>\n",
       "      <td>https://i.scdn.co/image/ab67616d00001e02f8a0c7...</td>\n",
       "    </tr>\n",
       "    <tr>\n",
       "      <th>13</th>\n",
       "      <td>DJ Edgar</td>\n",
       "      <td>Baile Funk With High Quality</td>\n",
       "      <td>spotify:album:6PNoazZXtvWKHCfeA8p3it</td>\n",
       "      <td>https://i.scdn.co/image/ab67616d00001e020d0050...</td>\n",
       "    </tr>\n",
       "    <tr>\n",
       "      <th>14</th>\n",
       "      <td>Zé Neto &amp; Cristiano</td>\n",
       "      <td>Zé Neto &amp; Cristiano - Acústico, Pt. 3</td>\n",
       "      <td>spotify:album:6ONBBEUsiQikekyqrIOOdM</td>\n",
       "      <td>https://i.scdn.co/image/ab67616d00001e02eb4ae1...</td>\n",
       "    </tr>\n",
       "    <tr>\n",
       "      <th>15</th>\n",
       "      <td>Zé Neto &amp; Cristiano</td>\n",
       "      <td>Zé Neto &amp; Cristiano - Acústico, Pt. 3</td>\n",
       "      <td>spotify:album:6ONBBEUsiQikekyqrIOOdM</td>\n",
       "      <td>https://i.scdn.co/image/ab67616d00001e02eb4ae1...</td>\n",
       "    </tr>\n",
       "    <tr>\n",
       "      <th>16</th>\n",
       "      <td>Zé Neto &amp; Cristiano</td>\n",
       "      <td>Zé Neto &amp; Cristiano - Acústico, Pt. 3</td>\n",
       "      <td>spotify:album:6ONBBEUsiQikekyqrIOOdM</td>\n",
       "      <td>https://i.scdn.co/image/ab67616d00001e02eb4ae1...</td>\n",
       "    </tr>\n",
       "  </tbody>\n",
       "</table>\n",
       "</div>"
      ],
      "text/plain": [
       "                          artist                                  album  \\\n",
       "0                       Ferrugem                Prazer, eu sou Ferrugem   \n",
       "1   MC Loma e As Gêmeas Lacração                           Envolvimento   \n",
       "2   MC Loma e As Gêmeas Lacração                           Envolvimento   \n",
       "3                Various Artists                      O Melhor do Forró   \n",
       "4                Various Artists            Funk Digital Brasil, Vol. 1   \n",
       "5               Marília Mendonça                         A Culpa É Dele   \n",
       "6               Marília Mendonça                         A Culpa É Dele   \n",
       "7        César Menotti & Fabiano                    Não Importa o Lugar   \n",
       "8        César Menotti & Fabiano                    Não Importa o Lugar   \n",
       "9        César Menotti & Fabiano                    Não Importa o Lugar   \n",
       "10       César Menotti & Fabiano                    Não Importa o Lugar   \n",
       "11       César Menotti & Fabiano                    Não Importa o Lugar   \n",
       "12                      MC Denny                           Pára de K.Ô.   \n",
       "13                      DJ Edgar           Baile Funk With High Quality   \n",
       "14           Zé Neto & Cristiano  Zé Neto & Cristiano - Acústico, Pt. 3   \n",
       "15           Zé Neto & Cristiano  Zé Neto & Cristiano - Acústico, Pt. 3   \n",
       "16           Zé Neto & Cristiano  Zé Neto & Cristiano - Acústico, Pt. 3   \n",
       "\n",
       "                                     uri  \\\n",
       "0   spotify:album:3SkOXrdSri5EIpDpUvfdm3   \n",
       "1   spotify:album:3GnrnufuuDBC8Kf6D5CyIi   \n",
       "2   spotify:album:3GnrnufuuDBC8Kf6D5CyIi   \n",
       "3   spotify:album:7z8pp6TJ8GdlVdqlWUSJAf   \n",
       "4   spotify:album:1z4o1D7IFYEBWG6oaHjpeW   \n",
       "5   spotify:album:4tmae6KLsIiuA3VpH2abUj   \n",
       "6   spotify:album:4tmae6KLsIiuA3VpH2abUj   \n",
       "7   spotify:album:1Nt4LmMgyiCck3q9koNmgg   \n",
       "8   spotify:album:1Nt4LmMgyiCck3q9koNmgg   \n",
       "9   spotify:album:1Nt4LmMgyiCck3q9koNmgg   \n",
       "10  spotify:album:1Nt4LmMgyiCck3q9koNmgg   \n",
       "11  spotify:album:1Nt4LmMgyiCck3q9koNmgg   \n",
       "12  spotify:album:3tf8UzjMdAQQId4WWJPOQz   \n",
       "13  spotify:album:6PNoazZXtvWKHCfeA8p3it   \n",
       "14  spotify:album:6ONBBEUsiQikekyqrIOOdM   \n",
       "15  spotify:album:6ONBBEUsiQikekyqrIOOdM   \n",
       "16  spotify:album:6ONBBEUsiQikekyqrIOOdM   \n",
       "\n",
       "                                           imageAlbum  \n",
       "0   https://i.scdn.co/image/ab67616d00001e02dd8f10...  \n",
       "1   https://i.scdn.co/image/ab67616d00001e0204b4ef...  \n",
       "2   https://i.scdn.co/image/ab67616d00001e0204b4ef...  \n",
       "3                                                 NaN  \n",
       "4                                                 NaN  \n",
       "5   https://i.scdn.co/image/ab67616d00001e0279f3c0...  \n",
       "6   https://i.scdn.co/image/ab67616d00001e0279f3c0...  \n",
       "7   https://i.scdn.co/image/ab67616d00001e029a4f44...  \n",
       "8   https://i.scdn.co/image/ab67616d00001e029a4f44...  \n",
       "9   https://i.scdn.co/image/ab67616d00001e029a4f44...  \n",
       "10  https://i.scdn.co/image/ab67616d00001e029a4f44...  \n",
       "11  https://i.scdn.co/image/ab67616d00001e029a4f44...  \n",
       "12  https://i.scdn.co/image/ab67616d00001e02f8a0c7...  \n",
       "13  https://i.scdn.co/image/ab67616d00001e020d0050...  \n",
       "14  https://i.scdn.co/image/ab67616d00001e02eb4ae1...  \n",
       "15  https://i.scdn.co/image/ab67616d00001e02eb4ae1...  \n",
       "16  https://i.scdn.co/image/ab67616d00001e02eb4ae1...  "
      ]
     },
     "execution_count": 140,
     "metadata": {},
     "output_type": "execute_result"
    }
   ],
   "source": [
    "dfAlbumsSpotify.head(30)"
   ]
  },
  {
   "cell_type": "code",
   "execution_count": 141,
   "metadata": {
    "id": "6PprRC1WUYrd"
   },
   "outputs": [
    {
     "name": "stdout",
     "output_type": "stream",
     "text": [
      "<class 'pandas.core.frame.DataFrame'>\n",
      "RangeIndex: 17 entries, 0 to 16\n",
      "Data columns (total 4 columns):\n",
      " #   Column      Non-Null Count  Dtype \n",
      "---  ------      --------------  ----- \n",
      " 0   artist      17 non-null     object\n",
      " 1   album       17 non-null     object\n",
      " 2   uri         17 non-null     object\n",
      " 3   imageAlbum  15 non-null     object\n",
      "dtypes: object(4)\n",
      "memory usage: 672.0+ bytes\n"
     ]
    }
   ],
   "source": [
    "dfAlbumsSpotify.info()"
   ]
  },
  {
   "cell_type": "code",
   "execution_count": null,
   "metadata": {
    "id": "IfeoAV6tTTRd"
   },
   "outputs": [],
   "source": [
    "#Aplicando genero a alguns albums pelo artista \n",
    "dfAlbumsSpotify['genre'] = dfAlbumsSpotify['uri'].apply(aplica_genero_album)"
   ]
  },
  {
   "cell_type": "code",
   "execution_count": null,
   "metadata": {
    "id": "Nmh5j-9qi6I-"
   },
   "outputs": [],
   "source": [
    "dfAlbumsSpotify.head()"
   ]
  },
  {
   "cell_type": "code",
   "execution_count": null,
   "metadata": {
    "id": "lIKeVtWKjxC2"
   },
   "outputs": [],
   "source": [
    "#Aplicando ao artista que estão com nome varios artista o genero pela sua descrição.\n",
    "dfAlbumsSpotify.loc[2]['genre'] = 'forró'\n",
    "dfAlbumsSpotify.loc[3]['genre'] = 'funk'"
   ]
  },
  {
   "cell_type": "code",
   "execution_count": null,
   "metadata": {
    "id": "7REe3kzlo84Y"
   },
   "outputs": [],
   "source": [
    "    #Dividindo  a coluna genero, ja que é uma lista de genero.\n",
    "dfAlbumsSpotify = dfAlbumsSpotify.explode('genre',ignore_index= True)\n",
    "dfAlbumsSpotify.head(10)\n"
   ]
  },
  {
   "cell_type": "code",
   "execution_count": null,
   "metadata": {
    "id": "XeZX6iEOsxut"
   },
   "outputs": [],
   "source": [
    "#Aplicando uma nova coluna ao df com a informação de link da imagem do album\n",
    "dfAlbumsSpotify['imageAlbum'] = dfAlbumsSpotify.query('artist != \"Various Artists\"')['uri'].apply(aplica_img_album)"
   ]
  },
  {
   "cell_type": "code",
   "execution_count": null,
   "metadata": {
    "id": "EULhvtXs_Dpn"
   },
   "outputs": [],
   "source": [
    "dfAlbumsSpotify.to_csv(path_file_csv,index = False )"
   ]
  },
  {
   "cell_type": "markdown",
   "metadata": {
    "id": "21rR48Mj_a0a"
   },
   "source": []
  }
 ],
 "metadata": {
  "colab": {
   "authorship_tag": "ABX9TyOKd1Xc9Tus3wFFCFMYnVi3",
   "collapsed_sections": [],
   "mount_file_id": "1mnfyOsoFzakoQiqBq7LlUq0wO8j0j4IL",
   "name": "alimentandoBasespotifyApi.ipynb",
   "provenance": []
  },
  "interpreter": {
   "hash": "cf3f271fe67d784bbf85f4ffd9a2a655e5d080e1c1fc4d081ba9aa5ddf323350"
  },
  "kernelspec": {
   "display_name": "Python 3",
   "language": "python",
   "name": "python3"
  },
  "language_info": {
   "codemirror_mode": {
    "name": "ipython",
    "version": 3
   },
   "file_extension": ".py",
   "mimetype": "text/x-python",
   "name": "python",
   "nbconvert_exporter": "python",
   "pygments_lexer": "ipython3",
   "version": "3.8.10"
  }
 },
 "nbformat": 4,
 "nbformat_minor": 1
}
