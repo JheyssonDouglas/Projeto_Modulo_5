{
 "cells": [
  {
   "cell_type": "markdown",
   "source": [
    "### Consumindo api spotify\n",
    "* Isntalando api spotify"
   ],
   "metadata": {
    "id": "xm3m_zMJ2tnB"
   }
  },
  {
   "cell_type": "markdown",
   "source": [
    "**Extraindo base de dados para analise exploratoria** \n",
    "  * Spotify"
   ],
   "metadata": {
    "id": "Xz_-CAjy1g04"
   }
  },
  {
   "cell_type": "code",
   "execution_count": 1,
   "source": [
    "pip install spotipy"
   ],
   "outputs": [
    {
     "output_type": "stream",
     "name": "stdout",
     "text": [
      "Collecting spotipy\n",
      "  Using cached spotipy-2.18.0-py3-none-any.whl (26 kB)\n",
      "Requirement already satisfied: six>=1.15.0 in /home/mateus/Repositorios/Projeto_Modulo_5/.venv/lib/python3.8/site-packages (from spotipy) (1.16.0)\n",
      "Collecting requests>=2.25.0\n",
      "  Using cached requests-2.26.0-py2.py3-none-any.whl (62 kB)\n",
      "Collecting urllib3>=1.26.0\n",
      "  Using cached urllib3-1.26.6-py2.py3-none-any.whl (138 kB)\n",
      "Collecting charset-normalizer~=2.0.0; python_version >= \"3\"\n",
      "  Using cached charset_normalizer-2.0.3-py3-none-any.whl (35 kB)\n",
      "Collecting certifi>=2017.4.17\n",
      "  Downloading certifi-2021.5.30-py2.py3-none-any.whl (145 kB)\n",
      "\u001b[K     |████████████████████████████████| 145 kB 1.6 MB/s \n",
      "\u001b[?25hCollecting idna<4,>=2.5; python_version >= \"3\"\n",
      "  Downloading idna-3.2-py3-none-any.whl (59 kB)\n",
      "\u001b[K     |████████████████████████████████| 59 kB 602 kB/s \n",
      "\u001b[?25hInstalling collected packages: charset-normalizer, certifi, idna, urllib3, requests, spotipy\n",
      "Successfully installed certifi-2021.5.30 charset-normalizer-2.0.3 idna-3.2 requests-2.26.0 spotipy-2.18.0 urllib3-1.26.6\n",
      "Note: you may need to restart the kernel to use updated packages.\n"
     ]
    }
   ],
   "metadata": {
    "colab": {
     "base_uri": "https://localhost:8080/"
    },
    "executionInfo": {
     "elapsed": 3297,
     "status": "ok",
     "timestamp": 1627230409776,
     "user": {
      "displayName": "Mateus Varelo",
      "photoUrl": "https://lh3.googleusercontent.com/a-/AOh14Gg73LYxIEbDHChnMebSrZ-v0SG3yQkkQ5nkmXD3x6k=s64",
      "userId": "15384696535292950454"
     },
     "user_tz": 180
    },
    "id": "vVbOX3kG1van",
    "outputId": "df0785e7-83f5-4ac6-86a0-e24fac1f1c8c"
   }
  },
  {
   "cell_type": "markdown",
   "source": [
    "### Espaço para importações de bibliotecas utilizadas"
   ],
   "metadata": {
    "id": "3ajcPolFtjTB"
   }
  },
  {
   "cell_type": "code",
   "execution_count": 2,
   "source": [
    "pip install matplotlib"
   ],
   "outputs": [
    {
     "output_type": "stream",
     "name": "stdout",
     "text": [
      "Collecting matplotlib\n",
      "  Using cached matplotlib-3.4.2-cp38-cp38-manylinux1_x86_64.whl (10.3 MB)\n",
      "Requirement already satisfied: python-dateutil>=2.7 in /home/mateus/Repositorios/Projeto_Modulo_5/.venv/lib/python3.8/site-packages (from matplotlib) (2.8.2)\n",
      "Collecting cycler>=0.10\n",
      "  Using cached cycler-0.10.0-py2.py3-none-any.whl (6.5 kB)\n",
      "Collecting kiwisolver>=1.0.1\n",
      "  Using cached kiwisolver-1.3.1-cp38-cp38-manylinux1_x86_64.whl (1.2 MB)\n",
      "Collecting numpy>=1.16\n",
      "  Using cached numpy-1.21.1-cp38-cp38-manylinux_2_12_x86_64.manylinux2010_x86_64.whl (15.8 MB)\n",
      "Collecting pyparsing>=2.2.1\n",
      "  Using cached pyparsing-2.4.7-py2.py3-none-any.whl (67 kB)\n",
      "Collecting pillow>=6.2.0\n",
      "  Downloading Pillow-8.3.1-cp38-cp38-manylinux_2_5_x86_64.manylinux1_x86_64.whl (3.0 MB)\n",
      "\u001b[K     |████████████████████████████████| 3.0 MB 1.9 MB/s \n",
      "\u001b[?25hRequirement already satisfied: six>=1.5 in /home/mateus/Repositorios/Projeto_Modulo_5/.venv/lib/python3.8/site-packages (from python-dateutil>=2.7->matplotlib) (1.16.0)\n",
      "Installing collected packages: cycler, kiwisolver, numpy, pyparsing, pillow, matplotlib\n",
      "Successfully installed cycler-0.10.0 kiwisolver-1.3.1 matplotlib-3.4.2 numpy-1.21.1 pillow-8.3.1 pyparsing-2.4.7\n",
      "Note: you may need to restart the kernel to use updated packages.\n"
     ]
    }
   ],
   "metadata": {}
  },
  {
   "cell_type": "code",
   "execution_count": 4,
   "source": [
    "pip install pandas"
   ],
   "outputs": [
    {
     "output_type": "stream",
     "name": "stdout",
     "text": [
      "Collecting pandas\n",
      "  Downloading pandas-1.3.1-cp38-cp38-manylinux_2_17_x86_64.manylinux2014_x86_64.whl (11.7 MB)\n",
      "\u001b[K     |████████████████████████████████| 11.7 MB 1.9 MB/s \n",
      "\u001b[?25hRequirement already satisfied: python-dateutil>=2.7.3 in /home/mateus/Repositorios/Projeto_Modulo_5/.venv/lib/python3.8/site-packages (from pandas) (2.8.2)\n",
      "Collecting pytz>=2017.3\n",
      "  Using cached pytz-2021.1-py2.py3-none-any.whl (510 kB)\n",
      "Requirement already satisfied: numpy>=1.17.3 in /home/mateus/Repositorios/Projeto_Modulo_5/.venv/lib/python3.8/site-packages (from pandas) (1.21.1)\n",
      "Requirement already satisfied: six>=1.5 in /home/mateus/Repositorios/Projeto_Modulo_5/.venv/lib/python3.8/site-packages (from python-dateutil>=2.7.3->pandas) (1.16.0)\n",
      "Installing collected packages: pytz, pandas\n",
      "Successfully installed pandas-1.3.1 pytz-2021.1\n",
      "Note: you may need to restart the kernel to use updated packages.\n"
     ]
    }
   ],
   "metadata": {}
  },
  {
   "cell_type": "code",
   "execution_count": 6,
   "source": [
    "pip install numpy"
   ],
   "outputs": [],
   "metadata": {}
  },
  {
   "cell_type": "code",
   "execution_count": 30,
   "source": [
    "import pandas as pd\n",
    "import matplotlib.pyplot as plt\n",
    "import json\n",
    "import numpy as np\n",
    "import spotipy\n",
    "from spotipy.oauth2 import SpotifyClientCredentials\n",
    "import sys\n",
    "import time"
   ],
   "outputs": [],
   "metadata": {
    "id": "JCFVIbIcfpJc"
   }
  },
  {
   "cell_type": "markdown",
   "source": [
    "### Espaço para autenticação de usuário para acesso a API **spotify**"
   ],
   "metadata": {
    "id": "TDuOXU98tQwa"
   }
  },
  {
   "cell_type": "code",
   "execution_count": 31,
   "source": [
    "#Autenticação api\n",
    "cid =\"75b0d6f3334a4b689620eda9f917844a\" \n",
    "secret = \"ca50b30849d24b5d88508296ee9e6d98\" \n",
    "client_credentials_manager = SpotifyClientCredentials(client_id=cid, \n",
    "client_secret=secret) \n",
    "\n",
    "sp = spotipy.Spotify(client_credentials_manager=client_credentials_manager) \n",
    "sp.trace=False"
   ],
   "outputs": [],
   "metadata": {
    "id": "whq5br2r3Z1u"
   }
  },
  {
   "cell_type": "code",
   "execution_count": 32,
   "source": [
    "#### **Funções usadas nesse notebook**"
   ],
   "outputs": [],
   "metadata": {
    "id": "PWFob5Y5qDua"
   }
  },
  {
   "cell_type": "code",
   "execution_count": 33,
   "source": [
    "def get_album_data(album_id):\n",
    "    time.sleep(gera_um_numero_segundos())\n",
    "    try: \n",
    "\n",
    "       data = sp.album(album_id)\n",
    "       return data\n",
    "    except:\n",
    "       return None  "
   ],
   "outputs": [],
   "metadata": {
    "id": "jVoBC3binQCK"
   }
  },
  {
   "cell_type": "code",
   "execution_count": 34,
   "source": [
    "def get_album_data_artista(album_id):\n",
    "    try:\n",
    "      data = sp.album(album_id)\n",
    "      return data['artists']\n",
    "    except:\n",
    "      return None    "
   ],
   "outputs": [],
   "metadata": {
    "id": "i4Lk41ZOvyTy"
   }
  },
  {
   "cell_type": "code",
   "execution_count": 35,
   "source": [
    "def  get_uri(artista_data):\n",
    "    time.sleep(gera_um_numero_segundos())\n",
    "    try:\n",
    "       return artista_data[0]['uri']\n",
    "    except:\n",
    "       return None  "
   ],
   "outputs": [],
   "metadata": {
    "id": "lOUviw-0q4DW"
   }
  },
  {
   "cell_type": "code",
   "execution_count": 36,
   "source": [
    "def get_artist(artista_id):\n",
    "  time.sleep(gera_um_numero_segundos())\n",
    "  try:\n",
    "    resultado = sp.artist(artista_id)\n",
    "    return resultado\n",
    "  except:\n",
    "    return None  "
   ],
   "outputs": [],
   "metadata": {
    "id": "OUF5ZSCipQsp"
   }
  },
  {
   "cell_type": "code",
   "execution_count": 37,
   "source": [
    "def get_album_imagem(album_dados):\n",
    "   time.sleep(gera_um_numero_segundos())\n",
    "   try:\n",
    "       img = album_dados['images'][1]['url']\n",
    "       return img\n",
    "   except:\n",
    "       return None   "
   ],
   "outputs": [],
   "metadata": {
    "id": "ZaumqGj9q2oA"
   }
  },
  {
   "cell_type": "code",
   "execution_count": 38,
   "source": [
    "def get_url_img(artista_data):\n",
    "    time.sleep(gera_um_numero_segundos())\n",
    "    try:\n",
    "      url = artista_data['images'][1]['url']\n",
    "      return url\n",
    "    except:\n",
    "      return None  "
   ],
   "outputs": [],
   "metadata": {
    "id": "8YjPKW21EHEc"
   }
  },
  {
   "cell_type": "code",
   "execution_count": 39,
   "source": [
    "def get_artist_genres(artista_data):\n",
    "    time.sleep(gera_um_numero_segundos())\n",
    "    try:\n",
    "      genre = artista_data['genres'] \n",
    "      return genre\n",
    "    except:\n",
    "      return None    "
   ],
   "outputs": [],
   "metadata": {
    "id": "mbzJQH0hNGwo"
   }
  },
  {
   "cell_type": "code",
   "execution_count": 40,
   "source": [
    "def aplica_genero_album(x):\n",
    "  \n",
    "  try:\n",
    "      dados_album = get_album_data(x)\n",
    "      time.sleep(gera_um_numero_segundos())\n",
    "      dados_artista_album = get_album_data_artista(x)\n",
    "      uri_artista = get_uri(dados_artista_album)\n",
    "      time.sleep(gera_um_numero_segundos())\n",
    "      dado_artista = get_artist(uri_artista)\n",
    "      time.sleep(gera_um_numero_segundos())\n",
    "      genero_artista = get_artist_genres(dado_artista)\n",
    "      return genero_artista \n",
    "  except:\n",
    "      return None   "
   ],
   "outputs": [],
   "metadata": {
    "id": "T0BLLpcRaHEf"
   }
  },
  {
   "cell_type": "code",
   "execution_count": 41,
   "source": [
    "def get_id_artista(nome):\n",
    "  time.sleep(gera_um_numero_segundos())\n",
    "  resul = sp.search(q=nome,type = 'artist')\n",
    "  try:\n",
    "      items = resul['artists']['items']\n",
    "      nome_busca = items[0]['name']\n",
    "      if len(items) > 0:\n",
    "        if nome == nome_busca:\n",
    "          return items[0]['id']\n",
    "      else:\n",
    "        return None \n",
    "  except:\n",
    "      return None  "
   ],
   "outputs": [],
   "metadata": {
    "id": "7M8qI-v6gXtF"
   }
  },
  {
   "cell_type": "code",
   "execution_count": 42,
   "source": [
    "def aplica_img_album(x):\n",
    "  try:\n",
    "      dados_album = get_album_data(x)\n",
    "      time.sleep(gera_um_numero_segundos())\n",
    "      url_img = get_album_imagem(dados_album)\n",
    "      return url_img\n",
    "  except:\n",
    "      return None    "
   ],
   "outputs": [],
   "metadata": {
    "id": "Rnf2L24qqlJn"
   }
  },
  {
   "cell_type": "code",
   "execution_count": 43,
   "source": [
    "def aplica_genero_artist(nome):\n",
    "    \n",
    "    time.sleep(gera_um_numero_segundos())\n",
    "\n",
    "    try:\n",
    "        nome = nome.strip()\n",
    "        id_artista = get_id_artista(nome.strip())\n",
    "        time.sleep(gera_um_numero_segundos())\n",
    "        artita = get_artist(id_artista)\n",
    "        time.sleep(gera_um_numero_segundos())\n",
    "        genero = get_artist_genres(artita)\n",
    "        return genero\n",
    "    except:\n",
    "        return None   \n"
   ],
   "outputs": [],
   "metadata": {
    "id": "rGxjGi8ifEh6"
   }
  },
  {
   "cell_type": "code",
   "execution_count": 44,
   "source": [
    "def gera_um_numero_segundos():\n",
    "     return np.random.randint(4,8)\n",
    "   "
   ],
   "outputs": [],
   "metadata": {
    "id": "9GgnG4B_tjRr"
   }
  },
  {
   "cell_type": "markdown",
   "source": [
    "### Lendo arquivo csv streaming spotify"
   ],
   "metadata": {
    "id": "gz93npnCw9L5"
   }
  },
  {
   "cell_type": "code",
   "execution_count": 45,
   "source": [
    "path_file_csv = '/home/mateus/Área de Trabalho//Projeto-Final/Data_Mateus/spotify/in_csv/streamingspotify.csv'"
   ],
   "outputs": [],
   "metadata": {
    "id": "n5aV_7JqqvS-"
   }
  },
  {
   "cell_type": "code",
   "execution_count": 46,
   "source": [
    "#Leitura csv para dataframe\n",
    "dfStreaming = pd.read_csv(path_file_csv)"
   ],
   "outputs": [],
   "metadata": {
    "id": "4si7IVnJxQwC"
   }
  },
  {
   "cell_type": "code",
   "execution_count": 47,
   "source": [
    "dfStreaming.head()"
   ],
   "outputs": [
    {
     "output_type": "execute_result",
     "data": {
      "text/plain": [
       "    endTime           artistName                              trackName  \\\n",
       "0  04:57:00  Padre Fábio De Melo                            Não Desisto   \n",
       "1  05:01:00  Padre Fábio De Melo                               Proteção   \n",
       "2  05:06:00  Padre Fábio De Melo                               Iluminar   \n",
       "3  05:12:00         Guilherme Sá  Oração de São Francisco - Bonus Track   \n",
       "4  05:15:00  Padre Fábio De Melo                              Trem-Bala   \n",
       "\n",
       "   msPlayed     endDate endMonth  \n",
       "0  3.945083  2020-07-24      jul  \n",
       "1  4.012883  2020-07-24      jul  \n",
       "2  4.876983  2020-07-24      jul  \n",
       "3  5.559333  2020-07-24      jul  \n",
       "4  3.405333  2020-07-24      jul  "
      ],
      "text/html": [
       "<div>\n",
       "<style scoped>\n",
       "    .dataframe tbody tr th:only-of-type {\n",
       "        vertical-align: middle;\n",
       "    }\n",
       "\n",
       "    .dataframe tbody tr th {\n",
       "        vertical-align: top;\n",
       "    }\n",
       "\n",
       "    .dataframe thead th {\n",
       "        text-align: right;\n",
       "    }\n",
       "</style>\n",
       "<table border=\"1\" class=\"dataframe\">\n",
       "  <thead>\n",
       "    <tr style=\"text-align: right;\">\n",
       "      <th></th>\n",
       "      <th>endTime</th>\n",
       "      <th>artistName</th>\n",
       "      <th>trackName</th>\n",
       "      <th>msPlayed</th>\n",
       "      <th>endDate</th>\n",
       "      <th>endMonth</th>\n",
       "    </tr>\n",
       "  </thead>\n",
       "  <tbody>\n",
       "    <tr>\n",
       "      <th>0</th>\n",
       "      <td>04:57:00</td>\n",
       "      <td>Padre Fábio De Melo</td>\n",
       "      <td>Não Desisto</td>\n",
       "      <td>3.945083</td>\n",
       "      <td>2020-07-24</td>\n",
       "      <td>jul</td>\n",
       "    </tr>\n",
       "    <tr>\n",
       "      <th>1</th>\n",
       "      <td>05:01:00</td>\n",
       "      <td>Padre Fábio De Melo</td>\n",
       "      <td>Proteção</td>\n",
       "      <td>4.012883</td>\n",
       "      <td>2020-07-24</td>\n",
       "      <td>jul</td>\n",
       "    </tr>\n",
       "    <tr>\n",
       "      <th>2</th>\n",
       "      <td>05:06:00</td>\n",
       "      <td>Padre Fábio De Melo</td>\n",
       "      <td>Iluminar</td>\n",
       "      <td>4.876983</td>\n",
       "      <td>2020-07-24</td>\n",
       "      <td>jul</td>\n",
       "    </tr>\n",
       "    <tr>\n",
       "      <th>3</th>\n",
       "      <td>05:12:00</td>\n",
       "      <td>Guilherme Sá</td>\n",
       "      <td>Oração de São Francisco - Bonus Track</td>\n",
       "      <td>5.559333</td>\n",
       "      <td>2020-07-24</td>\n",
       "      <td>jul</td>\n",
       "    </tr>\n",
       "    <tr>\n",
       "      <th>4</th>\n",
       "      <td>05:15:00</td>\n",
       "      <td>Padre Fábio De Melo</td>\n",
       "      <td>Trem-Bala</td>\n",
       "      <td>3.405333</td>\n",
       "      <td>2020-07-24</td>\n",
       "      <td>jul</td>\n",
       "    </tr>\n",
       "  </tbody>\n",
       "</table>\n",
       "</div>"
      ]
     },
     "metadata": {},
     "execution_count": 47
    }
   ],
   "metadata": {
    "colab": {
     "base_uri": "https://localhost:8080/",
     "height": 289
    },
    "executionInfo": {
     "elapsed": 31,
     "status": "ok",
     "timestamp": 1627230410765,
     "user": {
      "displayName": "Mateus Varelo",
      "photoUrl": "https://lh3.googleusercontent.com/a-/AOh14Gg73LYxIEbDHChnMebSrZ-v0SG3yQkkQ5nkmXD3x6k=s64",
      "userId": "15384696535292950454"
     },
     "user_tz": 180
    },
    "id": "diK1PpslxhPw",
    "outputId": "387f56c5-6004-49d0-ffe1-a41e579033a5"
   }
  },
  {
   "cell_type": "code",
   "execution_count": 48,
   "source": [
    "dfStreaming.info()"
   ],
   "outputs": [
    {
     "output_type": "stream",
     "name": "stdout",
     "text": [
      "<class 'pandas.core.frame.DataFrame'>\n",
      "RangeIndex: 1678 entries, 0 to 1677\n",
      "Data columns (total 6 columns):\n",
      " #   Column      Non-Null Count  Dtype  \n",
      "---  ------      --------------  -----  \n",
      " 0   endTime     1678 non-null   object \n",
      " 1   artistName  1678 non-null   object \n",
      " 2   trackName   1678 non-null   object \n",
      " 3   msPlayed    1678 non-null   float64\n",
      " 4   endDate     1678 non-null   object \n",
      " 5   endMonth    1678 non-null   object \n",
      "dtypes: float64(1), object(5)\n",
      "memory usage: 78.8+ KB\n"
     ]
    }
   ],
   "metadata": {
    "id": "1jpBZZKP9-p8"
   }
  },
  {
   "cell_type": "code",
   "execution_count": null,
   "source": [],
   "outputs": [],
   "metadata": {
    "id": "lgy5HIMKApTv"
   }
  },
  {
   "cell_type": "code",
   "execution_count": null,
   "source": [
    "dfStreaming['genres'] = dfStreaming['artistName'].apply(aplica_genero_artist)\n"
   ],
   "outputs": [],
   "metadata": {
    "colab": {
     "base_uri": "https://localhost:8080/",
     "height": 340
    },
    "id": "I44Zdufoxq_y",
    "outputId": "32b35a6c-2956-4a09-a4c6-7b32582d0087"
   }
  },
  {
   "cell_type": "code",
   "execution_count": null,
   "source": [
    "dfStreaming.head()"
   ],
   "outputs": [],
   "metadata": {}
  },
  {
   "cell_type": "code",
   "execution_count": null,
   "source": [
    "dfStreaming.to_csv('/home/mateus/Área de Trabalho//Projeto-Final/Data_Mateus/spotify/in_csv/streamingspotify.csv',index = False)"
   ],
   "outputs": [],
   "metadata": {
    "id": "wFNZorHg4myP"
   }
  },
  {
   "cell_type": "markdown",
   "source": [
    "**Lendo CSV para df dos albums MateusSpotify**"
   ],
   "metadata": {
    "id": "Gts08-rWSv2T"
   }
  },
  {
   "cell_type": "code",
   "execution_count": null,
   "source": [
    "path_file_csv = '/home/mateus/Área de Trabalho/Projeto-Final/Data_Mateus/spotify/in_csv/albumsSpotifyMateus.csv'"
   ],
   "outputs": [],
   "metadata": {
    "id": "cYi7wrLSSrVw"
   }
  },
  {
   "cell_type": "code",
   "execution_count": null,
   "source": [
    "dfAlbumsSpotify = pd.read_csv(path_file_csv)"
   ],
   "outputs": [],
   "metadata": {
    "id": "mgVExgPPTHNu"
   }
  },
  {
   "cell_type": "code",
   "execution_count": null,
   "source": [
    "dfAlbumsSpotify.head(30)"
   ],
   "outputs": [],
   "metadata": {
    "id": "cbTIYyRwTQAn"
   }
  },
  {
   "cell_type": "code",
   "execution_count": null,
   "source": [
    "dfAlbumsSpotify.info()"
   ],
   "outputs": [],
   "metadata": {
    "id": "6PprRC1WUYrd"
   }
  },
  {
   "cell_type": "code",
   "execution_count": null,
   "source": [
    "#Aplicando genero a alguns albums pelo artista \n",
    "dfAlbumsSpotify['genre'] = dfAlbumsSpotify['uri'].apply(aplica_genero_album)"
   ],
   "outputs": [],
   "metadata": {
    "id": "IfeoAV6tTTRd"
   }
  },
  {
   "cell_type": "code",
   "execution_count": null,
   "source": [
    "dfAlbumsSpotify.head()"
   ],
   "outputs": [],
   "metadata": {
    "id": "Nmh5j-9qi6I-"
   }
  },
  {
   "cell_type": "code",
   "execution_count": null,
   "source": [
    "#Aplicando ao artista que estão com nome varios artista o genero pela sua descrição.\n",
    "dfAlbumsSpotify.loc[2]['genre'] = 'forró'\n",
    "dfAlbumsSpotify.loc[3]['genre'] = 'funk'"
   ],
   "outputs": [],
   "metadata": {
    "id": "lIKeVtWKjxC2"
   }
  },
  {
   "cell_type": "code",
   "execution_count": null,
   "source": [
    "#Dividindo  a coluna genero, ja que é uma lista de genero.\n",
    "dfAlbumsSpotify = dfAlbumsSpotify.explode('genre',ignore_index= True)\n",
    "dfAlbumsSpotify.head(10)"
   ],
   "outputs": [],
   "metadata": {
    "id": "7REe3kzlo84Y"
   }
  },
  {
   "cell_type": "code",
   "execution_count": null,
   "source": [
    "#Aplicando uma nova coluna ao df com a informação de link da imagem do album\n",
    "dfAlbumsSpotify['imageAlbum'] = dfAlbumsSpotify.query('artist != \"Various Artists\"')['uri'].apply(aplica_img_album)"
   ],
   "outputs": [],
   "metadata": {
    "id": "XeZX6iEOsxut"
   }
  },
  {
   "cell_type": "code",
   "execution_count": null,
   "source": [
    "dfAlbumsSpotify.to_csv(path_file_csv,index = True)"
   ],
   "outputs": [],
   "metadata": {
    "id": "EULhvtXs_Dpn"
   }
  },
  {
   "cell_type": "markdown",
   "source": [],
   "metadata": {
    "id": "21rR48Mj_a0a"
   }
  }
 ],
 "metadata": {
  "colab": {
   "authorship_tag": "ABX9TyOKd1Xc9Tus3wFFCFMYnVi3",
   "collapsed_sections": [],
   "mount_file_id": "1mnfyOsoFzakoQiqBq7LlUq0wO8j0j4IL",
   "name": "alimentandoBasespotifyApi.ipynb",
   "provenance": []
  },
  "kernelspec": {
   "name": "python3",
   "display_name": "Python 3.8.10 64-bit ('.venv': venv)"
  },
  "language_info": {
   "codemirror_mode": {
    "name": "ipython",
    "version": 3
   },
   "file_extension": ".py",
   "mimetype": "text/x-python",
   "name": "python",
   "nbconvert_exporter": "python",
   "pygments_lexer": "ipython3",
   "version": "3.8.10"
  },
  "interpreter": {
   "hash": "cf3f271fe67d784bbf85f4ffd9a2a655e5d080e1c1fc4d081ba9aa5ddf323350"
  }
 },
 "nbformat": 4,
 "nbformat_minor": 1
}