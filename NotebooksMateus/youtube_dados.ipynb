{
 "cells": [
  {
   "cell_type": "markdown",
   "id": "a5e2e01f",
   "metadata": {},
   "source": [
    "### Extração de dados youtube- visualizacão de videos"
   ]
  },
  {
   "cell_type": "markdown",
   "id": "9acb24c3",
   "metadata": {},
   "source": [
    "**Bibliotecas:**"
   ]
  },
  {
   "cell_type": "markdown",
   "id": "9d5db62d",
   "metadata": {},
   "source": [
    "* pandas\n",
    "* numpy\n",
    "* BeautifulSoup\n",
    "* matplotlib\n",
    "* stylecloud"
   ]
  },
  {
   "cell_type": "markdown",
   "id": "456c41a9",
   "metadata": {},
   "source": [
    "> Requer instalação da  **beautifulsoup4** para ler e extrair dados html, **tags**."
   ]
  },
  {
   "cell_type": "code",
   "execution_count": 288,
   "id": "63e6f103",
   "metadata": {},
   "outputs": [
    {
     "name": "stdout",
     "output_type": "stream",
     "text": [
      "Requirement already satisfied: beautifulsoup4 in /usr/lib/python3/dist-packages (4.8.2)\n",
      "Note: you may need to restart the kernel to use updated packages.\n"
     ]
    }
   ],
   "source": [
    " pip install beautifulsoup4"
   ]
  },
  {
   "cell_type": "markdown",
   "id": "5dbca2cf",
   "metadata": {},
   "source": [
    "> Para gerar nuvem de palavras vou utilizar a biblioteca **stylecloud** para isso"
   ]
  },
  {
   "cell_type": "code",
   "execution_count": 289,
   "id": "e570aec9",
   "metadata": {},
   "outputs": [
    {
     "name": "stdout",
     "output_type": "stream",
     "text": [
      "Requirement already satisfied: stylecloud in /home/mateus/.local/lib/python3.8/site-packages (0.5.2)\n",
      "Requirement already satisfied: palettable in /home/mateus/.local/lib/python3.8/site-packages (from stylecloud) (3.3.0)\n",
      "Requirement already satisfied: icon-font-to-png in /home/mateus/.local/lib/python3.8/site-packages (from stylecloud) (0.4.1)\n",
      "Requirement already satisfied: wordcloud in /home/mateus/.local/lib/python3.8/site-packages (from stylecloud) (1.8.1)\n",
      "Requirement already satisfied: matplotlib in /home/mateus/.local/lib/python3.8/site-packages (from stylecloud) (3.4.2)\n",
      "Requirement already satisfied: fire in /home/mateus/.local/lib/python3.8/site-packages (from stylecloud) (0.4.0)\n",
      "Requirement already satisfied: Pillow>=4.0.0 in /usr/lib/python3/dist-packages (from icon-font-to-png->stylecloud) (7.0.0)\n",
      "Requirement already satisfied: tinycss>=0.4 in /home/mateus/.local/lib/python3.8/site-packages (from icon-font-to-png->stylecloud) (0.4)\n",
      "Requirement already satisfied: requests>=2.12.5 in /home/mateus/.local/lib/python3.8/site-packages (from icon-font-to-png->stylecloud) (2.26.0)\n",
      "Requirement already satisfied: six>=1.10.0 in /home/mateus/.local/lib/python3.8/site-packages (from icon-font-to-png->stylecloud) (1.16.0)\n",
      "Requirement already satisfied: numpy>=1.6.1 in /home/mateus/.local/lib/python3.8/site-packages (from wordcloud->stylecloud) (1.21.1)\n",
      "Requirement already satisfied: kiwisolver>=1.0.1 in /home/mateus/.local/lib/python3.8/site-packages (from matplotlib->stylecloud) (1.3.1)\n",
      "Requirement already satisfied: cycler>=0.10 in /home/mateus/.local/lib/python3.8/site-packages (from matplotlib->stylecloud) (0.10.0)\n",
      "Requirement already satisfied: python-dateutil>=2.7 in /home/mateus/.local/lib/python3.8/site-packages (from matplotlib->stylecloud) (2.8.1)\n",
      "Requirement already satisfied: pyparsing>=2.2.1 in /usr/lib/python3/dist-packages (from matplotlib->stylecloud) (2.4.6)\n",
      "Requirement already satisfied: termcolor in /home/mateus/.local/lib/python3.8/site-packages (from fire->stylecloud) (1.1.0)\n",
      "Requirement already satisfied: idna<4,>=2.5; python_version >= \"3\" in /usr/lib/python3/dist-packages (from requests>=2.12.5->icon-font-to-png->stylecloud) (2.8)\n",
      "Requirement already satisfied: certifi>=2017.4.17 in /usr/lib/python3/dist-packages (from requests>=2.12.5->icon-font-to-png->stylecloud) (2019.11.28)\n",
      "Requirement already satisfied: charset-normalizer~=2.0.0; python_version >= \"3\" in /home/mateus/.local/lib/python3.8/site-packages (from requests>=2.12.5->icon-font-to-png->stylecloud) (2.0.3)\n",
      "Requirement already satisfied: urllib3<1.27,>=1.21.1 in /home/mateus/.local/lib/python3.8/site-packages (from requests>=2.12.5->icon-font-to-png->stylecloud) (1.26.6)\n",
      "Note: you may need to restart the kernel to use updated packages.\n"
     ]
    }
   ],
   "source": [
    "pip install stylecloud"
   ]
  },
  {
   "cell_type": "markdown",
   "id": "e39ed6f7",
   "metadata": {},
   "source": [
    "**Imports de bliotecas para utilização:**"
   ]
  },
  {
   "cell_type": "code",
   "execution_count": 290,
   "id": "d7b3e7f4",
   "metadata": {},
   "outputs": [],
   "source": [
    "from bs4 import BeautifulSoup\n",
    "import pandas as pd\n",
    "import numpy as np\n",
    "import codecs\n",
    "from datetime import datetime\n",
    "import stylecloud\n",
    "from wordcloud import WordCloud, ImageColorGenerator \n",
    "from PIL import Image\n",
    "import matplotlib.pyplot as plt\n"
   ]
  },
  {
   "cell_type": "markdown",
   "id": "384deb37",
   "metadata": {},
   "source": [
    "***Local do arquivo html***"
   ]
  },
  {
   "cell_type": "code",
   "execution_count": 291,
   "id": "be03048b",
   "metadata": {},
   "outputs": [],
   "source": [
    "local_html = '/home/mateus/Downloads/youtube/histórico/histórico-de-visualização.html'"
   ]
  },
  {
   "cell_type": "markdown",
   "id": "18e86a8f",
   "metadata": {},
   "source": [
    "**Instância de objeto da biblioteca BeautifulSoup**"
   ]
  },
  {
   "cell_type": "code",
   "execution_count": 292,
   "id": "e62c2807",
   "metadata": {},
   "outputs": [],
   "source": [
    "def cria_objeto_soup(html_doc):\n",
    "    fp = codecs.open(html_doc, 'r') \n",
    "    sp = BeautifulSoup(fp)\n",
    "    return sp"
   ]
  },
  {
   "cell_type": "code",
   "execution_count": 293,
   "id": "aa6b1f71",
   "metadata": {},
   "outputs": [],
   "source": [
    "def coleta_divs(nome_div,obj):\n",
    "    mydivs = obj.findAll(\"div\", {\"class\": nome_div})\n",
    "    return  mydivs"
   ]
  },
  {
   "cell_type": "code",
   "execution_count": 294,
   "id": "085aaea9",
   "metadata": {},
   "outputs": [],
   "source": [
    "def cria_dicionario():\n",
    "    informacoe_visualizacao = {\n",
    "                                        'canal':[],\n",
    "                                        'url_canal':[],\n",
    "                                        'nome_video':[],\n",
    "                                        'url_video':[],\n",
    "                                        'data_visualizacao':[]\n",
    "    }\n",
    "    return informacoe_visualizacao"
   ]
  },
  {
   "cell_type": "code",
   "execution_count": 295,
   "id": "760e3976",
   "metadata": {},
   "outputs": [],
   "source": [
    "nome_divs = 'content-cell mdl-cell mdl-cell--6-col mdl-typography--body-1'\n",
    "soup = cria_objeto_soup(local_html)\n",
    "divs = coleta_divs(nome_divs,soup)\n"
   ]
  },
  {
   "cell_type": "code",
   "execution_count": 296,
   "id": "6695b942",
   "metadata": {},
   "outputs": [],
   "source": [
    "dados = cria_dicionario()\n",
    "for dado in divs:\n",
    "    href_video = dado.a\n",
    "\n",
    "    dados_novo_tag_a = dado.find_all('a')  \n",
    "    date = str(dado).split('<br/>')\n",
    "    tm_date = len(date)\n",
    "    date = date[tm_date-1].split('</div>')\n",
    "    txt = dado.text\n",
    "    tm = len('Watched\\xa0')\n",
    "    txt = txt[tm:]\n",
    "    \n",
    "    \n",
    "    try: \n",
    "       dados['canal'].append(dados_novo_tag_a[1].text)\n",
    "    except:\n",
    "       dados['canal'].append(np.NaN)\n",
    "    \n",
    "    try: \n",
    "       dados['url_canal'].append(dados_novo_tag_a[1]['href'])\n",
    "    except:\n",
    "       dados['url_canal'].append(np.NaN) \n",
    "    \n",
    "    try:\n",
    "       dados['nome_video'].append(txt) \n",
    "    except:\n",
    "       dados['nome_video'].append(np.NaN)\n",
    "    \n",
    "    try:\n",
    "       dados['url_video'].append(href_video['href'])\n",
    "    except:\n",
    "       dados['url_video'].append(np.NaN)\n",
    "    \n",
    "    try:  \n",
    "       dados['data_visualizacao'].append(str(date[0]))\n",
    "    except:\n",
    "       dados['data_visualizacao'].append(np.NaN)\n",
    "  "
   ]
  },
  {
   "cell_type": "code",
   "execution_count": 297,
   "id": "c14e7dbb",
   "metadata": {},
   "outputs": [],
   "source": [
    "visualizao_youtube = pd.DataFrame(dados)"
   ]
  },
  {
   "cell_type": "code",
   "execution_count": 298,
   "id": "71b9caa3",
   "metadata": {},
   "outputs": [
    {
     "data": {
      "text/html": [
       "<div>\n",
       "<style scoped>\n",
       "    .dataframe tbody tr th:only-of-type {\n",
       "        vertical-align: middle;\n",
       "    }\n",
       "\n",
       "    .dataframe tbody tr th {\n",
       "        vertical-align: top;\n",
       "    }\n",
       "\n",
       "    .dataframe thead th {\n",
       "        text-align: right;\n",
       "    }\n",
       "</style>\n",
       "<table border=\"1\" class=\"dataframe\">\n",
       "  <thead>\n",
       "    <tr style=\"text-align: right;\">\n",
       "      <th></th>\n",
       "      <th>canal</th>\n",
       "      <th>url_canal</th>\n",
       "      <th>nome_video</th>\n",
       "      <th>url_video</th>\n",
       "      <th>data_visualizacao</th>\n",
       "    </tr>\n",
       "  </thead>\n",
       "  <tbody>\n",
       "    <tr>\n",
       "      <th>0</th>\n",
       "      <td>Pânico Retrô</td>\n",
       "      <td>https://www.youtube.com/channel/UC2IEgRZcIuemA...</td>\n",
       "      <td>EDUARDO BOLSONARO E ANDRÉ MARINHO TRETARAM FEI...</td>\n",
       "      <td>https://www.youtube.com/watch?v=PD9Lk1YleWk</td>\n",
       "      <td>25 de jul. de 2021 17:55:05 BRT</td>\n",
       "    </tr>\n",
       "    <tr>\n",
       "      <th>1</th>\n",
       "      <td>Pânico Retrô</td>\n",
       "      <td>https://www.youtube.com/channel/UC2IEgRZcIuemA...</td>\n",
       "      <td>GABRIEL MONTEIRO NO PÂNICO - MELHORES MOMENTOS...</td>\n",
       "      <td>https://www.youtube.com/watch?v=fOB0GYmAz7U</td>\n",
       "      <td>25 de jul. de 2021 17:55:00 BRT</td>\n",
       "    </tr>\n",
       "    <tr>\n",
       "      <th>2</th>\n",
       "      <td>Gabriel Monteiro</td>\n",
       "      <td>https://www.youtube.com/channel/UCYCMK_puWK2V5...</td>\n",
       "      <td>VEIO ME EXPULSAR DO HOSPITAL, MAS FOI FLAGRADO...</td>\n",
       "      <td>https://www.youtube.com/watch?v=RpfoCFRGHbo</td>\n",
       "      <td>25 de jul. de 2021 17:54:57 BRT</td>\n",
       "    </tr>\n",
       "    <tr>\n",
       "      <th>3</th>\n",
       "      <td>Programação Dinâmica</td>\n",
       "      <td>https://www.youtube.com/channel/UC70mr11REaCqg...</td>\n",
       "      <td>RASPAGEM de DADOS com PYTHON usando BeautifulS...</td>\n",
       "      <td>https://www.youtube.com/watch?v=kqvWOcPog4s</td>\n",
       "      <td>25 de jul. de 2021 02:09:53 BRT</td>\n",
       "    </tr>\n",
       "    <tr>\n",
       "      <th>4</th>\n",
       "      <td>Jonny Kalambay</td>\n",
       "      <td>https://www.youtube.com/channel/UCUm0chMKj4MA7...</td>\n",
       "      <td>Como Utilizar la API de SpotifyJonny Kalambay2...</td>\n",
       "      <td>https://www.youtube.com/watch?v=PfL_v6A4fsI</td>\n",
       "      <td>23 de jul. de 2021 22:36:44 BRT</td>\n",
       "    </tr>\n",
       "    <tr>\n",
       "      <th>5</th>\n",
       "      <td>Dev Aprender</td>\n",
       "      <td>https://www.youtube.com/channel/UCm63tB8wsKOVv...</td>\n",
       "      <td>Criei uma NOVA FUNCIONALIDADE no Spotify com P...</td>\n",
       "      <td>https://www.youtube.com/watch?v=AJcSX_IfDp8</td>\n",
       "      <td>23 de jul. de 2021 22:36:42 BRT</td>\n",
       "    </tr>\n",
       "    <tr>\n",
       "      <th>6</th>\n",
       "      <td>Otávio Miranda</td>\n",
       "      <td>https://www.youtube.com/channel/UCORZcu08VQiRC...</td>\n",
       "      <td>Consumindo uma API Rest usando requests em Pyt...</td>\n",
       "      <td>https://www.youtube.com/watch?v=Qd8JT0bnJGs</td>\n",
       "      <td>23 de jul. de 2021 22:35:30 BRT</td>\n",
       "    </tr>\n",
       "    <tr>\n",
       "      <th>7</th>\n",
       "      <td>MotechApp</td>\n",
       "      <td>https://www.youtube.com/channel/UCtuaigKZF3okQ...</td>\n",
       "      <td>How To Copy, Append And Replace In Python Pand...</td>\n",
       "      <td>https://www.youtube.com/watch?v=Tp7SH95RKl4</td>\n",
       "      <td>20 de jul. de 2021 23:46:01 BRT</td>\n",
       "    </tr>\n",
       "    <tr>\n",
       "      <th>8</th>\n",
       "      <td>Geração Analítica</td>\n",
       "      <td>https://www.youtube.com/channel/UChLeZUQMhvyBa...</td>\n",
       "      <td>Unindo Dataframes - Merge | Concat | Join Data...</td>\n",
       "      <td>https://www.youtube.com/watch?v=ubMG7VjPmhs</td>\n",
       "      <td>20 de jul. de 2021 23:31:04 BRT</td>\n",
       "    </tr>\n",
       "    <tr>\n",
       "      <th>9</th>\n",
       "      <td>Data School</td>\n",
       "      <td>https://www.youtube.com/channel/UCnVzApLJE2ljP...</td>\n",
       "      <td>How do I merge DataFrames in pandas?Data Schoo...</td>\n",
       "      <td>https://www.youtube.com/watch?v=iYWKfUOtGaw</td>\n",
       "      <td>20 de jul. de 2021 23:30:53 BRT</td>\n",
       "    </tr>\n",
       "  </tbody>\n",
       "</table>\n",
       "</div>"
      ],
      "text/plain": [
       "                  canal                                          url_canal  \\\n",
       "0          Pânico Retrô  https://www.youtube.com/channel/UC2IEgRZcIuemA...   \n",
       "1          Pânico Retrô  https://www.youtube.com/channel/UC2IEgRZcIuemA...   \n",
       "2      Gabriel Monteiro  https://www.youtube.com/channel/UCYCMK_puWK2V5...   \n",
       "3  Programação Dinâmica  https://www.youtube.com/channel/UC70mr11REaCqg...   \n",
       "4        Jonny Kalambay  https://www.youtube.com/channel/UCUm0chMKj4MA7...   \n",
       "5          Dev Aprender  https://www.youtube.com/channel/UCm63tB8wsKOVv...   \n",
       "6        Otávio Miranda  https://www.youtube.com/channel/UCORZcu08VQiRC...   \n",
       "7             MotechApp  https://www.youtube.com/channel/UCtuaigKZF3okQ...   \n",
       "8     Geração Analítica  https://www.youtube.com/channel/UChLeZUQMhvyBa...   \n",
       "9           Data School  https://www.youtube.com/channel/UCnVzApLJE2ljP...   \n",
       "\n",
       "                                          nome_video  \\\n",
       "0  EDUARDO BOLSONARO E ANDRÉ MARINHO TRETARAM FEI...   \n",
       "1  GABRIEL MONTEIRO NO PÂNICO - MELHORES MOMENTOS...   \n",
       "2  VEIO ME EXPULSAR DO HOSPITAL, MAS FOI FLAGRADO...   \n",
       "3  RASPAGEM de DADOS com PYTHON usando BeautifulS...   \n",
       "4  Como Utilizar la API de SpotifyJonny Kalambay2...   \n",
       "5  Criei uma NOVA FUNCIONALIDADE no Spotify com P...   \n",
       "6  Consumindo uma API Rest usando requests em Pyt...   \n",
       "7  How To Copy, Append And Replace In Python Pand...   \n",
       "8  Unindo Dataframes - Merge | Concat | Join Data...   \n",
       "9  How do I merge DataFrames in pandas?Data Schoo...   \n",
       "\n",
       "                                     url_video  \\\n",
       "0  https://www.youtube.com/watch?v=PD9Lk1YleWk   \n",
       "1  https://www.youtube.com/watch?v=fOB0GYmAz7U   \n",
       "2  https://www.youtube.com/watch?v=RpfoCFRGHbo   \n",
       "3  https://www.youtube.com/watch?v=kqvWOcPog4s   \n",
       "4  https://www.youtube.com/watch?v=PfL_v6A4fsI   \n",
       "5  https://www.youtube.com/watch?v=AJcSX_IfDp8   \n",
       "6  https://www.youtube.com/watch?v=Qd8JT0bnJGs   \n",
       "7  https://www.youtube.com/watch?v=Tp7SH95RKl4   \n",
       "8  https://www.youtube.com/watch?v=ubMG7VjPmhs   \n",
       "9  https://www.youtube.com/watch?v=iYWKfUOtGaw   \n",
       "\n",
       "                 data_visualizacao  \n",
       "0  25 de jul. de 2021 17:55:05 BRT  \n",
       "1  25 de jul. de 2021 17:55:00 BRT  \n",
       "2  25 de jul. de 2021 17:54:57 BRT  \n",
       "3  25 de jul. de 2021 02:09:53 BRT  \n",
       "4  23 de jul. de 2021 22:36:44 BRT  \n",
       "5  23 de jul. de 2021 22:36:42 BRT  \n",
       "6  23 de jul. de 2021 22:35:30 BRT  \n",
       "7  20 de jul. de 2021 23:46:01 BRT  \n",
       "8  20 de jul. de 2021 23:31:04 BRT  \n",
       "9  20 de jul. de 2021 23:30:53 BRT  "
      ]
     },
     "execution_count": 298,
     "metadata": {},
     "output_type": "execute_result"
    }
   ],
   "source": [
    "visualizao_youtube.head(10)"
   ]
  },
  {
   "cell_type": "code",
   "execution_count": 299,
   "id": "dbf41bfb",
   "metadata": {},
   "outputs": [
    {
     "name": "stdout",
     "output_type": "stream",
     "text": [
      "<class 'pandas.core.frame.DataFrame'>\n",
      "RangeIndex: 924 entries, 0 to 923\n",
      "Data columns (total 5 columns):\n",
      " #   Column             Non-Null Count  Dtype \n",
      "---  ------             --------------  ----- \n",
      " 0   canal              825 non-null    object\n",
      " 1   url_canal          825 non-null    object\n",
      " 2   nome_video         924 non-null    object\n",
      " 3   url_video          917 non-null    object\n",
      " 4   data_visualizacao  924 non-null    object\n",
      "dtypes: object(5)\n",
      "memory usage: 36.2+ KB\n"
     ]
    }
   ],
   "source": [
    "visualizao_youtube.info()\n"
   ]
  },
  {
   "cell_type": "code",
   "execution_count": 300,
   "id": "cb83dfa3",
   "metadata": {},
   "outputs": [
    {
     "data": {
      "text/html": [
       "<div>\n",
       "<style scoped>\n",
       "    .dataframe tbody tr th:only-of-type {\n",
       "        vertical-align: middle;\n",
       "    }\n",
       "\n",
       "    .dataframe tbody tr th {\n",
       "        vertical-align: top;\n",
       "    }\n",
       "\n",
       "    .dataframe thead th {\n",
       "        text-align: right;\n",
       "    }\n",
       "</style>\n",
       "<table border=\"1\" class=\"dataframe\">\n",
       "  <thead>\n",
       "    <tr style=\"text-align: right;\">\n",
       "      <th></th>\n",
       "      <th>canal</th>\n",
       "      <th>url_canal</th>\n",
       "      <th>nome_video</th>\n",
       "      <th>url_video</th>\n",
       "      <th>data_visualizacao</th>\n",
       "    </tr>\n",
       "  </thead>\n",
       "  <tbody>\n",
       "    <tr>\n",
       "      <th>0</th>\n",
       "      <td>Pânico Retrô</td>\n",
       "      <td>https://www.youtube.com/channel/UC2IEgRZcIuemA...</td>\n",
       "      <td>EDUARDO BOLSONARO E ANDRÉ MARINHO TRETARAM FEI...</td>\n",
       "      <td>https://www.youtube.com/watch?v=PD9Lk1YleWk</td>\n",
       "      <td>25 de jul. de 2021 17:55:05 BRT</td>\n",
       "    </tr>\n",
       "    <tr>\n",
       "      <th>1</th>\n",
       "      <td>Pânico Retrô</td>\n",
       "      <td>https://www.youtube.com/channel/UC2IEgRZcIuemA...</td>\n",
       "      <td>GABRIEL MONTEIRO NO PÂNICO - MELHORES MOMENTOS...</td>\n",
       "      <td>https://www.youtube.com/watch?v=fOB0GYmAz7U</td>\n",
       "      <td>25 de jul. de 2021 17:55:00 BRT</td>\n",
       "    </tr>\n",
       "    <tr>\n",
       "      <th>2</th>\n",
       "      <td>Gabriel Monteiro</td>\n",
       "      <td>https://www.youtube.com/channel/UCYCMK_puWK2V5...</td>\n",
       "      <td>VEIO ME EXPULSAR DO HOSPITAL, MAS FOI FLAGRADO...</td>\n",
       "      <td>https://www.youtube.com/watch?v=RpfoCFRGHbo</td>\n",
       "      <td>25 de jul. de 2021 17:54:57 BRT</td>\n",
       "    </tr>\n",
       "    <tr>\n",
       "      <th>3</th>\n",
       "      <td>Programação Dinâmica</td>\n",
       "      <td>https://www.youtube.com/channel/UC70mr11REaCqg...</td>\n",
       "      <td>RASPAGEM de DADOS com PYTHON usando BeautifulS...</td>\n",
       "      <td>https://www.youtube.com/watch?v=kqvWOcPog4s</td>\n",
       "      <td>25 de jul. de 2021 02:09:53 BRT</td>\n",
       "    </tr>\n",
       "    <tr>\n",
       "      <th>4</th>\n",
       "      <td>Jonny Kalambay</td>\n",
       "      <td>https://www.youtube.com/channel/UCUm0chMKj4MA7...</td>\n",
       "      <td>Como Utilizar la API de SpotifyJonny Kalambay2...</td>\n",
       "      <td>https://www.youtube.com/watch?v=PfL_v6A4fsI</td>\n",
       "      <td>23 de jul. de 2021 22:36:44 BRT</td>\n",
       "    </tr>\n",
       "  </tbody>\n",
       "</table>\n",
       "</div>"
      ],
      "text/plain": [
       "                  canal                                          url_canal  \\\n",
       "0          Pânico Retrô  https://www.youtube.com/channel/UC2IEgRZcIuemA...   \n",
       "1          Pânico Retrô  https://www.youtube.com/channel/UC2IEgRZcIuemA...   \n",
       "2      Gabriel Monteiro  https://www.youtube.com/channel/UCYCMK_puWK2V5...   \n",
       "3  Programação Dinâmica  https://www.youtube.com/channel/UC70mr11REaCqg...   \n",
       "4        Jonny Kalambay  https://www.youtube.com/channel/UCUm0chMKj4MA7...   \n",
       "\n",
       "                                          nome_video  \\\n",
       "0  EDUARDO BOLSONARO E ANDRÉ MARINHO TRETARAM FEI...   \n",
       "1  GABRIEL MONTEIRO NO PÂNICO - MELHORES MOMENTOS...   \n",
       "2  VEIO ME EXPULSAR DO HOSPITAL, MAS FOI FLAGRADO...   \n",
       "3  RASPAGEM de DADOS com PYTHON usando BeautifulS...   \n",
       "4  Como Utilizar la API de SpotifyJonny Kalambay2...   \n",
       "\n",
       "                                     url_video  \\\n",
       "0  https://www.youtube.com/watch?v=PD9Lk1YleWk   \n",
       "1  https://www.youtube.com/watch?v=fOB0GYmAz7U   \n",
       "2  https://www.youtube.com/watch?v=RpfoCFRGHbo   \n",
       "3  https://www.youtube.com/watch?v=kqvWOcPog4s   \n",
       "4  https://www.youtube.com/watch?v=PfL_v6A4fsI   \n",
       "\n",
       "                 data_visualizacao  \n",
       "0  25 de jul. de 2021 17:55:05 BRT  \n",
       "1  25 de jul. de 2021 17:55:00 BRT  \n",
       "2  25 de jul. de 2021 17:54:57 BRT  \n",
       "3  25 de jul. de 2021 02:09:53 BRT  \n",
       "4  23 de jul. de 2021 22:36:44 BRT  "
      ]
     },
     "execution_count": 300,
     "metadata": {},
     "output_type": "execute_result"
    }
   ],
   "source": [
    "visualizao_youtube.head()\n"
   ]
  },
  {
   "cell_type": "code",
   "execution_count": 301,
   "id": "4d1be821",
   "metadata": {},
   "outputs": [],
   "source": [
    "meses = {\n",
    "        '01':'jan.',\n",
    "        '02':'fev.',\n",
    "        '03':'mar.',\n",
    "        '04':'abr.',\n",
    "        '05':'mai.',\n",
    "        '06':'jun.',\n",
    "        '07':'jul.',\n",
    "        '08':'ago.',\n",
    "        '09':'set.',\n",
    "        '10':'out.',\n",
    "        '11':'nov.',\n",
    "        '12':'dez.',\n",
    "}\n"
   ]
  },
  {
   "cell_type": "code",
   "execution_count": 302,
   "id": "e7629f88",
   "metadata": {},
   "outputs": [],
   "source": [
    "  def limpa_date(string):\n",
    "    \n",
    "    string = list(string)\n",
    "    \n",
    "    string =  ''.join(string).strip()\n",
    "    string = string.split(' ')\n",
    "   \n",
    "    for i,valor in enumerate(string):\n",
    "        if valor =='de' or valor == 'BRT':\n",
    "            string.pop(i)     \n",
    "        if i == 2:\n",
    "            \n",
    "            for chave in meses.keys():\n",
    "                if meses[chave] == string[1].lower():\n",
    "                    string[1] = chave\n",
    "    string.insert(1,'/')\n",
    "    string.insert(3,'/')\n",
    "    string = ' '.join(str(v) for v in string) \n",
    "    return string\n",
    "\n"
   ]
  },
  {
   "cell_type": "code",
   "execution_count": null,
   "id": "7bc276db",
   "metadata": {},
   "outputs": [],
   "source": []
  },
  {
   "cell_type": "code",
   "execution_count": null,
   "id": "96db3825",
   "metadata": {},
   "outputs": [],
   "source": []
  },
  {
   "cell_type": "code",
   "execution_count": 303,
   "id": "ce1960c8",
   "metadata": {},
   "outputs": [],
   "source": [
    "#Aplica funcao para aumentar letra do mes\n",
    "visualizao_youtube['data_visualizacao'] = visualizao_youtube['data_visualizacao'].apply(limpa_date)"
   ]
  },
  {
   "cell_type": "code",
   "execution_count": 304,
   "id": "da54141b",
   "metadata": {},
   "outputs": [
    {
     "data": {
      "text/html": [
       "<div>\n",
       "<style scoped>\n",
       "    .dataframe tbody tr th:only-of-type {\n",
       "        vertical-align: middle;\n",
       "    }\n",
       "\n",
       "    .dataframe tbody tr th {\n",
       "        vertical-align: top;\n",
       "    }\n",
       "\n",
       "    .dataframe thead th {\n",
       "        text-align: right;\n",
       "    }\n",
       "</style>\n",
       "<table border=\"1\" class=\"dataframe\">\n",
       "  <thead>\n",
       "    <tr style=\"text-align: right;\">\n",
       "      <th></th>\n",
       "      <th>canal</th>\n",
       "      <th>url_canal</th>\n",
       "      <th>nome_video</th>\n",
       "      <th>url_video</th>\n",
       "      <th>data_visualizacao</th>\n",
       "    </tr>\n",
       "  </thead>\n",
       "  <tbody>\n",
       "    <tr>\n",
       "      <th>0</th>\n",
       "      <td>Pânico Retrô</td>\n",
       "      <td>https://www.youtube.com/channel/UC2IEgRZcIuemA...</td>\n",
       "      <td>EDUARDO BOLSONARO E ANDRÉ MARINHO TRETARAM FEI...</td>\n",
       "      <td>https://www.youtube.com/watch?v=PD9Lk1YleWk</td>\n",
       "      <td>25 / 07 / 2021 17:55:05</td>\n",
       "    </tr>\n",
       "    <tr>\n",
       "      <th>1</th>\n",
       "      <td>Pânico Retrô</td>\n",
       "      <td>https://www.youtube.com/channel/UC2IEgRZcIuemA...</td>\n",
       "      <td>GABRIEL MONTEIRO NO PÂNICO - MELHORES MOMENTOS...</td>\n",
       "      <td>https://www.youtube.com/watch?v=fOB0GYmAz7U</td>\n",
       "      <td>25 / 07 / 2021 17:55:00</td>\n",
       "    </tr>\n",
       "    <tr>\n",
       "      <th>2</th>\n",
       "      <td>Gabriel Monteiro</td>\n",
       "      <td>https://www.youtube.com/channel/UCYCMK_puWK2V5...</td>\n",
       "      <td>VEIO ME EXPULSAR DO HOSPITAL, MAS FOI FLAGRADO...</td>\n",
       "      <td>https://www.youtube.com/watch?v=RpfoCFRGHbo</td>\n",
       "      <td>25 / 07 / 2021 17:54:57</td>\n",
       "    </tr>\n",
       "    <tr>\n",
       "      <th>3</th>\n",
       "      <td>Programação Dinâmica</td>\n",
       "      <td>https://www.youtube.com/channel/UC70mr11REaCqg...</td>\n",
       "      <td>RASPAGEM de DADOS com PYTHON usando BeautifulS...</td>\n",
       "      <td>https://www.youtube.com/watch?v=kqvWOcPog4s</td>\n",
       "      <td>25 / 07 / 2021 02:09:53</td>\n",
       "    </tr>\n",
       "    <tr>\n",
       "      <th>4</th>\n",
       "      <td>Jonny Kalambay</td>\n",
       "      <td>https://www.youtube.com/channel/UCUm0chMKj4MA7...</td>\n",
       "      <td>Como Utilizar la API de SpotifyJonny Kalambay2...</td>\n",
       "      <td>https://www.youtube.com/watch?v=PfL_v6A4fsI</td>\n",
       "      <td>23 / 07 / 2021 22:36:44</td>\n",
       "    </tr>\n",
       "  </tbody>\n",
       "</table>\n",
       "</div>"
      ],
      "text/plain": [
       "                  canal                                          url_canal  \\\n",
       "0          Pânico Retrô  https://www.youtube.com/channel/UC2IEgRZcIuemA...   \n",
       "1          Pânico Retrô  https://www.youtube.com/channel/UC2IEgRZcIuemA...   \n",
       "2      Gabriel Monteiro  https://www.youtube.com/channel/UCYCMK_puWK2V5...   \n",
       "3  Programação Dinâmica  https://www.youtube.com/channel/UC70mr11REaCqg...   \n",
       "4        Jonny Kalambay  https://www.youtube.com/channel/UCUm0chMKj4MA7...   \n",
       "\n",
       "                                          nome_video  \\\n",
       "0  EDUARDO BOLSONARO E ANDRÉ MARINHO TRETARAM FEI...   \n",
       "1  GABRIEL MONTEIRO NO PÂNICO - MELHORES MOMENTOS...   \n",
       "2  VEIO ME EXPULSAR DO HOSPITAL, MAS FOI FLAGRADO...   \n",
       "3  RASPAGEM de DADOS com PYTHON usando BeautifulS...   \n",
       "4  Como Utilizar la API de SpotifyJonny Kalambay2...   \n",
       "\n",
       "                                     url_video        data_visualizacao  \n",
       "0  https://www.youtube.com/watch?v=PD9Lk1YleWk  25 / 07 / 2021 17:55:05  \n",
       "1  https://www.youtube.com/watch?v=fOB0GYmAz7U  25 / 07 / 2021 17:55:00  \n",
       "2  https://www.youtube.com/watch?v=RpfoCFRGHbo  25 / 07 / 2021 17:54:57  \n",
       "3  https://www.youtube.com/watch?v=kqvWOcPog4s  25 / 07 / 2021 02:09:53  \n",
       "4  https://www.youtube.com/watch?v=PfL_v6A4fsI  23 / 07 / 2021 22:36:44  "
      ]
     },
     "execution_count": 304,
     "metadata": {},
     "output_type": "execute_result"
    }
   ],
   "source": [
    "visualizao_youtube.head()"
   ]
  },
  {
   "cell_type": "code",
   "execution_count": null,
   "id": "2d5c64db",
   "metadata": {},
   "outputs": [],
   "source": []
  },
  {
   "cell_type": "code",
   "execution_count": 305,
   "id": "46709048",
   "metadata": {},
   "outputs": [],
   "source": [
    "visualizao_youtube['data_visualizacao'] = pd.to_datetime(visualizao_youtube['data_visualizacao'],format  = '%d / %m / %Y %H:%M:%S')"
   ]
  },
  {
   "cell_type": "code",
   "execution_count": 306,
   "id": "36a00733",
   "metadata": {},
   "outputs": [
    {
     "data": {
      "text/html": [
       "<div>\n",
       "<style scoped>\n",
       "    .dataframe tbody tr th:only-of-type {\n",
       "        vertical-align: middle;\n",
       "    }\n",
       "\n",
       "    .dataframe tbody tr th {\n",
       "        vertical-align: top;\n",
       "    }\n",
       "\n",
       "    .dataframe thead th {\n",
       "        text-align: right;\n",
       "    }\n",
       "</style>\n",
       "<table border=\"1\" class=\"dataframe\">\n",
       "  <thead>\n",
       "    <tr style=\"text-align: right;\">\n",
       "      <th></th>\n",
       "      <th>canal</th>\n",
       "      <th>url_canal</th>\n",
       "      <th>nome_video</th>\n",
       "      <th>url_video</th>\n",
       "      <th>data_visualizacao</th>\n",
       "    </tr>\n",
       "  </thead>\n",
       "  <tbody>\n",
       "    <tr>\n",
       "      <th>0</th>\n",
       "      <td>Pânico Retrô</td>\n",
       "      <td>https://www.youtube.com/channel/UC2IEgRZcIuemA...</td>\n",
       "      <td>EDUARDO BOLSONARO E ANDRÉ MARINHO TRETARAM FEI...</td>\n",
       "      <td>https://www.youtube.com/watch?v=PD9Lk1YleWk</td>\n",
       "      <td>2021-07-25 17:55:05</td>\n",
       "    </tr>\n",
       "    <tr>\n",
       "      <th>1</th>\n",
       "      <td>Pânico Retrô</td>\n",
       "      <td>https://www.youtube.com/channel/UC2IEgRZcIuemA...</td>\n",
       "      <td>GABRIEL MONTEIRO NO PÂNICO - MELHORES MOMENTOS...</td>\n",
       "      <td>https://www.youtube.com/watch?v=fOB0GYmAz7U</td>\n",
       "      <td>2021-07-25 17:55:00</td>\n",
       "    </tr>\n",
       "    <tr>\n",
       "      <th>2</th>\n",
       "      <td>Gabriel Monteiro</td>\n",
       "      <td>https://www.youtube.com/channel/UCYCMK_puWK2V5...</td>\n",
       "      <td>VEIO ME EXPULSAR DO HOSPITAL, MAS FOI FLAGRADO...</td>\n",
       "      <td>https://www.youtube.com/watch?v=RpfoCFRGHbo</td>\n",
       "      <td>2021-07-25 17:54:57</td>\n",
       "    </tr>\n",
       "    <tr>\n",
       "      <th>3</th>\n",
       "      <td>Programação Dinâmica</td>\n",
       "      <td>https://www.youtube.com/channel/UC70mr11REaCqg...</td>\n",
       "      <td>RASPAGEM de DADOS com PYTHON usando BeautifulS...</td>\n",
       "      <td>https://www.youtube.com/watch?v=kqvWOcPog4s</td>\n",
       "      <td>2021-07-25 02:09:53</td>\n",
       "    </tr>\n",
       "    <tr>\n",
       "      <th>4</th>\n",
       "      <td>Jonny Kalambay</td>\n",
       "      <td>https://www.youtube.com/channel/UCUm0chMKj4MA7...</td>\n",
       "      <td>Como Utilizar la API de SpotifyJonny Kalambay2...</td>\n",
       "      <td>https://www.youtube.com/watch?v=PfL_v6A4fsI</td>\n",
       "      <td>2021-07-23 22:36:44</td>\n",
       "    </tr>\n",
       "  </tbody>\n",
       "</table>\n",
       "</div>"
      ],
      "text/plain": [
       "                  canal                                          url_canal  \\\n",
       "0          Pânico Retrô  https://www.youtube.com/channel/UC2IEgRZcIuemA...   \n",
       "1          Pânico Retrô  https://www.youtube.com/channel/UC2IEgRZcIuemA...   \n",
       "2      Gabriel Monteiro  https://www.youtube.com/channel/UCYCMK_puWK2V5...   \n",
       "3  Programação Dinâmica  https://www.youtube.com/channel/UC70mr11REaCqg...   \n",
       "4        Jonny Kalambay  https://www.youtube.com/channel/UCUm0chMKj4MA7...   \n",
       "\n",
       "                                          nome_video  \\\n",
       "0  EDUARDO BOLSONARO E ANDRÉ MARINHO TRETARAM FEI...   \n",
       "1  GABRIEL MONTEIRO NO PÂNICO - MELHORES MOMENTOS...   \n",
       "2  VEIO ME EXPULSAR DO HOSPITAL, MAS FOI FLAGRADO...   \n",
       "3  RASPAGEM de DADOS com PYTHON usando BeautifulS...   \n",
       "4  Como Utilizar la API de SpotifyJonny Kalambay2...   \n",
       "\n",
       "                                     url_video   data_visualizacao  \n",
       "0  https://www.youtube.com/watch?v=PD9Lk1YleWk 2021-07-25 17:55:05  \n",
       "1  https://www.youtube.com/watch?v=fOB0GYmAz7U 2021-07-25 17:55:00  \n",
       "2  https://www.youtube.com/watch?v=RpfoCFRGHbo 2021-07-25 17:54:57  \n",
       "3  https://www.youtube.com/watch?v=kqvWOcPog4s 2021-07-25 02:09:53  \n",
       "4  https://www.youtube.com/watch?v=PfL_v6A4fsI 2021-07-23 22:36:44  "
      ]
     },
     "execution_count": 306,
     "metadata": {},
     "output_type": "execute_result"
    }
   ],
   "source": [
    "visualizao_youtube.head()"
   ]
  },
  {
   "cell_type": "code",
   "execution_count": null,
   "id": "2d184372",
   "metadata": {},
   "outputs": [],
   "source": []
  },
  {
   "cell_type": "code",
   "execution_count": 307,
   "id": "0ff95230",
   "metadata": {},
   "outputs": [],
   "source": [
    "#Excluir valores nulos de registro\n",
    "#de visualização, pois eles são na maioria videos ou \n",
    "#canais que foi removido ou é privado,não conta para mim, pois não mostra nome video e nome do canal.\n",
    "youtube_dado_limpo = visualizao_youtube.dropna()"
   ]
  },
  {
   "cell_type": "code",
   "execution_count": null,
   "id": "9a7eca18",
   "metadata": {},
   "outputs": [],
   "source": [
    "\n"
   ]
  },
  {
   "cell_type": "code",
   "execution_count": 308,
   "id": "adc21183",
   "metadata": {},
   "outputs": [
    {
     "data": {
      "text/html": [
       "<div>\n",
       "<style scoped>\n",
       "    .dataframe tbody tr th:only-of-type {\n",
       "        vertical-align: middle;\n",
       "    }\n",
       "\n",
       "    .dataframe tbody tr th {\n",
       "        vertical-align: top;\n",
       "    }\n",
       "\n",
       "    .dataframe thead th {\n",
       "        text-align: right;\n",
       "    }\n",
       "</style>\n",
       "<table border=\"1\" class=\"dataframe\">\n",
       "  <thead>\n",
       "    <tr style=\"text-align: right;\">\n",
       "      <th></th>\n",
       "      <th>canal</th>\n",
       "      <th>url_canal</th>\n",
       "      <th>nome_video</th>\n",
       "      <th>url_video</th>\n",
       "      <th>data_visualizacao</th>\n",
       "    </tr>\n",
       "  </thead>\n",
       "  <tbody>\n",
       "    <tr>\n",
       "      <th>0</th>\n",
       "      <td>Pânico Retrô</td>\n",
       "      <td>https://www.youtube.com/channel/UC2IEgRZcIuemA...</td>\n",
       "      <td>EDUARDO BOLSONARO E ANDRÉ MARINHO TRETARAM FEI...</td>\n",
       "      <td>https://www.youtube.com/watch?v=PD9Lk1YleWk</td>\n",
       "      <td>2021-07-25 17:55:05</td>\n",
       "    </tr>\n",
       "    <tr>\n",
       "      <th>1</th>\n",
       "      <td>Pânico Retrô</td>\n",
       "      <td>https://www.youtube.com/channel/UC2IEgRZcIuemA...</td>\n",
       "      <td>GABRIEL MONTEIRO NO PÂNICO - MELHORES MOMENTOS...</td>\n",
       "      <td>https://www.youtube.com/watch?v=fOB0GYmAz7U</td>\n",
       "      <td>2021-07-25 17:55:00</td>\n",
       "    </tr>\n",
       "    <tr>\n",
       "      <th>2</th>\n",
       "      <td>Gabriel Monteiro</td>\n",
       "      <td>https://www.youtube.com/channel/UCYCMK_puWK2V5...</td>\n",
       "      <td>VEIO ME EXPULSAR DO HOSPITAL, MAS FOI FLAGRADO...</td>\n",
       "      <td>https://www.youtube.com/watch?v=RpfoCFRGHbo</td>\n",
       "      <td>2021-07-25 17:54:57</td>\n",
       "    </tr>\n",
       "    <tr>\n",
       "      <th>3</th>\n",
       "      <td>Programação Dinâmica</td>\n",
       "      <td>https://www.youtube.com/channel/UC70mr11REaCqg...</td>\n",
       "      <td>RASPAGEM de DADOS com PYTHON usando BeautifulS...</td>\n",
       "      <td>https://www.youtube.com/watch?v=kqvWOcPog4s</td>\n",
       "      <td>2021-07-25 02:09:53</td>\n",
       "    </tr>\n",
       "    <tr>\n",
       "      <th>4</th>\n",
       "      <td>Jonny Kalambay</td>\n",
       "      <td>https://www.youtube.com/channel/UCUm0chMKj4MA7...</td>\n",
       "      <td>Como Utilizar la API de SpotifyJonny Kalambay2...</td>\n",
       "      <td>https://www.youtube.com/watch?v=PfL_v6A4fsI</td>\n",
       "      <td>2021-07-23 22:36:44</td>\n",
       "    </tr>\n",
       "  </tbody>\n",
       "</table>\n",
       "</div>"
      ],
      "text/plain": [
       "                  canal                                          url_canal  \\\n",
       "0          Pânico Retrô  https://www.youtube.com/channel/UC2IEgRZcIuemA...   \n",
       "1          Pânico Retrô  https://www.youtube.com/channel/UC2IEgRZcIuemA...   \n",
       "2      Gabriel Monteiro  https://www.youtube.com/channel/UCYCMK_puWK2V5...   \n",
       "3  Programação Dinâmica  https://www.youtube.com/channel/UC70mr11REaCqg...   \n",
       "4        Jonny Kalambay  https://www.youtube.com/channel/UCUm0chMKj4MA7...   \n",
       "\n",
       "                                          nome_video  \\\n",
       "0  EDUARDO BOLSONARO E ANDRÉ MARINHO TRETARAM FEI...   \n",
       "1  GABRIEL MONTEIRO NO PÂNICO - MELHORES MOMENTOS...   \n",
       "2  VEIO ME EXPULSAR DO HOSPITAL, MAS FOI FLAGRADO...   \n",
       "3  RASPAGEM de DADOS com PYTHON usando BeautifulS...   \n",
       "4  Como Utilizar la API de SpotifyJonny Kalambay2...   \n",
       "\n",
       "                                     url_video   data_visualizacao  \n",
       "0  https://www.youtube.com/watch?v=PD9Lk1YleWk 2021-07-25 17:55:05  \n",
       "1  https://www.youtube.com/watch?v=fOB0GYmAz7U 2021-07-25 17:55:00  \n",
       "2  https://www.youtube.com/watch?v=RpfoCFRGHbo 2021-07-25 17:54:57  \n",
       "3  https://www.youtube.com/watch?v=kqvWOcPog4s 2021-07-25 02:09:53  \n",
       "4  https://www.youtube.com/watch?v=PfL_v6A4fsI 2021-07-23 22:36:44  "
      ]
     },
     "execution_count": 308,
     "metadata": {},
     "output_type": "execute_result"
    }
   ],
   "source": [
    "youtube_dado_limpo.head()"
   ]
  },
  {
   "cell_type": "code",
   "execution_count": 309,
   "id": "d2563116",
   "metadata": {},
   "outputs": [],
   "source": [
    "#salavando dados como csv para usar no tableau\n",
    "youtube_dado_limpo.to_csv('/home/mateus/Downloads/youtube/visualizacao.csv',index = False)\n"
   ]
  },
  {
   "cell_type": "markdown",
   "id": "7c7563ca",
   "metadata": {},
   "source": [
    "#### ***Dados de Busca no you tube***"
   ]
  },
  {
   "cell_type": "markdown",
   "id": "c4ddfe7b",
   "metadata": {},
   "source": [
    "##### Objetivo\n",
    "* Coletar **informações** do registro de busca do arquivo do you tube\n",
    "* Gerar **nuvem** de palavras conforme o que o usuario mais pesquisa no searche do **youtube**"
   ]
  },
  {
   "cell_type": "code",
   "execution_count": 310,
   "id": "f5b1ffd9",
   "metadata": {},
   "outputs": [],
   "source": [
    "local_html = '/home/mateus/Downloads/youtube/histórico/histórico de pesquisa.html'"
   ]
  },
  {
   "cell_type": "code",
   "execution_count": 311,
   "id": "1fd15018",
   "metadata": {},
   "outputs": [],
   "source": [
    "#Dicionario para guardar dados do arquivo html referente a data e busca\n",
    "dict_seacher = {\n",
    "               'searhed_for':[],\n",
    "                'date':[]\n",
    "}"
   ]
  },
  {
   "cell_type": "code",
   "execution_count": 312,
   "id": "2100785e",
   "metadata": {},
   "outputs": [],
   "source": [
    "#Escopo para criar objeto soup , ou sejam objeto criado pela biblioteca BeautifulSoup para trabalhar com  html\n",
    "nome_div = \"content-cell mdl-cell mdl-cell--6-col mdl-typography--body-1\"#Nome da div que quero busca para pegar meus dados\n",
    "soup = cria_objeto_soup(local_html) #Cria objeto\n",
    "divs = coleta_divs(nome_div,soup)#Função para buscar dado que compõe a div"
   ]
  },
  {
   "cell_type": "code",
   "execution_count": null,
   "id": "1f800976",
   "metadata": {},
   "outputs": [],
   "source": []
  },
  {
   "cell_type": "code",
   "execution_count": 313,
   "id": "6b85fd38",
   "metadata": {},
   "outputs": [],
   "source": [
    "#Extração e add de dados no dicionario conforme a regra de negocio implentada\n",
    "for dado in divs:\n",
    "\n",
    "   \n",
    "    texto = dado.text\n",
    "    tm_texto = len(texto)\n",
    "    sub = tm_texto-31\n",
    "    texto_date_busca = texto[13:tm_texto]\n",
    "    tm_texto_2 = len(texto_date_busca)\n",
    "   \n",
    " \n",
    "    \n",
    "    try: \n",
    "       dict_seacher['searhed_for'].append(texto_date_busca[0:sub] )\n",
    "    except:\n",
    "        dict_seacher['searhed_for'].append(np.NaN)\n",
    "    \n",
    "    try: \n",
    "       dict_seacher['date'].append(texto[sub:tm_texto:])\n",
    "    except:\n",
    "       dict_seacher['date'].append(np.NaN) \n",
    "    \n",
    "    "
   ]
  },
  {
   "cell_type": "code",
   "execution_count": 314,
   "id": "3d7ab343",
   "metadata": {},
   "outputs": [
    {
     "data": {
      "text/html": [
       "<div>\n",
       "<style scoped>\n",
       "    .dataframe tbody tr th:only-of-type {\n",
       "        vertical-align: middle;\n",
       "    }\n",
       "\n",
       "    .dataframe tbody tr th {\n",
       "        vertical-align: top;\n",
       "    }\n",
       "\n",
       "    .dataframe thead th {\n",
       "        text-align: right;\n",
       "    }\n",
       "</style>\n",
       "<table border=\"1\" class=\"dataframe\">\n",
       "  <thead>\n",
       "    <tr style=\"text-align: right;\">\n",
       "      <th></th>\n",
       "      <th>searhed_for</th>\n",
       "      <th>date</th>\n",
       "    </tr>\n",
       "  </thead>\n",
       "  <tbody>\n",
       "    <tr>\n",
       "      <th>0</th>\n",
       "      <td>beautiful soup25 de jul. de</td>\n",
       "      <td>25 de jul. de 2021 02:08:03 BRT</td>\n",
       "    </tr>\n",
       "    <tr>\n",
       "      <th>1</th>\n",
       "      <td>gustavo guanabara24 de jul. de</td>\n",
       "      <td>24 de jul. de 2021 17:55:16 BRT</td>\n",
       "    </tr>\n",
       "    <tr>\n",
       "      <th>2</th>\n",
       "      <td>spotify22 de jul. de</td>\n",
       "      <td>22 de jul. de 2021 23:25:29 BRT</td>\n",
       "    </tr>\n",
       "    <tr>\n",
       "      <th>3</th>\n",
       "      <td>maps com Tableau21 de jul. de</td>\n",
       "      <td>21 de jul. de 2021 23:50:02 BRT</td>\n",
       "    </tr>\n",
       "    <tr>\n",
       "      <th>4</th>\n",
       "      <td>copy dataframe20 de jul. de</td>\n",
       "      <td>20 de jul. de 2021 23:45:52 BRT</td>\n",
       "    </tr>\n",
       "    <tr>\n",
       "      <th>5</th>\n",
       "      <td>json_normalize19 de jul. de</td>\n",
       "      <td>19 de jul. de 2021 22:36:27 BRT</td>\n",
       "    </tr>\n",
       "    <tr>\n",
       "      <th>6</th>\n",
       "      <td>web scraping python programação dinamica18 de ...</td>\n",
       "      <td>18 de jul. de 2021 19:02:36 BRT</td>\n",
       "    </tr>\n",
       "    <tr>\n",
       "      <th>7</th>\n",
       "      <td>web scraping python18 de jul. de</td>\n",
       "      <td>18 de jul. de 2021 19:02:23 BRT</td>\n",
       "    </tr>\n",
       "    <tr>\n",
       "      <th>8</th>\n",
       "      <td>programação dinamica18 de jul. de</td>\n",
       "      <td>18 de jul. de 2021 18:58:17 BRT</td>\n",
       "    </tr>\n",
       "    <tr>\n",
       "      <th>9</th>\n",
       "      <td>web scraping python18 de jul. de</td>\n",
       "      <td>18 de jul. de 2021 18:27:33 BRT</td>\n",
       "    </tr>\n",
       "  </tbody>\n",
       "</table>\n",
       "</div>"
      ],
      "text/plain": [
       "                                         searhed_for  \\\n",
       "0                        beautiful soup25 de jul. de   \n",
       "1                     gustavo guanabara24 de jul. de   \n",
       "2                               spotify22 de jul. de   \n",
       "3                      maps com Tableau21 de jul. de   \n",
       "4                        copy dataframe20 de jul. de   \n",
       "5                        json_normalize19 de jul. de   \n",
       "6  web scraping python programação dinamica18 de ...   \n",
       "7                   web scraping python18 de jul. de   \n",
       "8                  programação dinamica18 de jul. de   \n",
       "9                   web scraping python18 de jul. de   \n",
       "\n",
       "                              date  \n",
       "0  25 de jul. de 2021 02:08:03 BRT  \n",
       "1  24 de jul. de 2021 17:55:16 BRT  \n",
       "2  22 de jul. de 2021 23:25:29 BRT  \n",
       "3  21 de jul. de 2021 23:50:02 BRT  \n",
       "4  20 de jul. de 2021 23:45:52 BRT  \n",
       "5  19 de jul. de 2021 22:36:27 BRT  \n",
       "6  18 de jul. de 2021 19:02:36 BRT  \n",
       "7  18 de jul. de 2021 19:02:23 BRT  \n",
       "8  18 de jul. de 2021 18:58:17 BRT  \n",
       "9  18 de jul. de 2021 18:27:33 BRT  "
      ]
     },
     "execution_count": 314,
     "metadata": {},
     "output_type": "execute_result"
    }
   ],
   "source": [
    "#Geração do dataframe com base no dicionario criado anteriomente\n",
    "searche = pd.DataFrame(dict_seacher)\n",
    "searche.head(10)"
   ]
  },
  {
   "cell_type": "code",
   "execution_count": 315,
   "id": "32ddf6f5",
   "metadata": {},
   "outputs": [],
   "source": [
    "#Função para retirar dados sujos provido da extração da coluna searcher\n",
    "def retira_data_searche(x):\n",
    "    dig =[str(i) for i in range(10)]\n",
    "    x = list(x)\n",
    "    busca = []\n",
    "    for i,letra in enumerate(x):\n",
    "        if letra in dig      :\n",
    "           break\n",
    "        else:\n",
    "           busca.append(letra) \n",
    "    return ''.join(busca)\n",
    "    \n",
    "     "
   ]
  },
  {
   "cell_type": "code",
   "execution_count": 316,
   "id": "68bcf26f",
   "metadata": {},
   "outputs": [],
   "source": [
    "#Função para retirar numeros que vem antes da data e hora do registro\n",
    "def remove_primeiro_digito(x):\n",
    "    lista = list(x)\n",
    " \n",
    "    for i,letra  in enumerate(lista):\n",
    "        if lista[0].isalpha():\n",
    "            lista.pop(0)\n",
    "          \n",
    "        else:\n",
    "            if (str(lista[0]) in ['3','4','5','6','7','8','9']):\n",
    "                    if (lista[1] =='/') or (lista[1] == ' '):\n",
    "                           return ''.join(lista)\n",
    "                    else:\n",
    "                           try:\n",
    "                                num1 = int(lista[0])\n",
    "                                num2 = int(lista[1])\n",
    "                                if (sum([num1,num2]) > 4):\n",
    "                                    lista.pop(0)\n",
    "                           except:     \n",
    "                                return ''.join(lista)   \n",
    "        return ''.join(lista)                           \n",
    "                   \n",
    "     "
   ]
  },
  {
   "cell_type": "code",
   "execution_count": null,
   "id": "edc04b9b",
   "metadata": {},
   "outputs": [],
   "source": [
    "  "
   ]
  },
  {
   "cell_type": "code",
   "execution_count": 317,
   "id": "0ed31eac",
   "metadata": {},
   "outputs": [
    {
     "name": "stdout",
     "output_type": "stream",
     "text": [
      "<class 'pandas.core.frame.DataFrame'>\n",
      "RangeIndex: 1833 entries, 0 to 1832\n",
      "Data columns (total 2 columns):\n",
      " #   Column       Non-Null Count  Dtype \n",
      "---  ------       --------------  ----- \n",
      " 0   searhed_for  1833 non-null   object\n",
      " 1   date         1833 non-null   object\n",
      "dtypes: object(2)\n",
      "memory usage: 28.8+ KB\n"
     ]
    }
   ],
   "source": [
    "searche.info()"
   ]
  },
  {
   "cell_type": "code",
   "execution_count": 318,
   "id": "e5a465a6",
   "metadata": {},
   "outputs": [
    {
     "data": {
      "text/plain": [
       "1813    25 de mai. de 2015 08:23:16 BRT\n",
       "1814    23 de mai. de 2015 09:35:01 BRT\n",
       "1815    23 de mai. de 2015 09:34:13 BRT\n",
       "1816    23 de mai. de 2015 09:31:32 BRT\n",
       "1817    23 de mai. de 2015 09:30:34 BRT\n",
       "1818    23 de mai. de 2015 09:24:59 BRT\n",
       "1819    s7 de mai. de 2015 11:44:08 BRT\n",
       "1820    22 de nov. de 2014 22:09:06 BRT\n",
       "1821    22 de nov. de 2014 22:05:08 BRT\n",
       "1822    22 de nov. de 2014 21:58:52 BRT\n",
       "1823    s5 de out. de 2014 19:39:39 BRT\n",
       "1824    h4 de out. de 2014 02:14:01 BRT\n",
       "1825    o3 de out. de 2014 11:57:10 BRT\n",
       "1826    21 de jun. de 2014 19:02:14 BRT\n",
       "1827    a8 de abr. de 2014 12:52:40 BRT\n",
       "1828    p2 de abr. de 2014 13:28:28 BRT\n",
       "1829    30 de jan. de 2014 16:26:23 BRT\n",
       "1830    k6 de set. de 2013 11:55:45 BRT\n",
       "1831    r6 de set. de 2013 11:54:19 BRT\n",
       "1832    k6 de set. de 2013 11:53:37 BRT\n",
       "Name: date, dtype: object"
      ]
     },
     "execution_count": 318,
     "metadata": {},
     "output_type": "execute_result"
    }
   ],
   "source": [
    "#Como a forma que trouxe o dado da extração sempre iria vim com uma letra junta com data ou virsr versa,\n",
    "#Percebi que se eu usar uma função para verificar se o primeiro digito e uma letra, removo essa letra ele\n",
    "searche['date'].tail(20)"
   ]
  },
  {
   "cell_type": "code",
   "execution_count": 319,
   "id": "6624fe2e",
   "metadata": {},
   "outputs": [],
   "source": [
    "#aplicando a função a cada registro para limpeza da datatime que vem com string na sua primeiras posições\n",
    "searche['date'] = searche['date'].apply(remove_primeiro_digito)"
   ]
  },
  {
   "cell_type": "code",
   "execution_count": 320,
   "id": "9eaa2a91",
   "metadata": {},
   "outputs": [
    {
     "data": {
      "text/html": [
       "<div>\n",
       "<style scoped>\n",
       "    .dataframe tbody tr th:only-of-type {\n",
       "        vertical-align: middle;\n",
       "    }\n",
       "\n",
       "    .dataframe tbody tr th {\n",
       "        vertical-align: top;\n",
       "    }\n",
       "\n",
       "    .dataframe thead th {\n",
       "        text-align: right;\n",
       "    }\n",
       "</style>\n",
       "<table border=\"1\" class=\"dataframe\">\n",
       "  <thead>\n",
       "    <tr style=\"text-align: right;\">\n",
       "      <th></th>\n",
       "      <th>searhed_for</th>\n",
       "      <th>date</th>\n",
       "    </tr>\n",
       "  </thead>\n",
       "  <tbody>\n",
       "    <tr>\n",
       "      <th>1828</th>\n",
       "      <td>aula de dhcp2 de abr. de</td>\n",
       "      <td>2 de abr. de 2014 13:28:28 BRT</td>\n",
       "    </tr>\n",
       "    <tr>\n",
       "      <th>1829</th>\n",
       "      <td>como fazer o ping da orte30 de jan. de</td>\n",
       "      <td>30 de jan. de 2014 16:26:23 BRT</td>\n",
       "    </tr>\n",
       "    <tr>\n",
       "      <th>1830</th>\n",
       "      <td>racker   o facebook6 de set. de</td>\n",
       "      <td>6 de set. de 2013 11:55:45 BRT</td>\n",
       "    </tr>\n",
       "    <tr>\n",
       "      <th>1831</th>\n",
       "      <td>racker6 de set. de</td>\n",
       "      <td>6 de set. de 2013 11:54:19 BRT</td>\n",
       "    </tr>\n",
       "    <tr>\n",
       "      <th>1832</th>\n",
       "      <td>rack6 de set. de</td>\n",
       "      <td>6 de set. de 2013 11:53:37 BRT</td>\n",
       "    </tr>\n",
       "  </tbody>\n",
       "</table>\n",
       "</div>"
      ],
      "text/plain": [
       "                                 searhed_for                             date\n",
       "1828                aula de dhcp2 de abr. de   2 de abr. de 2014 13:28:28 BRT\n",
       "1829  como fazer o ping da orte30 de jan. de  30 de jan. de 2014 16:26:23 BRT\n",
       "1830         racker   o facebook6 de set. de   6 de set. de 2013 11:55:45 BRT\n",
       "1831                      racker6 de set. de   6 de set. de 2013 11:54:19 BRT\n",
       "1832                        rack6 de set. de   6 de set. de 2013 11:53:37 BRT"
      ]
     },
     "execution_count": 320,
     "metadata": {},
     "output_type": "execute_result"
    }
   ],
   "source": [
    "searche.tail()"
   ]
  },
  {
   "cell_type": "code",
   "execution_count": 321,
   "id": "108644fe",
   "metadata": {},
   "outputs": [],
   "source": [
    "#aplicando a função a cada registro para limpeza da datetime para retirar string e aplicar numero para mes\n",
    "\n",
    "searche['date'] = searche['date'].apply(limpa_date)\n"
   ]
  },
  {
   "cell_type": "code",
   "execution_count": 322,
   "id": "f857698e",
   "metadata": {},
   "outputs": [],
   "source": [
    "#Fazendo conversão para datetime pandas commetod to_datetime\n",
    "searche['date'] = pd.to_datetime(searche['date'],format  = '%d / %m / %Y %H:%M:%S')"
   ]
  },
  {
   "cell_type": "code",
   "execution_count": 331,
   "id": "17b9dc8e",
   "metadata": {},
   "outputs": [
    {
     "data": {
      "text/html": [
       "<div>\n",
       "<style scoped>\n",
       "    .dataframe tbody tr th:only-of-type {\n",
       "        vertical-align: middle;\n",
       "    }\n",
       "\n",
       "    .dataframe tbody tr th {\n",
       "        vertical-align: top;\n",
       "    }\n",
       "\n",
       "    .dataframe thead th {\n",
       "        text-align: right;\n",
       "    }\n",
       "</style>\n",
       "<table border=\"1\" class=\"dataframe\">\n",
       "  <thead>\n",
       "    <tr style=\"text-align: right;\">\n",
       "      <th></th>\n",
       "      <th>searhed_for</th>\n",
       "      <th>date</th>\n",
       "    </tr>\n",
       "  </thead>\n",
       "  <tbody>\n",
       "    <tr>\n",
       "      <th>0</th>\n",
       "      <td>beautiful soup25 de jul. de</td>\n",
       "      <td>2021-07-25 02:08:03</td>\n",
       "    </tr>\n",
       "    <tr>\n",
       "      <th>1</th>\n",
       "      <td>gustavo guanabara24 de jul. de</td>\n",
       "      <td>2021-07-24 17:55:16</td>\n",
       "    </tr>\n",
       "    <tr>\n",
       "      <th>2</th>\n",
       "      <td>spotify22 de jul. de</td>\n",
       "      <td>2021-07-22 23:25:29</td>\n",
       "    </tr>\n",
       "    <tr>\n",
       "      <th>3</th>\n",
       "      <td>maps com Tableau21 de jul. de</td>\n",
       "      <td>2021-07-21 23:50:02</td>\n",
       "    </tr>\n",
       "    <tr>\n",
       "      <th>4</th>\n",
       "      <td>copy dataframe20 de jul. de</td>\n",
       "      <td>2021-07-20 23:45:52</td>\n",
       "    </tr>\n",
       "  </tbody>\n",
       "</table>\n",
       "</div>"
      ],
      "text/plain": [
       "                      searhed_for                date\n",
       "0     beautiful soup25 de jul. de 2021-07-25 02:08:03\n",
       "1  gustavo guanabara24 de jul. de 2021-07-24 17:55:16\n",
       "2            spotify22 de jul. de 2021-07-22 23:25:29\n",
       "3   maps com Tableau21 de jul. de 2021-07-21 23:50:02\n",
       "4     copy dataframe20 de jul. de 2021-07-20 23:45:52"
      ]
     },
     "execution_count": 331,
     "metadata": {},
     "output_type": "execute_result"
    }
   ],
   "source": [
    "#Visualizando\n",
    "searche.head()"
   ]
  },
  {
   "cell_type": "code",
   "execution_count": 332,
   "id": "b04fb8ec",
   "metadata": {},
   "outputs": [
    {
     "name": "stdout",
     "output_type": "stream",
     "text": [
      "<class 'pandas.core.frame.DataFrame'>\n",
      "RangeIndex: 1833 entries, 0 to 1832\n",
      "Data columns (total 2 columns):\n",
      " #   Column       Non-Null Count  Dtype         \n",
      "---  ------       --------------  -----         \n",
      " 0   searhed_for  1833 non-null   object        \n",
      " 1   date         1833 non-null   datetime64[ns]\n",
      "dtypes: datetime64[ns](1), object(1)\n",
      "memory usage: 28.8+ KB\n"
     ]
    }
   ],
   "source": [
    "searche.info()"
   ]
  },
  {
   "cell_type": "code",
   "execution_count": 333,
   "id": "5c9fa4c5",
   "metadata": {},
   "outputs": [],
   "source": [
    "#Vamos limpar a consulta e deixar apenas palavras chaves\n",
    "searche['searhed_for'] = searche['searhed_for'].apply(retira_data_searche)\n"
   ]
  },
  {
   "cell_type": "code",
   "execution_count": 334,
   "id": "e8b9a0c2",
   "metadata": {},
   "outputs": [
    {
     "name": "stdout",
     "output_type": "stream",
     "text": [
      "<class 'pandas.core.frame.DataFrame'>\n",
      "RangeIndex: 1833 entries, 0 to 1832\n",
      "Data columns (total 2 columns):\n",
      " #   Column       Non-Null Count  Dtype         \n",
      "---  ------       --------------  -----         \n",
      " 0   searhed_for  1833 non-null   object        \n",
      " 1   date         1833 non-null   datetime64[ns]\n",
      "dtypes: datetime64[ns](1), object(1)\n",
      "memory usage: 28.8+ KB\n"
     ]
    }
   ],
   "source": [
    "searche.info()"
   ]
  },
  {
   "cell_type": "code",
   "execution_count": 336,
   "id": "cf2f697b",
   "metadata": {},
   "outputs": [
    {
     "data": {
      "text/html": [
       "<div>\n",
       "<style scoped>\n",
       "    .dataframe tbody tr th:only-of-type {\n",
       "        vertical-align: middle;\n",
       "    }\n",
       "\n",
       "    .dataframe tbody tr th {\n",
       "        vertical-align: top;\n",
       "    }\n",
       "\n",
       "    .dataframe thead th {\n",
       "        text-align: right;\n",
       "    }\n",
       "</style>\n",
       "<table border=\"1\" class=\"dataframe\">\n",
       "  <thead>\n",
       "    <tr style=\"text-align: right;\">\n",
       "      <th></th>\n",
       "      <th>searhed_for</th>\n",
       "      <th>date</th>\n",
       "    </tr>\n",
       "  </thead>\n",
       "  <tbody>\n",
       "    <tr>\n",
       "      <th>0</th>\n",
       "      <td>beautiful soup</td>\n",
       "      <td>2021-07-25 02:08:03</td>\n",
       "    </tr>\n",
       "    <tr>\n",
       "      <th>1</th>\n",
       "      <td>gustavo guanabara</td>\n",
       "      <td>2021-07-24 17:55:16</td>\n",
       "    </tr>\n",
       "    <tr>\n",
       "      <th>2</th>\n",
       "      <td>spotify</td>\n",
       "      <td>2021-07-22 23:25:29</td>\n",
       "    </tr>\n",
       "    <tr>\n",
       "      <th>3</th>\n",
       "      <td>maps com Tableau</td>\n",
       "      <td>2021-07-21 23:50:02</td>\n",
       "    </tr>\n",
       "    <tr>\n",
       "      <th>4</th>\n",
       "      <td>copy dataframe</td>\n",
       "      <td>2021-07-20 23:45:52</td>\n",
       "    </tr>\n",
       "  </tbody>\n",
       "</table>\n",
       "</div>"
      ],
      "text/plain": [
       "         searhed_for                date\n",
       "0     beautiful soup 2021-07-25 02:08:03\n",
       "1  gustavo guanabara 2021-07-24 17:55:16\n",
       "2            spotify 2021-07-22 23:25:29\n",
       "3   maps com Tableau 2021-07-21 23:50:02\n",
       "4     copy dataframe 2021-07-20 23:45:52"
      ]
     },
     "execution_count": 336,
     "metadata": {},
     "output_type": "execute_result"
    }
   ],
   "source": [
    "searche.head()"
   ]
  },
  {
   "cell_type": "code",
   "execution_count": 327,
   "id": "25ab6758",
   "metadata": {},
   "outputs": [
    {
     "data": {
      "text/html": [
       "<div>\n",
       "<style scoped>\n",
       "    .dataframe tbody tr th:only-of-type {\n",
       "        vertical-align: middle;\n",
       "    }\n",
       "\n",
       "    .dataframe tbody tr th {\n",
       "        vertical-align: top;\n",
       "    }\n",
       "\n",
       "    .dataframe thead th {\n",
       "        text-align: right;\n",
       "    }\n",
       "</style>\n",
       "<table border=\"1\" class=\"dataframe\">\n",
       "  <thead>\n",
       "    <tr style=\"text-align: right;\">\n",
       "      <th></th>\n",
       "      <th>searhed_for</th>\n",
       "      <th>date</th>\n",
       "    </tr>\n",
       "  </thead>\n",
       "  <tbody>\n",
       "  </tbody>\n",
       "</table>\n",
       "</div>"
      ],
      "text/plain": [
       "Empty DataFrame\n",
       "Columns: [searhed_for, date]\n",
       "Index: []"
      ]
     },
     "execution_count": 327,
     "metadata": {},
     "output_type": "execute_result"
    }
   ],
   "source": []
  },
  {
   "cell_type": "code",
   "execution_count": 328,
   "id": "ef5ef3a4",
   "metadata": {},
   "outputs": [
    {
     "name": "stderr",
     "output_type": "stream",
     "text": [
      "/home/mateus/.local/lib/python3.8/site-packages/pandas/core/series.py:1056: SettingWithCopyWarning: \n",
      "A value is trying to be set on a copy of a slice from a DataFrame\n",
      "\n",
      "See the caveats in the documentation: https://pandas.pydata.org/pandas-docs/stable/user_guide/indexing.html#returning-a-view-versus-a-copy\n",
      "  cacher_needs_updating = self._check_is_chained_assignment_possible()\n"
     ]
    }
   ],
   "source": []
  },
  {
   "cell_type": "code",
   "execution_count": 337,
   "id": "47321b31",
   "metadata": {},
   "outputs": [],
   "source": [
    "#salavando dados como csv para usar no tableau\n",
    "searche.to_csv('/home/mateus/Downloads/youtube/searche.csv',index = False)"
   ]
  },
  {
   "cell_type": "code",
   "execution_count": 330,
   "id": "e5eacf8d",
   "metadata": {},
   "outputs": [
    {
     "ename": "FileNotFoundError",
     "evalue": "[Errno 2] No such file or directory: 'constitution.txt'",
     "output_type": "error",
     "traceback": [
      "\u001b[0;31m---------------------------------------------------------------------------\u001b[0m",
      "\u001b[0;31mFileNotFoundError\u001b[0m                         Traceback (most recent call last)",
      "\u001b[0;32m<ipython-input-330-00f297d5bef8>\u001b[0m in \u001b[0;36m<module>\u001b[0;34m\u001b[0m\n\u001b[0;32m----> 1\u001b[0;31m stylecloud.gen_stylecloud(file_path='constitution.txt',\n\u001b[0m\u001b[1;32m      2\u001b[0m                           \u001b[0micon_name\u001b[0m\u001b[0;34m=\u001b[0m\u001b[0;34m'fas fa-dog'\u001b[0m\u001b[0;34m,\u001b[0m\u001b[0;34m\u001b[0m\u001b[0;34m\u001b[0m\u001b[0m\n\u001b[1;32m      3\u001b[0m                           \u001b[0mpalette\u001b[0m\u001b[0;34m=\u001b[0m\u001b[0;34m'colorbrewer.diverging.Spectral_11'\u001b[0m\u001b[0;34m,\u001b[0m\u001b[0;34m\u001b[0m\u001b[0;34m\u001b[0m\u001b[0m\n\u001b[1;32m      4\u001b[0m                           \u001b[0mbackground_color\u001b[0m\u001b[0;34m=\u001b[0m\u001b[0;34m'black'\u001b[0m\u001b[0;34m,\u001b[0m\u001b[0;34m\u001b[0m\u001b[0;34m\u001b[0m\u001b[0m\n\u001b[1;32m      5\u001b[0m                           gradient='horizontal')\n",
      "\u001b[0;32m~/.local/lib/python3.8/site-packages/stylecloud/stylecloud.py\u001b[0m in \u001b[0;36mgen_stylecloud\u001b[0;34m(text, file_path, size, icon_name, palette, colors, background_color, max_font_size, max_words, stopwords, custom_stopwords, add_stopwords, icon_dir, output_name, gradient, font_path, random_state, collocations, invert_mask, pro_icon_path, pro_css_path)\u001b[0m\n\u001b[1;32m    214\u001b[0m \u001b[0;34m\u001b[0m\u001b[0m\n\u001b[1;32m    215\u001b[0m     \u001b[0;32mif\u001b[0m \u001b[0mfile_path\u001b[0m\u001b[0;34m:\u001b[0m\u001b[0;34m\u001b[0m\u001b[0;34m\u001b[0m\u001b[0m\n\u001b[0;32m--> 216\u001b[0;31m         \u001b[0mtext\u001b[0m \u001b[0;34m=\u001b[0m \u001b[0mfile_to_text\u001b[0m\u001b[0;34m(\u001b[0m\u001b[0mfile_path\u001b[0m\u001b[0;34m)\u001b[0m\u001b[0;34m\u001b[0m\u001b[0;34m\u001b[0m\u001b[0m\n\u001b[0m\u001b[1;32m    217\u001b[0m \u001b[0;34m\u001b[0m\u001b[0m\n\u001b[1;32m    218\u001b[0m     \u001b[0mgen_fa_mask\u001b[0m\u001b[0;34m(\u001b[0m\u001b[0micon_name\u001b[0m\u001b[0;34m,\u001b[0m \u001b[0msize\u001b[0m\u001b[0;34m,\u001b[0m \u001b[0micon_dir\u001b[0m\u001b[0;34m,\u001b[0m \u001b[0mpro_icon_path\u001b[0m\u001b[0;34m,\u001b[0m \u001b[0mpro_css_path\u001b[0m\u001b[0;34m)\u001b[0m\u001b[0;34m\u001b[0m\u001b[0;34m\u001b[0m\u001b[0m\n",
      "\u001b[0;32m~/.local/lib/python3.8/site-packages/stylecloud/stylecloud.py\u001b[0m in \u001b[0;36mfile_to_text\u001b[0;34m(file_path)\u001b[0m\n\u001b[1;32m     21\u001b[0m \u001b[0;34m\u001b[0m\u001b[0m\n\u001b[1;32m     22\u001b[0m     \u001b[0;32mif\u001b[0m \u001b[0;32mnot\u001b[0m \u001b[0mfile_path\u001b[0m\u001b[0;34m.\u001b[0m\u001b[0mendswith\u001b[0m\u001b[0;34m(\u001b[0m\u001b[0;34m\".csv\"\u001b[0m\u001b[0;34m)\u001b[0m\u001b[0;34m:\u001b[0m\u001b[0;34m\u001b[0m\u001b[0;34m\u001b[0m\u001b[0m\n\u001b[0;32m---> 23\u001b[0;31m         \u001b[0;32mwith\u001b[0m \u001b[0mopen\u001b[0m\u001b[0;34m(\u001b[0m\u001b[0mfile_path\u001b[0m\u001b[0;34m,\u001b[0m \u001b[0;34m\"r\"\u001b[0m\u001b[0;34m,\u001b[0m \u001b[0mencoding\u001b[0m\u001b[0;34m=\u001b[0m\u001b[0;34m\"utf-8\"\u001b[0m\u001b[0;34m)\u001b[0m \u001b[0;32mas\u001b[0m \u001b[0mf\u001b[0m\u001b[0;34m:\u001b[0m\u001b[0;34m\u001b[0m\u001b[0;34m\u001b[0m\u001b[0m\n\u001b[0m\u001b[1;32m     24\u001b[0m             \u001b[0mtext\u001b[0m \u001b[0;34m=\u001b[0m \u001b[0mf\u001b[0m\u001b[0;34m.\u001b[0m\u001b[0mread\u001b[0m\u001b[0;34m(\u001b[0m\u001b[0;34m)\u001b[0m\u001b[0;34m\u001b[0m\u001b[0;34m\u001b[0m\u001b[0m\n\u001b[1;32m     25\u001b[0m         \u001b[0;32mreturn\u001b[0m \u001b[0mtext\u001b[0m\u001b[0;34m\u001b[0m\u001b[0;34m\u001b[0m\u001b[0m\n",
      "\u001b[0;31mFileNotFoundError\u001b[0m: [Errno 2] No such file or directory: 'constitution.txt'"
     ]
    }
   ],
   "source": [
    "stylecloud.gen_stylecloud(file_path='constitution.txt',\n",
    "                          icon_name='fas fa-dog',\n",
    "                          palette='colorbrewer.diverging.Spectral_11',\n",
    "                          background_color='black',\n",
    "                          gradient='horizontal')"
   ]
  }
 ],
 "metadata": {
  "interpreter": {
   "hash": "cf3f271fe67d784bbf85f4ffd9a2a655e5d080e1c1fc4d081ba9aa5ddf323350"
  },
  "kernelspec": {
   "display_name": ".venv",
   "language": "python",
   "name": ".venv"
  },
  "language_info": {
   "codemirror_mode": {
    "name": "ipython",
    "version": 3
   },
   "file_extension": ".py",
   "mimetype": "text/x-python",
   "name": "python",
   "nbconvert_exporter": "python",
   "pygments_lexer": "ipython3",
   "version": "3.8.10"
  }
 },
 "nbformat": 4,
 "nbformat_minor": 5
}
