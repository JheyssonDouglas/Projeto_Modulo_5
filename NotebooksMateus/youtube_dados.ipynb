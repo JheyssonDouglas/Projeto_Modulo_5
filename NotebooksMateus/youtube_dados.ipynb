{
 "cells": [
  {
   "cell_type": "markdown",
   "id": "a5e2e01f",
   "metadata": {},
   "source": [
    "### Extração de dados youtube- visualizacão de videos"
   ]
  },
  {
   "cell_type": "markdown",
   "id": "9acb24c3",
   "metadata": {},
   "source": [
    "**Bibliotecas:**"
   ]
  },
  {
   "cell_type": "markdown",
   "id": "9d5db62d",
   "metadata": {},
   "source": [
    "* pandas\n",
    "* numpy\n",
    "* BeautifulSoup\n",
    "* matplotlib"
   ]
  },
  {
   "cell_type": "code",
   "execution_count": 217,
   "id": "63e6f103",
   "metadata": {},
   "outputs": [
    {
     "name": "stdout",
     "output_type": "stream",
     "text": [
      "Requirement already satisfied: beautifulsoup4 in /usr/lib/python3/dist-packages (4.8.2)\n",
      "Note: you may need to restart the kernel to use updated packages.\n"
     ]
    }
   ],
   "source": [
    " pip install beautifulsoup4"
   ]
  },
  {
   "cell_type": "markdown",
   "id": "e39ed6f7",
   "metadata": {},
   "source": [
    "**Imports de bliotecas para utilização:**"
   ]
  },
  {
   "cell_type": "code",
   "execution_count": 218,
   "id": "d7b3e7f4",
   "metadata": {},
   "outputs": [],
   "source": [
    "from bs4 import BeautifulSoup\n",
    "import pandas as pd\n",
    "import numpy as np\n",
    "import codecs\n",
    "from datetime import datetime"
   ]
  },
  {
   "cell_type": "markdown",
   "id": "384deb37",
   "metadata": {},
   "source": [
    "***Local do arquivo html***"
   ]
  },
  {
   "cell_type": "code",
   "execution_count": 219,
   "id": "be03048b",
   "metadata": {},
   "outputs": [],
   "source": [
    "local_html = '/home/mateus/Downloads/youtube/histórico/histórico-de-visualização.html'"
   ]
  },
  {
   "cell_type": "markdown",
   "id": "18e86a8f",
   "metadata": {},
   "source": [
    "**Instância de objeto da biblioteca BeautifulSoup**"
   ]
  },
  {
   "cell_type": "code",
   "execution_count": 220,
   "id": "e62c2807",
   "metadata": {},
   "outputs": [],
   "source": [
    "def cria_objeto_soup(html_doc):\n",
    "    fp = codecs.open(html_doc, 'r') \n",
    "    sp = BeautifulSoup(fp)\n",
    "    return sp"
   ]
  },
  {
   "cell_type": "code",
   "execution_count": 221,
   "id": "aa6b1f71",
   "metadata": {},
   "outputs": [],
   "source": [
    "def coleta_divs(nome_div,obj):\n",
    "    mydivs = obj.findAll(\"div\", {\"class\": nome_div})\n",
    "    return  mydivs"
   ]
  },
  {
   "cell_type": "code",
   "execution_count": 222,
   "id": "085aaea9",
   "metadata": {},
   "outputs": [],
   "source": [
    "def cria_dicionario():\n",
    "    informacoe_visualizacao = {\n",
    "                                        'canal':[],\n",
    "                                        'url_canal':[],\n",
    "                                        'nome_video':[],\n",
    "                                        'url_video':[],\n",
    "                                        'data_visualizacao':[]\n",
    "    }\n",
    "    return informacoe_visualizacao"
   ]
  },
  {
   "cell_type": "code",
   "execution_count": 223,
   "id": "760e3976",
   "metadata": {},
   "outputs": [],
   "source": [
    "nome_divs = 'content-cell mdl-cell mdl-cell--6-col mdl-typography--body-1'\n",
    "soup = cria_objeto_soup(local_html)\n",
    "divs = coleta_divs(nome_divs,soup)\n"
   ]
  },
  {
   "cell_type": "code",
   "execution_count": 224,
   "id": "6695b942",
   "metadata": {},
   "outputs": [],
   "source": [
    "dados = cria_dicionario()\n",
    "for dado in divs:\n",
    "    href_video = dado.a\n",
    "\n",
    "    dados_novo_tag_a = dado.find_all('a')  \n",
    "    date = str(dado).split('<br/>')\n",
    "    tm_date = len(date)\n",
    "    date = date[tm_date-1].split('</div>')\n",
    "    txt = dado.text\n",
    "    tm = len('Watched\\xa0')\n",
    "    txt = txt[tm:]\n",
    "    \n",
    "    \n",
    "    try: \n",
    "       dados['canal'].append(dados_novo_tag_a[1].text)\n",
    "    except:\n",
    "       dados['canal'].append(np.NaN)\n",
    "    \n",
    "    try: \n",
    "       dados['url_canal'].append(dados_novo_tag_a[1]['href'])\n",
    "    except:\n",
    "       dados['url_canal'].append(np.NaN) \n",
    "    \n",
    "    try:\n",
    "       dados['nome_video'].append(txt) \n",
    "    except:\n",
    "       dados['nome_video'].append(np.NaN)\n",
    "    \n",
    "    try:\n",
    "       dados['url_video'].append(href_video['href'])\n",
    "    except:\n",
    "       dados['url_video'].append(np.NaN)\n",
    "    \n",
    "    try:  \n",
    "       dados['data_visualizacao'].append(str(date[0]))\n",
    "    except:\n",
    "       dados['data_visualizacao'].append(np.NaN)\n",
    "  "
   ]
  },
  {
   "cell_type": "code",
   "execution_count": 225,
   "id": "cba1255a",
   "metadata": {},
   "outputs": [],
   "source": [
    "visualizao_youtube = pd.DataFrame(informacoes_visualizacaao_videos)"
   ]
  },
  {
   "cell_type": "code",
   "execution_count": 226,
   "id": "71b9caa3",
   "metadata": {},
   "outputs": [
    {
     "data": {
      "text/html": [
       "<div>\n",
       "<style scoped>\n",
       "    .dataframe tbody tr th:only-of-type {\n",
       "        vertical-align: middle;\n",
       "    }\n",
       "\n",
       "    .dataframe tbody tr th {\n",
       "        vertical-align: top;\n",
       "    }\n",
       "\n",
       "    .dataframe thead th {\n",
       "        text-align: right;\n",
       "    }\n",
       "</style>\n",
       "<table border=\"1\" class=\"dataframe\">\n",
       "  <thead>\n",
       "    <tr style=\"text-align: right;\">\n",
       "      <th></th>\n",
       "      <th>canal</th>\n",
       "      <th>url_canal</th>\n",
       "      <th>nome_video</th>\n",
       "      <th>url_video</th>\n",
       "      <th>data_visualizacao</th>\n",
       "    </tr>\n",
       "  </thead>\n",
       "  <tbody>\n",
       "    <tr>\n",
       "      <th>0</th>\n",
       "      <td>Pânico Retrô</td>\n",
       "      <td>https://www.youtube.com/channel/UC2IEgRZcIuemA...</td>\n",
       "      <td>EDUARDO BOLSONARO E ANDRÉ MARINHO TRETARAM FEI...</td>\n",
       "      <td>https://www.youtube.com/watch?v=PD9Lk1YleWk</td>\n",
       "      <td>25 de jul. de 2021 17:55:05 BRT</td>\n",
       "    </tr>\n",
       "    <tr>\n",
       "      <th>1</th>\n",
       "      <td>Pânico Retrô</td>\n",
       "      <td>https://www.youtube.com/channel/UC2IEgRZcIuemA...</td>\n",
       "      <td>GABRIEL MONTEIRO NO PÂNICO - MELHORES MOMENTOS...</td>\n",
       "      <td>https://www.youtube.com/watch?v=fOB0GYmAz7U</td>\n",
       "      <td>25 de jul. de 2021 17:55:00 BRT</td>\n",
       "    </tr>\n",
       "    <tr>\n",
       "      <th>2</th>\n",
       "      <td>Gabriel Monteiro</td>\n",
       "      <td>https://www.youtube.com/channel/UCYCMK_puWK2V5...</td>\n",
       "      <td>VEIO ME EXPULSAR DO HOSPITAL, MAS FOI FLAGRADO...</td>\n",
       "      <td>https://www.youtube.com/watch?v=RpfoCFRGHbo</td>\n",
       "      <td>25 de jul. de 2021 17:54:57 BRT</td>\n",
       "    </tr>\n",
       "    <tr>\n",
       "      <th>3</th>\n",
       "      <td>Programação Dinâmica</td>\n",
       "      <td>https://www.youtube.com/channel/UC70mr11REaCqg...</td>\n",
       "      <td>RASPAGEM de DADOS com PYTHON usando BeautifulS...</td>\n",
       "      <td>https://www.youtube.com/watch?v=kqvWOcPog4s</td>\n",
       "      <td>25 de jul. de 2021 02:09:53 BRT</td>\n",
       "    </tr>\n",
       "    <tr>\n",
       "      <th>4</th>\n",
       "      <td>Jonny Kalambay</td>\n",
       "      <td>https://www.youtube.com/channel/UCUm0chMKj4MA7...</td>\n",
       "      <td>Como Utilizar la API de SpotifyJonny Kalambay2...</td>\n",
       "      <td>https://www.youtube.com/watch?v=PfL_v6A4fsI</td>\n",
       "      <td>23 de jul. de 2021 22:36:44 BRT</td>\n",
       "    </tr>\n",
       "    <tr>\n",
       "      <th>5</th>\n",
       "      <td>Dev Aprender</td>\n",
       "      <td>https://www.youtube.com/channel/UCm63tB8wsKOVv...</td>\n",
       "      <td>Criei uma NOVA FUNCIONALIDADE no Spotify com P...</td>\n",
       "      <td>https://www.youtube.com/watch?v=AJcSX_IfDp8</td>\n",
       "      <td>23 de jul. de 2021 22:36:42 BRT</td>\n",
       "    </tr>\n",
       "    <tr>\n",
       "      <th>6</th>\n",
       "      <td>Otávio Miranda</td>\n",
       "      <td>https://www.youtube.com/channel/UCORZcu08VQiRC...</td>\n",
       "      <td>Consumindo uma API Rest usando requests em Pyt...</td>\n",
       "      <td>https://www.youtube.com/watch?v=Qd8JT0bnJGs</td>\n",
       "      <td>23 de jul. de 2021 22:35:30 BRT</td>\n",
       "    </tr>\n",
       "    <tr>\n",
       "      <th>7</th>\n",
       "      <td>MotechApp</td>\n",
       "      <td>https://www.youtube.com/channel/UCtuaigKZF3okQ...</td>\n",
       "      <td>How To Copy, Append And Replace In Python Pand...</td>\n",
       "      <td>https://www.youtube.com/watch?v=Tp7SH95RKl4</td>\n",
       "      <td>20 de jul. de 2021 23:46:01 BRT</td>\n",
       "    </tr>\n",
       "    <tr>\n",
       "      <th>8</th>\n",
       "      <td>Geração Analítica</td>\n",
       "      <td>https://www.youtube.com/channel/UChLeZUQMhvyBa...</td>\n",
       "      <td>Unindo Dataframes - Merge | Concat | Join Data...</td>\n",
       "      <td>https://www.youtube.com/watch?v=ubMG7VjPmhs</td>\n",
       "      <td>20 de jul. de 2021 23:31:04 BRT</td>\n",
       "    </tr>\n",
       "    <tr>\n",
       "      <th>9</th>\n",
       "      <td>Data School</td>\n",
       "      <td>https://www.youtube.com/channel/UCnVzApLJE2ljP...</td>\n",
       "      <td>How do I merge DataFrames in pandas?Data Schoo...</td>\n",
       "      <td>https://www.youtube.com/watch?v=iYWKfUOtGaw</td>\n",
       "      <td>20 de jul. de 2021 23:30:53 BRT</td>\n",
       "    </tr>\n",
       "  </tbody>\n",
       "</table>\n",
       "</div>"
      ],
      "text/plain": [
       "                  canal                                          url_canal  \\\n",
       "0          Pânico Retrô  https://www.youtube.com/channel/UC2IEgRZcIuemA...   \n",
       "1          Pânico Retrô  https://www.youtube.com/channel/UC2IEgRZcIuemA...   \n",
       "2      Gabriel Monteiro  https://www.youtube.com/channel/UCYCMK_puWK2V5...   \n",
       "3  Programação Dinâmica  https://www.youtube.com/channel/UC70mr11REaCqg...   \n",
       "4        Jonny Kalambay  https://www.youtube.com/channel/UCUm0chMKj4MA7...   \n",
       "5          Dev Aprender  https://www.youtube.com/channel/UCm63tB8wsKOVv...   \n",
       "6        Otávio Miranda  https://www.youtube.com/channel/UCORZcu08VQiRC...   \n",
       "7             MotechApp  https://www.youtube.com/channel/UCtuaigKZF3okQ...   \n",
       "8     Geração Analítica  https://www.youtube.com/channel/UChLeZUQMhvyBa...   \n",
       "9           Data School  https://www.youtube.com/channel/UCnVzApLJE2ljP...   \n",
       "\n",
       "                                          nome_video  \\\n",
       "0  EDUARDO BOLSONARO E ANDRÉ MARINHO TRETARAM FEI...   \n",
       "1  GABRIEL MONTEIRO NO PÂNICO - MELHORES MOMENTOS...   \n",
       "2  VEIO ME EXPULSAR DO HOSPITAL, MAS FOI FLAGRADO...   \n",
       "3  RASPAGEM de DADOS com PYTHON usando BeautifulS...   \n",
       "4  Como Utilizar la API de SpotifyJonny Kalambay2...   \n",
       "5  Criei uma NOVA FUNCIONALIDADE no Spotify com P...   \n",
       "6  Consumindo uma API Rest usando requests em Pyt...   \n",
       "7  How To Copy, Append And Replace In Python Pand...   \n",
       "8  Unindo Dataframes - Merge | Concat | Join Data...   \n",
       "9  How do I merge DataFrames in pandas?Data Schoo...   \n",
       "\n",
       "                                     url_video  \\\n",
       "0  https://www.youtube.com/watch?v=PD9Lk1YleWk   \n",
       "1  https://www.youtube.com/watch?v=fOB0GYmAz7U   \n",
       "2  https://www.youtube.com/watch?v=RpfoCFRGHbo   \n",
       "3  https://www.youtube.com/watch?v=kqvWOcPog4s   \n",
       "4  https://www.youtube.com/watch?v=PfL_v6A4fsI   \n",
       "5  https://www.youtube.com/watch?v=AJcSX_IfDp8   \n",
       "6  https://www.youtube.com/watch?v=Qd8JT0bnJGs   \n",
       "7  https://www.youtube.com/watch?v=Tp7SH95RKl4   \n",
       "8  https://www.youtube.com/watch?v=ubMG7VjPmhs   \n",
       "9  https://www.youtube.com/watch?v=iYWKfUOtGaw   \n",
       "\n",
       "                 data_visualizacao  \n",
       "0  25 de jul. de 2021 17:55:05 BRT  \n",
       "1  25 de jul. de 2021 17:55:00 BRT  \n",
       "2  25 de jul. de 2021 17:54:57 BRT  \n",
       "3  25 de jul. de 2021 02:09:53 BRT  \n",
       "4  23 de jul. de 2021 22:36:44 BRT  \n",
       "5  23 de jul. de 2021 22:36:42 BRT  \n",
       "6  23 de jul. de 2021 22:35:30 BRT  \n",
       "7  20 de jul. de 2021 23:46:01 BRT  \n",
       "8  20 de jul. de 2021 23:31:04 BRT  \n",
       "9  20 de jul. de 2021 23:30:53 BRT  "
      ]
     },
     "execution_count": 226,
     "metadata": {},
     "output_type": "execute_result"
    }
   ],
   "source": [
    "visualizao_youtube.head(10)"
   ]
  },
  {
   "cell_type": "code",
   "execution_count": 227,
   "id": "dbf41bfb",
   "metadata": {},
   "outputs": [
    {
     "name": "stdout",
     "output_type": "stream",
     "text": [
      "<class 'pandas.core.frame.DataFrame'>\n",
      "RangeIndex: 924 entries, 0 to 923\n",
      "Data columns (total 5 columns):\n",
      " #   Column             Non-Null Count  Dtype \n",
      "---  ------             --------------  ----- \n",
      " 0   canal              825 non-null    object\n",
      " 1   url_canal          825 non-null    object\n",
      " 2   nome_video         924 non-null    object\n",
      " 3   url_video          917 non-null    object\n",
      " 4   data_visualizacao  924 non-null    object\n",
      "dtypes: object(5)\n",
      "memory usage: 36.2+ KB\n"
     ]
    }
   ],
   "source": [
    "visualizao_youtube.info()\n"
   ]
  },
  {
   "cell_type": "code",
   "execution_count": 228,
   "id": "cb83dfa3",
   "metadata": {},
   "outputs": [
    {
     "data": {
      "text/html": [
       "<div>\n",
       "<style scoped>\n",
       "    .dataframe tbody tr th:only-of-type {\n",
       "        vertical-align: middle;\n",
       "    }\n",
       "\n",
       "    .dataframe tbody tr th {\n",
       "        vertical-align: top;\n",
       "    }\n",
       "\n",
       "    .dataframe thead th {\n",
       "        text-align: right;\n",
       "    }\n",
       "</style>\n",
       "<table border=\"1\" class=\"dataframe\">\n",
       "  <thead>\n",
       "    <tr style=\"text-align: right;\">\n",
       "      <th></th>\n",
       "      <th>canal</th>\n",
       "      <th>url_canal</th>\n",
       "      <th>nome_video</th>\n",
       "      <th>url_video</th>\n",
       "      <th>data_visualizacao</th>\n",
       "    </tr>\n",
       "  </thead>\n",
       "  <tbody>\n",
       "    <tr>\n",
       "      <th>0</th>\n",
       "      <td>Pânico Retrô</td>\n",
       "      <td>https://www.youtube.com/channel/UC2IEgRZcIuemA...</td>\n",
       "      <td>EDUARDO BOLSONARO E ANDRÉ MARINHO TRETARAM FEI...</td>\n",
       "      <td>https://www.youtube.com/watch?v=PD9Lk1YleWk</td>\n",
       "      <td>25 de jul. de 2021 17:55:05 BRT</td>\n",
       "    </tr>\n",
       "    <tr>\n",
       "      <th>1</th>\n",
       "      <td>Pânico Retrô</td>\n",
       "      <td>https://www.youtube.com/channel/UC2IEgRZcIuemA...</td>\n",
       "      <td>GABRIEL MONTEIRO NO PÂNICO - MELHORES MOMENTOS...</td>\n",
       "      <td>https://www.youtube.com/watch?v=fOB0GYmAz7U</td>\n",
       "      <td>25 de jul. de 2021 17:55:00 BRT</td>\n",
       "    </tr>\n",
       "    <tr>\n",
       "      <th>2</th>\n",
       "      <td>Gabriel Monteiro</td>\n",
       "      <td>https://www.youtube.com/channel/UCYCMK_puWK2V5...</td>\n",
       "      <td>VEIO ME EXPULSAR DO HOSPITAL, MAS FOI FLAGRADO...</td>\n",
       "      <td>https://www.youtube.com/watch?v=RpfoCFRGHbo</td>\n",
       "      <td>25 de jul. de 2021 17:54:57 BRT</td>\n",
       "    </tr>\n",
       "    <tr>\n",
       "      <th>3</th>\n",
       "      <td>Programação Dinâmica</td>\n",
       "      <td>https://www.youtube.com/channel/UC70mr11REaCqg...</td>\n",
       "      <td>RASPAGEM de DADOS com PYTHON usando BeautifulS...</td>\n",
       "      <td>https://www.youtube.com/watch?v=kqvWOcPog4s</td>\n",
       "      <td>25 de jul. de 2021 02:09:53 BRT</td>\n",
       "    </tr>\n",
       "    <tr>\n",
       "      <th>4</th>\n",
       "      <td>Jonny Kalambay</td>\n",
       "      <td>https://www.youtube.com/channel/UCUm0chMKj4MA7...</td>\n",
       "      <td>Como Utilizar la API de SpotifyJonny Kalambay2...</td>\n",
       "      <td>https://www.youtube.com/watch?v=PfL_v6A4fsI</td>\n",
       "      <td>23 de jul. de 2021 22:36:44 BRT</td>\n",
       "    </tr>\n",
       "  </tbody>\n",
       "</table>\n",
       "</div>"
      ],
      "text/plain": [
       "                  canal                                          url_canal  \\\n",
       "0          Pânico Retrô  https://www.youtube.com/channel/UC2IEgRZcIuemA...   \n",
       "1          Pânico Retrô  https://www.youtube.com/channel/UC2IEgRZcIuemA...   \n",
       "2      Gabriel Monteiro  https://www.youtube.com/channel/UCYCMK_puWK2V5...   \n",
       "3  Programação Dinâmica  https://www.youtube.com/channel/UC70mr11REaCqg...   \n",
       "4        Jonny Kalambay  https://www.youtube.com/channel/UCUm0chMKj4MA7...   \n",
       "\n",
       "                                          nome_video  \\\n",
       "0  EDUARDO BOLSONARO E ANDRÉ MARINHO TRETARAM FEI...   \n",
       "1  GABRIEL MONTEIRO NO PÂNICO - MELHORES MOMENTOS...   \n",
       "2  VEIO ME EXPULSAR DO HOSPITAL, MAS FOI FLAGRADO...   \n",
       "3  RASPAGEM de DADOS com PYTHON usando BeautifulS...   \n",
       "4  Como Utilizar la API de SpotifyJonny Kalambay2...   \n",
       "\n",
       "                                     url_video  \\\n",
       "0  https://www.youtube.com/watch?v=PD9Lk1YleWk   \n",
       "1  https://www.youtube.com/watch?v=fOB0GYmAz7U   \n",
       "2  https://www.youtube.com/watch?v=RpfoCFRGHbo   \n",
       "3  https://www.youtube.com/watch?v=kqvWOcPog4s   \n",
       "4  https://www.youtube.com/watch?v=PfL_v6A4fsI   \n",
       "\n",
       "                 data_visualizacao  \n",
       "0  25 de jul. de 2021 17:55:05 BRT  \n",
       "1  25 de jul. de 2021 17:55:00 BRT  \n",
       "2  25 de jul. de 2021 17:54:57 BRT  \n",
       "3  25 de jul. de 2021 02:09:53 BRT  \n",
       "4  23 de jul. de 2021 22:36:44 BRT  "
      ]
     },
     "execution_count": 228,
     "metadata": {},
     "output_type": "execute_result"
    }
   ],
   "source": [
    "visualizao_youtube.head()"
   ]
  },
  {
   "cell_type": "code",
   "execution_count": 229,
   "id": "6ba57220",
   "metadata": {},
   "outputs": [
    {
     "data": {
      "text/plain": [
       "canal                                                              NaN\n",
       "url_canal                                                          NaN\n",
       "nome_video           a video that has been removed26 de jun. de 202...\n",
       "url_video                                                          NaN\n",
       "data_visualizacao                      26 de jun. de 2020 16:45:34 BRT\n",
       "Name: 920, dtype: object"
      ]
     },
     "execution_count": 229,
     "metadata": {},
     "output_type": "execute_result"
    }
   ],
   "source": [
    "visualizao_youtube.loc[920]"
   ]
  },
  {
   "cell_type": "code",
   "execution_count": 230,
   "id": "402588ae",
   "metadata": {},
   "outputs": [],
   "source": [
    "#Excluir valores nulos de registro\n",
    "#de visualização, pois eles são na maioria videos ou \n",
    "#canais que foi removido ou é privado,não conta para mim, pois não mostra nome video e nome do canal.\n",
    "youtube_dado_limpo = visualizao_youtube.dropna()"
   ]
  },
  {
   "cell_type": "code",
   "execution_count": 231,
   "id": "f5fc1272",
   "metadata": {},
   "outputs": [
    {
     "name": "stdout",
     "output_type": "stream",
     "text": [
      "<class 'pandas.core.frame.DataFrame'>\n",
      "Int64Index: 825 entries, 0 to 922\n",
      "Data columns (total 5 columns):\n",
      " #   Column             Non-Null Count  Dtype \n",
      "---  ------             --------------  ----- \n",
      " 0   canal              825 non-null    object\n",
      " 1   url_canal          825 non-null    object\n",
      " 2   nome_video         825 non-null    object\n",
      " 3   url_video          825 non-null    object\n",
      " 4   data_visualizacao  825 non-null    object\n",
      "dtypes: object(5)\n",
      "memory usage: 38.7+ KB\n"
     ]
    }
   ],
   "source": [
    "youtube_dado_limpo.info()"
   ]
  },
  {
   "cell_type": "code",
   "execution_count": 232,
   "id": "83fd1b03",
   "metadata": {},
   "outputs": [
    {
     "ename": "TypeError",
     "evalue": "strptime() takes no keyword arguments",
     "output_type": "error",
     "traceback": [
      "\u001b[0;31m---------------------------------------------------------------------------\u001b[0m",
      "\u001b[0;31mTypeError\u001b[0m                                 Traceback (most recent call last)",
      "\u001b[0;32m<ipython-input-232-98a96f918efa>\u001b[0m in \u001b[0;36m<module>\u001b[0;34m\u001b[0m\n\u001b[1;32m      1\u001b[0m \u001b[0;31m#Transformar data_visualizacao para formato em numero\u001b[0m\u001b[0;34m\u001b[0m\u001b[0;34m\u001b[0m\u001b[0;34m\u001b[0m\u001b[0m\n\u001b[1;32m      2\u001b[0m youtube_dado_limpo['data_visualizacao'] = (\n\u001b[0;32m----> 3\u001b[0;31m                                 \u001b[0myoutube_dado_limpo\u001b[0m\u001b[0;34m[\u001b[0m\u001b[0;34m'data_visualizacao'\u001b[0m\u001b[0;34m]\u001b[0m\u001b[0;34m\u001b[0m\u001b[0;34m\u001b[0m\u001b[0m\n\u001b[0m\u001b[1;32m      4\u001b[0m                                 \u001b[0;34m.\u001b[0m\u001b[0mapply\u001b[0m\u001b[0;34m(\u001b[0m\u001b[0;32mlambda\u001b[0m \u001b[0mx\u001b[0m\u001b[0;34m:\u001b[0m \u001b[0mdatetime\u001b[0m\u001b[0;34m.\u001b[0m\u001b[0mstrptime\u001b[0m\u001b[0;34m(\u001b[0m\u001b[0mx\u001b[0m\u001b[0;34m,\u001b[0m \u001b[0mformat\u001b[0m\u001b[0;34m=\u001b[0m\u001b[0;34m'%d de %b. de %Y %H:%M:%S BRT'\u001b[0m\u001b[0;34m)\u001b[0m\u001b[0;34m)\u001b[0m\u001b[0;34m\u001b[0m\u001b[0;34m\u001b[0m\u001b[0m\n\u001b[1;32m      5\u001b[0m )\n",
      "\u001b[0;32m~/.local/lib/python3.8/site-packages/pandas/core/series.py\u001b[0m in \u001b[0;36mapply\u001b[0;34m(self, func, convert_dtype, args, **kwargs)\u001b[0m\n\u001b[1;32m   4354\u001b[0m         \u001b[0mdtype\u001b[0m\u001b[0;34m:\u001b[0m \u001b[0mfloat64\u001b[0m\u001b[0;34m\u001b[0m\u001b[0;34m\u001b[0m\u001b[0m\n\u001b[1;32m   4355\u001b[0m         \"\"\"\n\u001b[0;32m-> 4356\u001b[0;31m         \u001b[0;32mreturn\u001b[0m \u001b[0mSeriesApply\u001b[0m\u001b[0;34m(\u001b[0m\u001b[0mself\u001b[0m\u001b[0;34m,\u001b[0m \u001b[0mfunc\u001b[0m\u001b[0;34m,\u001b[0m \u001b[0mconvert_dtype\u001b[0m\u001b[0;34m,\u001b[0m \u001b[0margs\u001b[0m\u001b[0;34m,\u001b[0m \u001b[0mkwargs\u001b[0m\u001b[0;34m)\u001b[0m\u001b[0;34m.\u001b[0m\u001b[0mapply\u001b[0m\u001b[0;34m(\u001b[0m\u001b[0;34m)\u001b[0m\u001b[0;34m\u001b[0m\u001b[0;34m\u001b[0m\u001b[0m\n\u001b[0m\u001b[1;32m   4357\u001b[0m \u001b[0;34m\u001b[0m\u001b[0m\n\u001b[1;32m   4358\u001b[0m     def _reduce(\n",
      "\u001b[0;32m~/.local/lib/python3.8/site-packages/pandas/core/apply.py\u001b[0m in \u001b[0;36mapply\u001b[0;34m(self)\u001b[0m\n\u001b[1;32m   1034\u001b[0m             \u001b[0;32mreturn\u001b[0m \u001b[0mself\u001b[0m\u001b[0;34m.\u001b[0m\u001b[0mapply_str\u001b[0m\u001b[0;34m(\u001b[0m\u001b[0;34m)\u001b[0m\u001b[0;34m\u001b[0m\u001b[0;34m\u001b[0m\u001b[0m\n\u001b[1;32m   1035\u001b[0m \u001b[0;34m\u001b[0m\u001b[0m\n\u001b[0;32m-> 1036\u001b[0;31m         \u001b[0;32mreturn\u001b[0m \u001b[0mself\u001b[0m\u001b[0;34m.\u001b[0m\u001b[0mapply_standard\u001b[0m\u001b[0;34m(\u001b[0m\u001b[0;34m)\u001b[0m\u001b[0;34m\u001b[0m\u001b[0;34m\u001b[0m\u001b[0m\n\u001b[0m\u001b[1;32m   1037\u001b[0m \u001b[0;34m\u001b[0m\u001b[0m\n\u001b[1;32m   1038\u001b[0m     \u001b[0;32mdef\u001b[0m \u001b[0magg\u001b[0m\u001b[0;34m(\u001b[0m\u001b[0mself\u001b[0m\u001b[0;34m)\u001b[0m\u001b[0;34m:\u001b[0m\u001b[0;34m\u001b[0m\u001b[0;34m\u001b[0m\u001b[0m\n",
      "\u001b[0;32m~/.local/lib/python3.8/site-packages/pandas/core/apply.py\u001b[0m in \u001b[0;36mapply_standard\u001b[0;34m(self)\u001b[0m\n\u001b[1;32m   1090\u001b[0m                 \u001b[0;31m# List[Union[Callable[..., Any], str]]]]]\"; expected\u001b[0m\u001b[0;34m\u001b[0m\u001b[0;34m\u001b[0m\u001b[0;34m\u001b[0m\u001b[0m\n\u001b[1;32m   1091\u001b[0m                 \u001b[0;31m# \"Callable[[Any], Any]\"\u001b[0m\u001b[0;34m\u001b[0m\u001b[0;34m\u001b[0m\u001b[0;34m\u001b[0m\u001b[0m\n\u001b[0;32m-> 1092\u001b[0;31m                 mapped = lib.map_infer(\n\u001b[0m\u001b[1;32m   1093\u001b[0m                     \u001b[0mvalues\u001b[0m\u001b[0;34m,\u001b[0m\u001b[0;34m\u001b[0m\u001b[0;34m\u001b[0m\u001b[0m\n\u001b[1;32m   1094\u001b[0m                     \u001b[0mf\u001b[0m\u001b[0;34m,\u001b[0m  \u001b[0;31m# type: ignore[arg-type]\u001b[0m\u001b[0;34m\u001b[0m\u001b[0;34m\u001b[0m\u001b[0m\n",
      "\u001b[0;32m~/.local/lib/python3.8/site-packages/pandas/_libs/lib.pyx\u001b[0m in \u001b[0;36mpandas._libs.lib.map_infer\u001b[0;34m()\u001b[0m\n",
      "\u001b[0;32m<ipython-input-232-98a96f918efa>\u001b[0m in \u001b[0;36m<lambda>\u001b[0;34m(x)\u001b[0m\n\u001b[1;32m      2\u001b[0m youtube_dado_limpo['data_visualizacao'] = (\n\u001b[1;32m      3\u001b[0m                                 \u001b[0myoutube_dado_limpo\u001b[0m\u001b[0;34m[\u001b[0m\u001b[0;34m'data_visualizacao'\u001b[0m\u001b[0;34m]\u001b[0m\u001b[0;34m\u001b[0m\u001b[0;34m\u001b[0m\u001b[0m\n\u001b[0;32m----> 4\u001b[0;31m                                 \u001b[0;34m.\u001b[0m\u001b[0mapply\u001b[0m\u001b[0;34m(\u001b[0m\u001b[0;32mlambda\u001b[0m \u001b[0mx\u001b[0m\u001b[0;34m:\u001b[0m \u001b[0mdatetime\u001b[0m\u001b[0;34m.\u001b[0m\u001b[0mstrptime\u001b[0m\u001b[0;34m(\u001b[0m\u001b[0mx\u001b[0m\u001b[0;34m,\u001b[0m \u001b[0mformat\u001b[0m\u001b[0;34m=\u001b[0m\u001b[0;34m'%d de %b. de %Y %H:%M:%S BRT'\u001b[0m\u001b[0;34m)\u001b[0m\u001b[0;34m)\u001b[0m\u001b[0;34m\u001b[0m\u001b[0;34m\u001b[0m\u001b[0m\n\u001b[0m\u001b[1;32m      5\u001b[0m )\n",
      "\u001b[0;31mTypeError\u001b[0m: strptime() takes no keyword arguments"
     ]
    }
   ],
   "source": [
    "#Transformar data_visualizacao para formato em numero\n",
    "youtube_dado_limpo['data_visualizacao'] = (\n",
    "                                youtube_dado_limpo['data_visualizacao']\n",
    "                                .apply(lambda x: datetime.strptime(x, format='%d de %b. de %Y %H:%M:%S BRT'))\n",
    ")"
   ]
  }
 ],
 "metadata": {
  "interpreter": {
   "hash": "cf3f271fe67d784bbf85f4ffd9a2a655e5d080e1c1fc4d081ba9aa5ddf323350"
  },
  "kernelspec": {
   "display_name": ".venv",
   "language": "python",
   "name": ".venv"
  },
  "language_info": {
   "codemirror_mode": {
    "name": "ipython",
    "version": 3
   },
   "file_extension": ".py",
   "mimetype": "text/x-python",
   "name": "python",
   "nbconvert_exporter": "python",
   "pygments_lexer": "ipython3",
   "version": "3.8.10"
  }
 },
 "nbformat": 4,
 "nbformat_minor": 5
}
