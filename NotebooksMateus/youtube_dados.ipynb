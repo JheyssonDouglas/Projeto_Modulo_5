{
 "cells": [
  {
   "cell_type": "markdown",
   "id": "a5e2e01f",
   "metadata": {},
   "source": [
    "### Extração de dados youtube- visualizacão de videos"
   ]
  },
  {
   "cell_type": "markdown",
   "id": "9acb24c3",
   "metadata": {},
   "source": [
    "**Bibliotecas:**"
   ]
  },
  {
   "cell_type": "markdown",
   "id": "9d5db62d",
   "metadata": {},
   "source": [
    "* pandas\n",
    "* numpy\n",
    "* BeautifulSoup\n",
    "* matplotlib"
   ]
  },
  {
   "cell_type": "code",
   "execution_count": 706,
   "id": "63e6f103",
   "metadata": {},
   "outputs": [
    {
     "name": "stdout",
     "output_type": "stream",
     "text": [
      "Requirement already satisfied: beautifulsoup4 in /usr/lib/python3/dist-packages (4.8.2)\n",
      "Note: you may need to restart the kernel to use updated packages.\n"
     ]
    }
   ],
   "source": [
    " pip install beautifulsoup4"
   ]
  },
  {
   "cell_type": "markdown",
   "id": "e39ed6f7",
   "metadata": {},
   "source": [
    "**Imports de bliotecas para utilização:**"
   ]
  },
  {
   "cell_type": "code",
   "execution_count": 707,
   "id": "d7b3e7f4",
   "metadata": {},
   "outputs": [],
   "source": [
    "from bs4 import BeautifulSoup\n",
    "import pandas as pd\n",
    "import numpy as np\n",
    "import codecs\n",
    "from datetime import datetime"
   ]
  },
  {
   "cell_type": "markdown",
   "id": "384deb37",
   "metadata": {},
   "source": [
    "***Local do arquivo html***"
   ]
  },
  {
   "cell_type": "code",
   "execution_count": 708,
   "id": "be03048b",
   "metadata": {},
   "outputs": [],
   "source": [
    "local_html = '/home/mateus/Downloads/youtube/histórico/histórico-de-visualização.html'"
   ]
  },
  {
   "cell_type": "markdown",
   "id": "18e86a8f",
   "metadata": {},
   "source": [
    "**Instância de objeto da biblioteca BeautifulSoup**"
   ]
  },
  {
   "cell_type": "code",
   "execution_count": 709,
   "id": "e62c2807",
   "metadata": {},
   "outputs": [],
   "source": [
    "def cria_objeto_soup(html_doc):\n",
    "    fp = codecs.open(html_doc, 'r') \n",
    "    sp = BeautifulSoup(fp)\n",
    "    return sp"
   ]
  },
  {
   "cell_type": "code",
   "execution_count": 710,
   "id": "aa6b1f71",
   "metadata": {},
   "outputs": [],
   "source": [
    "def coleta_divs(nome_div,obj):\n",
    "    mydivs = obj.findAll(\"div\", {\"class\": nome_div})\n",
    "    return  mydivs"
   ]
  },
  {
   "cell_type": "code",
   "execution_count": 711,
   "id": "085aaea9",
   "metadata": {},
   "outputs": [],
   "source": [
    "def cria_dicionario():\n",
    "    informacoe_visualizacao = {\n",
    "                                        'canal':[],\n",
    "                                        'url_canal':[],\n",
    "                                        'nome_video':[],\n",
    "                                        'url_video':[],\n",
    "                                        'data_visualizacao':[]\n",
    "    }\n",
    "    return informacoe_visualizacao"
   ]
  },
  {
   "cell_type": "code",
   "execution_count": 712,
   "id": "760e3976",
   "metadata": {},
   "outputs": [],
   "source": [
    "nome_divs = 'content-cell mdl-cell mdl-cell--6-col mdl-typography--body-1'\n",
    "soup = cria_objeto_soup(local_html)\n",
    "divs = coleta_divs(nome_divs,soup)\n"
   ]
  },
  {
   "cell_type": "code",
   "execution_count": 713,
   "id": "6695b942",
   "metadata": {},
   "outputs": [],
   "source": [
    "dados = cria_dicionario()\n",
    "for dado in divs:\n",
    "    href_video = dado.a\n",
    "\n",
    "    dados_novo_tag_a = dado.find_all('a')  \n",
    "    date = str(dado).split('<br/>')\n",
    "    tm_date = len(date)\n",
    "    date = date[tm_date-1].split('</div>')\n",
    "    txt = dado.text\n",
    "    tm = len('Watched\\xa0')\n",
    "    txt = txt[tm:]\n",
    "    \n",
    "    \n",
    "    try: \n",
    "       dados['canal'].append(dados_novo_tag_a[1].text)\n",
    "    except:\n",
    "       dados['canal'].append(np.NaN)\n",
    "    \n",
    "    try: \n",
    "       dados['url_canal'].append(dados_novo_tag_a[1]['href'])\n",
    "    except:\n",
    "       dados['url_canal'].append(np.NaN) \n",
    "    \n",
    "    try:\n",
    "       dados['nome_video'].append(txt) \n",
    "    except:\n",
    "       dados['nome_video'].append(np.NaN)\n",
    "    \n",
    "    try:\n",
    "       dados['url_video'].append(href_video['href'])\n",
    "    except:\n",
    "       dados['url_video'].append(np.NaN)\n",
    "    \n",
    "    try:  \n",
    "       dados['data_visualizacao'].append(str(date[0]))\n",
    "    except:\n",
    "       dados['data_visualizacao'].append(np.NaN)\n",
    "  "
   ]
  },
  {
   "cell_type": "code",
   "execution_count": 714,
   "id": "c14e7dbb",
   "metadata": {},
   "outputs": [],
   "source": [
    "visualizao_youtube = pd.DataFrame(informacoes_visualizacaao_videos)"
   ]
  },
  {
   "cell_type": "code",
   "execution_count": 715,
   "id": "71b9caa3",
   "metadata": {},
   "outputs": [
    {
     "data": {
      "text/html": [
       "<div>\n",
       "<style scoped>\n",
       "    .dataframe tbody tr th:only-of-type {\n",
       "        vertical-align: middle;\n",
       "    }\n",
       "\n",
       "    .dataframe tbody tr th {\n",
       "        vertical-align: top;\n",
       "    }\n",
       "\n",
       "    .dataframe thead th {\n",
       "        text-align: right;\n",
       "    }\n",
       "</style>\n",
       "<table border=\"1\" class=\"dataframe\">\n",
       "  <thead>\n",
       "    <tr style=\"text-align: right;\">\n",
       "      <th></th>\n",
       "      <th>canal</th>\n",
       "      <th>url_canal</th>\n",
       "      <th>nome_video</th>\n",
       "      <th>url_video</th>\n",
       "      <th>data_visualizacao</th>\n",
       "    </tr>\n",
       "  </thead>\n",
       "  <tbody>\n",
       "    <tr>\n",
       "      <th>0</th>\n",
       "      <td>Pânico Retrô</td>\n",
       "      <td>https://www.youtube.com/channel/UC2IEgRZcIuemA...</td>\n",
       "      <td>EDUARDO BOLSONARO E ANDRÉ MARINHO TRETARAM FEI...</td>\n",
       "      <td>https://www.youtube.com/watch?v=PD9Lk1YleWk</td>\n",
       "      <td>25 de jul. de 2021 17:55:05 BRT</td>\n",
       "    </tr>\n",
       "    <tr>\n",
       "      <th>1</th>\n",
       "      <td>Pânico Retrô</td>\n",
       "      <td>https://www.youtube.com/channel/UC2IEgRZcIuemA...</td>\n",
       "      <td>GABRIEL MONTEIRO NO PÂNICO - MELHORES MOMENTOS...</td>\n",
       "      <td>https://www.youtube.com/watch?v=fOB0GYmAz7U</td>\n",
       "      <td>25 de jul. de 2021 17:55:00 BRT</td>\n",
       "    </tr>\n",
       "    <tr>\n",
       "      <th>2</th>\n",
       "      <td>Gabriel Monteiro</td>\n",
       "      <td>https://www.youtube.com/channel/UCYCMK_puWK2V5...</td>\n",
       "      <td>VEIO ME EXPULSAR DO HOSPITAL, MAS FOI FLAGRADO...</td>\n",
       "      <td>https://www.youtube.com/watch?v=RpfoCFRGHbo</td>\n",
       "      <td>25 de jul. de 2021 17:54:57 BRT</td>\n",
       "    </tr>\n",
       "    <tr>\n",
       "      <th>3</th>\n",
       "      <td>Programação Dinâmica</td>\n",
       "      <td>https://www.youtube.com/channel/UC70mr11REaCqg...</td>\n",
       "      <td>RASPAGEM de DADOS com PYTHON usando BeautifulS...</td>\n",
       "      <td>https://www.youtube.com/watch?v=kqvWOcPog4s</td>\n",
       "      <td>25 de jul. de 2021 02:09:53 BRT</td>\n",
       "    </tr>\n",
       "    <tr>\n",
       "      <th>4</th>\n",
       "      <td>Jonny Kalambay</td>\n",
       "      <td>https://www.youtube.com/channel/UCUm0chMKj4MA7...</td>\n",
       "      <td>Como Utilizar la API de SpotifyJonny Kalambay2...</td>\n",
       "      <td>https://www.youtube.com/watch?v=PfL_v6A4fsI</td>\n",
       "      <td>23 de jul. de 2021 22:36:44 BRT</td>\n",
       "    </tr>\n",
       "    <tr>\n",
       "      <th>5</th>\n",
       "      <td>Dev Aprender</td>\n",
       "      <td>https://www.youtube.com/channel/UCm63tB8wsKOVv...</td>\n",
       "      <td>Criei uma NOVA FUNCIONALIDADE no Spotify com P...</td>\n",
       "      <td>https://www.youtube.com/watch?v=AJcSX_IfDp8</td>\n",
       "      <td>23 de jul. de 2021 22:36:42 BRT</td>\n",
       "    </tr>\n",
       "    <tr>\n",
       "      <th>6</th>\n",
       "      <td>Otávio Miranda</td>\n",
       "      <td>https://www.youtube.com/channel/UCORZcu08VQiRC...</td>\n",
       "      <td>Consumindo uma API Rest usando requests em Pyt...</td>\n",
       "      <td>https://www.youtube.com/watch?v=Qd8JT0bnJGs</td>\n",
       "      <td>23 de jul. de 2021 22:35:30 BRT</td>\n",
       "    </tr>\n",
       "    <tr>\n",
       "      <th>7</th>\n",
       "      <td>MotechApp</td>\n",
       "      <td>https://www.youtube.com/channel/UCtuaigKZF3okQ...</td>\n",
       "      <td>How To Copy, Append And Replace In Python Pand...</td>\n",
       "      <td>https://www.youtube.com/watch?v=Tp7SH95RKl4</td>\n",
       "      <td>20 de jul. de 2021 23:46:01 BRT</td>\n",
       "    </tr>\n",
       "    <tr>\n",
       "      <th>8</th>\n",
       "      <td>Geração Analítica</td>\n",
       "      <td>https://www.youtube.com/channel/UChLeZUQMhvyBa...</td>\n",
       "      <td>Unindo Dataframes - Merge | Concat | Join Data...</td>\n",
       "      <td>https://www.youtube.com/watch?v=ubMG7VjPmhs</td>\n",
       "      <td>20 de jul. de 2021 23:31:04 BRT</td>\n",
       "    </tr>\n",
       "    <tr>\n",
       "      <th>9</th>\n",
       "      <td>Data School</td>\n",
       "      <td>https://www.youtube.com/channel/UCnVzApLJE2ljP...</td>\n",
       "      <td>How do I merge DataFrames in pandas?Data Schoo...</td>\n",
       "      <td>https://www.youtube.com/watch?v=iYWKfUOtGaw</td>\n",
       "      <td>20 de jul. de 2021 23:30:53 BRT</td>\n",
       "    </tr>\n",
       "  </tbody>\n",
       "</table>\n",
       "</div>"
      ],
      "text/plain": [
       "                  canal                                          url_canal  \\\n",
       "0          Pânico Retrô  https://www.youtube.com/channel/UC2IEgRZcIuemA...   \n",
       "1          Pânico Retrô  https://www.youtube.com/channel/UC2IEgRZcIuemA...   \n",
       "2      Gabriel Monteiro  https://www.youtube.com/channel/UCYCMK_puWK2V5...   \n",
       "3  Programação Dinâmica  https://www.youtube.com/channel/UC70mr11REaCqg...   \n",
       "4        Jonny Kalambay  https://www.youtube.com/channel/UCUm0chMKj4MA7...   \n",
       "5          Dev Aprender  https://www.youtube.com/channel/UCm63tB8wsKOVv...   \n",
       "6        Otávio Miranda  https://www.youtube.com/channel/UCORZcu08VQiRC...   \n",
       "7             MotechApp  https://www.youtube.com/channel/UCtuaigKZF3okQ...   \n",
       "8     Geração Analítica  https://www.youtube.com/channel/UChLeZUQMhvyBa...   \n",
       "9           Data School  https://www.youtube.com/channel/UCnVzApLJE2ljP...   \n",
       "\n",
       "                                          nome_video  \\\n",
       "0  EDUARDO BOLSONARO E ANDRÉ MARINHO TRETARAM FEI...   \n",
       "1  GABRIEL MONTEIRO NO PÂNICO - MELHORES MOMENTOS...   \n",
       "2  VEIO ME EXPULSAR DO HOSPITAL, MAS FOI FLAGRADO...   \n",
       "3  RASPAGEM de DADOS com PYTHON usando BeautifulS...   \n",
       "4  Como Utilizar la API de SpotifyJonny Kalambay2...   \n",
       "5  Criei uma NOVA FUNCIONALIDADE no Spotify com P...   \n",
       "6  Consumindo uma API Rest usando requests em Pyt...   \n",
       "7  How To Copy, Append And Replace In Python Pand...   \n",
       "8  Unindo Dataframes - Merge | Concat | Join Data...   \n",
       "9  How do I merge DataFrames in pandas?Data Schoo...   \n",
       "\n",
       "                                     url_video  \\\n",
       "0  https://www.youtube.com/watch?v=PD9Lk1YleWk   \n",
       "1  https://www.youtube.com/watch?v=fOB0GYmAz7U   \n",
       "2  https://www.youtube.com/watch?v=RpfoCFRGHbo   \n",
       "3  https://www.youtube.com/watch?v=kqvWOcPog4s   \n",
       "4  https://www.youtube.com/watch?v=PfL_v6A4fsI   \n",
       "5  https://www.youtube.com/watch?v=AJcSX_IfDp8   \n",
       "6  https://www.youtube.com/watch?v=Qd8JT0bnJGs   \n",
       "7  https://www.youtube.com/watch?v=Tp7SH95RKl4   \n",
       "8  https://www.youtube.com/watch?v=ubMG7VjPmhs   \n",
       "9  https://www.youtube.com/watch?v=iYWKfUOtGaw   \n",
       "\n",
       "                 data_visualizacao  \n",
       "0  25 de jul. de 2021 17:55:05 BRT  \n",
       "1  25 de jul. de 2021 17:55:00 BRT  \n",
       "2  25 de jul. de 2021 17:54:57 BRT  \n",
       "3  25 de jul. de 2021 02:09:53 BRT  \n",
       "4  23 de jul. de 2021 22:36:44 BRT  \n",
       "5  23 de jul. de 2021 22:36:42 BRT  \n",
       "6  23 de jul. de 2021 22:35:30 BRT  \n",
       "7  20 de jul. de 2021 23:46:01 BRT  \n",
       "8  20 de jul. de 2021 23:31:04 BRT  \n",
       "9  20 de jul. de 2021 23:30:53 BRT  "
      ]
     },
     "execution_count": 715,
     "metadata": {},
     "output_type": "execute_result"
    }
   ],
   "source": [
    "visualizao_youtube.head(10)"
   ]
  },
  {
   "cell_type": "code",
   "execution_count": 716,
   "id": "dbf41bfb",
   "metadata": {},
   "outputs": [
    {
     "name": "stdout",
     "output_type": "stream",
     "text": [
      "<class 'pandas.core.frame.DataFrame'>\n",
      "RangeIndex: 924 entries, 0 to 923\n",
      "Data columns (total 5 columns):\n",
      " #   Column             Non-Null Count  Dtype \n",
      "---  ------             --------------  ----- \n",
      " 0   canal              825 non-null    object\n",
      " 1   url_canal          825 non-null    object\n",
      " 2   nome_video         924 non-null    object\n",
      " 3   url_video          917 non-null    object\n",
      " 4   data_visualizacao  924 non-null    object\n",
      "dtypes: object(5)\n",
      "memory usage: 36.2+ KB\n"
     ]
    }
   ],
   "source": [
    "visualizao_youtube.info()\n"
   ]
  },
  {
   "cell_type": "code",
   "execution_count": 717,
   "id": "cb83dfa3",
   "metadata": {},
   "outputs": [
    {
     "data": {
      "text/html": [
       "<div>\n",
       "<style scoped>\n",
       "    .dataframe tbody tr th:only-of-type {\n",
       "        vertical-align: middle;\n",
       "    }\n",
       "\n",
       "    .dataframe tbody tr th {\n",
       "        vertical-align: top;\n",
       "    }\n",
       "\n",
       "    .dataframe thead th {\n",
       "        text-align: right;\n",
       "    }\n",
       "</style>\n",
       "<table border=\"1\" class=\"dataframe\">\n",
       "  <thead>\n",
       "    <tr style=\"text-align: right;\">\n",
       "      <th></th>\n",
       "      <th>canal</th>\n",
       "      <th>url_canal</th>\n",
       "      <th>nome_video</th>\n",
       "      <th>url_video</th>\n",
       "      <th>data_visualizacao</th>\n",
       "    </tr>\n",
       "  </thead>\n",
       "  <tbody>\n",
       "    <tr>\n",
       "      <th>0</th>\n",
       "      <td>Pânico Retrô</td>\n",
       "      <td>https://www.youtube.com/channel/UC2IEgRZcIuemA...</td>\n",
       "      <td>EDUARDO BOLSONARO E ANDRÉ MARINHO TRETARAM FEI...</td>\n",
       "      <td>https://www.youtube.com/watch?v=PD9Lk1YleWk</td>\n",
       "      <td>25 de jul. de 2021 17:55:05 BRT</td>\n",
       "    </tr>\n",
       "    <tr>\n",
       "      <th>1</th>\n",
       "      <td>Pânico Retrô</td>\n",
       "      <td>https://www.youtube.com/channel/UC2IEgRZcIuemA...</td>\n",
       "      <td>GABRIEL MONTEIRO NO PÂNICO - MELHORES MOMENTOS...</td>\n",
       "      <td>https://www.youtube.com/watch?v=fOB0GYmAz7U</td>\n",
       "      <td>25 de jul. de 2021 17:55:00 BRT</td>\n",
       "    </tr>\n",
       "    <tr>\n",
       "      <th>2</th>\n",
       "      <td>Gabriel Monteiro</td>\n",
       "      <td>https://www.youtube.com/channel/UCYCMK_puWK2V5...</td>\n",
       "      <td>VEIO ME EXPULSAR DO HOSPITAL, MAS FOI FLAGRADO...</td>\n",
       "      <td>https://www.youtube.com/watch?v=RpfoCFRGHbo</td>\n",
       "      <td>25 de jul. de 2021 17:54:57 BRT</td>\n",
       "    </tr>\n",
       "    <tr>\n",
       "      <th>3</th>\n",
       "      <td>Programação Dinâmica</td>\n",
       "      <td>https://www.youtube.com/channel/UC70mr11REaCqg...</td>\n",
       "      <td>RASPAGEM de DADOS com PYTHON usando BeautifulS...</td>\n",
       "      <td>https://www.youtube.com/watch?v=kqvWOcPog4s</td>\n",
       "      <td>25 de jul. de 2021 02:09:53 BRT</td>\n",
       "    </tr>\n",
       "    <tr>\n",
       "      <th>4</th>\n",
       "      <td>Jonny Kalambay</td>\n",
       "      <td>https://www.youtube.com/channel/UCUm0chMKj4MA7...</td>\n",
       "      <td>Como Utilizar la API de SpotifyJonny Kalambay2...</td>\n",
       "      <td>https://www.youtube.com/watch?v=PfL_v6A4fsI</td>\n",
       "      <td>23 de jul. de 2021 22:36:44 BRT</td>\n",
       "    </tr>\n",
       "  </tbody>\n",
       "</table>\n",
       "</div>"
      ],
      "text/plain": [
       "                  canal                                          url_canal  \\\n",
       "0          Pânico Retrô  https://www.youtube.com/channel/UC2IEgRZcIuemA...   \n",
       "1          Pânico Retrô  https://www.youtube.com/channel/UC2IEgRZcIuemA...   \n",
       "2      Gabriel Monteiro  https://www.youtube.com/channel/UCYCMK_puWK2V5...   \n",
       "3  Programação Dinâmica  https://www.youtube.com/channel/UC70mr11REaCqg...   \n",
       "4        Jonny Kalambay  https://www.youtube.com/channel/UCUm0chMKj4MA7...   \n",
       "\n",
       "                                          nome_video  \\\n",
       "0  EDUARDO BOLSONARO E ANDRÉ MARINHO TRETARAM FEI...   \n",
       "1  GABRIEL MONTEIRO NO PÂNICO - MELHORES MOMENTOS...   \n",
       "2  VEIO ME EXPULSAR DO HOSPITAL, MAS FOI FLAGRADO...   \n",
       "3  RASPAGEM de DADOS com PYTHON usando BeautifulS...   \n",
       "4  Como Utilizar la API de SpotifyJonny Kalambay2...   \n",
       "\n",
       "                                     url_video  \\\n",
       "0  https://www.youtube.com/watch?v=PD9Lk1YleWk   \n",
       "1  https://www.youtube.com/watch?v=fOB0GYmAz7U   \n",
       "2  https://www.youtube.com/watch?v=RpfoCFRGHbo   \n",
       "3  https://www.youtube.com/watch?v=kqvWOcPog4s   \n",
       "4  https://www.youtube.com/watch?v=PfL_v6A4fsI   \n",
       "\n",
       "                 data_visualizacao  \n",
       "0  25 de jul. de 2021 17:55:05 BRT  \n",
       "1  25 de jul. de 2021 17:55:00 BRT  \n",
       "2  25 de jul. de 2021 17:54:57 BRT  \n",
       "3  25 de jul. de 2021 02:09:53 BRT  \n",
       "4  23 de jul. de 2021 22:36:44 BRT  "
      ]
     },
     "execution_count": 717,
     "metadata": {},
     "output_type": "execute_result"
    }
   ],
   "source": [
    "visualizao_youtube.head()\n"
   ]
  },
  {
   "cell_type": "code",
   "execution_count": 718,
   "id": "e7629f88",
   "metadata": {},
   "outputs": [],
   "source": [
    "  def limpa_data(string):\n",
    "    \n",
    "    string = list(string)\n",
    "    \n",
    "    string[5] = string[5].upper()\n",
    "    string =  ''.join(string).strip()\n",
    "    string = string.split(' ')\n",
    "   \n",
    "    for i,valor in enumerate(string):\n",
    "        if valor =='de' or valor == 'BRT':\n",
    "            string.pop(i)     \n",
    "        if i == 2:\n",
    "            \n",
    "            for chave in meses.keys():\n",
    "                if meses[chave] == string[1]:\n",
    "                    string[1] = chave\n",
    "    string.insert(1,'/')\n",
    "    string.insert(3,'/')\n",
    "    string = ' '.join(str(v) for v in string) \n",
    "    return string\n",
    "\n"
   ]
  },
  {
   "cell_type": "code",
   "execution_count": null,
   "id": "7bc276db",
   "metadata": {},
   "outputs": [],
   "source": []
  },
  {
   "cell_type": "code",
   "execution_count": 719,
   "id": "96db3825",
   "metadata": {},
   "outputs": [],
   "source": [
    "meses = {\n",
    "        '01':'jan.',\n",
    "        '02':'fev.',\n",
    "        '03':'mar.',\n",
    "        '04':'abr.',\n",
    "        '05':'mai.',\n",
    "        '06':'jun.',\n",
    "        '07':'jul.',\n",
    "        '08':'ago.',\n",
    "        '09':'set.',\n",
    "        '10':'out.',\n",
    "        '11':'nov.',\n",
    "        '12':'dez.',\n",
    "}\n"
   ]
  },
  {
   "cell_type": "code",
   "execution_count": 720,
   "id": "ce1960c8",
   "metadata": {},
   "outputs": [],
   "source": [
    "#Aplica funcao para aumentar letra do mes\n",
    "youtube_dado_limpo['data_visualizacao'] = youtube_dado_limpo['data_visualizacao'].apply(limpa_data)"
   ]
  },
  {
   "cell_type": "code",
   "execution_count": 721,
   "id": "da54141b",
   "metadata": {},
   "outputs": [],
   "source": [
    "visualizao_youtube['data_visualizacao'] = visualizao_youtube['data_visualizacao'].apply(lambda x:str(x).replace('jUl.','08'))\n"
   ]
  },
  {
   "cell_type": "code",
   "execution_count": 722,
   "id": "2d5c64db",
   "metadata": {},
   "outputs": [],
   "source": [
    "visualizao_youtube['data_visualizacao'] = visualizao_youtube['data_visualizacao'].apply(lambda x:str(x).replace('jUn.','08'))\n"
   ]
  },
  {
   "cell_type": "code",
   "execution_count": 723,
   "id": "46709048",
   "metadata": {},
   "outputs": [
    {
     "ename": "ValueError",
     "evalue": "time data '25 / / / / / / / 07 / 2021 17:55:05' does not match format '%d / %m / %Y %H:%M:%S' (match)",
     "output_type": "error",
     "traceback": [
      "\u001b[0;31m---------------------------------------------------------------------------\u001b[0m",
      "\u001b[0;31mTypeError\u001b[0m                                 Traceback (most recent call last)",
      "\u001b[0;32m~/.local/lib/python3.8/site-packages/pandas/core/tools/datetimes.py\u001b[0m in \u001b[0;36m_to_datetime_with_format\u001b[0;34m(arg, orig_arg, name, tz, fmt, exact, errors, infer_datetime_format)\u001b[0m\n\u001b[1;32m    508\u001b[0m         \u001b[0;32mtry\u001b[0m\u001b[0;34m:\u001b[0m\u001b[0;34m\u001b[0m\u001b[0;34m\u001b[0m\u001b[0m\n\u001b[0;32m--> 509\u001b[0;31m             \u001b[0mvalues\u001b[0m\u001b[0;34m,\u001b[0m \u001b[0mtz\u001b[0m \u001b[0;34m=\u001b[0m \u001b[0mconversion\u001b[0m\u001b[0;34m.\u001b[0m\u001b[0mdatetime_to_datetime64\u001b[0m\u001b[0;34m(\u001b[0m\u001b[0marg\u001b[0m\u001b[0;34m)\u001b[0m\u001b[0;34m\u001b[0m\u001b[0;34m\u001b[0m\u001b[0m\n\u001b[0m\u001b[1;32m    510\u001b[0m             \u001b[0mdta\u001b[0m \u001b[0;34m=\u001b[0m \u001b[0mDatetimeArray\u001b[0m\u001b[0;34m(\u001b[0m\u001b[0mvalues\u001b[0m\u001b[0;34m,\u001b[0m \u001b[0mdtype\u001b[0m\u001b[0;34m=\u001b[0m\u001b[0mtz_to_dtype\u001b[0m\u001b[0;34m(\u001b[0m\u001b[0mtz\u001b[0m\u001b[0;34m)\u001b[0m\u001b[0;34m)\u001b[0m\u001b[0;34m\u001b[0m\u001b[0;34m\u001b[0m\u001b[0m\n",
      "\u001b[0;32m~/.local/lib/python3.8/site-packages/pandas/_libs/tslibs/conversion.pyx\u001b[0m in \u001b[0;36mpandas._libs.tslibs.conversion.datetime_to_datetime64\u001b[0;34m()\u001b[0m\n",
      "\u001b[0;31mTypeError\u001b[0m: Unrecognized value type: <class 'str'>",
      "\nDuring handling of the above exception, another exception occurred:\n",
      "\u001b[0;31mValueError\u001b[0m                                Traceback (most recent call last)",
      "\u001b[0;32m<ipython-input-723-b1fcabaf9139>\u001b[0m in \u001b[0;36m<module>\u001b[0;34m\u001b[0m\n\u001b[0;32m----> 1\u001b[0;31m \u001b[0mpd\u001b[0m\u001b[0;34m.\u001b[0m\u001b[0mto_datetime\u001b[0m\u001b[0;34m(\u001b[0m\u001b[0myoutube_dado_limpo\u001b[0m\u001b[0;34m[\u001b[0m\u001b[0;34m'data_visualizacao'\u001b[0m\u001b[0;34m]\u001b[0m\u001b[0;34m,\u001b[0m\u001b[0mformat\u001b[0m  \u001b[0;34m=\u001b[0m \u001b[0;34m'%d / %m / %Y %H:%M:%S'\u001b[0m\u001b[0;34m)\u001b[0m\u001b[0;34m\u001b[0m\u001b[0;34m\u001b[0m\u001b[0m\n\u001b[0m",
      "\u001b[0;32m~/.local/lib/python3.8/site-packages/pandas/core/tools/datetimes.py\u001b[0m in \u001b[0;36mto_datetime\u001b[0;34m(arg, errors, dayfirst, yearfirst, utc, format, exact, unit, infer_datetime_format, origin, cache)\u001b[0m\n\u001b[1;32m    885\u001b[0m             \u001b[0mresult\u001b[0m \u001b[0;34m=\u001b[0m \u001b[0marg\u001b[0m\u001b[0;34m.\u001b[0m\u001b[0mmap\u001b[0m\u001b[0;34m(\u001b[0m\u001b[0mcache_array\u001b[0m\u001b[0;34m)\u001b[0m\u001b[0;34m\u001b[0m\u001b[0;34m\u001b[0m\u001b[0m\n\u001b[1;32m    886\u001b[0m         \u001b[0;32melse\u001b[0m\u001b[0;34m:\u001b[0m\u001b[0;34m\u001b[0m\u001b[0;34m\u001b[0m\u001b[0m\n\u001b[0;32m--> 887\u001b[0;31m             \u001b[0mvalues\u001b[0m \u001b[0;34m=\u001b[0m \u001b[0mconvert_listlike\u001b[0m\u001b[0;34m(\u001b[0m\u001b[0marg\u001b[0m\u001b[0;34m.\u001b[0m\u001b[0m_values\u001b[0m\u001b[0;34m,\u001b[0m \u001b[0mformat\u001b[0m\u001b[0;34m)\u001b[0m\u001b[0;34m\u001b[0m\u001b[0;34m\u001b[0m\u001b[0m\n\u001b[0m\u001b[1;32m    888\u001b[0m             \u001b[0mresult\u001b[0m \u001b[0;34m=\u001b[0m \u001b[0marg\u001b[0m\u001b[0;34m.\u001b[0m\u001b[0m_constructor\u001b[0m\u001b[0;34m(\u001b[0m\u001b[0mvalues\u001b[0m\u001b[0;34m,\u001b[0m \u001b[0mindex\u001b[0m\u001b[0;34m=\u001b[0m\u001b[0marg\u001b[0m\u001b[0;34m.\u001b[0m\u001b[0mindex\u001b[0m\u001b[0;34m,\u001b[0m \u001b[0mname\u001b[0m\u001b[0;34m=\u001b[0m\u001b[0marg\u001b[0m\u001b[0;34m.\u001b[0m\u001b[0mname\u001b[0m\u001b[0;34m)\u001b[0m\u001b[0;34m\u001b[0m\u001b[0;34m\u001b[0m\u001b[0m\n\u001b[1;32m    889\u001b[0m     \u001b[0;32melif\u001b[0m \u001b[0misinstance\u001b[0m\u001b[0;34m(\u001b[0m\u001b[0marg\u001b[0m\u001b[0;34m,\u001b[0m \u001b[0;34m(\u001b[0m\u001b[0mABCDataFrame\u001b[0m\u001b[0;34m,\u001b[0m \u001b[0mabc\u001b[0m\u001b[0;34m.\u001b[0m\u001b[0mMutableMapping\u001b[0m\u001b[0;34m)\u001b[0m\u001b[0;34m)\u001b[0m\u001b[0;34m:\u001b[0m\u001b[0;34m\u001b[0m\u001b[0;34m\u001b[0m\u001b[0m\n",
      "\u001b[0;32m~/.local/lib/python3.8/site-packages/pandas/core/tools/datetimes.py\u001b[0m in \u001b[0;36m_convert_listlike_datetimes\u001b[0;34m(arg, format, name, tz, unit, errors, infer_datetime_format, dayfirst, yearfirst, exact)\u001b[0m\n\u001b[1;32m    391\u001b[0m \u001b[0;34m\u001b[0m\u001b[0m\n\u001b[1;32m    392\u001b[0m     \u001b[0;32mif\u001b[0m \u001b[0mformat\u001b[0m \u001b[0;32mis\u001b[0m \u001b[0;32mnot\u001b[0m \u001b[0;32mNone\u001b[0m\u001b[0;34m:\u001b[0m\u001b[0;34m\u001b[0m\u001b[0;34m\u001b[0m\u001b[0m\n\u001b[0;32m--> 393\u001b[0;31m         res = _to_datetime_with_format(\n\u001b[0m\u001b[1;32m    394\u001b[0m             \u001b[0marg\u001b[0m\u001b[0;34m,\u001b[0m \u001b[0morig_arg\u001b[0m\u001b[0;34m,\u001b[0m \u001b[0mname\u001b[0m\u001b[0;34m,\u001b[0m \u001b[0mtz\u001b[0m\u001b[0;34m,\u001b[0m \u001b[0mformat\u001b[0m\u001b[0;34m,\u001b[0m \u001b[0mexact\u001b[0m\u001b[0;34m,\u001b[0m \u001b[0merrors\u001b[0m\u001b[0;34m,\u001b[0m \u001b[0minfer_datetime_format\u001b[0m\u001b[0;34m\u001b[0m\u001b[0;34m\u001b[0m\u001b[0m\n\u001b[1;32m    395\u001b[0m         )\n",
      "\u001b[0;32m~/.local/lib/python3.8/site-packages/pandas/core/tools/datetimes.py\u001b[0m in \u001b[0;36m_to_datetime_with_format\u001b[0;34m(arg, orig_arg, name, tz, fmt, exact, errors, infer_datetime_format)\u001b[0m\n\u001b[1;32m    511\u001b[0m             \u001b[0;32mreturn\u001b[0m \u001b[0mDatetimeIndex\u001b[0m\u001b[0;34m.\u001b[0m\u001b[0m_simple_new\u001b[0m\u001b[0;34m(\u001b[0m\u001b[0mdta\u001b[0m\u001b[0;34m,\u001b[0m \u001b[0mname\u001b[0m\u001b[0;34m=\u001b[0m\u001b[0mname\u001b[0m\u001b[0;34m)\u001b[0m\u001b[0;34m\u001b[0m\u001b[0;34m\u001b[0m\u001b[0m\n\u001b[1;32m    512\u001b[0m         \u001b[0;32mexcept\u001b[0m \u001b[0;34m(\u001b[0m\u001b[0mValueError\u001b[0m\u001b[0;34m,\u001b[0m \u001b[0mTypeError\u001b[0m\u001b[0;34m)\u001b[0m\u001b[0;34m:\u001b[0m\u001b[0;34m\u001b[0m\u001b[0;34m\u001b[0m\u001b[0m\n\u001b[0;32m--> 513\u001b[0;31m             \u001b[0;32mraise\u001b[0m \u001b[0merr\u001b[0m\u001b[0;34m\u001b[0m\u001b[0;34m\u001b[0m\u001b[0m\n\u001b[0m\u001b[1;32m    514\u001b[0m \u001b[0;34m\u001b[0m\u001b[0m\n\u001b[1;32m    515\u001b[0m \u001b[0;34m\u001b[0m\u001b[0m\n",
      "\u001b[0;32m~/.local/lib/python3.8/site-packages/pandas/core/tools/datetimes.py\u001b[0m in \u001b[0;36m_to_datetime_with_format\u001b[0;34m(arg, orig_arg, name, tz, fmt, exact, errors, infer_datetime_format)\u001b[0m\n\u001b[1;32m    498\u001b[0m \u001b[0;34m\u001b[0m\u001b[0m\n\u001b[1;32m    499\u001b[0m         \u001b[0;31m# fallback\u001b[0m\u001b[0;34m\u001b[0m\u001b[0;34m\u001b[0m\u001b[0;34m\u001b[0m\u001b[0m\n\u001b[0;32m--> 500\u001b[0;31m         res = _array_strptime_with_fallback(\n\u001b[0m\u001b[1;32m    501\u001b[0m             \u001b[0marg\u001b[0m\u001b[0;34m,\u001b[0m \u001b[0mname\u001b[0m\u001b[0;34m,\u001b[0m \u001b[0mtz\u001b[0m\u001b[0;34m,\u001b[0m \u001b[0mfmt\u001b[0m\u001b[0;34m,\u001b[0m \u001b[0mexact\u001b[0m\u001b[0;34m,\u001b[0m \u001b[0merrors\u001b[0m\u001b[0;34m,\u001b[0m \u001b[0minfer_datetime_format\u001b[0m\u001b[0;34m\u001b[0m\u001b[0;34m\u001b[0m\u001b[0m\n\u001b[1;32m    502\u001b[0m         )\n",
      "\u001b[0;32m~/.local/lib/python3.8/site-packages/pandas/core/tools/datetimes.py\u001b[0m in \u001b[0;36m_array_strptime_with_fallback\u001b[0;34m(arg, name, tz, fmt, exact, errors, infer_datetime_format)\u001b[0m\n\u001b[1;32m    434\u001b[0m \u001b[0;34m\u001b[0m\u001b[0m\n\u001b[1;32m    435\u001b[0m     \u001b[0;32mtry\u001b[0m\u001b[0;34m:\u001b[0m\u001b[0;34m\u001b[0m\u001b[0;34m\u001b[0m\u001b[0m\n\u001b[0;32m--> 436\u001b[0;31m         \u001b[0mresult\u001b[0m\u001b[0;34m,\u001b[0m \u001b[0mtimezones\u001b[0m \u001b[0;34m=\u001b[0m \u001b[0marray_strptime\u001b[0m\u001b[0;34m(\u001b[0m\u001b[0marg\u001b[0m\u001b[0;34m,\u001b[0m \u001b[0mfmt\u001b[0m\u001b[0;34m,\u001b[0m \u001b[0mexact\u001b[0m\u001b[0;34m=\u001b[0m\u001b[0mexact\u001b[0m\u001b[0;34m,\u001b[0m \u001b[0merrors\u001b[0m\u001b[0;34m=\u001b[0m\u001b[0merrors\u001b[0m\u001b[0;34m)\u001b[0m\u001b[0;34m\u001b[0m\u001b[0;34m\u001b[0m\u001b[0m\n\u001b[0m\u001b[1;32m    437\u001b[0m         \u001b[0;32mif\u001b[0m \u001b[0;34m\"%Z\"\u001b[0m \u001b[0;32min\u001b[0m \u001b[0mfmt\u001b[0m \u001b[0;32mor\u001b[0m \u001b[0;34m\"%z\"\u001b[0m \u001b[0;32min\u001b[0m \u001b[0mfmt\u001b[0m\u001b[0;34m:\u001b[0m\u001b[0;34m\u001b[0m\u001b[0;34m\u001b[0m\u001b[0m\n\u001b[1;32m    438\u001b[0m             \u001b[0;32mreturn\u001b[0m \u001b[0m_return_parsed_timezone_results\u001b[0m\u001b[0;34m(\u001b[0m\u001b[0mresult\u001b[0m\u001b[0;34m,\u001b[0m \u001b[0mtimezones\u001b[0m\u001b[0;34m,\u001b[0m \u001b[0mtz\u001b[0m\u001b[0;34m,\u001b[0m \u001b[0mname\u001b[0m\u001b[0;34m)\u001b[0m\u001b[0;34m\u001b[0m\u001b[0;34m\u001b[0m\u001b[0m\n",
      "\u001b[0;32m~/.local/lib/python3.8/site-packages/pandas/_libs/tslibs/strptime.pyx\u001b[0m in \u001b[0;36mpandas._libs.tslibs.strptime.array_strptime\u001b[0;34m()\u001b[0m\n",
      "\u001b[0;31mValueError\u001b[0m: time data '25 / / / / / / / 07 / 2021 17:55:05' does not match format '%d / %m / %Y %H:%M:%S' (match)"
     ]
    }
   ],
   "source": [
    "pd.to_datetime(youtube_dado_limpo['data_visualizacao'],format  = '%d / %m / %Y %H:%M:%S')"
   ]
  },
  {
   "cell_type": "code",
   "execution_count": null,
   "id": "36a00733",
   "metadata": {},
   "outputs": [],
   "source": [
    "visualizao_youtube.head()"
   ]
  },
  {
   "cell_type": "code",
   "execution_count": null,
   "id": "2d184372",
   "metadata": {},
   "outputs": [],
   "source": []
  },
  {
   "cell_type": "code",
   "execution_count": null,
   "id": "0ff95230",
   "metadata": {},
   "outputs": [],
   "source": [
    "#Excluir valores nulos de registro\n",
    "#de visualização, pois eles são na maioria videos ou \n",
    "#canais que foi removido ou é privado,não conta para mim, pois não mostra nome video e nome do canal.\n",
    "youtube_dado_limpo = visualizao_youtube.dropna()"
   ]
  },
  {
   "cell_type": "code",
   "execution_count": null,
   "id": "9a7eca18",
   "metadata": {},
   "outputs": [],
   "source": [
    "\n"
   ]
  },
  {
   "cell_type": "code",
   "execution_count": 724,
   "id": "adc21183",
   "metadata": {},
   "outputs": [
    {
     "data": {
      "text/html": [
       "<div>\n",
       "<style scoped>\n",
       "    .dataframe tbody tr th:only-of-type {\n",
       "        vertical-align: middle;\n",
       "    }\n",
       "\n",
       "    .dataframe tbody tr th {\n",
       "        vertical-align: top;\n",
       "    }\n",
       "\n",
       "    .dataframe thead th {\n",
       "        text-align: right;\n",
       "    }\n",
       "</style>\n",
       "<table border=\"1\" class=\"dataframe\">\n",
       "  <thead>\n",
       "    <tr style=\"text-align: right;\">\n",
       "      <th></th>\n",
       "      <th>canal</th>\n",
       "      <th>url_canal</th>\n",
       "      <th>nome_video</th>\n",
       "      <th>url_video</th>\n",
       "      <th>data_visualizacao</th>\n",
       "    </tr>\n",
       "  </thead>\n",
       "  <tbody>\n",
       "    <tr>\n",
       "      <th>0</th>\n",
       "      <td>Pânico Retrô</td>\n",
       "      <td>https://www.youtube.com/channel/UC2IEgRZcIuemA...</td>\n",
       "      <td>EDUARDO BOLSONARO E ANDRÉ MARINHO TRETARAM FEI...</td>\n",
       "      <td>https://www.youtube.com/watch?v=PD9Lk1YleWk</td>\n",
       "      <td>25 / / / / / / / 07 / 2021 17:55:05</td>\n",
       "    </tr>\n",
       "    <tr>\n",
       "      <th>1</th>\n",
       "      <td>Pânico Retrô</td>\n",
       "      <td>https://www.youtube.com/channel/UC2IEgRZcIuemA...</td>\n",
       "      <td>GABRIEL MONTEIRO NO PÂNICO - MELHORES MOMENTOS...</td>\n",
       "      <td>https://www.youtube.com/watch?v=fOB0GYmAz7U</td>\n",
       "      <td>25 / / / / / / / 07 / 2021 17:55:00</td>\n",
       "    </tr>\n",
       "    <tr>\n",
       "      <th>2</th>\n",
       "      <td>Gabriel Monteiro</td>\n",
       "      <td>https://www.youtube.com/channel/UCYCMK_puWK2V5...</td>\n",
       "      <td>VEIO ME EXPULSAR DO HOSPITAL, MAS FOI FLAGRADO...</td>\n",
       "      <td>https://www.youtube.com/watch?v=RpfoCFRGHbo</td>\n",
       "      <td>25 / / / / / / / 07 / 2021 17:54:57</td>\n",
       "    </tr>\n",
       "    <tr>\n",
       "      <th>3</th>\n",
       "      <td>Programação Dinâmica</td>\n",
       "      <td>https://www.youtube.com/channel/UC70mr11REaCqg...</td>\n",
       "      <td>RASPAGEM de DADOS com PYTHON usando BeautifulS...</td>\n",
       "      <td>https://www.youtube.com/watch?v=kqvWOcPog4s</td>\n",
       "      <td>25 / / / / / / / 07 / 2021 02:09:53</td>\n",
       "    </tr>\n",
       "    <tr>\n",
       "      <th>4</th>\n",
       "      <td>Jonny Kalambay</td>\n",
       "      <td>https://www.youtube.com/channel/UCUm0chMKj4MA7...</td>\n",
       "      <td>Como Utilizar la API de SpotifyJonny Kalambay2...</td>\n",
       "      <td>https://www.youtube.com/watch?v=PfL_v6A4fsI</td>\n",
       "      <td>23 / / / / / / / 07 / 2021 22:36:44</td>\n",
       "    </tr>\n",
       "  </tbody>\n",
       "</table>\n",
       "</div>"
      ],
      "text/plain": [
       "                  canal                                          url_canal  \\\n",
       "0          Pânico Retrô  https://www.youtube.com/channel/UC2IEgRZcIuemA...   \n",
       "1          Pânico Retrô  https://www.youtube.com/channel/UC2IEgRZcIuemA...   \n",
       "2      Gabriel Monteiro  https://www.youtube.com/channel/UCYCMK_puWK2V5...   \n",
       "3  Programação Dinâmica  https://www.youtube.com/channel/UC70mr11REaCqg...   \n",
       "4        Jonny Kalambay  https://www.youtube.com/channel/UCUm0chMKj4MA7...   \n",
       "\n",
       "                                          nome_video  \\\n",
       "0  EDUARDO BOLSONARO E ANDRÉ MARINHO TRETARAM FEI...   \n",
       "1  GABRIEL MONTEIRO NO PÂNICO - MELHORES MOMENTOS...   \n",
       "2  VEIO ME EXPULSAR DO HOSPITAL, MAS FOI FLAGRADO...   \n",
       "3  RASPAGEM de DADOS com PYTHON usando BeautifulS...   \n",
       "4  Como Utilizar la API de SpotifyJonny Kalambay2...   \n",
       "\n",
       "                                     url_video  \\\n",
       "0  https://www.youtube.com/watch?v=PD9Lk1YleWk   \n",
       "1  https://www.youtube.com/watch?v=fOB0GYmAz7U   \n",
       "2  https://www.youtube.com/watch?v=RpfoCFRGHbo   \n",
       "3  https://www.youtube.com/watch?v=kqvWOcPog4s   \n",
       "4  https://www.youtube.com/watch?v=PfL_v6A4fsI   \n",
       "\n",
       "                     data_visualizacao  \n",
       "0  25 / / / / / / / 07 / 2021 17:55:05  \n",
       "1  25 / / / / / / / 07 / 2021 17:55:00  \n",
       "2  25 / / / / / / / 07 / 2021 17:54:57  \n",
       "3  25 / / / / / / / 07 / 2021 02:09:53  \n",
       "4  23 / / / / / / / 07 / 2021 22:36:44  "
      ]
     },
     "execution_count": 724,
     "metadata": {},
     "output_type": "execute_result"
    }
   ],
   "source": [
    "youtube_dado_limpo.head()"
   ]
  },
  {
   "cell_type": "code",
   "execution_count": null,
   "id": "d2563116",
   "metadata": {},
   "outputs": [],
   "source": [
    "\n",
    "youtube_dado_limpo['data_visualizacao'].loc[56] = youtube_dado_limpo['data_visualizacao'].loc[56] =  '8 / 07 / 2021 00:15:01'"
   ]
  },
  {
   "cell_type": "code",
   "execution_count": null,
   "id": "b43facbc",
   "metadata": {},
   "outputs": [],
   "source": [
    "youtube_dado_limpo.query('data_visualizacao == \"8 / jUl. / 2021 00:15:01\"')\n",
    "#Esse dado ficou no formato com letra U grande, foi alterado para 07 que equivale ao mes de julho"
   ]
  },
  {
   "cell_type": "code",
   "execution_count": null,
   "id": "f5b1ffd9",
   "metadata": {},
   "outputs": [],
   "source": []
  },
  {
   "cell_type": "code",
   "execution_count": null,
   "id": "2100785e",
   "metadata": {},
   "outputs": [],
   "source": [
    "#salavando dados como csv para usar no tableau\n",
    "youtube_dado_limpo.to_csv('/home/mateus/Downloads/youtube/',index = False)"
   ]
  }
 ],
 "metadata": {
  "interpreter": {
   "hash": "cf3f271fe67d784bbf85f4ffd9a2a655e5d080e1c1fc4d081ba9aa5ddf323350"
  },
  "kernelspec": {
   "display_name": ".venv",
   "language": "python",
   "name": ".venv"
  },
  "language_info": {
   "codemirror_mode": {
    "name": "ipython",
    "version": 3
   },
   "file_extension": ".py",
   "mimetype": "text/x-python",
   "name": "python",
   "nbconvert_exporter": "python",
   "pygments_lexer": "ipython3",
   "version": "3.8.10"
  }
 },
 "nbformat": 4,
 "nbformat_minor": 5
}
