{
 "cells": [
  {
   "cell_type": "markdown",
   "id": "a8ed23b1",
   "metadata": {},
   "source": [
    "### Extração de dados youtube- visualizacão de videos"
   ]
  },
  {
   "cell_type": "markdown",
   "id": "95d057e4",
   "metadata": {},
   "source": [
    "**Bibliotecas:**"
   ]
  },
  {
   "cell_type": "markdown",
   "id": "61463234",
   "metadata": {},
   "source": [
    "* pandas\n",
    "* numpy\n",
    "* BeautifulSoup\n",
    "* matplotlib"
   ]
  },
  {
   "cell_type": "code",
   "execution_count": 39,
   "id": "034c5aec",
   "metadata": {},
   "outputs": [
    {
     "name": "stdout",
     "output_type": "stream",
     "text": [
      "Requirement already satisfied: beautifulsoup4 in /usr/lib/python3/dist-packages (4.8.2)\n",
      "Note: you may need to restart the kernel to use updated packages.\n"
     ]
    }
   ],
   "source": [
    " pip install beautifulsoup4"
   ]
  },
  {
   "cell_type": "markdown",
   "id": "e255b399",
   "metadata": {},
   "source": [
    "**Imports de bliotecas para utilização:**"
   ]
  },
  {
   "cell_type": "code",
   "execution_count": 40,
   "id": "f0786ca7",
   "metadata": {},
   "outputs": [],
   "source": [
    "from bs4 import BeautifulSoup\n",
    "import pandas as pd\n",
    "import numpy as np\n",
    "import codecs"
   ]
  },
  {
   "cell_type": "markdown",
   "id": "3514bba5",
   "metadata": {},
   "source": [
    "***Local do arquivo html***"
   ]
  },
  {
   "cell_type": "code",
   "execution_count": 41,
   "id": "9c468692",
   "metadata": {},
   "outputs": [],
   "source": [
    "local_html = '/home/mateus/Downloads/youtube/histórico/histórico-de-visualização.html'"
   ]
  },
  {
   "cell_type": "markdown",
   "id": "a21f030c",
   "metadata": {},
   "source": [
    "**Instância de objeto da biblioteca BeautifulSoup**"
   ]
  },
  {
   "cell_type": "code",
   "execution_count": 42,
   "id": "16360d26",
   "metadata": {},
   "outputs": [],
   "source": [
    "def cria_objeto_soup(html_doc):\n",
    "    fp = codecs.open(html_doc, 'r') \n",
    "    sp = BeautifulSoup(fp)\n",
    "    return sp"
   ]
  },
  {
   "cell_type": "code",
   "execution_count": 47,
   "id": "2a65a3fe",
   "metadata": {},
   "outputs": [],
   "source": [
    "def coleta_divs(nome_div,obj):\n",
    "    mydivs = obj.findAll(\"div\", {\"class\": nome_div})\n",
    "    return  mydivs"
   ]
  },
  {
   "cell_type": "code",
   "execution_count": 49,
   "id": "65c42f05",
   "metadata": {},
   "outputs": [],
   "source": [
    "nome_divs = 'content-cell mdl-cell mdl-cell--6-col mdl-typography--body-1'\n",
    "soup = cria_objeto_soup(local_html)\n",
    "\n",
    "divs = coleta_divs(nome_divs,soup)\n"
   ]
  },
  {
   "cell_type": "code",
   "execution_count": 94,
   "id": "c889366c",
   "metadata": {},
   "outputs": [
    {
     "data": {
      "text/plain": [
       "<a href=\"https://www.youtube.com/watch?v=PD9Lk1YleWk\">EDUARDO BOLSONARO E ANDRÉ MARINHO TRETARAM FEIO NO PÂNICO | Pânico 2021 #94</a>"
      ]
     },
     "execution_count": 94,
     "metadata": {},
     "output_type": "execute_result"
    }
   ],
   "source": [
    "vi = divs[0].a\n"
   ]
  },
  {
   "cell_type": "code",
   "execution_count": 57,
   "id": "5ccade4a",
   "metadata": {},
   "outputs": [
    {
     "data": {
      "text/plain": [
       "<a href=\"https://www.youtube.com/watch?v=PD9Lk1YleWk\">EDUARDO BOLSONARO E ANDRÉ MARINHO TRETARAM FEIO NO PÂNICO | Pânico 2021 #94</a>"
      ]
     },
     "execution_count": 57,
     "metadata": {},
     "output_type": "execute_result"
    }
   ],
   "source": [
    "vi['href']. #url video"
   ]
  },
  {
   "cell_type": "code",
   "execution_count": 58,
   "id": "e2f64df9",
   "metadata": {},
   "outputs": [
    {
     "data": {
      "text/plain": [
       "'EDUARDO BOLSONARO E ANDRÉ MARINHO TRETARAM FEIO NO PÂNICO | Pânico 2021 #94'"
      ]
     },
     "execution_count": 58,
     "metadata": {},
     "output_type": "execute_result"
    }
   ],
   "source": [
    " vi.text #txto do video"
   ]
  },
  {
   "cell_type": "code",
   "execution_count": 66,
   "id": "fc51e30f",
   "metadata": {},
   "outputs": [],
   "source": [
    "prox_a = divs[0].find_all('a')"
   ]
  },
  {
   "cell_type": "code",
   "execution_count": 69,
   "id": "ab67e947",
   "metadata": {},
   "outputs": [
    {
     "data": {
      "text/plain": [
       "'https://www.youtube.com/channel/UC2IEgRZcIuemAPJqXa2nHvQ'"
      ]
     },
     "execution_count": 69,
     "metadata": {},
     "output_type": "execute_result"
    }
   ],
   "source": [
    "prox_a[1]['href'] #url do canal"
   ]
  },
  {
   "cell_type": "code",
   "execution_count": 70,
   "id": "b0aa6201",
   "metadata": {},
   "outputs": [
    {
     "data": {
      "text/plain": [
       "'Pânico Retrô'"
      ]
     },
     "execution_count": 70,
     "metadata": {},
     "output_type": "execute_result"
    }
   ],
   "source": [
    "prox_a[1].text #Nome canal"
   ]
  },
  {
   "cell_type": "code",
   "execution_count": 77,
   "id": "b6231e58",
   "metadata": {},
   "outputs": [],
   "source": [
    "date = divs[0]"
   ]
  },
  {
   "cell_type": "code",
   "execution_count": 86,
   "id": "771aaca6",
   "metadata": {},
   "outputs": [],
   "source": [
    "date = str(date).split('<br/>')"
   ]
  },
  {
   "cell_type": "code",
   "execution_count": 89,
   "id": "ea1af21f",
   "metadata": {},
   "outputs": [],
   "source": [
    "t = len(date)"
   ]
  },
  {
   "cell_type": "code",
   "execution_count": 92,
   "id": "c39da2d1",
   "metadata": {},
   "outputs": [],
   "source": [
    "date = date[t-1].split('</div>')"
   ]
  },
  {
   "cell_type": "code",
   "execution_count": 93,
   "id": "5df5e37a",
   "metadata": {},
   "outputs": [
    {
     "data": {
      "text/plain": [
       "'25 de jul. de 2021 17:55:05 BRT'"
      ]
     },
     "execution_count": 93,
     "metadata": {},
     "output_type": "execute_result"
    }
   ],
   "source": [
    "date[0]"
   ]
  },
  {
   "cell_type": "code",
   "execution_count": null,
   "id": "693ae48a",
   "metadata": {},
   "outputs": [],
   "source": [
    "for dado in divs:\n",
    "    "
   ]
  },
  {
   "cell_type": "code",
   "execution_count": 53,
   "id": "2f15a7a1",
   "metadata": {},
   "outputs": [],
   "source": [
    "informacoes_visualizacaao_videos = {\n",
    "                                    'canal':[],\n",
    "                                    'url_canal':[],\n",
    "                                    'nome_video':[],\n",
    "                                    'url_video':[],\n",
    "                                    'data_visualizacao':[]\n",
    "}"
   ]
  },
  {
   "cell_type": "code",
   "execution_count": null,
   "id": "4c226b20",
   "metadata": {},
   "outputs": [],
   "source": [
    "\n"
   ]
  }
 ],
 "metadata": {
  "interpreter": {
   "hash": "cf3f271fe67d784bbf85f4ffd9a2a655e5d080e1c1fc4d081ba9aa5ddf323350"
  },
  "kernelspec": {
   "display_name": "Python 3",
   "language": "python",
   "name": "python3"
  },
  "language_info": {
   "codemirror_mode": {
    "name": "ipython",
    "version": 3
   },
   "file_extension": ".py",
   "mimetype": "text/x-python",
   "name": "python",
   "nbconvert_exporter": "python",
   "pygments_lexer": "ipython3",
   "version": "3.8.10"
  }
 },
 "nbformat": 4,
 "nbformat_minor": 5
}
