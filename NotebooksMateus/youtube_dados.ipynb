{
 "cells": [
  {
   "cell_type": "markdown",
   "id": "a5e2e01f",
   "metadata": {},
   "source": [
    "### Extração de dados youtube- visualizacão de videos"
   ]
  },
  {
   "cell_type": "markdown",
   "id": "9acb24c3",
   "metadata": {},
   "source": [
    "**Bibliotecas:**"
   ]
  },
  {
   "cell_type": "markdown",
   "id": "9d5db62d",
   "metadata": {},
   "source": [
    "* pandas\n",
    "* numpy\n",
    "* BeautifulSoup\n",
    "* matplotlib\n"
   ]
  },
  {
   "cell_type": "markdown",
   "id": "6aa8bf2e",
   "metadata": {},
   "source": [
    "> Requer instalação da  **beautifulsoup4** para ler e extrair dados html, **tags**."
   ]
  },
  {
   "cell_type": "code",
   "execution_count": null,
   "id": "63e6f103",
   "metadata": {},
   "outputs": [],
   "source": [
    " pip install beautifulsoup4"
   ]
  },
  {
   "cell_type": "markdown",
   "id": "26fec89b",
   "metadata": {},
   "source": [
    "> Para gerar nuvem de palavras vou utilizar a biblioteca **stylecloud** para isso"
   ]
  },
  {
   "cell_type": "code",
   "execution_count": null,
   "id": "16942539",
   "metadata": {},
   "outputs": [],
   "source": []
  },
  {
   "cell_type": "markdown",
   "id": "e39ed6f7",
   "metadata": {},
   "source": [
    "**Imports de bliotecas para utilização:**"
   ]
  },
  {
   "cell_type": "code",
   "execution_count": null,
   "id": "d7b3e7f4",
   "metadata": {},
   "outputs": [],
   "source": [
    "from bs4 import BeautifulSoup\n",
    "import pandas as pd\n",
    "import numpy as np\n",
    "import codecs\n",
    "from datetime import datetime\n"
   ]
  },
  {
   "cell_type": "markdown",
   "id": "384deb37",
   "metadata": {},
   "source": [
    "***Local do arquivo html***"
   ]
  },
  {
   "cell_type": "code",
   "execution_count": null,
   "id": "be03048b",
   "metadata": {},
   "outputs": [],
   "source": [
    "local_html = '/home/mateus/Downloads/youtube/histórico/histórico-de-visualização.html'"
   ]
  },
  {
   "cell_type": "markdown",
   "id": "18e86a8f",
   "metadata": {},
   "source": [
    "**Instância de objeto da biblioteca BeautifulSoup**"
   ]
  },
  {
   "cell_type": "code",
   "execution_count": null,
   "id": "e62c2807",
   "metadata": {},
   "outputs": [],
   "source": [
    "def cria_objeto_soup(html_doc):\n",
    "    fp = codecs.open(html_doc, 'r') \n",
    "    sp = BeautifulSoup(fp)\n",
    "    return sp"
   ]
  },
  {
   "cell_type": "code",
   "execution_count": null,
   "id": "aa6b1f71",
   "metadata": {},
   "outputs": [],
   "source": [
    "def coleta_divs(nome_div,obj):\n",
    "    mydivs = obj.findAll(\"div\", {\"class\": nome_div})\n",
    "    return  mydivs"
   ]
  },
  {
   "cell_type": "code",
   "execution_count": null,
   "id": "085aaea9",
   "metadata": {},
   "outputs": [],
   "source": [
    "def cria_dicionario():\n",
    "    informacoe_visualizacao = {\n",
    "                                        'canal':[],\n",
    "                                        'url_canal':[],\n",
    "                                        'nome_video':[],\n",
    "                                        'url_video':[],\n",
    "                                        'data_visualizacao':[]\n",
    "    }\n",
    "    return informacoe_visualizacao"
   ]
  },
  {
   "cell_type": "code",
   "execution_count": null,
   "id": "760e3976",
   "metadata": {},
   "outputs": [],
   "source": [
    "nome_divs = 'content-cell mdl-cell mdl-cell--6-col mdl-typography--body-1'\n",
    "soup = cria_objeto_soup(local_html)\n",
    "divs = coleta_divs(nome_divs,soup)\n"
   ]
  },
  {
   "cell_type": "code",
   "execution_count": null,
   "id": "6695b942",
   "metadata": {},
   "outputs": [],
   "source": [
    "dados = cria_dicionario()\n",
    "for dado in divs:\n",
    "    href_video = dado.a\n",
    "\n",
    "    dados_novo_tag_a = dado.find_all('a')  \n",
    "    date = str(dado).split('<br/>')\n",
    "    tm_date = len(date)\n",
    "    date = date[tm_date-1].split('</div>')\n",
    "    txt = dado.text\n",
    "    tm = len('Watched\\xa0')\n",
    "    txt = txt[tm:]\n",
    "    \n",
    "    \n",
    "    try: \n",
    "       dados['canal'].append(dados_novo_tag_a[1].text)\n",
    "    except:\n",
    "       dados['canal'].append(np.NaN)\n",
    "    \n",
    "    try: \n",
    "       dados['url_canal'].append(dados_novo_tag_a[1]['href'])\n",
    "    except:\n",
    "       dados['url_canal'].append(np.NaN) \n",
    "    \n",
    "    try:\n",
    "       dados['nome_video'].append(txt) \n",
    "    except:\n",
    "       dados['nome_video'].append(np.NaN)\n",
    "    \n",
    "    try:\n",
    "       dados['url_video'].append(href_video['href'])\n",
    "    except:\n",
    "       dados['url_video'].append(np.NaN)\n",
    "    \n",
    "    try:  \n",
    "       dados['data_visualizacao'].append(str(date[0]))\n",
    "    except:\n",
    "       dados['data_visualizacao'].append(np.NaN)\n",
    "  "
   ]
  },
  {
   "cell_type": "code",
   "execution_count": null,
   "id": "c14e7dbb",
   "metadata": {},
   "outputs": [],
   "source": [
    "visualizao_youtube = pd.DataFrame(dados)"
   ]
  },
  {
   "cell_type": "code",
   "execution_count": null,
   "id": "71b9caa3",
   "metadata": {},
   "outputs": [],
   "source": [
    "visualizao_youtube.head(10)"
   ]
  },
  {
   "cell_type": "code",
   "execution_count": null,
   "id": "dbf41bfb",
   "metadata": {},
   "outputs": [],
   "source": [
    "visualizao_youtube.info()\n"
   ]
  },
  {
   "cell_type": "code",
   "execution_count": null,
   "id": "cb83dfa3",
   "metadata": {},
   "outputs": [],
   "source": [
    "visualizao_youtube.head()\n"
   ]
  },
  {
   "cell_type": "code",
   "execution_count": null,
   "id": "4248bcdb",
   "metadata": {},
   "outputs": [],
   "source": [
    "meses = {\n",
    "        '01':'jan.',\n",
    "        '02':'fev.',\n",
    "        '03':'mar.',\n",
    "        '04':'abr.',\n",
    "        '05':'mai.',\n",
    "        '06':'jun.',\n",
    "        '07':'jul.',\n",
    "        '08':'ago.',\n",
    "        '09':'set.',\n",
    "        '10':'out.',\n",
    "        '11':'nov.',\n",
    "        '12':'dez.',\n",
    "}\n"
   ]
  },
  {
   "cell_type": "code",
   "execution_count": null,
   "id": "e7629f88",
   "metadata": {},
   "outputs": [],
   "source": [
    "  def limpa_date(string):\n",
    "    \n",
    "    string = list(string)\n",
    "    \n",
    "    string =  ''.join(string).strip()\n",
    "    string = string.split(' ')\n",
    "   \n",
    "    for i,valor in enumerate(string):\n",
    "        if valor =='de' or valor == 'BRT':\n",
    "            string.pop(i)     \n",
    "        if i == 2:\n",
    "            \n",
    "            for chave in meses.keys():\n",
    "                if meses[chave] == string[1].lower():\n",
    "                    string[1] = chave\n",
    "    string.insert(1,'/')\n",
    "    string.insert(3,'/')\n",
    "    string = ' '.join(str(v) for v in string) \n",
    "    return string\n",
    "\n"
   ]
  },
  {
   "cell_type": "code",
   "execution_count": null,
   "id": "7bc276db",
   "metadata": {},
   "outputs": [],
   "source": []
  },
  {
   "cell_type": "code",
   "execution_count": null,
   "id": "96db3825",
   "metadata": {},
   "outputs": [],
   "source": []
  },
  {
   "cell_type": "code",
   "execution_count": null,
   "id": "ce1960c8",
   "metadata": {},
   "outputs": [],
   "source": [
    "#Aplica funcao para aumentar letra do mes\n",
    "visualizao_youtube['data_visualizacao'] = visualizao_youtube['data_visualizacao'].apply(limpa_date)"
   ]
  },
  {
   "cell_type": "code",
   "execution_count": null,
   "id": "da54141b",
   "metadata": {},
   "outputs": [],
   "source": [
    "visualizao_youtube.head()"
   ]
  },
  {
   "cell_type": "code",
   "execution_count": null,
   "id": "2d5c64db",
   "metadata": {},
   "outputs": [],
   "source": []
  },
  {
   "cell_type": "code",
   "execution_count": null,
   "id": "46709048",
   "metadata": {},
   "outputs": [],
   "source": [
    "visualizao_youtube['data_visualizacao'] = pd.to_datetime(visualizao_youtube['data_visualizacao'],format  = '%d / %m / %Y %H:%M:%S')"
   ]
  },
  {
   "cell_type": "code",
   "execution_count": null,
   "id": "36a00733",
   "metadata": {},
   "outputs": [],
   "source": [
    "visualizao_youtube.head()"
   ]
  },
  {
   "cell_type": "code",
   "execution_count": null,
   "id": "2d184372",
   "metadata": {},
   "outputs": [],
   "source": []
  },
  {
   "cell_type": "code",
   "execution_count": null,
   "id": "0ff95230",
   "metadata": {},
   "outputs": [],
   "source": [
    "#Excluir valores nulos de registro\n",
    "#de visualização, pois eles são na maioria videos ou \n",
    "#canais que foi removido ou é privado,não conta para mim, pois não mostra nome video e nome do canal.\n",
    "youtube_dado_limpo = visualizao_youtube.dropna()"
   ]
  },
  {
   "cell_type": "code",
   "execution_count": null,
   "id": "9a7eca18",
   "metadata": {},
   "outputs": [],
   "source": [
    "\n"
   ]
  },
  {
   "cell_type": "code",
   "execution_count": null,
   "id": "adc21183",
   "metadata": {},
   "outputs": [],
   "source": [
    "youtube_dado_limpo.head()"
   ]
  },
  {
   "cell_type": "code",
   "execution_count": null,
   "id": "d2563116",
   "metadata": {},
   "outputs": [],
   "source": [
    "#salavando dados como csv para usar no tableau\n",
    "youtube_dado_limpo.to_csv('/home/mateus/Downloads/youtube/visualizacao.csv',index = False)\n"
   ]
  },
  {
   "cell_type": "markdown",
   "id": "d1e36d22",
   "metadata": {},
   "source": [
    "#### ***Dados de Busca no you tube***"
   ]
  },
  {
   "cell_type": "markdown",
   "id": "75bbe800",
   "metadata": {},
   "source": [
    "##### Objetivo\n",
    "* Coletar **informações** do registro de busca do arquivo do you tube\n",
    "\n"
   ]
  },
  {
   "cell_type": "code",
   "execution_count": null,
   "id": "f5b1ffd9",
   "metadata": {},
   "outputs": [],
   "source": [
    "local_html = '/home/mateus/Downloads/youtube/histórico/histórico de pesquisa.html'"
   ]
  },
  {
   "cell_type": "code",
   "execution_count": null,
   "id": "b74564fd",
   "metadata": {},
   "outputs": [],
   "source": [
    "#Dicionario para guardar dados do arquivo html referente a data e busca\n",
    "dict_seacher = {\n",
    "               'searhed_for':[],\n",
    "                'date':[]\n",
    "}"
   ]
  },
  {
   "cell_type": "code",
   "execution_count": null,
   "id": "2100785e",
   "metadata": {},
   "outputs": [],
   "source": [
    "#Escopo para criar objeto soup , ou sejam objeto criado pela biblioteca BeautifulSoup para trabalhar com  html\n",
    "nome_div = \"content-cell mdl-cell mdl-cell--6-col mdl-typography--body-1\"#Nome da div que quero busca para pegar meus dados\n",
    "soup = cria_objeto_soup(local_html) #Cria objeto\n",
    "divs = coleta_divs(nome_div,soup)#Função para buscar dado que compõe a div"
   ]
  },
  {
   "cell_type": "code",
   "execution_count": null,
   "id": "857ca55c",
   "metadata": {},
   "outputs": [],
   "source": []
  },
  {
   "cell_type": "code",
   "execution_count": null,
   "id": "592911f6",
   "metadata": {},
   "outputs": [],
   "source": [
    "#Extração e add de dados no dicionario conforme a regra de negocio implentada\n",
    "for dado in divs:\n",
    "\n",
    "   \n",
    "    texto = dado.text\n",
    "    tm_texto = len(texto)\n",
    "    sub = tm_texto-31\n",
    "    texto_date_busca = texto[13:tm_texto]\n",
    "    tm_texto_2 = len(texto_date_busca)\n",
    "   \n",
    " \n",
    "    \n",
    "    try: \n",
    "       dict_seacher['searhed_for'].append(texto_date_busca[0:sub] )\n",
    "    except:\n",
    "        dict_seacher['searhed_for'].append(np.NaN)\n",
    "    \n",
    "    try: \n",
    "       dict_seacher['date'].append(texto[sub:tm_texto:])\n",
    "    except:\n",
    "       dict_seacher['date'].append(np.NaN) \n",
    "    \n",
    "    "
   ]
  },
  {
   "cell_type": "code",
   "execution_count": null,
   "id": "6c40ba9f",
   "metadata": {},
   "outputs": [],
   "source": [
    "#Geração do dataframe com base no dicionario criado anteriomente\n",
    "searche = pd.DataFrame(dict_seacher)\n",
    "searche.head(10)"
   ]
  },
  {
   "cell_type": "code",
   "execution_count": null,
   "id": "32514c94",
   "metadata": {},
   "outputs": [],
   "source": [
    "#Função para retirar dados sujos provido da extração da coluna searcher\n",
    "def retira_data_searche(x):\n",
    "    dig =[str(i) for i in range(10)]\n",
    "    x = list(x)\n",
    "    busca = []\n",
    "    for i,letra in enumerate(x):\n",
    "        if letra in dig      :\n",
    "           break\n",
    "        else:\n",
    "           busca.append(letra) \n",
    "    return ''.join(busca)\n",
    "    \n",
    "     "
   ]
  },
  {
   "cell_type": "code",
   "execution_count": null,
   "id": "7de61bf1",
   "metadata": {},
   "outputs": [],
   "source": [
    "#Função para retirar numeros que vem antes da data e hora do registro\n",
    "def remove_primeiro_digito(x):\n",
    "    lista = list(x)\n",
    " \n",
    "    for i,letra  in enumerate(lista):\n",
    "        if lista[0].isalpha():\n",
    "            lista.pop(0)\n",
    "          \n",
    "        else:\n",
    "            if (str(lista[0]) in ['3','4','5','6','7','8','9']):\n",
    "                    if (lista[1] =='/') or (lista[1] == ' '):\n",
    "                           return ''.join(lista)\n",
    "                    else:\n",
    "                           try:\n",
    "                                num1 = int(lista[0])\n",
    "                                num2 = int(lista[1])\n",
    "                                if (sum([num1,num2]) > 4):\n",
    "                                    lista.pop(0)\n",
    "                           except:     \n",
    "                                return ''.join(lista)   \n",
    "        return ''.join(lista)                           \n",
    "                   \n",
    "     "
   ]
  },
  {
   "cell_type": "code",
   "execution_count": null,
   "id": "8687a6d1",
   "metadata": {},
   "outputs": [],
   "source": [
    "  "
   ]
  },
  {
   "cell_type": "code",
   "execution_count": null,
   "id": "7b116aac",
   "metadata": {},
   "outputs": [],
   "source": [
    "searche.info()"
   ]
  },
  {
   "cell_type": "code",
   "execution_count": null,
   "id": "c3445352",
   "metadata": {},
   "outputs": [],
   "source": [
    "#Como a forma que trouxe o dado da extração sempre iria vim com uma letra junta com data ou virsr versa,\n",
    "#Percebi que se eu usar uma função para verificar se o primeiro digito e uma letra, removo essa letra ele\n",
    "searche['date'].tail(20)"
   ]
  },
  {
   "cell_type": "code",
   "execution_count": null,
   "id": "eed3841f",
   "metadata": {},
   "outputs": [],
   "source": [
    "#aplicando a função a cada registro para limpeza da datatime que vem com string na sua primeiras posições\n",
    "searche['date'] = searche['date'].apply(remove_primeiro_digito)"
   ]
  },
  {
   "cell_type": "code",
   "execution_count": null,
   "id": "1b87a7ec",
   "metadata": {},
   "outputs": [],
   "source": [
    "searche.tail()"
   ]
  },
  {
   "cell_type": "code",
   "execution_count": null,
   "id": "cf587758",
   "metadata": {},
   "outputs": [],
   "source": [
    "#aplicando a função a cada registro para limpeza da datetime para retirar string e aplicar numero para mes\n",
    "\n",
    "searche['date'] = searche['date'].apply(limpa_date)\n"
   ]
  },
  {
   "cell_type": "code",
   "execution_count": null,
   "id": "5bf34ff2",
   "metadata": {},
   "outputs": [],
   "source": [
    "#Fazendo conversão para datetime pandas commetod to_datetime\n",
    "searche['date'] = pd.to_datetime(searche['date'],format  = '%d / %m / %Y %H:%M:%S')"
   ]
  },
  {
   "cell_type": "code",
   "execution_count": null,
   "id": "54a39325",
   "metadata": {},
   "outputs": [],
   "source": [
    "#Visualizando\n",
    "searche.head()"
   ]
  },
  {
   "cell_type": "code",
   "execution_count": null,
   "id": "69728c44",
   "metadata": {},
   "outputs": [],
   "source": [
    "searche.info()"
   ]
  },
  {
   "cell_type": "code",
   "execution_count": null,
   "id": "ad9bfb41",
   "metadata": {},
   "outputs": [],
   "source": [
    "#Vamos limpar a consulta e deixar apenas palavras chaves\n",
    "searche['searhed_for'] = searche['searhed_for'].apply(retira_data_searche)\n"
   ]
  },
  {
   "cell_type": "code",
   "execution_count": null,
   "id": "c879015a",
   "metadata": {},
   "outputs": [],
   "source": [
    "searche.info()"
   ]
  },
  {
   "cell_type": "code",
   "execution_count": null,
   "id": "34d1efc6",
   "metadata": {},
   "outputs": [],
   "source": [
    "searche.head()"
   ]
  },
  {
   "cell_type": "code",
   "execution_count": null,
   "id": "ececb51d",
   "metadata": {},
   "outputs": [],
   "source": []
  },
  {
   "cell_type": "code",
   "execution_count": null,
   "id": "69d824ac",
   "metadata": {},
   "outputs": [],
   "source": [
    "       \n",
    "        "
   ]
  },
  {
   "cell_type": "code",
   "execution_count": null,
   "id": "c6147669",
   "metadata": {},
   "outputs": [],
   "source": []
  },
  {
   "cell_type": "code",
   "execution_count": null,
   "id": "d96a463f",
   "metadata": {},
   "outputs": [],
   "source": []
  },
  {
   "cell_type": "code",
   "execution_count": null,
   "id": "aa6b9d41",
   "metadata": {},
   "outputs": [],
   "source": [
    "#salavando dados como csv para usar no tableau\n",
    "searche.to_csv('/home/mateus/Downloads/youtube/searche.csv',index = False)"
   ]
  },
  {
   "cell_type": "code",
   "execution_count": null,
   "id": "0e34436c",
   "metadata": {},
   "outputs": [],
   "source": [
    "stylecloud.gen_stylecloud(file_path='constitution.txt',\n",
    "                          icon_name='fas fa-dog',\n",
    "                          palette='colorbrewer.diverging.Spectral_11',\n",
    "                          background_color='green',\n",
    "                          gradient='horizontal')"
   ]
  }
 ],
 "metadata": {
  "interpreter": {
   "hash": "cf3f271fe67d784bbf85f4ffd9a2a655e5d080e1c1fc4d081ba9aa5ddf323350"
  },
  "kernelspec": {
   "display_name": ".venv",
   "language": "python",
   "name": ".venv"
  },
  "language_info": {
   "codemirror_mode": {
    "name": "ipython",
    "version": 3
   },
   "file_extension": ".py",
   "mimetype": "text/x-python",
   "name": "python",
   "nbconvert_exporter": "python",
   "pygments_lexer": "ipython3",
   "version": "3.8.10"
  }
 },
 "nbformat": 4,
 "nbformat_minor": 5
}
