{
 "cells": [
  {
   "cell_type": "markdown",
   "id": "b582d55d",
   "metadata": {},
   "source": [
    "### Extraindo Dados do app de delivery **ifood**\n"
   ]
  },
  {
   "cell_type": "markdown",
   "id": "2bef9b81",
   "metadata": {},
   "source": [
    "___Bibliotecas:___"
   ]
  },
  {
   "cell_type": "code",
   "execution_count": 4,
   "id": "6f032eed",
   "metadata": {},
   "outputs": [],
   "source": [
    "import pandas as pd\n"
   ]
  },
  {
   "cell_type": "code",
   "execution_count": 5,
   "id": "49b307e0",
   "metadata": {},
   "outputs": [],
   "source": [
    "#Endereço do  arquivo em minha maquina do registro de pedidos\n",
    "arquivo_pedido = '/home/mateus/Área de Trabalho/Projeto-Final/Data_Mateus/ifood_data/pedidos..csv'"
   ]
  },
  {
   "cell_type": "code",
   "execution_count": 6,
   "id": "cabd43a9",
   "metadata": {},
   "outputs": [],
   "source": [
    "arquivo_endereco = '/home/mateus/Área de Trabalho/Projeto-Final/Data_Mateus/ifood_data/enderecos..csv'"
   ]
  },
  {
   "cell_type": "code",
   "execution_count": 7,
   "id": "b14d28a9",
   "metadata": {},
   "outputs": [],
   "source": [
    "#Leitura aquivo com pandas do csv de pedidos\n",
    "df_pedido = pd.read_csv(arquivo_pedido)"
   ]
  },
  {
   "cell_type": "code",
   "execution_count": 8,
   "id": "5d9431f0",
   "metadata": {},
   "outputs": [
    {
     "data": {
      "text/html": [
       "<div>\n",
       "<style scoped>\n",
       "    .dataframe tbody tr th:only-of-type {\n",
       "        vertical-align: middle;\n",
       "    }\n",
       "\n",
       "    .dataframe tbody tr th {\n",
       "        vertical-align: top;\n",
       "    }\n",
       "\n",
       "    .dataframe thead th {\n",
       "        text-align: right;\n",
       "    }\n",
       "</style>\n",
       "<table border=\"1\" class=\"dataframe\">\n",
       "  <thead>\n",
       "    <tr style=\"text-align: right;\">\n",
       "      <th></th>\n",
       "      <th>id_usuario</th>\n",
       "      <th>id_pedido</th>\n",
       "      <th>restaurante</th>\n",
       "      <th>valor</th>\n",
       "      <th>status</th>\n",
       "      <th>data_registro</th>\n",
       "      <th>data_pedido</th>\n",
       "    </tr>\n",
       "  </thead>\n",
       "  <tbody>\n",
       "    <tr>\n",
       "      <th>0</th>\n",
       "      <td>d31939e4-d35f-4e90-a4b7-253ffbfee921</td>\n",
       "      <td>2828928286</td>\n",
       "      <td>Subway Rio Comprido</td>\n",
       "      <td>23.0</td>\n",
       "      <td>CONCLUDED</td>\n",
       "      <td>2018-06-24</td>\n",
       "      <td>2021-01-28</td>\n",
       "    </tr>\n",
       "  </tbody>\n",
       "</table>\n",
       "</div>"
      ],
      "text/plain": [
       "                             id_usuario   id_pedido          restaurante  \\\n",
       "0  d31939e4-d35f-4e90-a4b7-253ffbfee921  2828928286  Subway Rio Comprido   \n",
       "\n",
       "   valor     status data_registro data_pedido  \n",
       "0   23.0  CONCLUDED    2018-06-24  2021-01-28  "
      ]
     },
     "execution_count": 8,
     "metadata": {},
     "output_type": "execute_result"
    }
   ],
   "source": [
    "#Analisando df ,se á algo para tratar de dado errados\n",
    "df_pedido.head()"
   ]
  },
  {
   "cell_type": "code",
   "execution_count": 9,
   "id": "c63a698c",
   "metadata": {},
   "outputs": [],
   "source": [
    "df_endereco = pd.read_csv(arquivo_endereco)"
   ]
  },
  {
   "cell_type": "code",
   "execution_count": 11,
   "id": "2f3858ba",
   "metadata": {},
   "outputs": [
    {
     "data": {
      "text/html": [
       "<div>\n",
       "<style scoped>\n",
       "    .dataframe tbody tr th:only-of-type {\n",
       "        vertical-align: middle;\n",
       "    }\n",
       "\n",
       "    .dataframe tbody tr th {\n",
       "        vertical-align: top;\n",
       "    }\n",
       "\n",
       "    .dataframe thead th {\n",
       "        text-align: right;\n",
       "    }\n",
       "</style>\n",
       "<table border=\"1\" class=\"dataframe\">\n",
       "  <thead>\n",
       "    <tr style=\"text-align: right;\">\n",
       "      <th></th>\n",
       "      <th>id_usuario</th>\n",
       "      <th>tipo</th>\n",
       "      <th>logradouro</th>\n",
       "      <th>numero</th>\n",
       "      <th>complemento</th>\n",
       "      <th>bairro</th>\n",
       "      <th>cidade</th>\n",
       "      <th>estado</th>\n",
       "      <th>pais</th>\n",
       "      <th>data_registro</th>\n",
       "    </tr>\n",
       "  </thead>\n",
       "  <tbody>\n",
       "    <tr>\n",
       "      <th>0</th>\n",
       "      <td>d31939e4-d35f-4e90-a4b7-253ffbfee921</td>\n",
       "      <td>NaN</td>\n",
       "      <td>R SAO ROBERTO</td>\n",
       "      <td>229</td>\n",
       "      <td>CASA 16</td>\n",
       "      <td>ESTACIO</td>\n",
       "      <td>RIO DE JANEIRO</td>\n",
       "      <td>RJ</td>\n",
       "      <td>BR</td>\n",
       "      <td>2018-06-24</td>\n",
       "    </tr>\n",
       "    <tr>\n",
       "      <th>1</th>\n",
       "      <td>d31939e4-d35f-4e90-a4b7-253ffbfee921</td>\n",
       "      <td>Casa</td>\n",
       "      <td>R. FREI CANECA</td>\n",
       "      <td>376</td>\n",
       "      <td>NaN</td>\n",
       "      <td>ESTÁCIO</td>\n",
       "      <td>RIO DE JANEIRO</td>\n",
       "      <td>RJ</td>\n",
       "      <td>BR</td>\n",
       "      <td>2021-01-28</td>\n",
       "    </tr>\n",
       "    <tr>\n",
       "      <th>2</th>\n",
       "      <td>d31939e4-d35f-4e90-a4b7-253ffbfee921</td>\n",
       "      <td>NaN</td>\n",
       "      <td>R. PROF. LAVAQUIEL BIOSQUE</td>\n",
       "      <td>8</td>\n",
       "      <td>CASA C</td>\n",
       "      <td>ESTÁCIO</td>\n",
       "      <td>RIO DE JANEIRO</td>\n",
       "      <td>RJ</td>\n",
       "      <td>BR</td>\n",
       "      <td>2020-03-11</td>\n",
       "    </tr>\n",
       "    <tr>\n",
       "      <th>3</th>\n",
       "      <td>d31939e4-d35f-4e90-a4b7-253ffbfee921</td>\n",
       "      <td>NaN</td>\n",
       "      <td>RUA LAURO MÜLLER</td>\n",
       "      <td>116</td>\n",
       "      <td>NaN</td>\n",
       "      <td>BOTAFOGO</td>\n",
       "      <td>RIO DE JANEIRO</td>\n",
       "      <td>RJ</td>\n",
       "      <td>BR</td>\n",
       "      <td>2020-03-18</td>\n",
       "    </tr>\n",
       "    <tr>\n",
       "      <th>4</th>\n",
       "      <td>d31939e4-d35f-4e90-a4b7-253ffbfee921</td>\n",
       "      <td>NaN</td>\n",
       "      <td>R. PROF. LAVAQUIEL BIOSQUE</td>\n",
       "      <td>8</td>\n",
       "      <td>CASA C</td>\n",
       "      <td>ESTÁCIO</td>\n",
       "      <td>RIO DE JANEIRO</td>\n",
       "      <td>RJ</td>\n",
       "      <td>BR</td>\n",
       "      <td>2019-06-03</td>\n",
       "    </tr>\n",
       "  </tbody>\n",
       "</table>\n",
       "</div>"
      ],
      "text/plain": [
       "                             id_usuario  tipo                  logradouro  \\\n",
       "0  d31939e4-d35f-4e90-a4b7-253ffbfee921   NaN               R SAO ROBERTO   \n",
       "1  d31939e4-d35f-4e90-a4b7-253ffbfee921  Casa              R. FREI CANECA   \n",
       "2  d31939e4-d35f-4e90-a4b7-253ffbfee921   NaN  R. PROF. LAVAQUIEL BIOSQUE   \n",
       "3  d31939e4-d35f-4e90-a4b7-253ffbfee921   NaN            RUA LAURO MÜLLER   \n",
       "4  d31939e4-d35f-4e90-a4b7-253ffbfee921   NaN  R. PROF. LAVAQUIEL BIOSQUE   \n",
       "\n",
       "   numero complemento    bairro          cidade estado pais data_registro  \n",
       "0     229     CASA 16   ESTACIO  RIO DE JANEIRO     RJ   BR    2018-06-24  \n",
       "1     376         NaN   ESTÁCIO  RIO DE JANEIRO     RJ   BR    2021-01-28  \n",
       "2       8      CASA C   ESTÁCIO  RIO DE JANEIRO     RJ   BR    2020-03-11  \n",
       "3     116         NaN  BOTAFOGO  RIO DE JANEIRO     RJ   BR    2020-03-18  \n",
       "4       8      CASA C   ESTÁCIO  RIO DE JANEIRO     RJ   BR    2019-06-03  "
      ]
     },
     "execution_count": 11,
     "metadata": {},
     "output_type": "execute_result"
    }
   ],
   "source": [
    "df_endereco.head()"
   ]
  }
 ],
 "metadata": {
  "kernelspec": {
   "display_name": ".venv",
   "language": "python",
   "name": ".venv"
  },
  "language_info": {
   "codemirror_mode": {
    "name": "ipython",
    "version": 3
   },
   "file_extension": ".py",
   "mimetype": "text/x-python",
   "name": "python",
   "nbconvert_exporter": "python",
   "pygments_lexer": "ipython3",
   "version": "3.8.10"
  }
 },
 "nbformat": 4,
 "nbformat_minor": 5
}
