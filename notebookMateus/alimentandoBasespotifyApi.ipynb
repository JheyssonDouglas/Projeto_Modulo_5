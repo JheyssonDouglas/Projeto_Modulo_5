{
 "cells": [
  {
   "cell_type": "markdown",
   "metadata": {
    "id": "xm3m_zMJ2tnB"
   },
   "source": [
    "### Consumindo api spotify\n",
    "* Isntalando api spotify"
   ]
  },
  {
   "cell_type": "markdown",
   "metadata": {
    "id": "Xz_-CAjy1g04"
   },
   "source": [
    "**Extraindo base de dados para analise exploratoria** \n",
    "  * Spotify"
   ]
  },
  {
   "cell_type": "code",
   "execution_count": null,
   "metadata": {
    "colab": {
     "background_save": true
    },
    "id": "QQDlrWQcHDbU",
    "scrolled": false
   },
   "outputs": [],
   "source": [
    "pip install requests"
   ]
  },
  {
   "cell_type": "code",
   "execution_count": 2,
   "metadata": {},
   "outputs": [
    {
     "name": "stdout",
     "output_type": "stream",
     "text": [
      "Collecting pandas\n",
      "  Downloading pandas-1.3.0-cp38-cp38-manylinux_2_5_x86_64.manylinux1_x86_64.whl (10.6 MB)\n",
      "\u001b[K     |████████████████████████████████| 10.6 MB 1.9 MB/s eta 0:00:01     |███████████████████████████████▍| 10.4 MB 1.9 MB/s eta 0:00:01\n",
      "\u001b[?25hCollecting pytz>=2017.3\n",
      "  Using cached pytz-2021.1-py2.py3-none-any.whl (510 kB)\n",
      "Requirement already satisfied: python-dateutil>=2.7.3 in /home/mateus/.local/lib/python3.8/site-packages (from pandas) (2.8.1)\n",
      "Collecting numpy>=1.17.3\n",
      "  Downloading numpy-1.21.1-cp38-cp38-manylinux_2_12_x86_64.manylinux2010_x86_64.whl (15.8 MB)\n",
      "\u001b[K     |████████████████████████████████| 15.8 MB 1.1 MB/s eta 0:00:01     |██████████████████████▉         | 11.3 MB 1.9 MB/s eta 0:00:03\n",
      "\u001b[?25hRequirement already satisfied: six>=1.5 in /usr/lib/python3/dist-packages (from python-dateutil>=2.7.3->pandas) (1.14.0)\n",
      "Installing collected packages: pytz, numpy, pandas\n",
      "Successfully installed numpy-1.21.1 pandas-1.3.0 pytz-2021.1\n",
      "Note: you may need to restart the kernel to use updated packages.\n"
     ]
    }
   ],
   "source": [
    "pip install pandas"
   ]
  },
  {
   "cell_type": "code",
   "execution_count": null,
   "metadata": {},
   "outputs": [],
   "source": []
  },
  {
   "cell_type": "code",
   "execution_count": null,
   "metadata": {
    "colab": {
     "background_save": true
    },
    "id": "vVbOX3kG1van"
   },
   "outputs": [
    {
     "name": "stdout",
     "output_type": "stream",
     "text": [
      "Requirement already satisfied: spotipy in /usr/local/lib/python3.7/dist-packages (2.18.0)\n",
      "Requirement already satisfied: six>=1.15.0 in /usr/local/lib/python3.7/dist-packages (from spotipy) (1.15.0)\n",
      "Requirement already satisfied: urllib3>=1.26.0 in /usr/local/lib/python3.7/dist-packages (from spotipy) (1.26.6)\n",
      "Requirement already satisfied: requests>=2.25.0 in /usr/local/lib/python3.7/dist-packages (from spotipy) (2.26.0)\n",
      "Requirement already satisfied: idna<4,>=2.5 in /usr/local/lib/python3.7/dist-packages (from requests>=2.25.0->spotipy) (2.10)\n",
      "Requirement already satisfied: certifi>=2017.4.17 in /usr/local/lib/python3.7/dist-packages (from requests>=2.25.0->spotipy) (2021.5.30)\n",
      "Requirement already satisfied: charset-normalizer~=2.0.0 in /usr/local/lib/python3.7/dist-packages (from requests>=2.25.0->spotipy) (2.0.2)\n"
     ]
    }
   ],
   "source": [
    "pip install spotipy"
   ]
  },
  {
   "cell_type": "code",
   "execution_count": 1,
   "metadata": {
    "colab": {
     "background_save": true
    },
    "id": "JCFVIbIcfpJc"
   },
   "outputs": [
    {
     "ename": "ModuleNotFoundError",
     "evalue": "No module named 'pandas'",
     "output_type": "error",
     "traceback": [
      "\u001b[0;31m---------------------------------------------------------------------------\u001b[0m",
      "\u001b[0;31mModuleNotFoundError\u001b[0m                       Traceback (most recent call last)",
      "\u001b[0;32m<ipython-input-1-3d1be49eceb6>\u001b[0m in \u001b[0;36m<module>\u001b[0;34m\u001b[0m\n\u001b[0;32m----> 1\u001b[0;31m \u001b[0;32mimport\u001b[0m \u001b[0mpandas\u001b[0m \u001b[0;32mas\u001b[0m \u001b[0mpd\u001b[0m\u001b[0;34m\u001b[0m\u001b[0;34m\u001b[0m\u001b[0m\n\u001b[0m\u001b[1;32m      2\u001b[0m \u001b[0;32mimport\u001b[0m \u001b[0mseaborn\u001b[0m \u001b[0;32mas\u001b[0m \u001b[0msns\u001b[0m\u001b[0;34m\u001b[0m\u001b[0;34m\u001b[0m\u001b[0m\n\u001b[1;32m      3\u001b[0m \u001b[0;32mimport\u001b[0m \u001b[0mmatplotlib\u001b[0m\u001b[0;34m.\u001b[0m\u001b[0mpyplot\u001b[0m \u001b[0;32mas\u001b[0m \u001b[0mplt\u001b[0m\u001b[0;34m\u001b[0m\u001b[0;34m\u001b[0m\u001b[0m\n\u001b[1;32m      4\u001b[0m \u001b[0;32mimport\u001b[0m \u001b[0mjson\u001b[0m\u001b[0;34m\u001b[0m\u001b[0;34m\u001b[0m\u001b[0m\n\u001b[1;32m      5\u001b[0m \u001b[0;32mimport\u001b[0m \u001b[0mnumpy\u001b[0m \u001b[0;32mas\u001b[0m \u001b[0mnp\u001b[0m\u001b[0;34m\u001b[0m\u001b[0;34m\u001b[0m\u001b[0m\n",
      "\u001b[0;31mModuleNotFoundError\u001b[0m: No module named 'pandas'"
     ]
    }
   ],
   "source": [
    "import pandas as pd\n",
    "import seaborn as sns\n",
    "import matplotlib.pyplot as plt\n",
    "import json\n",
    "import numpy as np\n",
    "import spotipy\n",
    "from spotipy.oauth2 import SpotifyClientCredentials\n",
    "import sys\n",
    "from requests import get\n",
    "import time"
   ]
  },
  {
   "cell_type": "code",
   "execution_count": null,
   "metadata": {
    "colab": {
     "background_save": true
    },
    "id": "whq5br2r3Z1u"
   },
   "outputs": [],
   "source": [
    "#Autenticação api\n",
    "cid =\"75b0d6f3334a4b689620eda9f917844a\" \n",
    "secret = \"ca50b30849d24b5d88508296ee9e6d98\" \n",
    "client_credentials_manager = SpotifyClientCredentials(client_id=cid, \n",
    "client_secret=secret) \n",
    "\n",
    "sp = spotipy.Spotify(client_credentials_manager=client_credentials_manager) \n",
    "sp.trace=False"
   ]
  },
  {
   "cell_type": "markdown",
   "metadata": {
    "id": "PWFob5Y5qDua"
   },
   "source": [
    "___Funções___"
   ]
  },
  {
   "cell_type": "code",
   "execution_count": null,
   "metadata": {
    "colab": {
     "background_save": true
    },
    "id": "jVoBC3binQCK"
   },
   "outputs": [],
   "source": [
    "def get_album_data(album_id):\n",
    "    time.sleep(5)\n",
    "    try: \n",
    "       data = sp.album(album_id)\n",
    "       return data\n",
    "    except:\n",
    "       return f\"no_data_album_found\"    "
   ]
  },
  {
   "cell_type": "code",
   "execution_count": null,
   "metadata": {
    "colab": {
     "background_save": true
    },
    "id": "i4Lk41ZOvyTy"
   },
   "outputs": [],
   "source": [
    "def get_album_data_artista(album_id):\n",
    "    time.sleep(5)\n",
    "    try:\n",
    "      data = sp.album(album_id)\n",
    "      return data['artists']\n",
    "    except:\n",
    "      return f'no found artist id'  "
   ]
  },
  {
   "cell_type": "code",
   "execution_count": null,
   "metadata": {
    "colab": {
     "background_save": true
    },
    "id": "lOUviw-0q4DW"
   },
   "outputs": [],
   "source": [
    "def  get_uri(artista_data):\n",
    "    time.sleep(5)\n",
    "    try:\n",
    "       return artista_data[0]['uri']\n",
    "    except:\n",
    "       return f'no found uri artist'  "
   ]
  },
  {
   "cell_type": "code",
   "execution_count": null,
   "metadata": {
    "colab": {
     "background_save": true
    },
    "id": "OUF5ZSCipQsp"
   },
   "outputs": [],
   "source": [
    "def get_artist(artista_id):\n",
    "  time.sleep(5)\n",
    "  try:\n",
    "    resultado = sp.artist(artista_id)\n",
    "    return resultado\n",
    "  except:\n",
    "    return f'no found data artist'"
   ]
  },
  {
   "cell_type": "code",
   "execution_count": null,
   "metadata": {
    "colab": {
     "background_save": true
    },
    "id": "ZaumqGj9q2oA"
   },
   "outputs": [],
   "source": [
    "def get_album_imagem(album_dados):\n",
    "   time.sleep(5)\n",
    "   try:\n",
    "       img = album_dados['images'][1]['url']\n",
    "       return img\n",
    "   except:\n",
    "       return f'no found img album'  "
   ]
  },
  {
   "cell_type": "code",
   "execution_count": null,
   "metadata": {
    "colab": {
     "background_save": true
    },
    "id": "8YjPKW21EHEc"
   },
   "outputs": [],
   "source": [
    "def get_url_img(artista_data):\n",
    "    time.sleep(5)\n",
    "    try:\n",
    "      url = artista_data['images'][1]['url']\n",
    "      return url\n",
    "    except:\n",
    "      return f'no found img url artist'\n"
   ]
  },
  {
   "cell_type": "code",
   "execution_count": null,
   "metadata": {
    "colab": {
     "background_save": true
    },
    "id": "mbzJQH0hNGwo"
   },
   "outputs": [],
   "source": [
    "def get_artist_genres(artista_data):\n",
    "    time.sleep(5)\n",
    "    try:\n",
    "      genre = artista_data['genres'] \n",
    "      return genre\n",
    "    except:\n",
    "      return f'no found genres artist'  "
   ]
  },
  {
   "cell_type": "code",
   "execution_count": null,
   "metadata": {
    "colab": {
     "background_save": true
    },
    "id": "T0BLLpcRaHEf"
   },
   "outputs": [],
   "source": [
    "def aplica_genero_album(x):\n",
    "  \n",
    "  try:\n",
    "      dados_album = get_album_data(x)\n",
    "      time.sleep(3)\n",
    "      dados_artista_album = get_album_data_artista(x)\n",
    "      time.sleep(5)\n",
    "      uri_artista = get_uri(dados_artista_album)\n",
    "      dado_artista = get_artist(uri_artista)\n",
    "      time.sleep(5)\n",
    "      genero_artista = get_artist_genres(dado_artista)\n",
    "      return genero_artista \n",
    "  except:\n",
    "      return f'no aplly genero'   "
   ]
  },
  {
   "cell_type": "code",
   "execution_count": null,
   "metadata": {
    "colab": {
     "background_save": true
    },
    "id": "7M8qI-v6gXtF"
   },
   "outputs": [],
   "source": [
    "def get_id_artista(nome):\n",
    "  time.sleep(5)\n",
    "  resul = sp.search(q=nome,type = 'artist')\n",
    "  try:\n",
    "      items = resul['artists']['items']\n",
    "      nome_busca = items[0]['name']\n",
    "      if len(items) > 0:\n",
    "        if nome == nome_busca:\n",
    "          return items[0]['id']\n",
    "      else:\n",
    "        return None \n",
    "  except:\n",
    "      return f'no found id artist'         \n"
   ]
  },
  {
   "cell_type": "code",
   "execution_count": null,
   "metadata": {
    "colab": {
     "background_save": true
    },
    "id": "Rnf2L24qqlJn"
   },
   "outputs": [],
   "source": [
    "def aplica_img_album(x):\n",
    "  time.sleep(5)\n",
    "  try:\n",
    "      dados_album = get_album_data(x)\n",
    "      url_img = get_album_imagem(dados_album)\n",
    "      return url_img\n",
    "  except:\n",
    "      return f'no img album'  "
   ]
  },
  {
   "cell_type": "code",
   "execution_count": null,
   "metadata": {
    "colab": {
     "background_save": true
    },
    "id": "rGxjGi8ifEh6"
   },
   "outputs": [],
   "source": [
    "def aplica_genero_artist(nome):\n",
    "    time.sleep(5)\n",
    "    try:\n",
    "        none = nome.strip()\n",
    "        id_artista = get_id_artista(nome.strip())\n",
    "        time.sleep(10)\n",
    "        artita = get_artist(id_artista)\n",
    "        time.sleep(30)\n",
    "        genero = get_artist_genres(artita)\n",
    "        return genero\n",
    "    except:\n",
    "        return f'no found genres the artist'    \n"
   ]
  },
  {
   "cell_type": "markdown",
   "metadata": {
    "id": "gz93npnCw9L5"
   },
   "source": [
    "### Lendo arquivo csv streaming spotify"
   ]
  },
  {
   "cell_type": "code",
   "execution_count": null,
   "metadata": {
    "colab": {
     "background_save": true
    },
    "id": "n5aV_7JqqvS-"
   },
   "outputs": [],
   "source": [
    "path_file_csv = '/content/drive/MyDrive/Projeto-Final/Data_Mateus/spotify/in_csv/streamingspotify.csv'"
   ]
  },
  {
   "cell_type": "code",
   "execution_count": null,
   "metadata": {
    "colab": {
     "background_save": true
    },
    "id": "4si7IVnJxQwC"
   },
   "outputs": [],
   "source": [
    "#Leitura csv para dataframe\n",
    "dfStreaming = pd.read_csv(path_file_csv)"
   ]
  },
  {
   "cell_type": "code",
   "execution_count": null,
   "metadata": {
    "colab": {
     "background_save": true
    },
    "id": "diK1PpslxhPw"
   },
   "outputs": [
    {
     "data": {
      "text/html": [
       "<div>\n",
       "<style scoped>\n",
       "    .dataframe tbody tr th:only-of-type {\n",
       "        vertical-align: middle;\n",
       "    }\n",
       "\n",
       "    .dataframe tbody tr th {\n",
       "        vertical-align: top;\n",
       "    }\n",
       "\n",
       "    .dataframe thead th {\n",
       "        text-align: right;\n",
       "    }\n",
       "</style>\n",
       "<table border=\"1\" class=\"dataframe\">\n",
       "  <thead>\n",
       "    <tr style=\"text-align: right;\">\n",
       "      <th></th>\n",
       "      <th>endTime</th>\n",
       "      <th>artistName</th>\n",
       "      <th>trackName</th>\n",
       "      <th>msPlayed</th>\n",
       "      <th>endDate</th>\n",
       "      <th>endMonth</th>\n",
       "    </tr>\n",
       "  </thead>\n",
       "  <tbody>\n",
       "    <tr>\n",
       "      <th>0</th>\n",
       "      <td>04:57:00</td>\n",
       "      <td>Padre Fábio De Melo</td>\n",
       "      <td>Não Desisto</td>\n",
       "      <td>3.945083</td>\n",
       "      <td>2020-07-24</td>\n",
       "      <td>jul</td>\n",
       "    </tr>\n",
       "    <tr>\n",
       "      <th>1</th>\n",
       "      <td>05:01:00</td>\n",
       "      <td>Padre Fábio De Melo</td>\n",
       "      <td>Proteção</td>\n",
       "      <td>4.012883</td>\n",
       "      <td>2020-07-24</td>\n",
       "      <td>jul</td>\n",
       "    </tr>\n",
       "    <tr>\n",
       "      <th>2</th>\n",
       "      <td>05:06:00</td>\n",
       "      <td>Padre Fábio De Melo</td>\n",
       "      <td>Iluminar</td>\n",
       "      <td>4.876983</td>\n",
       "      <td>2020-07-24</td>\n",
       "      <td>jul</td>\n",
       "    </tr>\n",
       "    <tr>\n",
       "      <th>3</th>\n",
       "      <td>05:12:00</td>\n",
       "      <td>Guilherme Sá</td>\n",
       "      <td>Oração de São Francisco - Bonus Track</td>\n",
       "      <td>5.559333</td>\n",
       "      <td>2020-07-24</td>\n",
       "      <td>jul</td>\n",
       "    </tr>\n",
       "    <tr>\n",
       "      <th>4</th>\n",
       "      <td>05:15:00</td>\n",
       "      <td>Padre Fábio De Melo</td>\n",
       "      <td>Trem-Bala</td>\n",
       "      <td>3.405333</td>\n",
       "      <td>2020-07-24</td>\n",
       "      <td>jul</td>\n",
       "    </tr>\n",
       "  </tbody>\n",
       "</table>\n",
       "</div>"
      ],
      "text/plain": [
       "    endTime           artistName  ...     endDate  endMonth\n",
       "0  04:57:00  Padre Fábio De Melo  ...  2020-07-24       jul\n",
       "1  05:01:00  Padre Fábio De Melo  ...  2020-07-24       jul\n",
       "2  05:06:00  Padre Fábio De Melo  ...  2020-07-24       jul\n",
       "3  05:12:00         Guilherme Sá  ...  2020-07-24       jul\n",
       "4  05:15:00  Padre Fábio De Melo  ...  2020-07-24       jul\n",
       "\n",
       "[5 rows x 6 columns]"
      ]
     },
     "execution_count": null,
     "metadata": {},
     "output_type": "execute_result"
    }
   ],
   "source": [
    "dfStreaming.head()"
   ]
  },
  {
   "cell_type": "code",
   "execution_count": null,
   "metadata": {
    "id": "I44Zdufoxq_y"
   },
   "outputs": [],
   "source": [
    "dfStreaming['genres'] = dfStreaming['artistName'].apply(aplica_genero_artist)"
   ]
  },
  {
   "cell_type": "code",
   "execution_count": null,
   "metadata": {
    "id": "wFNZorHg4myP"
   },
   "outputs": [],
   "source": [
    "dfStreaming.to_csv('/content/drive/MyDrive/Projeto-Final/Data_Mateus/spotify/in_csv/streamingspotify.csv',index = False)"
   ]
  },
  {
   "cell_type": "markdown",
   "metadata": {
    "id": "Gts08-rWSv2T"
   },
   "source": [
    "**Lendo CSV para df dos albums MateusSpotify**"
   ]
  },
  {
   "cell_type": "code",
   "execution_count": null,
   "metadata": {
    "id": "cYi7wrLSSrVw"
   },
   "outputs": [],
   "source": [
    "path_file_csv = '/content/drive/MyDrive/Projeto-Final/Data_Mateus/spotify/in_csv/albumsSpotifyMateus.csv'"
   ]
  },
  {
   "cell_type": "code",
   "execution_count": null,
   "metadata": {
    "id": "mgVExgPPTHNu"
   },
   "outputs": [],
   "source": [
    "dfAlbumsSpotify = pd.read_csv(path_file_csv)"
   ]
  },
  {
   "cell_type": "code",
   "execution_count": null,
   "metadata": {
    "id": "cbTIYyRwTQAn"
   },
   "outputs": [],
   "source": [
    "dfAlbumsSpotify.head(30)"
   ]
  },
  {
   "cell_type": "code",
   "execution_count": null,
   "metadata": {
    "id": "6PprRC1WUYrd"
   },
   "outputs": [],
   "source": [
    "dfAlbumsSpotify.info()"
   ]
  },
  {
   "cell_type": "code",
   "execution_count": 25,
   "metadata": {
    "executionInfo": {
     "elapsed": 344014,
     "status": "ok",
     "timestamp": 1627103346214,
     "user": {
      "displayName": "Mateus Varelo",
      "photoUrl": "https://lh3.googleusercontent.com/a-/AOh14Gg73LYxIEbDHChnMebSrZ-v0SG3yQkkQ5nkmXD3x6k=s64",
      "userId": "15384696535292950454"
     },
     "user_tz": 180
    },
    "id": "IfeoAV6tTTRd"
   },
   "outputs": [],
   "source": [
    "#Aplicando genero a alguns albums pelo artista \n",
    "dfAlbumsSpotify['genre'] = dfAlbumsSpotify['uri'].apply(aplica_genero_album)"
   ]
  },
  {
   "cell_type": "code",
   "execution_count": 26,
   "metadata": {
    "colab": {
     "base_uri": "https://localhost:8080/",
     "height": 276
    },
    "executionInfo": {
     "elapsed": 28,
     "status": "ok",
     "timestamp": 1627103346217,
     "user": {
      "displayName": "Mateus Varelo",
      "photoUrl": "https://lh3.googleusercontent.com/a-/AOh14Gg73LYxIEbDHChnMebSrZ-v0SG3yQkkQ5nkmXD3x6k=s64",
      "userId": "15384696535292950454"
     },
     "user_tz": 180
    },
    "id": "Nmh5j-9qi6I-",
    "outputId": "1d67b89d-8998-403e-d3f2-935199869c58"
   },
   "outputs": [
    {
     "data": {
      "text/html": [
       "<div>\n",
       "<style scoped>\n",
       "    .dataframe tbody tr th:only-of-type {\n",
       "        vertical-align: middle;\n",
       "    }\n",
       "\n",
       "    .dataframe tbody tr th {\n",
       "        vertical-align: top;\n",
       "    }\n",
       "\n",
       "    .dataframe thead th {\n",
       "        text-align: right;\n",
       "    }\n",
       "</style>\n",
       "<table border=\"1\" class=\"dataframe\">\n",
       "  <thead>\n",
       "    <tr style=\"text-align: right;\">\n",
       "      <th></th>\n",
       "      <th>artist</th>\n",
       "      <th>album</th>\n",
       "      <th>uri</th>\n",
       "      <th>genre</th>\n",
       "    </tr>\n",
       "  </thead>\n",
       "  <tbody>\n",
       "    <tr>\n",
       "      <th>0</th>\n",
       "      <td>Ferrugem</td>\n",
       "      <td>Prazer, eu sou Ferrugem</td>\n",
       "      <td>spotify:album:3SkOXrdSri5EIpDpUvfdm3</td>\n",
       "      <td>[pagode]</td>\n",
       "    </tr>\n",
       "    <tr>\n",
       "      <th>1</th>\n",
       "      <td>MC Loma e As Gêmeas Lacração</td>\n",
       "      <td>Envolvimento</td>\n",
       "      <td>spotify:album:3GnrnufuuDBC8Kf6D5CyIi</td>\n",
       "      <td>[brega funk, funk carioca]</td>\n",
       "    </tr>\n",
       "    <tr>\n",
       "      <th>2</th>\n",
       "      <td>Various Artists</td>\n",
       "      <td>O Melhor do Forró</td>\n",
       "      <td>spotify:album:7z8pp6TJ8GdlVdqlWUSJAf</td>\n",
       "      <td>[]</td>\n",
       "    </tr>\n",
       "    <tr>\n",
       "      <th>3</th>\n",
       "      <td>Various Artists</td>\n",
       "      <td>Funk Digital Brasil, Vol. 1</td>\n",
       "      <td>spotify:album:1z4o1D7IFYEBWG6oaHjpeW</td>\n",
       "      <td>[]</td>\n",
       "    </tr>\n",
       "    <tr>\n",
       "      <th>4</th>\n",
       "      <td>Marília Mendonça</td>\n",
       "      <td>A Culpa É Dele</td>\n",
       "      <td>spotify:album:4tmae6KLsIiuA3VpH2abUj</td>\n",
       "      <td>[sertanejo, sertanejo pop]</td>\n",
       "    </tr>\n",
       "  </tbody>\n",
       "</table>\n",
       "</div>"
      ],
      "text/plain": [
       "                         artist  ...                       genre\n",
       "0                      Ferrugem  ...                    [pagode]\n",
       "1  MC Loma e As Gêmeas Lacração  ...  [brega funk, funk carioca]\n",
       "2               Various Artists  ...                          []\n",
       "3               Various Artists  ...                          []\n",
       "4              Marília Mendonça  ...  [sertanejo, sertanejo pop]\n",
       "\n",
       "[5 rows x 4 columns]"
      ]
     },
     "execution_count": 26,
     "metadata": {
      "tags": []
     },
     "output_type": "execute_result"
    }
   ],
   "source": [
    "dfAlbumsSpotify.head()"
   ]
  },
  {
   "cell_type": "code",
   "execution_count": 27,
   "metadata": {
    "executionInfo": {
     "elapsed": 26,
     "status": "ok",
     "timestamp": 1627103346221,
     "user": {
      "displayName": "Mateus Varelo",
      "photoUrl": "https://lh3.googleusercontent.com/a-/AOh14Gg73LYxIEbDHChnMebSrZ-v0SG3yQkkQ5nkmXD3x6k=s64",
      "userId": "15384696535292950454"
     },
     "user_tz": 180
    },
    "id": "lIKeVtWKjxC2"
   },
   "outputs": [],
   "source": [
    "#Aplicando ao artista que estão com nome varios artista o genero pela sua descrição.\n",
    "dfAlbumsSpotify.loc[2]['genre'] = 'forró'\n",
    "dfAlbumsSpotify.loc[3]['genre'] = 'funk'"
   ]
  },
  {
   "cell_type": "code",
   "execution_count": 28,
   "metadata": {
    "colab": {
     "base_uri": "https://localhost:8080/",
     "height": 450
    },
    "executionInfo": {
     "elapsed": 28,
     "status": "ok",
     "timestamp": 1627103346225,
     "user": {
      "displayName": "Mateus Varelo",
      "photoUrl": "https://lh3.googleusercontent.com/a-/AOh14Gg73LYxIEbDHChnMebSrZ-v0SG3yQkkQ5nkmXD3x6k=s64",
      "userId": "15384696535292950454"
     },
     "user_tz": 180
    },
    "id": "7REe3kzlo84Y",
    "outputId": "95624a0b-5725-4aba-cd99-0833789e332d"
   },
   "outputs": [
    {
     "data": {
      "text/html": [
       "<div>\n",
       "<style scoped>\n",
       "    .dataframe tbody tr th:only-of-type {\n",
       "        vertical-align: middle;\n",
       "    }\n",
       "\n",
       "    .dataframe tbody tr th {\n",
       "        vertical-align: top;\n",
       "    }\n",
       "\n",
       "    .dataframe thead th {\n",
       "        text-align: right;\n",
       "    }\n",
       "</style>\n",
       "<table border=\"1\" class=\"dataframe\">\n",
       "  <thead>\n",
       "    <tr style=\"text-align: right;\">\n",
       "      <th></th>\n",
       "      <th>artist</th>\n",
       "      <th>album</th>\n",
       "      <th>uri</th>\n",
       "      <th>genre</th>\n",
       "    </tr>\n",
       "  </thead>\n",
       "  <tbody>\n",
       "    <tr>\n",
       "      <th>0</th>\n",
       "      <td>Ferrugem</td>\n",
       "      <td>Prazer, eu sou Ferrugem</td>\n",
       "      <td>spotify:album:3SkOXrdSri5EIpDpUvfdm3</td>\n",
       "      <td>pagode</td>\n",
       "    </tr>\n",
       "    <tr>\n",
       "      <th>1</th>\n",
       "      <td>MC Loma e As Gêmeas Lacração</td>\n",
       "      <td>Envolvimento</td>\n",
       "      <td>spotify:album:3GnrnufuuDBC8Kf6D5CyIi</td>\n",
       "      <td>brega funk</td>\n",
       "    </tr>\n",
       "    <tr>\n",
       "      <th>2</th>\n",
       "      <td>MC Loma e As Gêmeas Lacração</td>\n",
       "      <td>Envolvimento</td>\n",
       "      <td>spotify:album:3GnrnufuuDBC8Kf6D5CyIi</td>\n",
       "      <td>funk carioca</td>\n",
       "    </tr>\n",
       "    <tr>\n",
       "      <th>3</th>\n",
       "      <td>Various Artists</td>\n",
       "      <td>O Melhor do Forró</td>\n",
       "      <td>spotify:album:7z8pp6TJ8GdlVdqlWUSJAf</td>\n",
       "      <td>forró</td>\n",
       "    </tr>\n",
       "    <tr>\n",
       "      <th>4</th>\n",
       "      <td>Various Artists</td>\n",
       "      <td>Funk Digital Brasil, Vol. 1</td>\n",
       "      <td>spotify:album:1z4o1D7IFYEBWG6oaHjpeW</td>\n",
       "      <td>funk</td>\n",
       "    </tr>\n",
       "    <tr>\n",
       "      <th>5</th>\n",
       "      <td>Marília Mendonça</td>\n",
       "      <td>A Culpa É Dele</td>\n",
       "      <td>spotify:album:4tmae6KLsIiuA3VpH2abUj</td>\n",
       "      <td>sertanejo</td>\n",
       "    </tr>\n",
       "    <tr>\n",
       "      <th>6</th>\n",
       "      <td>Marília Mendonça</td>\n",
       "      <td>A Culpa É Dele</td>\n",
       "      <td>spotify:album:4tmae6KLsIiuA3VpH2abUj</td>\n",
       "      <td>sertanejo pop</td>\n",
       "    </tr>\n",
       "    <tr>\n",
       "      <th>7</th>\n",
       "      <td>César Menotti &amp; Fabiano</td>\n",
       "      <td>Não Importa o Lugar</td>\n",
       "      <td>spotify:album:1Nt4LmMgyiCck3q9koNmgg</td>\n",
       "      <td>axe</td>\n",
       "    </tr>\n",
       "    <tr>\n",
       "      <th>8</th>\n",
       "      <td>César Menotti &amp; Fabiano</td>\n",
       "      <td>Não Importa o Lugar</td>\n",
       "      <td>spotify:album:1Nt4LmMgyiCck3q9koNmgg</td>\n",
       "      <td>pagode</td>\n",
       "    </tr>\n",
       "    <tr>\n",
       "      <th>9</th>\n",
       "      <td>César Menotti &amp; Fabiano</td>\n",
       "      <td>Não Importa o Lugar</td>\n",
       "      <td>spotify:album:1Nt4LmMgyiCck3q9koNmgg</td>\n",
       "      <td>sertanejo</td>\n",
       "    </tr>\n",
       "  </tbody>\n",
       "</table>\n",
       "</div>"
      ],
      "text/plain": [
       "                         artist  ...          genre\n",
       "0                      Ferrugem  ...         pagode\n",
       "1  MC Loma e As Gêmeas Lacração  ...     brega funk\n",
       "2  MC Loma e As Gêmeas Lacração  ...   funk carioca\n",
       "3               Various Artists  ...          forró\n",
       "4               Various Artists  ...           funk\n",
       "5              Marília Mendonça  ...      sertanejo\n",
       "6              Marília Mendonça  ...  sertanejo pop\n",
       "7       César Menotti & Fabiano  ...            axe\n",
       "8       César Menotti & Fabiano  ...         pagode\n",
       "9       César Menotti & Fabiano  ...      sertanejo\n",
       "\n",
       "[10 rows x 4 columns]"
      ]
     },
     "execution_count": 28,
     "metadata": {
      "tags": []
     },
     "output_type": "execute_result"
    }
   ],
   "source": [
    "#Dividindo  a coluna genero, ja que é uma lista de genero.\n",
    "dfAlbumsSpotify = dfAlbumsSpotify.explode('genre',ignore_index= True)\n",
    "dfAlbumsSpotify.head(10)"
   ]
  },
  {
   "cell_type": "code",
   "execution_count": null,
   "metadata": {
    "colab": {
     "background_save": true
    },
    "id": "XeZX6iEOsxut"
   },
   "outputs": [],
   "source": [
    "#Aplicando uma nova coluna ao df com a informação de link da imagem do album\n",
    "dfAlbumsSpotify['imageAlbum'] = dfAlbumsSpotify.query('artist != \"Various Artists\"')['uri'].apply(aplica_img_album)"
   ]
  }
 ],
 "metadata": {
  "colab": {
   "authorship_tag": "ABX9TyNS7OmNrrbjYOLFGq5Id1Zx",
   "mount_file_id": "1mnfyOsoFzakoQiqBq7LlUq0wO8j0j4IL",
   "name": "alimentandoBasespotifyApi.ipynb",
   "version": ""
  },
  "kernelspec": {
   "display_name": ".venv",
   "language": "python",
   "name": ".venv"
  },
  "language_info": {
   "codemirror_mode": {
    "name": "ipython",
    "version": 3
   },
   "file_extension": ".py",
   "mimetype": "text/x-python",
   "name": "python",
   "nbconvert_exporter": "python",
   "pygments_lexer": "ipython3",
   "version": "3.8.10"
  }
 },
 "nbformat": 4,
 "nbformat_minor": 1
}
