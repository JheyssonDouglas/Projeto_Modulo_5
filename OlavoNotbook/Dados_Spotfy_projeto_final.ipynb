{
  "nbformat": 4,
  "nbformat_minor": 0,
  "metadata": {
    "colab": {
      "name": "Dados Spotfy projeto final",
      "provenance": [],
      "collapsed_sections": []
    },
    "kernelspec": {
      "name": "python3",
      "display_name": "Python 3"
    },
    "language_info": {
      "name": "python"
    }
  },
  "cells": [
    {
      "cell_type": "code",
      "metadata": {
        "id": "fnCyFhKX_hWK"
      },
      "source": [
        "import pandas as pd\n",
        "from datetime import datetime\n",
        "\n",
        "hist0 = pd.read_json('/content/drive/MyDrive/projeto_final/spotfy_data/StreamingHistory0.json')\n",
        "hist1 = pd.read_json('/content/drive/MyDrive/projeto_final/spotfy_data/StreamingHistory1.json')\n",
        "hist2 = pd.read_json('/content/drive/MyDrive/projeto_final/spotfy_data/StreamingHistory2.json')\n",
        "\n"
      ],
      "execution_count": null,
      "outputs": []
    },
    {
      "cell_type": "code",
      "metadata": {
        "id": "AqWRD8X4ypFZ",
        "colab": {
          "base_uri": "https://localhost:8080/",
          "height": 204
        },
        "outputId": "4e5b0d71-e65a-4072-cf25-e381973fe374"
      },
      "source": [
        "#Concatenação dos arquivos com as mesmas tabelas\n",
        "frames=[hist0, hist1, hist2]\n",
        "df = pd.concat(frames)\n",
        "df.head()"
      ],
      "execution_count": null,
      "outputs": [
        {
          "output_type": "execute_result",
          "data": {
            "text/html": [
              "<div>\n",
              "<style scoped>\n",
              "    .dataframe tbody tr th:only-of-type {\n",
              "        vertical-align: middle;\n",
              "    }\n",
              "\n",
              "    .dataframe tbody tr th {\n",
              "        vertical-align: top;\n",
              "    }\n",
              "\n",
              "    .dataframe thead th {\n",
              "        text-align: right;\n",
              "    }\n",
              "</style>\n",
              "<table border=\"1\" class=\"dataframe\">\n",
              "  <thead>\n",
              "    <tr style=\"text-align: right;\">\n",
              "      <th></th>\n",
              "      <th>endTime</th>\n",
              "      <th>artistName</th>\n",
              "      <th>trackName</th>\n",
              "      <th>msPlayed</th>\n",
              "    </tr>\n",
              "  </thead>\n",
              "  <tbody>\n",
              "    <tr>\n",
              "      <th>0</th>\n",
              "      <td>2020-07-17 19:41</td>\n",
              "      <td>Gloria Groove</td>\n",
              "      <td>SEDANAPO</td>\n",
              "      <td>67100</td>\n",
              "    </tr>\n",
              "    <tr>\n",
              "      <th>1</th>\n",
              "      <td>2020-07-18 23:29</td>\n",
              "      <td>Gloria Groove</td>\n",
              "      <td>SEDANAPO</td>\n",
              "      <td>15623</td>\n",
              "    </tr>\n",
              "    <tr>\n",
              "      <th>2</th>\n",
              "      <td>2020-07-18 23:31</td>\n",
              "      <td>Vitão</td>\n",
              "      <td>Flores</td>\n",
              "      <td>155798</td>\n",
              "    </tr>\n",
              "    <tr>\n",
              "      <th>3</th>\n",
              "      <td>2020-07-18 23:33</td>\n",
              "      <td>Luísa Sonza</td>\n",
              "      <td>BRABA</td>\n",
              "      <td>129782</td>\n",
              "    </tr>\n",
              "    <tr>\n",
              "      <th>4</th>\n",
              "      <td>2020-07-18 23:35</td>\n",
              "      <td>Jason Derulo</td>\n",
              "      <td>Swalla (feat. Nicki Minaj &amp; Ty Dolla $ign)</td>\n",
              "      <td>102750</td>\n",
              "    </tr>\n",
              "  </tbody>\n",
              "</table>\n",
              "</div>"
            ],
            "text/plain": [
              "            endTime  ... msPlayed\n",
              "0  2020-07-17 19:41  ...    67100\n",
              "1  2020-07-18 23:29  ...    15623\n",
              "2  2020-07-18 23:31  ...   155798\n",
              "3  2020-07-18 23:33  ...   129782\n",
              "4  2020-07-18 23:35  ...   102750\n",
              "\n",
              "[5 rows x 4 columns]"
            ]
          },
          "metadata": {
            "tags": []
          },
          "execution_count": 3
        }
      ]
    },
    {
      "cell_type": "code",
      "metadata": {
        "colab": {
          "base_uri": "https://localhost:8080/"
        },
        "id": "_hHMcb-FGVD3",
        "outputId": "25fc2177-de4c-43bd-ad5b-948e1bb39d72"
      },
      "source": [
        "# informações sobre os tipos de dados por colunas \n",
        "df.info()"
      ],
      "execution_count": null,
      "outputs": [
        {
          "output_type": "stream",
          "text": [
            "<class 'pandas.core.frame.DataFrame'>\n",
            "Int64Index: 21530 entries, 0 to 1529\n",
            "Data columns (total 4 columns):\n",
            " #   Column      Non-Null Count  Dtype \n",
            "---  ------      --------------  ----- \n",
            " 0   endTime     21530 non-null  object\n",
            " 1   artistName  21530 non-null  object\n",
            " 2   trackName   21530 non-null  object\n",
            " 3   msPlayed    21530 non-null  int64 \n",
            "dtypes: int64(1), object(3)\n",
            "memory usage: 841.0+ KB\n"
          ],
          "name": "stdout"
        }
      ]
    },
    {
      "cell_type": "code",
      "metadata": {
        "colab": {
          "base_uri": "https://localhost:8080/"
        },
        "id": "gDQgxv9IcKGG",
        "outputId": "b9a618ff-7f66-44a6-d6c3-91ba351aea3d"
      },
      "source": [
        "df['endTime'] = pd.to_datetime(df['endTime'])\n",
        "df.info()"
      ],
      "execution_count": null,
      "outputs": [
        {
          "output_type": "stream",
          "text": [
            "<class 'pandas.core.frame.DataFrame'>\n",
            "Int64Index: 21530 entries, 0 to 1529\n",
            "Data columns (total 4 columns):\n",
            " #   Column      Non-Null Count  Dtype         \n",
            "---  ------      --------------  -----         \n",
            " 0   endTime     21530 non-null  datetime64[ns]\n",
            " 1   artistName  21530 non-null  object        \n",
            " 2   trackName   21530 non-null  object        \n",
            " 3   msPlayed    21530 non-null  int64         \n",
            "dtypes: datetime64[ns](1), int64(1), object(2)\n",
            "memory usage: 841.0+ KB\n"
          ],
          "name": "stdout"
        }
      ]
    },
    {
      "cell_type": "code",
      "metadata": {
        "id": "K5TdOzUsdAFd"
      },
      "source": [
        "#Separando data e hora em duas colunas \n",
        "df[\"endTime\"] = pd.to_datetime(df[\"endTime\"])\n",
        "df[\"day\"] = df[\"endTime\"].dt.strftime(\"%Y-%m-%d\")\n",
        "df[\"hour\"] = df[\"endTime\"].dt.strftime(\"%H:%M:%S\")"
      ],
      "execution_count": null,
      "outputs": []
    },
    {
      "cell_type": "code",
      "metadata": {
        "id": "f3ordgHy5kJD"
      },
      "source": [
        "df.rename(columns={'artistName':'Nome_Artista','trackName': 'Nome_Musica','msPlayed':'Tocada/ms','day':'Dia',\t'hour':'Hora'}, inplace=True)"
      ],
      "execution_count": null,
      "outputs": []
    },
    {
      "cell_type": "code",
      "metadata": {
        "colab": {
          "base_uri": "https://localhost:8080/",
          "height": 204
        },
        "id": "Oe2QLGd27X9C",
        "outputId": "5e2f66f6-d050-4943-eae2-a5d06ca8e37c"
      },
      "source": [
        "df.head()"
      ],
      "execution_count": null,
      "outputs": [
        {
          "output_type": "execute_result",
          "data": {
            "text/html": [
              "<div>\n",
              "<style scoped>\n",
              "    .dataframe tbody tr th:only-of-type {\n",
              "        vertical-align: middle;\n",
              "    }\n",
              "\n",
              "    .dataframe tbody tr th {\n",
              "        vertical-align: top;\n",
              "    }\n",
              "\n",
              "    .dataframe thead th {\n",
              "        text-align: right;\n",
              "    }\n",
              "</style>\n",
              "<table border=\"1\" class=\"dataframe\">\n",
              "  <thead>\n",
              "    <tr style=\"text-align: right;\">\n",
              "      <th></th>\n",
              "      <th>endTime</th>\n",
              "      <th>Nome_Artista</th>\n",
              "      <th>Nome_Musica</th>\n",
              "      <th>Tocada/ms</th>\n",
              "      <th>Dia</th>\n",
              "      <th>Hora</th>\n",
              "    </tr>\n",
              "  </thead>\n",
              "  <tbody>\n",
              "    <tr>\n",
              "      <th>0</th>\n",
              "      <td>2020-07-17 19:41:00</td>\n",
              "      <td>Gloria Groove</td>\n",
              "      <td>SEDANAPO</td>\n",
              "      <td>67100</td>\n",
              "      <td>2020-07-17</td>\n",
              "      <td>19:41:00</td>\n",
              "    </tr>\n",
              "    <tr>\n",
              "      <th>1</th>\n",
              "      <td>2020-07-18 23:29:00</td>\n",
              "      <td>Gloria Groove</td>\n",
              "      <td>SEDANAPO</td>\n",
              "      <td>15623</td>\n",
              "      <td>2020-07-18</td>\n",
              "      <td>23:29:00</td>\n",
              "    </tr>\n",
              "    <tr>\n",
              "      <th>2</th>\n",
              "      <td>2020-07-18 23:31:00</td>\n",
              "      <td>Vitão</td>\n",
              "      <td>Flores</td>\n",
              "      <td>155798</td>\n",
              "      <td>2020-07-18</td>\n",
              "      <td>23:31:00</td>\n",
              "    </tr>\n",
              "    <tr>\n",
              "      <th>3</th>\n",
              "      <td>2020-07-18 23:33:00</td>\n",
              "      <td>Luísa Sonza</td>\n",
              "      <td>BRABA</td>\n",
              "      <td>129782</td>\n",
              "      <td>2020-07-18</td>\n",
              "      <td>23:33:00</td>\n",
              "    </tr>\n",
              "    <tr>\n",
              "      <th>4</th>\n",
              "      <td>2020-07-18 23:35:00</td>\n",
              "      <td>Jason Derulo</td>\n",
              "      <td>Swalla (feat. Nicki Minaj &amp; Ty Dolla $ign)</td>\n",
              "      <td>102750</td>\n",
              "      <td>2020-07-18</td>\n",
              "      <td>23:35:00</td>\n",
              "    </tr>\n",
              "  </tbody>\n",
              "</table>\n",
              "</div>"
            ],
            "text/plain": [
              "              endTime   Nome_Artista  ...         Dia      Hora\n",
              "0 2020-07-17 19:41:00  Gloria Groove  ...  2020-07-17  19:41:00\n",
              "1 2020-07-18 23:29:00  Gloria Groove  ...  2020-07-18  23:29:00\n",
              "2 2020-07-18 23:31:00          Vitão  ...  2020-07-18  23:31:00\n",
              "3 2020-07-18 23:33:00    Luísa Sonza  ...  2020-07-18  23:33:00\n",
              "4 2020-07-18 23:35:00   Jason Derulo  ...  2020-07-18  23:35:00\n",
              "\n",
              "[5 rows x 6 columns]"
            ]
          },
          "metadata": {
            "tags": []
          },
          "execution_count": 8
        }
      ]
    },
    {
      "cell_type": "code",
      "metadata": {
        "colab": {
          "base_uri": "https://localhost:8080/",
          "height": 204
        },
        "id": "Tzj96NgMhtKB",
        "outputId": "4815c28a-83a3-4178-aace-4084c072c705"
      },
      "source": [
        "#Eliminando a coluna anterior com data e hora juntos\n",
        "spotify = df.drop(columns='endTime')\n",
        "spotify.head()"
      ],
      "execution_count": null,
      "outputs": [
        {
          "output_type": "execute_result",
          "data": {
            "text/html": [
              "<div>\n",
              "<style scoped>\n",
              "    .dataframe tbody tr th:only-of-type {\n",
              "        vertical-align: middle;\n",
              "    }\n",
              "\n",
              "    .dataframe tbody tr th {\n",
              "        vertical-align: top;\n",
              "    }\n",
              "\n",
              "    .dataframe thead th {\n",
              "        text-align: right;\n",
              "    }\n",
              "</style>\n",
              "<table border=\"1\" class=\"dataframe\">\n",
              "  <thead>\n",
              "    <tr style=\"text-align: right;\">\n",
              "      <th></th>\n",
              "      <th>Nome_Artista</th>\n",
              "      <th>Nome_Musica</th>\n",
              "      <th>Tocada/ms</th>\n",
              "      <th>Dia</th>\n",
              "      <th>Hora</th>\n",
              "    </tr>\n",
              "  </thead>\n",
              "  <tbody>\n",
              "    <tr>\n",
              "      <th>0</th>\n",
              "      <td>Gloria Groove</td>\n",
              "      <td>SEDANAPO</td>\n",
              "      <td>67100</td>\n",
              "      <td>2020-07-17</td>\n",
              "      <td>19:41:00</td>\n",
              "    </tr>\n",
              "    <tr>\n",
              "      <th>1</th>\n",
              "      <td>Gloria Groove</td>\n",
              "      <td>SEDANAPO</td>\n",
              "      <td>15623</td>\n",
              "      <td>2020-07-18</td>\n",
              "      <td>23:29:00</td>\n",
              "    </tr>\n",
              "    <tr>\n",
              "      <th>2</th>\n",
              "      <td>Vitão</td>\n",
              "      <td>Flores</td>\n",
              "      <td>155798</td>\n",
              "      <td>2020-07-18</td>\n",
              "      <td>23:31:00</td>\n",
              "    </tr>\n",
              "    <tr>\n",
              "      <th>3</th>\n",
              "      <td>Luísa Sonza</td>\n",
              "      <td>BRABA</td>\n",
              "      <td>129782</td>\n",
              "      <td>2020-07-18</td>\n",
              "      <td>23:33:00</td>\n",
              "    </tr>\n",
              "    <tr>\n",
              "      <th>4</th>\n",
              "      <td>Jason Derulo</td>\n",
              "      <td>Swalla (feat. Nicki Minaj &amp; Ty Dolla $ign)</td>\n",
              "      <td>102750</td>\n",
              "      <td>2020-07-18</td>\n",
              "      <td>23:35:00</td>\n",
              "    </tr>\n",
              "  </tbody>\n",
              "</table>\n",
              "</div>"
            ],
            "text/plain": [
              "    Nome_Artista  ...      Hora\n",
              "0  Gloria Groove  ...  19:41:00\n",
              "1  Gloria Groove  ...  23:29:00\n",
              "2          Vitão  ...  23:31:00\n",
              "3    Luísa Sonza  ...  23:33:00\n",
              "4   Jason Derulo  ...  23:35:00\n",
              "\n",
              "[5 rows x 5 columns]"
            ]
          },
          "metadata": {
            "tags": []
          },
          "execution_count": 9
        }
      ]
    },
    {
      "cell_type": "code",
      "metadata": {
        "colab": {
          "base_uri": "https://localhost:8080/"
        },
        "id": "qHr1Jn5al4RV",
        "outputId": "2edc53c1-760e-4fe6-ddd6-90f15a1e1516"
      },
      "source": [
        "#Top 5 artistas mais ouvidos\n",
        "top_5_artistas = spotify.groupby(['Nome_Artista'])['Tocada/ms'].sum().sort_values(ascending=False)\n",
        "top_5_artistas"
      ],
      "execution_count": null,
      "outputs": [
        {
          "output_type": "execute_result",
          "data": {
            "text/plain": [
              "Nome_Artista\n",
              "Beyoncé                       71751881\n",
              "Sia                           52880400\n",
              "Destiny's Child               47854739\n",
              "Amir                          46737733\n",
              "IZA                           46011397\n",
              "                                ...   \n",
              "Lily Allen                           0\n",
              "Dino Grandi e Italia Canta           0\n",
              "Julie Fowlis                         0\n",
              "Lea Michele                          0\n",
              "Musicallestelle                      0\n",
              "Name: Tocada/ms, Length: 1369, dtype: int64"
            ]
          },
          "metadata": {
            "tags": []
          },
          "execution_count": 10
        }
      ]
    },
    {
      "cell_type": "code",
      "metadata": {
        "colab": {
          "base_uri": "https://localhost:8080/"
        },
        "id": "Hcdp1YPq8nLf",
        "outputId": "eb961b5c-1054-4373-de8a-701bdca9115b"
      },
      "source": [
        "#Top 5 músicas mais ouvidas\n",
        "top_5_musicas = spotify.groupby(['Nome_Musica'])['Tocada/ms'].sum().sort_values(ascending=False)\n",
        "top_5_musicas"
      ],
      "execution_count": null,
      "outputs": [
        {
          "output_type": "execute_result",
          "data": {
            "text/plain": [
              "Nome_Musica\n",
              "BROWN SKIN GIRL                                   20089455\n",
              "Hostage                                           16680898\n",
              "Into the Unknown - Panic! At The Disco Version    15708901\n",
              "J'ai cherché                                      13760296\n",
              "Latch - Acoustic                                  12860987\n",
              "                                                    ...   \n",
              "Touch The Sky - From \"Brave\"/Soundtrack                  0\n",
              "Separei                                                  0\n",
              "Can't Take That Away (Mariah's Theme)                    0\n",
              "In Love With Another Man                                 0\n",
              "Here Comes Elastigirl - Elastigirl's Theme               0\n",
              "Name: Tocada/ms, Length: 3136, dtype: int64"
            ]
          },
          "metadata": {
            "tags": []
          },
          "execution_count": 11
        }
      ]
    },
    {
      "cell_type": "code",
      "metadata": {
        "colab": {
          "base_uri": "https://localhost:8080/"
        },
        "id": "57HUYUeoCXgb",
        "outputId": "a643262f-64e3-4e5c-8b68-18c2448d1ec7"
      },
      "source": [
        "# Tempo total em milissegundos \n",
        "tempo_total = spotify['Tocada/ms'].sum()\n",
        "tempo_total"
      ],
      "execution_count": null,
      "outputs": [
        {
          "output_type": "execute_result",
          "data": {
            "text/plain": [
              "1235917906"
            ]
          },
          "metadata": {
            "tags": []
          },
          "execution_count": 12
        }
      ]
    },
    {
      "cell_type": "code",
      "metadata": {
        "colab": {
          "base_uri": "https://localhost:8080/"
        },
        "id": "V4lqMTc7A37q",
        "outputId": "b959ad73-7a4e-44d4-a54d-f528efc75dc5"
      },
      "source": [
        "#tempo total em horas \n",
        "tempo_total = spotify['Tocada/ms'].sum()\n",
        "tempo_total = tempo_total/1000\n",
        "tempo_total = tempo_total/3600\n",
        "print(f'tempo total: {tempo_total} horas')\n"
      ],
      "execution_count": null,
      "outputs": [
        {
          "output_type": "stream",
          "text": [
            "tempo total: 343.31052944444446 horas\n"
          ],
          "name": "stdout"
        }
      ]
    },
    {
      "cell_type": "code",
      "metadata": {
        "colab": {
          "base_uri": "https://localhost:8080/",
          "height": 235
        },
        "id": "1vw5y7rXq4TV",
        "outputId": "ec84796c-99eb-4794-9496-edb17379a08b"
      },
      "source": [
        "# Dias em que mais ouvi música\n",
        "dias = spotify.groupby(['Dia'])\n",
        "dias.sum().head()"
      ],
      "execution_count": null,
      "outputs": [
        {
          "output_type": "execute_result",
          "data": {
            "text/html": [
              "<div>\n",
              "<style scoped>\n",
              "    .dataframe tbody tr th:only-of-type {\n",
              "        vertical-align: middle;\n",
              "    }\n",
              "\n",
              "    .dataframe tbody tr th {\n",
              "        vertical-align: top;\n",
              "    }\n",
              "\n",
              "    .dataframe thead th {\n",
              "        text-align: right;\n",
              "    }\n",
              "</style>\n",
              "<table border=\"1\" class=\"dataframe\">\n",
              "  <thead>\n",
              "    <tr style=\"text-align: right;\">\n",
              "      <th></th>\n",
              "      <th>Tocada/ms</th>\n",
              "    </tr>\n",
              "    <tr>\n",
              "      <th>Dia</th>\n",
              "      <th></th>\n",
              "    </tr>\n",
              "  </thead>\n",
              "  <tbody>\n",
              "    <tr>\n",
              "      <th>2020-07-17</th>\n",
              "      <td>67100</td>\n",
              "    </tr>\n",
              "    <tr>\n",
              "      <th>2020-07-18</th>\n",
              "      <td>1585954</td>\n",
              "    </tr>\n",
              "    <tr>\n",
              "      <th>2020-07-19</th>\n",
              "      <td>2091202</td>\n",
              "    </tr>\n",
              "    <tr>\n",
              "      <th>2020-07-20</th>\n",
              "      <td>9479001</td>\n",
              "    </tr>\n",
              "    <tr>\n",
              "      <th>2020-07-21</th>\n",
              "      <td>7821850</td>\n",
              "    </tr>\n",
              "  </tbody>\n",
              "</table>\n",
              "</div>"
            ],
            "text/plain": [
              "            Tocada/ms\n",
              "Dia                  \n",
              "2020-07-17      67100\n",
              "2020-07-18    1585954\n",
              "2020-07-19    2091202\n",
              "2020-07-20    9479001\n",
              "2020-07-21    7821850"
            ]
          },
          "metadata": {
            "tags": []
          },
          "execution_count": 14
        }
      ]
    },
    {
      "cell_type": "code",
      "metadata": {
        "colab": {
          "base_uri": "https://localhost:8080/",
          "height": 419
        },
        "id": "EKz0UFFH7D4-",
        "outputId": "1c3dd380-eb49-4f22-cdce-08eacee76dff"
      },
      "source": [
        "spotify"
      ],
      "execution_count": null,
      "outputs": [
        {
          "output_type": "execute_result",
          "data": {
            "text/html": [
              "<div>\n",
              "<style scoped>\n",
              "    .dataframe tbody tr th:only-of-type {\n",
              "        vertical-align: middle;\n",
              "    }\n",
              "\n",
              "    .dataframe tbody tr th {\n",
              "        vertical-align: top;\n",
              "    }\n",
              "\n",
              "    .dataframe thead th {\n",
              "        text-align: right;\n",
              "    }\n",
              "</style>\n",
              "<table border=\"1\" class=\"dataframe\">\n",
              "  <thead>\n",
              "    <tr style=\"text-align: right;\">\n",
              "      <th></th>\n",
              "      <th>Nome_Artista</th>\n",
              "      <th>Nome_Musica</th>\n",
              "      <th>Tocada/ms</th>\n",
              "      <th>Dia</th>\n",
              "      <th>Hora</th>\n",
              "    </tr>\n",
              "  </thead>\n",
              "  <tbody>\n",
              "    <tr>\n",
              "      <th>0</th>\n",
              "      <td>Gloria Groove</td>\n",
              "      <td>SEDANAPO</td>\n",
              "      <td>67100</td>\n",
              "      <td>2020-07-17</td>\n",
              "      <td>19:41:00</td>\n",
              "    </tr>\n",
              "    <tr>\n",
              "      <th>1</th>\n",
              "      <td>Gloria Groove</td>\n",
              "      <td>SEDANAPO</td>\n",
              "      <td>15623</td>\n",
              "      <td>2020-07-18</td>\n",
              "      <td>23:29:00</td>\n",
              "    </tr>\n",
              "    <tr>\n",
              "      <th>2</th>\n",
              "      <td>Vitão</td>\n",
              "      <td>Flores</td>\n",
              "      <td>155798</td>\n",
              "      <td>2020-07-18</td>\n",
              "      <td>23:31:00</td>\n",
              "    </tr>\n",
              "    <tr>\n",
              "      <th>3</th>\n",
              "      <td>Luísa Sonza</td>\n",
              "      <td>BRABA</td>\n",
              "      <td>129782</td>\n",
              "      <td>2020-07-18</td>\n",
              "      <td>23:33:00</td>\n",
              "    </tr>\n",
              "    <tr>\n",
              "      <th>4</th>\n",
              "      <td>Jason Derulo</td>\n",
              "      <td>Swalla (feat. Nicki Minaj &amp; Ty Dolla $ign)</td>\n",
              "      <td>102750</td>\n",
              "      <td>2020-07-18</td>\n",
              "      <td>23:35:00</td>\n",
              "    </tr>\n",
              "    <tr>\n",
              "      <th>...</th>\n",
              "      <td>...</td>\n",
              "      <td>...</td>\n",
              "      <td>...</td>\n",
              "      <td>...</td>\n",
              "      <td>...</td>\n",
              "    </tr>\n",
              "    <tr>\n",
              "      <th>1525</th>\n",
              "      <td>Amel Bent</td>\n",
              "      <td>Demain</td>\n",
              "      <td>58058</td>\n",
              "      <td>2021-07-16</td>\n",
              "      <td>12:37:00</td>\n",
              "    </tr>\n",
              "    <tr>\n",
              "      <th>1526</th>\n",
              "      <td>Amir</td>\n",
              "      <td>Très haut</td>\n",
              "      <td>212306</td>\n",
              "      <td>2021-07-16</td>\n",
              "      <td>12:40:00</td>\n",
              "    </tr>\n",
              "    <tr>\n",
              "      <th>1527</th>\n",
              "      <td>Fréro Delavega</td>\n",
              "      <td>Ton visage</td>\n",
              "      <td>159133</td>\n",
              "      <td>2021-07-16</td>\n",
              "      <td>12:43:00</td>\n",
              "    </tr>\n",
              "    <tr>\n",
              "      <th>1528</th>\n",
              "      <td>Joyce Jonathan</td>\n",
              "      <td>Ça ira</td>\n",
              "      <td>224640</td>\n",
              "      <td>2021-07-16</td>\n",
              "      <td>12:47:00</td>\n",
              "    </tr>\n",
              "    <tr>\n",
              "      <th>1529</th>\n",
              "      <td>Dadju</td>\n",
              "      <td>Compliqué</td>\n",
              "      <td>152580</td>\n",
              "      <td>2021-07-16</td>\n",
              "      <td>12:49:00</td>\n",
              "    </tr>\n",
              "  </tbody>\n",
              "</table>\n",
              "<p>21530 rows × 5 columns</p>\n",
              "</div>"
            ],
            "text/plain": [
              "        Nome_Artista  ...      Hora\n",
              "0      Gloria Groove  ...  19:41:00\n",
              "1      Gloria Groove  ...  23:29:00\n",
              "2              Vitão  ...  23:31:00\n",
              "3        Luísa Sonza  ...  23:33:00\n",
              "4       Jason Derulo  ...  23:35:00\n",
              "...              ...  ...       ...\n",
              "1525       Amel Bent  ...  12:37:00\n",
              "1526            Amir  ...  12:40:00\n",
              "1527  Fréro Delavega  ...  12:43:00\n",
              "1528  Joyce Jonathan  ...  12:47:00\n",
              "1529           Dadju  ...  12:49:00\n",
              "\n",
              "[21530 rows x 5 columns]"
            ]
          },
          "metadata": {
            "tags": []
          },
          "execution_count": 17
        }
      ]
    },
    {
      "cell_type": "code",
      "metadata": {
        "id": "bmsyspyg8Z5P"
      },
      "source": [
        "df.to_csv('spotfy.csv', index=0)"
      ],
      "execution_count": null,
      "outputs": []
    }
  ]
}